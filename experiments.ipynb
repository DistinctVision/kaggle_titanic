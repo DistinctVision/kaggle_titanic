{
 "cells": [
  {
   "cell_type": "code",
   "execution_count": 1,
   "metadata": {},
   "outputs": [
    {
     "data": {
      "text/html": [
       "<div>\n",
       "<style scoped>\n",
       "    .dataframe tbody tr th:only-of-type {\n",
       "        vertical-align: middle;\n",
       "    }\n",
       "\n",
       "    .dataframe tbody tr th {\n",
       "        vertical-align: top;\n",
       "    }\n",
       "\n",
       "    .dataframe thead th {\n",
       "        text-align: right;\n",
       "    }\n",
       "</style>\n",
       "<table border=\"1\" class=\"dataframe\">\n",
       "  <thead>\n",
       "    <tr style=\"text-align: right;\">\n",
       "      <th></th>\n",
       "      <th>PassengerId</th>\n",
       "      <th>Survived</th>\n",
       "      <th>Pclass</th>\n",
       "      <th>Name</th>\n",
       "      <th>Sex</th>\n",
       "      <th>Age</th>\n",
       "      <th>SibSp</th>\n",
       "      <th>Parch</th>\n",
       "      <th>Ticket</th>\n",
       "      <th>Fare</th>\n",
       "      <th>Cabin</th>\n",
       "      <th>Embarked</th>\n",
       "    </tr>\n",
       "  </thead>\n",
       "  <tbody>\n",
       "    <tr>\n",
       "      <th>0</th>\n",
       "      <td>1</td>\n",
       "      <td>0.0</td>\n",
       "      <td>3</td>\n",
       "      <td>Braund, Mr. Owen Harris</td>\n",
       "      <td>male</td>\n",
       "      <td>22.0</td>\n",
       "      <td>1</td>\n",
       "      <td>0</td>\n",
       "      <td>A/5 21171</td>\n",
       "      <td>7.2500</td>\n",
       "      <td>NaN</td>\n",
       "      <td>S</td>\n",
       "    </tr>\n",
       "    <tr>\n",
       "      <th>1</th>\n",
       "      <td>2</td>\n",
       "      <td>1.0</td>\n",
       "      <td>1</td>\n",
       "      <td>Cumings, Mrs. John Bradley (Florence Briggs Th...</td>\n",
       "      <td>female</td>\n",
       "      <td>38.0</td>\n",
       "      <td>1</td>\n",
       "      <td>0</td>\n",
       "      <td>PC 17599</td>\n",
       "      <td>71.2833</td>\n",
       "      <td>C85</td>\n",
       "      <td>C</td>\n",
       "    </tr>\n",
       "    <tr>\n",
       "      <th>2</th>\n",
       "      <td>3</td>\n",
       "      <td>1.0</td>\n",
       "      <td>3</td>\n",
       "      <td>Heikkinen, Miss. Laina</td>\n",
       "      <td>female</td>\n",
       "      <td>26.0</td>\n",
       "      <td>0</td>\n",
       "      <td>0</td>\n",
       "      <td>STON/O2. 3101282</td>\n",
       "      <td>7.9250</td>\n",
       "      <td>NaN</td>\n",
       "      <td>S</td>\n",
       "    </tr>\n",
       "    <tr>\n",
       "      <th>3</th>\n",
       "      <td>4</td>\n",
       "      <td>1.0</td>\n",
       "      <td>1</td>\n",
       "      <td>Futrelle, Mrs. Jacques Heath (Lily May Peel)</td>\n",
       "      <td>female</td>\n",
       "      <td>35.0</td>\n",
       "      <td>1</td>\n",
       "      <td>0</td>\n",
       "      <td>113803</td>\n",
       "      <td>53.1000</td>\n",
       "      <td>C123</td>\n",
       "      <td>S</td>\n",
       "    </tr>\n",
       "    <tr>\n",
       "      <th>4</th>\n",
       "      <td>5</td>\n",
       "      <td>0.0</td>\n",
       "      <td>3</td>\n",
       "      <td>Allen, Mr. William Henry</td>\n",
       "      <td>male</td>\n",
       "      <td>35.0</td>\n",
       "      <td>0</td>\n",
       "      <td>0</td>\n",
       "      <td>373450</td>\n",
       "      <td>8.0500</td>\n",
       "      <td>NaN</td>\n",
       "      <td>S</td>\n",
       "    </tr>\n",
       "    <tr>\n",
       "      <th>5</th>\n",
       "      <td>6</td>\n",
       "      <td>0.0</td>\n",
       "      <td>3</td>\n",
       "      <td>Moran, Mr. James</td>\n",
       "      <td>male</td>\n",
       "      <td>NaN</td>\n",
       "      <td>0</td>\n",
       "      <td>0</td>\n",
       "      <td>330877</td>\n",
       "      <td>8.4583</td>\n",
       "      <td>NaN</td>\n",
       "      <td>Q</td>\n",
       "    </tr>\n",
       "    <tr>\n",
       "      <th>6</th>\n",
       "      <td>7</td>\n",
       "      <td>0.0</td>\n",
       "      <td>1</td>\n",
       "      <td>McCarthy, Mr. Timothy J</td>\n",
       "      <td>male</td>\n",
       "      <td>54.0</td>\n",
       "      <td>0</td>\n",
       "      <td>0</td>\n",
       "      <td>17463</td>\n",
       "      <td>51.8625</td>\n",
       "      <td>E46</td>\n",
       "      <td>S</td>\n",
       "    </tr>\n",
       "    <tr>\n",
       "      <th>7</th>\n",
       "      <td>8</td>\n",
       "      <td>0.0</td>\n",
       "      <td>3</td>\n",
       "      <td>Palsson, Master. Gosta Leonard</td>\n",
       "      <td>male</td>\n",
       "      <td>2.0</td>\n",
       "      <td>3</td>\n",
       "      <td>1</td>\n",
       "      <td>349909</td>\n",
       "      <td>21.0750</td>\n",
       "      <td>NaN</td>\n",
       "      <td>S</td>\n",
       "    </tr>\n",
       "    <tr>\n",
       "      <th>8</th>\n",
       "      <td>9</td>\n",
       "      <td>1.0</td>\n",
       "      <td>3</td>\n",
       "      <td>Johnson, Mrs. Oscar W (Elisabeth Vilhelmina Berg)</td>\n",
       "      <td>female</td>\n",
       "      <td>27.0</td>\n",
       "      <td>0</td>\n",
       "      <td>2</td>\n",
       "      <td>347742</td>\n",
       "      <td>11.1333</td>\n",
       "      <td>NaN</td>\n",
       "      <td>S</td>\n",
       "    </tr>\n",
       "    <tr>\n",
       "      <th>9</th>\n",
       "      <td>10</td>\n",
       "      <td>1.0</td>\n",
       "      <td>2</td>\n",
       "      <td>Nasser, Mrs. Nicholas (Adele Achem)</td>\n",
       "      <td>female</td>\n",
       "      <td>14.0</td>\n",
       "      <td>1</td>\n",
       "      <td>0</td>\n",
       "      <td>237736</td>\n",
       "      <td>30.0708</td>\n",
       "      <td>NaN</td>\n",
       "      <td>C</td>\n",
       "    </tr>\n",
       "  </tbody>\n",
       "</table>\n",
       "</div>"
      ],
      "text/plain": [
       "   PassengerId  Survived  Pclass  \\\n",
       "0            1       0.0       3   \n",
       "1            2       1.0       1   \n",
       "2            3       1.0       3   \n",
       "3            4       1.0       1   \n",
       "4            5       0.0       3   \n",
       "5            6       0.0       3   \n",
       "6            7       0.0       1   \n",
       "7            8       0.0       3   \n",
       "8            9       1.0       3   \n",
       "9           10       1.0       2   \n",
       "\n",
       "                                                Name     Sex   Age  SibSp  \\\n",
       "0                            Braund, Mr. Owen Harris    male  22.0      1   \n",
       "1  Cumings, Mrs. John Bradley (Florence Briggs Th...  female  38.0      1   \n",
       "2                             Heikkinen, Miss. Laina  female  26.0      0   \n",
       "3       Futrelle, Mrs. Jacques Heath (Lily May Peel)  female  35.0      1   \n",
       "4                           Allen, Mr. William Henry    male  35.0      0   \n",
       "5                                   Moran, Mr. James    male   NaN      0   \n",
       "6                            McCarthy, Mr. Timothy J    male  54.0      0   \n",
       "7                     Palsson, Master. Gosta Leonard    male   2.0      3   \n",
       "8  Johnson, Mrs. Oscar W (Elisabeth Vilhelmina Berg)  female  27.0      0   \n",
       "9                Nasser, Mrs. Nicholas (Adele Achem)  female  14.0      1   \n",
       "\n",
       "   Parch            Ticket     Fare Cabin Embarked  \n",
       "0      0         A/5 21171   7.2500   NaN        S  \n",
       "1      0          PC 17599  71.2833   C85        C  \n",
       "2      0  STON/O2. 3101282   7.9250   NaN        S  \n",
       "3      0            113803  53.1000  C123        S  \n",
       "4      0            373450   8.0500   NaN        S  \n",
       "5      0            330877   8.4583   NaN        Q  \n",
       "6      0             17463  51.8625   E46        S  \n",
       "7      1            349909  21.0750   NaN        S  \n",
       "8      2            347742  11.1333   NaN        S  \n",
       "9      0            237736  30.0708   NaN        C  "
      ]
     },
     "execution_count": 1,
     "metadata": {},
     "output_type": "execute_result"
    }
   ],
   "source": [
    "import numpy as np\n",
    "import pandas as pd\n",
    "\n",
    "train_csv = pd.read_csv('train.csv')\n",
    "test_csv = pd.read_csv('test.csv')\n",
    "test_csv['Survived'] = np.NaN\n",
    "all_csv = pd.concat([train_csv, test_csv])\n",
    "all_csv.head(10)"
   ]
  },
  {
   "cell_type": "code",
   "execution_count": 2,
   "metadata": {},
   "outputs": [
    {
     "name": "stdout",
     "output_type": "stream",
     "text": [
      "342 / 891 : 38.38%\n"
     ]
    }
   ],
   "source": [
    "survived = train_csv[train_csv['Survived'] == 1]\n",
    "print(f'{len(survived)} / {len(train_csv)} : {(len(survived) / len(train_csv)):0.2%}')"
   ]
  },
  {
   "cell_type": "code",
   "execution_count": 3,
   "metadata": {},
   "outputs": [
    {
     "name": "stdout",
     "output_type": "stream",
     "text": [
      "<class 'pandas.core.frame.DataFrame'>\n",
      "Int64Index: 1309 entries, 0 to 417\n",
      "Data columns (total 12 columns):\n",
      " #   Column       Non-Null Count  Dtype  \n",
      "---  ------       --------------  -----  \n",
      " 0   PassengerId  1309 non-null   int64  \n",
      " 1   Survived     891 non-null    float64\n",
      " 2   Pclass       1309 non-null   int64  \n",
      " 3   Name         1309 non-null   object \n",
      " 4   Sex          1309 non-null   object \n",
      " 5   Age          1046 non-null   float64\n",
      " 6   SibSp        1309 non-null   int64  \n",
      " 7   Parch        1309 non-null   int64  \n",
      " 8   Ticket       1309 non-null   object \n",
      " 9   Fare         1308 non-null   float64\n",
      " 10  Cabin        295 non-null    object \n",
      " 11  Embarked     1307 non-null   object \n",
      "dtypes: float64(3), int64(4), object(5)\n",
      "memory usage: 132.9+ KB\n"
     ]
    }
   ],
   "source": [
    "all_csv.info()"
   ]
  },
  {
   "cell_type": "code",
   "execution_count": 4,
   "metadata": {},
   "outputs": [
    {
     "data": {
      "text/html": [
       "<div>\n",
       "<style scoped>\n",
       "    .dataframe tbody tr th:only-of-type {\n",
       "        vertical-align: middle;\n",
       "    }\n",
       "\n",
       "    .dataframe tbody tr th {\n",
       "        vertical-align: top;\n",
       "    }\n",
       "\n",
       "    .dataframe thead th {\n",
       "        text-align: right;\n",
       "    }\n",
       "</style>\n",
       "<table border=\"1\" class=\"dataframe\">\n",
       "  <thead>\n",
       "    <tr style=\"text-align: right;\">\n",
       "      <th></th>\n",
       "      <th>PassengerId</th>\n",
       "      <th>Survived</th>\n",
       "      <th>Pclass</th>\n",
       "      <th>Age</th>\n",
       "      <th>SibSp</th>\n",
       "      <th>Parch</th>\n",
       "      <th>Fare</th>\n",
       "    </tr>\n",
       "  </thead>\n",
       "  <tbody>\n",
       "    <tr>\n",
       "      <th>count</th>\n",
       "      <td>1309.000000</td>\n",
       "      <td>891.000000</td>\n",
       "      <td>1309.000000</td>\n",
       "      <td>1046.000000</td>\n",
       "      <td>1309.000000</td>\n",
       "      <td>1309.000000</td>\n",
       "      <td>1308.000000</td>\n",
       "    </tr>\n",
       "    <tr>\n",
       "      <th>mean</th>\n",
       "      <td>655.000000</td>\n",
       "      <td>0.383838</td>\n",
       "      <td>2.294882</td>\n",
       "      <td>29.881138</td>\n",
       "      <td>0.498854</td>\n",
       "      <td>0.385027</td>\n",
       "      <td>33.295479</td>\n",
       "    </tr>\n",
       "    <tr>\n",
       "      <th>std</th>\n",
       "      <td>378.020061</td>\n",
       "      <td>0.486592</td>\n",
       "      <td>0.837836</td>\n",
       "      <td>14.413493</td>\n",
       "      <td>1.041658</td>\n",
       "      <td>0.865560</td>\n",
       "      <td>51.758668</td>\n",
       "    </tr>\n",
       "    <tr>\n",
       "      <th>min</th>\n",
       "      <td>1.000000</td>\n",
       "      <td>0.000000</td>\n",
       "      <td>1.000000</td>\n",
       "      <td>0.170000</td>\n",
       "      <td>0.000000</td>\n",
       "      <td>0.000000</td>\n",
       "      <td>0.000000</td>\n",
       "    </tr>\n",
       "    <tr>\n",
       "      <th>25%</th>\n",
       "      <td>328.000000</td>\n",
       "      <td>0.000000</td>\n",
       "      <td>2.000000</td>\n",
       "      <td>21.000000</td>\n",
       "      <td>0.000000</td>\n",
       "      <td>0.000000</td>\n",
       "      <td>7.895800</td>\n",
       "    </tr>\n",
       "    <tr>\n",
       "      <th>50%</th>\n",
       "      <td>655.000000</td>\n",
       "      <td>0.000000</td>\n",
       "      <td>3.000000</td>\n",
       "      <td>28.000000</td>\n",
       "      <td>0.000000</td>\n",
       "      <td>0.000000</td>\n",
       "      <td>14.454200</td>\n",
       "    </tr>\n",
       "    <tr>\n",
       "      <th>75%</th>\n",
       "      <td>982.000000</td>\n",
       "      <td>1.000000</td>\n",
       "      <td>3.000000</td>\n",
       "      <td>39.000000</td>\n",
       "      <td>1.000000</td>\n",
       "      <td>0.000000</td>\n",
       "      <td>31.275000</td>\n",
       "    </tr>\n",
       "    <tr>\n",
       "      <th>max</th>\n",
       "      <td>1309.000000</td>\n",
       "      <td>1.000000</td>\n",
       "      <td>3.000000</td>\n",
       "      <td>80.000000</td>\n",
       "      <td>8.000000</td>\n",
       "      <td>9.000000</td>\n",
       "      <td>512.329200</td>\n",
       "    </tr>\n",
       "  </tbody>\n",
       "</table>\n",
       "</div>"
      ],
      "text/plain": [
       "       PassengerId    Survived       Pclass          Age        SibSp  \\\n",
       "count  1309.000000  891.000000  1309.000000  1046.000000  1309.000000   \n",
       "mean    655.000000    0.383838     2.294882    29.881138     0.498854   \n",
       "std     378.020061    0.486592     0.837836    14.413493     1.041658   \n",
       "min       1.000000    0.000000     1.000000     0.170000     0.000000   \n",
       "25%     328.000000    0.000000     2.000000    21.000000     0.000000   \n",
       "50%     655.000000    0.000000     3.000000    28.000000     0.000000   \n",
       "75%     982.000000    1.000000     3.000000    39.000000     1.000000   \n",
       "max    1309.000000    1.000000     3.000000    80.000000     8.000000   \n",
       "\n",
       "             Parch         Fare  \n",
       "count  1309.000000  1308.000000  \n",
       "mean      0.385027    33.295479  \n",
       "std       0.865560    51.758668  \n",
       "min       0.000000     0.000000  \n",
       "25%       0.000000     7.895800  \n",
       "50%       0.000000    14.454200  \n",
       "75%       0.000000    31.275000  \n",
       "max       9.000000   512.329200  "
      ]
     },
     "execution_count": 4,
     "metadata": {},
     "output_type": "execute_result"
    }
   ],
   "source": [
    "all_csv.describe()"
   ]
  },
  {
   "cell_type": "code",
   "execution_count": 5,
   "metadata": {},
   "outputs": [
    {
     "name": "stderr",
     "output_type": "stream",
     "text": [
      "/home/aleksey/.local/lib/python3.8/site-packages/scipy/__init__.py:143: UserWarning: A NumPy version >=1.19.5 and <1.27.0 is required for this version of SciPy (detected version 1.19.0)\n",
      "  warnings.warn(f\"A NumPy version >={np_minversion} and <{np_maxversion}\"\n"
     ]
    },
    {
     "data": {
      "application/vnd.plotly.v1+json": {
       "config": {
        "plotlyServerURL": "https://plot.ly"
       },
       "data": [
        {
         "alignmentgroup": "True",
         "bingroup": "x",
         "hovertemplate": "variable=Age<br>value=%{x}<br>count=%{y}<extra></extra>",
         "legendgroup": "Age",
         "marker": {
          "color": "#636efa",
          "pattern": {
           "shape": ""
          }
         },
         "name": "Age",
         "offsetgroup": "Age",
         "orientation": "v",
         "showlegend": true,
         "type": "histogram",
         "x": [
          22,
          38,
          26,
          35,
          35,
          null,
          54,
          2,
          27,
          14,
          4,
          58,
          20,
          39,
          14,
          55,
          2,
          null,
          31,
          null,
          35,
          34,
          15,
          28,
          8,
          38,
          null,
          19,
          null,
          null,
          40,
          null,
          null,
          66,
          28,
          42,
          null,
          21,
          18,
          14,
          40,
          27,
          null,
          3,
          19,
          null,
          null,
          null,
          null,
          18,
          7,
          21,
          49,
          29,
          65,
          null,
          21,
          28.5,
          5,
          11,
          22,
          38,
          45,
          4,
          null,
          null,
          29,
          19,
          17,
          26,
          32,
          16,
          21,
          26,
          32,
          25,
          null,
          null,
          0.83,
          30,
          22,
          29,
          null,
          28,
          17,
          33,
          16,
          null,
          23,
          24,
          29,
          20,
          46,
          26,
          59,
          null,
          71,
          23,
          34,
          34,
          28,
          null,
          21,
          33,
          37,
          28,
          21,
          null,
          38,
          null,
          47,
          14.5,
          22,
          20,
          17,
          21,
          70.5,
          29,
          24,
          2,
          21,
          null,
          32.5,
          32.5,
          54,
          12,
          null,
          24,
          null,
          45,
          33,
          20,
          47,
          29,
          25,
          23,
          19,
          37,
          16,
          24,
          null,
          22,
          24,
          19,
          18,
          19,
          27,
          9,
          36.5,
          42,
          51,
          22,
          55.5,
          40.5,
          null,
          51,
          16,
          30,
          null,
          null,
          44,
          40,
          26,
          17,
          1,
          9,
          null,
          45,
          null,
          28,
          61,
          4,
          1,
          21,
          56,
          18,
          null,
          50,
          30,
          36,
          null,
          null,
          9,
          1,
          4,
          null,
          null,
          45,
          40,
          36,
          32,
          19,
          19,
          3,
          44,
          58,
          null,
          42,
          null,
          24,
          28,
          null,
          34,
          45.5,
          18,
          2,
          32,
          26,
          16,
          40,
          24,
          35,
          22,
          30,
          null,
          31,
          27,
          42,
          32,
          30,
          16,
          27,
          51,
          null,
          38,
          22,
          19,
          20.5,
          18,
          null,
          35,
          29,
          59,
          5,
          24,
          null,
          44,
          8,
          19,
          33,
          null,
          null,
          29,
          22,
          30,
          44,
          25,
          24,
          37,
          54,
          null,
          29,
          62,
          30,
          41,
          29,
          null,
          30,
          35,
          50,
          null,
          3,
          52,
          40,
          null,
          36,
          16,
          25,
          58,
          35,
          null,
          25,
          41,
          37,
          null,
          63,
          45,
          null,
          7,
          35,
          65,
          28,
          16,
          19,
          null,
          33,
          30,
          22,
          42,
          22,
          26,
          19,
          36,
          24,
          24,
          null,
          23.5,
          2,
          null,
          50,
          null,
          null,
          19,
          null,
          null,
          0.92,
          null,
          17,
          30,
          30,
          24,
          18,
          26,
          28,
          43,
          26,
          24,
          54,
          31,
          40,
          22,
          27,
          30,
          22,
          null,
          36,
          61,
          36,
          31,
          16,
          null,
          45.5,
          38,
          16,
          null,
          null,
          29,
          41,
          45,
          45,
          2,
          24,
          28,
          25,
          36,
          24,
          40,
          null,
          3,
          42,
          23,
          null,
          15,
          25,
          null,
          28,
          22,
          38,
          null,
          null,
          40,
          29,
          45,
          35,
          null,
          30,
          60,
          null,
          null,
          24,
          25,
          18,
          19,
          22,
          3,
          null,
          22,
          27,
          20,
          19,
          42,
          1,
          32,
          35,
          null,
          18,
          1,
          36,
          null,
          17,
          36,
          21,
          28,
          23,
          24,
          22,
          31,
          46,
          23,
          28,
          39,
          26,
          21,
          28,
          20,
          34,
          51,
          3,
          21,
          null,
          null,
          null,
          33,
          null,
          44,
          null,
          34,
          18,
          30,
          10,
          null,
          21,
          29,
          28,
          18,
          null,
          28,
          19,
          null,
          32,
          28,
          null,
          42,
          17,
          50,
          14,
          21,
          24,
          64,
          31,
          45,
          20,
          25,
          28,
          null,
          4,
          13,
          34,
          5,
          52,
          36,
          null,
          30,
          49,
          null,
          29,
          65,
          null,
          50,
          null,
          48,
          34,
          47,
          48,
          null,
          38,
          null,
          56,
          null,
          0.75,
          null,
          38,
          33,
          23,
          22,
          null,
          34,
          29,
          22,
          2,
          9,
          null,
          50,
          63,
          25,
          null,
          35,
          58,
          30,
          9,
          null,
          21,
          55,
          71,
          21,
          null,
          54,
          null,
          25,
          24,
          17,
          21,
          null,
          37,
          16,
          18,
          33,
          null,
          28,
          26,
          29,
          null,
          36,
          54,
          24,
          47,
          34,
          null,
          36,
          32,
          30,
          22,
          null,
          44,
          null,
          40.5,
          50,
          null,
          39,
          23,
          2,
          null,
          17,
          null,
          30,
          7,
          45,
          30,
          null,
          22,
          36,
          9,
          11,
          32,
          50,
          64,
          19,
          null,
          33,
          8,
          17,
          27,
          null,
          22,
          22,
          62,
          48,
          null,
          39,
          36,
          null,
          40,
          28,
          null,
          null,
          24,
          19,
          29,
          null,
          32,
          62,
          53,
          36,
          null,
          16,
          19,
          34,
          39,
          null,
          32,
          25,
          39,
          54,
          36,
          null,
          18,
          47,
          60,
          22,
          null,
          35,
          52,
          47,
          null,
          37,
          36,
          null,
          49,
          null,
          49,
          24,
          null,
          null,
          44,
          35,
          36,
          30,
          27,
          22,
          40,
          39,
          null,
          null,
          null,
          35,
          24,
          34,
          26,
          4,
          26,
          27,
          42,
          20,
          21,
          21,
          61,
          57,
          21,
          26,
          null,
          80,
          51,
          32,
          null,
          9,
          28,
          32,
          31,
          41,
          null,
          20,
          24,
          2,
          null,
          0.75,
          48,
          19,
          56,
          null,
          23,
          null,
          18,
          21,
          null,
          18,
          24,
          null,
          32,
          23,
          58,
          50,
          40,
          47,
          36,
          20,
          32,
          25,
          null,
          43,
          null,
          40,
          31,
          70,
          31,
          null,
          18,
          24.5,
          18,
          43,
          36,
          null,
          27,
          20,
          14,
          60,
          25,
          14,
          19,
          18,
          15,
          31,
          4,
          null,
          25,
          60,
          52,
          44,
          null,
          49,
          42,
          18,
          35,
          18,
          25,
          26,
          39,
          45,
          42,
          22,
          null,
          24,
          null,
          48,
          29,
          52,
          19,
          38,
          27,
          null,
          33,
          6,
          17,
          34,
          50,
          27,
          20,
          30,
          null,
          25,
          25,
          29,
          11,
          null,
          23,
          23,
          28.5,
          48,
          35,
          null,
          null,
          null,
          36,
          21,
          24,
          31,
          70,
          16,
          30,
          19,
          31,
          4,
          6,
          33,
          23,
          48,
          0.67,
          28,
          18,
          34,
          33,
          null,
          41,
          20,
          36,
          16,
          51,
          null,
          30.5,
          null,
          32,
          24,
          48,
          57,
          null,
          54,
          18,
          null,
          5,
          null,
          43,
          13,
          17,
          29,
          null,
          25,
          25,
          18,
          8,
          1,
          46,
          null,
          16,
          null,
          null,
          25,
          39,
          49,
          31,
          30,
          30,
          34,
          31,
          11,
          0.42,
          27,
          31,
          39,
          18,
          39,
          33,
          26,
          39,
          35,
          6,
          30.5,
          null,
          23,
          31,
          43,
          10,
          52,
          27,
          38,
          27,
          2,
          null,
          null,
          1,
          null,
          62,
          15,
          0.83,
          null,
          23,
          18,
          39,
          21,
          null,
          32,
          null,
          20,
          16,
          30,
          34.5,
          17,
          42,
          null,
          35,
          28,
          null,
          4,
          74,
          9,
          16,
          44,
          18,
          45,
          51,
          24,
          null,
          41,
          21,
          48,
          null,
          24,
          42,
          27,
          31,
          null,
          4,
          26,
          47,
          33,
          47,
          28,
          15,
          20,
          19,
          null,
          56,
          25,
          33,
          22,
          28,
          25,
          39,
          27,
          19,
          null,
          26,
          32,
          34.5,
          47,
          62,
          27,
          22,
          14,
          30,
          26,
          18,
          21,
          null,
          46,
          23,
          63,
          47,
          24,
          35,
          21,
          27,
          45,
          55,
          9,
          null,
          21,
          48,
          50,
          22,
          22.5,
          41,
          null,
          50,
          24,
          33,
          null,
          30,
          18.5,
          null,
          21,
          25,
          null,
          39,
          null,
          41,
          30,
          45,
          25,
          45,
          null,
          60,
          36,
          24,
          27,
          20,
          28,
          null,
          10,
          35,
          25,
          null,
          36,
          17,
          32,
          18,
          22,
          13,
          null,
          18,
          47,
          31,
          60,
          24,
          21,
          29,
          28.5,
          35,
          32.5,
          null,
          55,
          30,
          24,
          6,
          67,
          49,
          null,
          null,
          null,
          27,
          18,
          null,
          2,
          22,
          null,
          27,
          null,
          25,
          25,
          76,
          29,
          20,
          33,
          43,
          27,
          null,
          26,
          16,
          28,
          21,
          null,
          null,
          18.5,
          41,
          null,
          36,
          18.5,
          63,
          18,
          null,
          1,
          36,
          29,
          12,
          null,
          35,
          28,
          null,
          17,
          22,
          null,
          42,
          24,
          32,
          53,
          null,
          null,
          43,
          24,
          26.5,
          26,
          23,
          40,
          10,
          33,
          61,
          28,
          42,
          31,
          null,
          22,
          null,
          30,
          23,
          null,
          60.5,
          36,
          13,
          24,
          29,
          23,
          42,
          26,
          null,
          7,
          26,
          null,
          41,
          26,
          48,
          18,
          null,
          22,
          null,
          27,
          23,
          null,
          40,
          15,
          20,
          54,
          36,
          64,
          30,
          37,
          18,
          null,
          27,
          40,
          21,
          17,
          null,
          40,
          34,
          null,
          11.5,
          61,
          8,
          33,
          6,
          18,
          23,
          null,
          null,
          0.33,
          47,
          8,
          25,
          null,
          35,
          24,
          33,
          25,
          32,
          null,
          17,
          60,
          38,
          42,
          null,
          57,
          50,
          null,
          30,
          21,
          22,
          21,
          53,
          null,
          23,
          null,
          40.5,
          36,
          14,
          21,
          21,
          null,
          39,
          20,
          64,
          20,
          18,
          48,
          55,
          45,
          45,
          null,
          null,
          41,
          22,
          42,
          29,
          null,
          0.92,
          20,
          27,
          24,
          32.5,
          null,
          null,
          28,
          19,
          21,
          36.5,
          21,
          29,
          1,
          30,
          null,
          null,
          null,
          null,
          17,
          46,
          null,
          26,
          null,
          null,
          20,
          28,
          40,
          30,
          22,
          23,
          0.75,
          null,
          9,
          2,
          36,
          null,
          24,
          null,
          null,
          null,
          30,
          null,
          53,
          36,
          26,
          1,
          null,
          30,
          29,
          32,
          null,
          43,
          24,
          null,
          64,
          30,
          0.83,
          55,
          45,
          18,
          22,
          null,
          37,
          55,
          17,
          57,
          19,
          27,
          22,
          26,
          25,
          26,
          33,
          39,
          23,
          12,
          46,
          29,
          21,
          48,
          39,
          null,
          19,
          27,
          30,
          32,
          39,
          25,
          null,
          18,
          32,
          null,
          58,
          null,
          16,
          26,
          38,
          24,
          31,
          45,
          25,
          18,
          49,
          0.17,
          50,
          59,
          null,
          null,
          30,
          14.5,
          24,
          31,
          27,
          25,
          null,
          null,
          22,
          45,
          29,
          21,
          31,
          49,
          44,
          54,
          45,
          22,
          21,
          55,
          5,
          null,
          26,
          null,
          19,
          null,
          24,
          24,
          57,
          21,
          6,
          23,
          51,
          13,
          47,
          29,
          18,
          24,
          48,
          22,
          31,
          30,
          38,
          22,
          17,
          43,
          20,
          23,
          50,
          null,
          3,
          null,
          37,
          28,
          null,
          39,
          38.5,
          null,
          null
         ],
         "xaxis": "x",
         "yaxis": "y"
        }
       ],
       "layout": {
        "barmode": "relative",
        "legend": {
         "title": {
          "text": "variable"
         },
         "tracegroupgap": 0
        },
        "template": {
         "data": {
          "bar": [
           {
            "error_x": {
             "color": "#2a3f5f"
            },
            "error_y": {
             "color": "#2a3f5f"
            },
            "marker": {
             "line": {
              "color": "#E5ECF6",
              "width": 0.5
             },
             "pattern": {
              "fillmode": "overlay",
              "size": 10,
              "solidity": 0.2
             }
            },
            "type": "bar"
           }
          ],
          "barpolar": [
           {
            "marker": {
             "line": {
              "color": "#E5ECF6",
              "width": 0.5
             },
             "pattern": {
              "fillmode": "overlay",
              "size": 10,
              "solidity": 0.2
             }
            },
            "type": "barpolar"
           }
          ],
          "carpet": [
           {
            "aaxis": {
             "endlinecolor": "#2a3f5f",
             "gridcolor": "white",
             "linecolor": "white",
             "minorgridcolor": "white",
             "startlinecolor": "#2a3f5f"
            },
            "baxis": {
             "endlinecolor": "#2a3f5f",
             "gridcolor": "white",
             "linecolor": "white",
             "minorgridcolor": "white",
             "startlinecolor": "#2a3f5f"
            },
            "type": "carpet"
           }
          ],
          "choropleth": [
           {
            "colorbar": {
             "outlinewidth": 0,
             "ticks": ""
            },
            "type": "choropleth"
           }
          ],
          "contour": [
           {
            "colorbar": {
             "outlinewidth": 0,
             "ticks": ""
            },
            "colorscale": [
             [
              0,
              "#0d0887"
             ],
             [
              0.1111111111111111,
              "#46039f"
             ],
             [
              0.2222222222222222,
              "#7201a8"
             ],
             [
              0.3333333333333333,
              "#9c179e"
             ],
             [
              0.4444444444444444,
              "#bd3786"
             ],
             [
              0.5555555555555556,
              "#d8576b"
             ],
             [
              0.6666666666666666,
              "#ed7953"
             ],
             [
              0.7777777777777778,
              "#fb9f3a"
             ],
             [
              0.8888888888888888,
              "#fdca26"
             ],
             [
              1,
              "#f0f921"
             ]
            ],
            "type": "contour"
           }
          ],
          "contourcarpet": [
           {
            "colorbar": {
             "outlinewidth": 0,
             "ticks": ""
            },
            "type": "contourcarpet"
           }
          ],
          "heatmap": [
           {
            "colorbar": {
             "outlinewidth": 0,
             "ticks": ""
            },
            "colorscale": [
             [
              0,
              "#0d0887"
             ],
             [
              0.1111111111111111,
              "#46039f"
             ],
             [
              0.2222222222222222,
              "#7201a8"
             ],
             [
              0.3333333333333333,
              "#9c179e"
             ],
             [
              0.4444444444444444,
              "#bd3786"
             ],
             [
              0.5555555555555556,
              "#d8576b"
             ],
             [
              0.6666666666666666,
              "#ed7953"
             ],
             [
              0.7777777777777778,
              "#fb9f3a"
             ],
             [
              0.8888888888888888,
              "#fdca26"
             ],
             [
              1,
              "#f0f921"
             ]
            ],
            "type": "heatmap"
           }
          ],
          "heatmapgl": [
           {
            "colorbar": {
             "outlinewidth": 0,
             "ticks": ""
            },
            "colorscale": [
             [
              0,
              "#0d0887"
             ],
             [
              0.1111111111111111,
              "#46039f"
             ],
             [
              0.2222222222222222,
              "#7201a8"
             ],
             [
              0.3333333333333333,
              "#9c179e"
             ],
             [
              0.4444444444444444,
              "#bd3786"
             ],
             [
              0.5555555555555556,
              "#d8576b"
             ],
             [
              0.6666666666666666,
              "#ed7953"
             ],
             [
              0.7777777777777778,
              "#fb9f3a"
             ],
             [
              0.8888888888888888,
              "#fdca26"
             ],
             [
              1,
              "#f0f921"
             ]
            ],
            "type": "heatmapgl"
           }
          ],
          "histogram": [
           {
            "marker": {
             "pattern": {
              "fillmode": "overlay",
              "size": 10,
              "solidity": 0.2
             }
            },
            "type": "histogram"
           }
          ],
          "histogram2d": [
           {
            "colorbar": {
             "outlinewidth": 0,
             "ticks": ""
            },
            "colorscale": [
             [
              0,
              "#0d0887"
             ],
             [
              0.1111111111111111,
              "#46039f"
             ],
             [
              0.2222222222222222,
              "#7201a8"
             ],
             [
              0.3333333333333333,
              "#9c179e"
             ],
             [
              0.4444444444444444,
              "#bd3786"
             ],
             [
              0.5555555555555556,
              "#d8576b"
             ],
             [
              0.6666666666666666,
              "#ed7953"
             ],
             [
              0.7777777777777778,
              "#fb9f3a"
             ],
             [
              0.8888888888888888,
              "#fdca26"
             ],
             [
              1,
              "#f0f921"
             ]
            ],
            "type": "histogram2d"
           }
          ],
          "histogram2dcontour": [
           {
            "colorbar": {
             "outlinewidth": 0,
             "ticks": ""
            },
            "colorscale": [
             [
              0,
              "#0d0887"
             ],
             [
              0.1111111111111111,
              "#46039f"
             ],
             [
              0.2222222222222222,
              "#7201a8"
             ],
             [
              0.3333333333333333,
              "#9c179e"
             ],
             [
              0.4444444444444444,
              "#bd3786"
             ],
             [
              0.5555555555555556,
              "#d8576b"
             ],
             [
              0.6666666666666666,
              "#ed7953"
             ],
             [
              0.7777777777777778,
              "#fb9f3a"
             ],
             [
              0.8888888888888888,
              "#fdca26"
             ],
             [
              1,
              "#f0f921"
             ]
            ],
            "type": "histogram2dcontour"
           }
          ],
          "mesh3d": [
           {
            "colorbar": {
             "outlinewidth": 0,
             "ticks": ""
            },
            "type": "mesh3d"
           }
          ],
          "parcoords": [
           {
            "line": {
             "colorbar": {
              "outlinewidth": 0,
              "ticks": ""
             }
            },
            "type": "parcoords"
           }
          ],
          "pie": [
           {
            "automargin": true,
            "type": "pie"
           }
          ],
          "scatter": [
           {
            "fillpattern": {
             "fillmode": "overlay",
             "size": 10,
             "solidity": 0.2
            },
            "type": "scatter"
           }
          ],
          "scatter3d": [
           {
            "line": {
             "colorbar": {
              "outlinewidth": 0,
              "ticks": ""
             }
            },
            "marker": {
             "colorbar": {
              "outlinewidth": 0,
              "ticks": ""
             }
            },
            "type": "scatter3d"
           }
          ],
          "scattercarpet": [
           {
            "marker": {
             "colorbar": {
              "outlinewidth": 0,
              "ticks": ""
             }
            },
            "type": "scattercarpet"
           }
          ],
          "scattergeo": [
           {
            "marker": {
             "colorbar": {
              "outlinewidth": 0,
              "ticks": ""
             }
            },
            "type": "scattergeo"
           }
          ],
          "scattergl": [
           {
            "marker": {
             "colorbar": {
              "outlinewidth": 0,
              "ticks": ""
             }
            },
            "type": "scattergl"
           }
          ],
          "scattermapbox": [
           {
            "marker": {
             "colorbar": {
              "outlinewidth": 0,
              "ticks": ""
             }
            },
            "type": "scattermapbox"
           }
          ],
          "scatterpolar": [
           {
            "marker": {
             "colorbar": {
              "outlinewidth": 0,
              "ticks": ""
             }
            },
            "type": "scatterpolar"
           }
          ],
          "scatterpolargl": [
           {
            "marker": {
             "colorbar": {
              "outlinewidth": 0,
              "ticks": ""
             }
            },
            "type": "scatterpolargl"
           }
          ],
          "scatterternary": [
           {
            "marker": {
             "colorbar": {
              "outlinewidth": 0,
              "ticks": ""
             }
            },
            "type": "scatterternary"
           }
          ],
          "surface": [
           {
            "colorbar": {
             "outlinewidth": 0,
             "ticks": ""
            },
            "colorscale": [
             [
              0,
              "#0d0887"
             ],
             [
              0.1111111111111111,
              "#46039f"
             ],
             [
              0.2222222222222222,
              "#7201a8"
             ],
             [
              0.3333333333333333,
              "#9c179e"
             ],
             [
              0.4444444444444444,
              "#bd3786"
             ],
             [
              0.5555555555555556,
              "#d8576b"
             ],
             [
              0.6666666666666666,
              "#ed7953"
             ],
             [
              0.7777777777777778,
              "#fb9f3a"
             ],
             [
              0.8888888888888888,
              "#fdca26"
             ],
             [
              1,
              "#f0f921"
             ]
            ],
            "type": "surface"
           }
          ],
          "table": [
           {
            "cells": {
             "fill": {
              "color": "#EBF0F8"
             },
             "line": {
              "color": "white"
             }
            },
            "header": {
             "fill": {
              "color": "#C8D4E3"
             },
             "line": {
              "color": "white"
             }
            },
            "type": "table"
           }
          ]
         },
         "layout": {
          "annotationdefaults": {
           "arrowcolor": "#2a3f5f",
           "arrowhead": 0,
           "arrowwidth": 1
          },
          "autotypenumbers": "strict",
          "coloraxis": {
           "colorbar": {
            "outlinewidth": 0,
            "ticks": ""
           }
          },
          "colorscale": {
           "diverging": [
            [
             0,
             "#8e0152"
            ],
            [
             0.1,
             "#c51b7d"
            ],
            [
             0.2,
             "#de77ae"
            ],
            [
             0.3,
             "#f1b6da"
            ],
            [
             0.4,
             "#fde0ef"
            ],
            [
             0.5,
             "#f7f7f7"
            ],
            [
             0.6,
             "#e6f5d0"
            ],
            [
             0.7,
             "#b8e186"
            ],
            [
             0.8,
             "#7fbc41"
            ],
            [
             0.9,
             "#4d9221"
            ],
            [
             1,
             "#276419"
            ]
           ],
           "sequential": [
            [
             0,
             "#0d0887"
            ],
            [
             0.1111111111111111,
             "#46039f"
            ],
            [
             0.2222222222222222,
             "#7201a8"
            ],
            [
             0.3333333333333333,
             "#9c179e"
            ],
            [
             0.4444444444444444,
             "#bd3786"
            ],
            [
             0.5555555555555556,
             "#d8576b"
            ],
            [
             0.6666666666666666,
             "#ed7953"
            ],
            [
             0.7777777777777778,
             "#fb9f3a"
            ],
            [
             0.8888888888888888,
             "#fdca26"
            ],
            [
             1,
             "#f0f921"
            ]
           ],
           "sequentialminus": [
            [
             0,
             "#0d0887"
            ],
            [
             0.1111111111111111,
             "#46039f"
            ],
            [
             0.2222222222222222,
             "#7201a8"
            ],
            [
             0.3333333333333333,
             "#9c179e"
            ],
            [
             0.4444444444444444,
             "#bd3786"
            ],
            [
             0.5555555555555556,
             "#d8576b"
            ],
            [
             0.6666666666666666,
             "#ed7953"
            ],
            [
             0.7777777777777778,
             "#fb9f3a"
            ],
            [
             0.8888888888888888,
             "#fdca26"
            ],
            [
             1,
             "#f0f921"
            ]
           ]
          },
          "colorway": [
           "#636efa",
           "#EF553B",
           "#00cc96",
           "#ab63fa",
           "#FFA15A",
           "#19d3f3",
           "#FF6692",
           "#B6E880",
           "#FF97FF",
           "#FECB52"
          ],
          "font": {
           "color": "#2a3f5f"
          },
          "geo": {
           "bgcolor": "white",
           "lakecolor": "white",
           "landcolor": "#E5ECF6",
           "showlakes": true,
           "showland": true,
           "subunitcolor": "white"
          },
          "hoverlabel": {
           "align": "left"
          },
          "hovermode": "closest",
          "mapbox": {
           "style": "light"
          },
          "paper_bgcolor": "white",
          "plot_bgcolor": "#E5ECF6",
          "polar": {
           "angularaxis": {
            "gridcolor": "white",
            "linecolor": "white",
            "ticks": ""
           },
           "bgcolor": "#E5ECF6",
           "radialaxis": {
            "gridcolor": "white",
            "linecolor": "white",
            "ticks": ""
           }
          },
          "scene": {
           "xaxis": {
            "backgroundcolor": "#E5ECF6",
            "gridcolor": "white",
            "gridwidth": 2,
            "linecolor": "white",
            "showbackground": true,
            "ticks": "",
            "zerolinecolor": "white"
           },
           "yaxis": {
            "backgroundcolor": "#E5ECF6",
            "gridcolor": "white",
            "gridwidth": 2,
            "linecolor": "white",
            "showbackground": true,
            "ticks": "",
            "zerolinecolor": "white"
           },
           "zaxis": {
            "backgroundcolor": "#E5ECF6",
            "gridcolor": "white",
            "gridwidth": 2,
            "linecolor": "white",
            "showbackground": true,
            "ticks": "",
            "zerolinecolor": "white"
           }
          },
          "shapedefaults": {
           "line": {
            "color": "#2a3f5f"
           }
          },
          "ternary": {
           "aaxis": {
            "gridcolor": "white",
            "linecolor": "white",
            "ticks": ""
           },
           "baxis": {
            "gridcolor": "white",
            "linecolor": "white",
            "ticks": ""
           },
           "bgcolor": "#E5ECF6",
           "caxis": {
            "gridcolor": "white",
            "linecolor": "white",
            "ticks": ""
           }
          },
          "title": {
           "x": 0.05
          },
          "xaxis": {
           "automargin": true,
           "gridcolor": "white",
           "linecolor": "white",
           "ticks": "",
           "title": {
            "standoff": 15
           },
           "zerolinecolor": "white",
           "zerolinewidth": 2
          },
          "yaxis": {
           "automargin": true,
           "gridcolor": "white",
           "linecolor": "white",
           "ticks": "",
           "title": {
            "standoff": 15
           },
           "zerolinecolor": "white",
           "zerolinewidth": 2
          }
         }
        },
        "title": {
         "text": "Age"
        },
        "xaxis": {
         "anchor": "y",
         "domain": [
          0,
          1
         ],
         "title": {
          "text": "value"
         }
        },
        "yaxis": {
         "anchor": "x",
         "domain": [
          0,
          1
         ],
         "title": {
          "text": "count"
         }
        }
       }
      }
     },
     "metadata": {},
     "output_type": "display_data"
    },
    {
     "data": {
      "application/vnd.plotly.v1+json": {
       "config": {
        "plotlyServerURL": "https://plot.ly"
       },
       "data": [
        {
         "alignmentgroup": "True",
         "bingroup": "x",
         "hovertemplate": "variable=0<br>value=%{x}<br>count=%{y}<extra></extra>",
         "legendgroup": "0",
         "marker": {
          "color": "#636efa",
          "pattern": {
           "shape": ""
          }
         },
         "name": "0",
         "offsetgroup": "0",
         "orientation": "v",
         "showlegend": true,
         "type": "histogram",
         "x": [
          -0.2015841193058585,
          0.5844434461160407,
          0.037085671073063965,
          0.4652999976770436,
          0.4652999976770436,
          null,
          1.0961468583862082,
          -3.233479765149754,
          0.09121885402075879,
          -0.8378338842289018,
          -2.473116602340311,
          1.2006457904756787,
          -0.3369954725832208,
          0.6221289647327726,
          -0.8378338842289018,
          1.122967376378454,
          -3.233479765149754,
          null,
          0.2899801285273088,
          null,
          0.4652999976770436,
          0.4233676902262225,
          -0.7417683938303858,
          0.1434522301034713,
          -1.598197047038345,
          0.5844434461160407,
          null,
          -0.40961955762492214,
          null,
          null,
          0.6588838809580485,
          null,
          null,
          1.3899160754836257,
          0.1434522301034713,
          0.7297781593243634,
          null,
          -0.2677505001769501,
          -0.48596954818314925,
          -0.8378338842289018,
          0.6588838809580485,
          0.09121885402075879,
          null,
          -2.8052654385457747,
          -0.40961955762492214,
          null,
          null,
          null,
          null,
          -0.48596954818314925,
          -1.7735169161880806,
          -0.2677505001769501,
          0.9542778009382362,
          0.1939146381287929,
          1.3675322179344582,
          null,
          -0.2677505001769501,
          0.1688972681179839,
          -2.2017312427920603,
          -1.1699827204343656,
          -0.2015841193058585,
          0.5844434461160407,
          0.8301644030518361,
          -2.473116602340311,
          null,
          null,
          0.1939146381287929,
          -0.40961955762492214,
          -0.5664485246806511,
          0.037085671073063965,
          0.33578369557676424,
          -0.6515287366091423,
          -0.2677505001769501,
          0.037085671073063965,
          0.33578369557676424,
          -0.019090749637673703,
          null,
          null,
          -3.969239087184734,
          0.24272223945043686,
          -0.2015841193058585,
          0.1939146381287929,
          null,
          0.1434522301034713,
          -0.5664485246806511,
          0.38021978574855236,
          -0.6515287366091423,
          null,
          -0.1382341980766708,
          -0.07747072141945843,
          0.1939146381287929,
          -0.3369954725832208,
          0.8621763567617615,
          0.037085671073063965,
          1.225663160486487,
          null,
          1.4970485200347383,
          -0.1382341980766708,
          0.4233676902262225,
          0.4233676902262225,
          0.1434522301034713,
          null,
          -0.2677505001769501,
          0.38021978574855236,
          0.5457789741745455,
          0.1434522301034713,
          -0.2677505001769501,
          null,
          0.5844434461160407,
          null,
          0.8935143242810238,
          -0.7890262829072578,
          -0.2015841193058585,
          -0.3369954725832208,
          -0.5664485246806511,
          -0.2677505001769501,
          1.4866756663734553,
          0.1939146381287929,
          -0.07747072141945843,
          -3.233479765149754,
          -0.2677505001769501,
          null,
          0.3581675531259318,
          0.3581675531259318,
          1.0961468583862082,
          -1.0508392719953683,
          null,
          -0.07747072141945843,
          null,
          0.8301644030518361,
          0.38021978574855236,
          -0.3369954725832208,
          0.8935143242810238,
          0.1939146381287929,
          -0.019090749637673703,
          -0.1382341980766708,
          -0.40961955762492214,
          0.5457789741745455,
          -0.6515287366091423,
          -0.07747072141945843,
          null,
          -0.2015841193058585,
          -0.07747072141945843,
          -0.40961955762492214,
          -0.48596954818314925,
          -0.40961955762492214,
          0.09121885402075879,
          -1.441368079982616,
          0.5260634743342566,
          0.7297781593243634,
          1.012657772720021,
          -0.2015841193058585,
          1.136198561068046,
          0.6769265076453682,
          null,
          1.012657772720021,
          -0.6515287366091423,
          0.24272223945043686,
          null,
          null,
          0.7974488338825073,
          0.6588838809580485,
          0.037085671073063965,
          -0.5664485246806511,
          -3.837013960903469,
          -1.441368079982616,
          null,
          0.8301644030518361,
          null,
          0.1434522301034713,
          1.2744707618081315,
          -2.473116602340311,
          -3.837013960903469,
          -0.2677505001769501,
          1.1493131699282604,
          -0.48596954818314925,
          null,
          0.9837539815022668,
          0.24272223945043686,
          0.5060833290178235,
          null,
          null,
          -1.441368079982616,
          -3.837013960903469,
          -2.473116602340311,
          null,
          null,
          0.8301644030518361,
          0.6588838809580485,
          0.5060833290178235,
          0.33578369557676424,
          -0.40961955762492214,
          -0.40961955762492214,
          -2.8052654385457747,
          0.7974488338825073,
          1.2006457904756787,
          null,
          0.7297781593243634,
          null,
          -0.07747072141945843,
          0.1434522301034713,
          null,
          0.4233676902262225,
          0.8462564352041513,
          -0.48596954818314925,
          -3.233479765149754,
          0.33578369557676424,
          0.037085671073063965,
          -0.6515287366091423,
          0.6588838809580485,
          -0.07747072141945843,
          0.4652999976770436,
          -0.2015841193058585,
          0.24272223945043686,
          null,
          0.2899801285273088,
          0.09121885402075879,
          0.7297781593243634,
          0.33578369557676424,
          0.24272223945043686,
          -0.6515287366091423,
          0.09121885402075879,
          1.012657772720021,
          null,
          0.5844434461160407,
          -0.2015841193058585,
          -0.40961955762492214,
          -0.30197036303333125,
          -0.48596954818314925,
          null,
          0.4652999976770436,
          0.1939146381287929,
          1.225663160486487,
          -2.2017312427920603,
          -0.07747072141945843,
          null,
          0.7974488338825073,
          -1.598197047038345,
          -0.40961955762492214,
          0.38021978574855236,
          null,
          null,
          0.1939146381287929,
          -0.2015841193058585,
          0.24272223945043686,
          0.7974488338825073,
          -0.019090749637673703,
          -0.07747072141945843,
          0.5457789741745455,
          1.0961468583862082,
          null,
          0.1939146381287929,
          1.2982872455281882,
          0.24272223945043686,
          0.6947530497744738,
          0.1939146381287929,
          null,
          0.24272223945043686,
          0.4652999976770436,
          0.9837539815022668,
          null,
          -2.8052654385457747,
          1.0410109819168312,
          0.6588838809580485,
          null,
          0.5060833290178235,
          -0.6515287366091423,
          -0.019090749637673703,
          1.2006457904756787,
          0.4652999976770436,
          null,
          -0.019090749637673703,
          0.6947530497744738,
          0.5457789741745455,
          null,
          1.3217286508850028,
          0.8301644030518361,
          null,
          -1.7735169161880806,
          0.4652999976770436,
          1.3675322179344582,
          0.1434522301034713,
          -0.6515287366091423,
          -0.40961955762492214,
          null,
          0.38021978574855236,
          0.24272223945043686,
          -0.2015841193058585,
          0.7297781593243634,
          -0.2015841193058585,
          0.037085671073063965,
          -0.40961955762492214,
          0.5060833290178235,
          -0.07747072141945843,
          -0.07747072141945843,
          null,
          -0.10754242048579059,
          -3.233479765149754,
          null,
          0.9837539815022668,
          null,
          null,
          -0.40961955762492214,
          null,
          null,
          -3.8977774375606824,
          null,
          -0.5664485246806511,
          0.24272223945043686,
          0.24272223945043686,
          -0.07747072141945843,
          -0.48596954818314925,
          0.037085671073063965,
          0.1434522301034713,
          0.7639980221807439,
          0.037085671073063965,
          -0.07747072141945843,
          1.0961468583862082,
          0.2899801285273088,
          0.6588838809580485,
          -0.2015841193058585,
          0.09121885402075879,
          0.24272223945043686,
          -0.2015841193058585,
          null,
          0.5060833290178235,
          1.2744707618081315,
          0.5060833290178235,
          0.2899801285273088,
          -0.6515287366091423,
          null,
          0.8462564352041513,
          0.5844434461160407,
          -0.6515287366091423,
          null,
          null,
          0.1939146381287929,
          0.6947530497744738,
          0.8301644030518361,
          0.8301644030518361,
          -3.233479765149754,
          -0.07747072141945843,
          0.1434522301034713,
          -0.019090749637673703,
          0.5060833290178235,
          -0.07747072141945843,
          0.6588838809580485,
          null,
          -2.8052654385457747,
          0.7297781593243634,
          -0.1382341980766708,
          null,
          -0.7417683938303858,
          -0.019090749637673703,
          null,
          0.1434522301034713,
          -0.2015841193058585,
          0.5844434461160407,
          null,
          null,
          0.6588838809580485,
          0.1939146381287929,
          0.8301644030518361,
          0.4652999976770436,
          null,
          0.24272223945043686,
          1.2502670012609516,
          null,
          null,
          -0.07747072141945843,
          -0.019090749637673703,
          -0.48596954818314925,
          -0.40961955762492214,
          -0.2015841193058585,
          -2.8052654385457747,
          null,
          -0.2015841193058585,
          0.09121885402075879,
          -0.3369954725832208,
          -0.40961955762492214,
          0.7297781593243634,
          -3.837013960903469,
          0.33578369557676424,
          0.4652999976770436,
          null,
          -0.48596954818314925,
          -3.837013960903469,
          0.5060833290178235,
          null,
          -0.5664485246806511,
          0.5060833290178235,
          -0.2677505001769501,
          0.1434522301034713,
          -0.1382341980766708,
          -0.07747072141945843,
          -0.2015841193058585,
          0.2899801285273088,
          0.8621763567617615,
          -0.1382341980766708,
          0.1434522301034713,
          0.6221289647327726,
          0.037085671073063965,
          -0.2677505001769501,
          0.1434522301034713,
          -0.3369954725832208,
          0.4233676902262225,
          1.012657772720021,
          -2.8052654385457747,
          -0.2677505001769501,
          null,
          null,
          null,
          0.38021978574855236,
          null,
          0.7974488338825073,
          null,
          0.4233676902262225,
          -0.48596954818314925,
          0.24272223945043686,
          -1.2994990225346448,
          null,
          -0.2677505001769501,
          0.1939146381287929,
          0.1434522301034713,
          -0.48596954818314925,
          null,
          0.1434522301034713,
          -0.40961955762492214,
          null,
          0.33578369557676424,
          0.1434522301034713,
          null,
          0.7297781593243634,
          -0.5664485246806511,
          0.9837539815022668,
          -0.8378338842289018,
          -0.2677505001769501,
          -0.07747072141945843,
          1.344806608925484,
          0.2899801285273088,
          0.8301644030518361,
          -0.3369954725832208,
          -0.019090749637673703,
          0.1434522301034713,
          null,
          -2.473116602340311,
          -0.9405296683369359,
          0.4233676902262225,
          -2.2017312427920603,
          1.0410109819168312,
          0.5060833290178235,
          null,
          0.24272223945043686,
          0.9542778009382362,
          null,
          0.1939146381287929,
          1.3675322179344582,
          null,
          0.9837539815022668,
          null,
          0.9242061018719034,
          0.4233676902262225,
          0.8935143242810238,
          0.9242061018719034,
          null,
          0.5844434461160407,
          null,
          1.1493131699282604,
          null,
          -4.03577523541002,
          null,
          0.5844434461160407,
          0.38021978574855236,
          -0.1382341980766708,
          -0.2015841193058585,
          null,
          0.4233676902262225,
          0.1939146381287929,
          -0.2015841193058585,
          -3.233479765149754,
          -1.441368079982616,
          null,
          0.9837539815022668,
          1.3217286508850028,
          -0.019090749637673703,
          null,
          0.4652999976770436,
          1.2006457904756787,
          0.24272223945043686,
          -1.441368079982616,
          null,
          -0.2677505001769501,
          1.122967376378454,
          1.4970485200347383,
          -0.2677505001769501,
          null,
          1.0961468583862082,
          null,
          -0.019090749637673703,
          -0.07747072141945843,
          -0.5664485246806511,
          -0.2677505001769501,
          null,
          0.5457789741745455,
          -0.6515287366091423,
          -0.48596954818314925,
          0.38021978574855236,
          null,
          0.1434522301034713,
          0.037085671073063965,
          0.1939146381287929,
          null,
          0.5060833290178235,
          1.0961468583862082,
          -0.07747072141945843,
          0.8935143242810238,
          0.4233676902262225,
          null,
          0.5060833290178235,
          0.33578369557676424,
          0.24272223945043686,
          -0.2015841193058585,
          null,
          0.7974488338825073,
          null,
          0.6769265076453682,
          0.9837539815022668,
          null,
          0.6221289647327726,
          -0.1382341980766708,
          -3.233479765149754,
          null,
          -0.5664485246806511,
          null,
          0.24272223945043686,
          -1.7735169161880806,
          0.8301644030518361,
          0.24272223945043686,
          null,
          -0.2015841193058585,
          0.5060833290178235,
          -1.441368079982616,
          -1.1699827204343656,
          0.33578369557676424,
          0.9837539815022668,
          1.344806608925484,
          -0.40961955762492214,
          null,
          0.38021978574855236,
          -1.598197047038345,
          -0.5664485246806511,
          0.09121885402075879,
          null,
          -0.2015841193058585,
          -0.2015841193058585,
          1.2982872455281882,
          0.9242061018719034,
          null,
          0.6221289647327726,
          0.5060833290178235,
          null,
          0.6588838809580485,
          0.1434522301034713,
          null,
          null,
          -0.07747072141945843,
          -0.40961955762492214,
          0.1939146381287929,
          null,
          0.33578369557676424,
          1.2982872455281882,
          1.0688341934307586,
          0.5060833290178235,
          null,
          -0.6515287366091423,
          -0.40961955762492214,
          0.4233676902262225,
          0.6221289647327726,
          null,
          0.33578369557676424,
          -0.019090749637673703,
          0.6221289647327726,
          1.0961468583862082,
          0.5060833290178235,
          null,
          -0.48596954818314925,
          0.8935143242810238,
          1.2502670012609516,
          -0.2015841193058585,
          null,
          0.4652999976770436,
          1.0410109819168312,
          0.8935143242810238,
          null,
          0.5457789741745455,
          0.5060833290178235,
          null,
          0.9542778009382362,
          null,
          0.9542778009382362,
          -0.07747072141945843,
          null,
          null,
          0.7974488338825073,
          0.4652999976770436,
          0.5060833290178235,
          0.24272223945043686,
          0.09121885402075879,
          -0.2015841193058585,
          0.6588838809580485,
          0.6221289647327726,
          null,
          null,
          null,
          0.4652999976770436,
          -0.07747072141945843,
          0.4233676902262225,
          0.037085671073063965,
          -2.473116602340311,
          0.037085671073063965,
          0.09121885402075879,
          0.7297781593243634,
          -0.3369954725832208,
          -0.2677505001769501,
          -0.2677505001769501,
          1.2744707618081315,
          1.1752007524611654,
          -0.2677505001769501,
          0.037085671073063965,
          null,
          1.6723683891844736,
          1.012657772720021,
          0.33578369557676424,
          null,
          -1.441368079982616,
          0.1434522301034713,
          0.33578369557676424,
          0.2899801285273088,
          0.6947530497744738,
          null,
          -0.3369954725832208,
          -0.07747072141945843,
          -3.233479765149754,
          null,
          -4.03577523541002,
          0.9242061018719034,
          -0.40961955762492214,
          1.1493131699282604,
          null,
          -0.1382341980766708,
          null,
          -0.48596954818314925,
          -0.2677505001769501,
          null,
          -0.48596954818314925,
          -0.07747072141945843,
          null,
          0.33578369557676424,
          -0.1382341980766708,
          1.2006457904756787,
          0.9837539815022668,
          0.6588838809580485,
          0.8935143242810238,
          0.5060833290178235,
          -0.3369954725832208,
          0.33578369557676424,
          -0.019090749637673703,
          null,
          0.7639980221807439,
          null,
          0.6588838809580485,
          0.2899801285273088,
          1.4762300201612801,
          0.2899801285273088,
          null,
          -0.48596954818314925,
          -0.04799454085542791,
          -0.48596954818314925,
          0.7639980221807439,
          0.5060833290178235,
          null,
          0.09121885402075879,
          -0.3369954725832208,
          -0.8378338842289018,
          1.2502670012609516,
          -0.019090749637673703,
          -0.8378338842289018,
          -0.40961955762492214,
          -0.48596954818314925,
          -0.7417683938303858,
          0.2899801285273088,
          -2.473116602340311,
          null,
          -0.019090749637673703,
          1.2502670012609516,
          1.0410109819168312,
          0.7974488338825073,
          null,
          0.9542778009382362,
          0.7297781593243634,
          -0.48596954818314925,
          0.4652999976770436,
          -0.48596954818314925,
          -0.019090749637673703,
          0.037085671073063965,
          0.6221289647327726,
          0.8301644030518361,
          0.7297781593243634,
          -0.2015841193058585,
          null,
          -0.07747072141945843,
          null,
          0.9242061018719034,
          0.1939146381287929,
          1.0410109819168312,
          -0.40961955762492214,
          0.5844434461160407,
          0.09121885402075879,
          null,
          0.38021978574855236,
          -1.9722781906946303,
          -0.5664485246806511,
          0.4233676902262225,
          0.9837539815022668,
          0.09121885402075879,
          -0.3369954725832208,
          0.24272223945043686,
          null,
          -0.019090749637673703,
          -0.019090749637673703,
          0.1939146381287929,
          -1.1699827204343656,
          null,
          -0.1382341980766708,
          -0.1382341980766708,
          0.1688972681179839,
          0.9242061018719034,
          0.4652999976770436,
          null,
          null,
          null,
          0.5060833290178235,
          -0.2677505001769501,
          -0.07747072141945843,
          0.2899801285273088,
          1.4762300201612801,
          -0.6515287366091423,
          0.24272223945043686,
          -0.40961955762492214,
          0.2899801285273088,
          -2.473116602340311,
          -1.9722781906946303,
          0.38021978574855236,
          -0.1382341980766708,
          0.9242061018719034,
          -4.105425296531989,
          0.1434522301034713,
          -0.48596954818314925,
          0.4233676902262225,
          0.38021978574855236,
          null,
          0.6947530497744738,
          -0.3369954725832208,
          0.5060833290178235,
          -0.6515287366091423,
          1.012657772720021,
          null,
          0.26653872317049354,
          null,
          0.33578369557676424,
          -0.07747072141945843,
          0.9242061018719034,
          1.1752007524611654,
          null,
          1.0961468583862082,
          -0.48596954818314925,
          null,
          -2.2017312427920603,
          null,
          0.7639980221807439,
          -0.9405296683369359,
          -0.5664485246806511,
          0.1939146381287929,
          null,
          -0.019090749637673703,
          -0.019090749637673703,
          -0.48596954818314925,
          -1.598197047038345,
          -3.837013960903469,
          0.8621763567617615,
          null,
          -0.6515287366091423,
          null,
          null,
          -0.019090749637673703,
          0.6221289647327726,
          0.9542778009382362,
          0.2899801285273088,
          0.24272223945043686,
          0.24272223945043686,
          0.4233676902262225,
          0.2899801285273088,
          -1.1699827204343656,
          -4.34681026403812,
          0.09121885402075879,
          0.2899801285273088,
          0.6221289647327726,
          -0.48596954818314925,
          0.6221289647327726,
          0.38021978574855236,
          0.037085671073063965,
          0.6221289647327726,
          0.4652999976770436,
          -1.9722781906946303,
          0.26653872317049354,
          null,
          -0.1382341980766708,
          0.2899801285273088,
          0.7639980221807439,
          -1.2994990225346448,
          1.0410109819168312,
          0.09121885402075879,
          0.5844434461160407,
          0.09121885402075879,
          -3.233479765149754,
          null,
          null,
          -3.837013960903469,
          null,
          1.2982872455281882,
          -0.7417683938303858,
          -3.969239087184734,
          null,
          -0.1382341980766708,
          -0.48596954818314925,
          0.6221289647327726,
          -0.2677505001769501,
          null,
          0.33578369557676424,
          null,
          -0.3369954725832208,
          -0.6515287366091423,
          0.24272223945043686,
          0.44448149780358553,
          -0.5664485246806511,
          0.7297781593243634,
          null,
          0.4652999976770436,
          0.1434522301034713,
          null,
          -2.473116602340311,
          1.5578119966919506,
          -1.441368079982616,
          -0.6515287366091423,
          0.7974488338825073,
          -0.48596954818314925,
          0.8301644030518361,
          1.012657772720021,
          -0.07747072141945843,
          null,
          0.6947530497744738,
          -0.2677505001769501,
          0.9242061018719034,
          null,
          -0.07747072141945843,
          0.7297781593243634,
          0.09121885402075879,
          0.2899801285273088,
          null,
          -2.473116602340311,
          0.037085671073063965,
          0.8935143242810238,
          0.38021978574855236,
          0.8935143242810238,
          0.1434522301034713,
          -0.7417683938303858,
          -0.3369954725832208,
          -0.40961955762492214,
          null,
          1.1493131699282604,
          -0.019090749637673703,
          0.38021978574855236,
          -0.2015841193058585,
          0.1434522301034713,
          -0.019090749637673703,
          0.6221289647327726,
          0.09121885402075879,
          -0.40961955762492214,
          null,
          0.037085671073063965,
          0.33578369557676424,
          0.44448149780358553,
          0.8935143242810238,
          1.2982872455281882,
          0.09121885402075879,
          -0.2015841193058585,
          -0.8378338842289018,
          0.24272223945043686,
          0.037085671073063965,
          -0.48596954818314925,
          -0.2677505001769501,
          null,
          0.8621763567617615,
          -0.1382341980766708,
          1.3217286508850028,
          0.8935143242810238,
          -0.07747072141945843,
          0.4652999976770436,
          -0.2677505001769501,
          0.09121885402075879,
          0.8301644030518361,
          1.122967376378454,
          -1.441368079982616,
          null,
          -0.2677505001769501,
          0.9242061018719034,
          0.9837539815022668,
          -0.2015841193058585,
          -0.16957216559593244,
          0.6947530497744738,
          null,
          0.9837539815022668,
          -0.07747072141945843,
          0.38021978574855236,
          null,
          0.24272223945043686,
          -0.447305076241654,
          null,
          -0.2677505001769501,
          -0.019090749637673703,
          null,
          0.6221289647327726,
          null,
          0.6947530497744738,
          0.24272223945043686,
          0.8301644030518361,
          -0.019090749637673703,
          0.8301644030518361,
          null,
          1.2502670012609516,
          0.5060833290178235,
          -0.07747072141945843,
          0.09121885402075879,
          -0.3369954725832208,
          0.1434522301034713,
          null,
          -1.2994990225346448,
          0.4652999976770436,
          -0.019090749637673703,
          null,
          0.5060833290178235,
          -0.5664485246806511,
          0.33578369557676424,
          -0.48596954818314925,
          -0.2015841193058585,
          -0.9405296683369359,
          null,
          -0.48596954818314925,
          0.8935143242810238,
          0.2899801285273088,
          1.2502670012609516,
          -0.07747072141945843,
          -0.2677505001769501,
          0.1939146381287929,
          0.1688972681179839,
          0.4652999976770436,
          0.3581675531259318,
          null,
          1.122967376378454,
          0.24272223945043686,
          -0.07747072141945843,
          -1.9722781906946303,
          1.411968308106247,
          0.9542778009382362,
          null,
          null,
          null,
          0.09121885402075879,
          -0.48596954818314925,
          null,
          -3.233479765149754,
          -0.2015841193058585,
          null,
          0.09121885402075879,
          null,
          -0.019090749637673703,
          -0.019090749637673703,
          1.5969852700318892,
          0.1939146381287929,
          -0.3369954725832208,
          0.38021978574855236,
          0.7639980221807439,
          0.09121885402075879,
          null,
          0.037085671073063965,
          -0.6515287366091423,
          0.1434522301034713,
          -0.2677505001769501,
          null,
          null,
          -0.447305076241654,
          0.6947530497744738,
          null,
          0.5060833290178235,
          -0.447305076241654,
          1.3217286508850028,
          -0.48596954818314925,
          null,
          -3.837013960903469,
          0.5060833290178235,
          0.1939146381287929,
          -1.0508392719953683,
          null,
          0.4652999976770436,
          0.1434522301034713,
          null,
          -0.5664485246806511,
          -0.2015841193058585,
          null,
          0.7297781593243634,
          -0.07747072141945843,
          0.33578369557676424,
          1.0688341934307586,
          null,
          null,
          0.7639980221807439,
          -0.07747072141945843,
          0.06439833602851358,
          0.037085671073063965,
          -0.1382341980766708,
          0.6588838809580485,
          -1.2994990225346448,
          0.38021978574855236,
          1.2744707618081315,
          0.1434522301034713,
          0.7297781593243634,
          0.2899801285273088,
          null,
          -0.2015841193058585,
          null,
          0.24272223945043686,
          -0.1382341980766708,
          null,
          1.2624180767117634,
          0.5060833290178235,
          -0.9405296683369359,
          -0.07747072141945843,
          0.1939146381287929,
          -0.1382341980766708,
          0.7297781593243634,
          0.037085671073063965,
          null,
          -1.7735169161880806,
          0.037085671073063965,
          null,
          0.6947530497744738,
          0.037085671073063965,
          0.9242061018719034,
          -0.48596954818314925,
          null,
          -0.2015841193058585,
          null,
          0.09121885402075879,
          -0.1382341980766708,
          null,
          0.6588838809580485,
          -0.7417683938303858,
          -0.3369954725832208,
          1.0961468583862082,
          0.5060833290178235,
          1.344806608925484,
          0.24272223945043686,
          0.5457789741745455,
          -0.48596954818314925,
          null,
          0.09121885402075879,
          0.6588838809580485,
          -0.2677505001769501,
          -0.5664485246806511,
          null,
          0.6588838809580485,
          0.4233676902262225,
          null,
          -1.1092192437771524,
          1.2744707618081315,
          -1.598197047038345,
          0.38021978574855236,
          -1.9722781906946303,
          -0.48596954818314925,
          -0.1382341980766708,
          null,
          null,
          -4.44427406217371,
          0.8935143242810238,
          -1.598197047038345,
          -0.019090749637673703,
          null,
          0.4652999976770436,
          -0.07747072141945843,
          0.38021978574855236,
          -0.019090749637673703,
          0.33578369557676424,
          null,
          -0.5664485246806511,
          1.2502670012609516,
          0.5844434461160407,
          0.7297781593243634,
          null,
          1.1752007524611654,
          0.9837539815022668,
          null,
          0.24272223945043686,
          -0.2677505001769501,
          -0.2015841193058585,
          -0.2677505001769501,
          1.0688341934307586,
          null,
          -0.1382341980766708,
          null,
          0.6769265076453682,
          0.5060833290178235,
          -0.8378338842289018,
          -0.2677505001769501,
          -0.2677505001769501,
          null,
          0.6221289647327726,
          -0.3369954725832208,
          1.344806608925484,
          -0.3369954725832208,
          -0.48596954818314925,
          0.9242061018719034,
          1.122967376378454,
          0.8301644030518361,
          0.8301644030518361,
          null,
          null,
          0.6947530497744738,
          -0.2015841193058585,
          0.7297781593243634,
          0.1939146381287929,
          null,
          -3.8977774375606824,
          -0.3369954725832208,
          0.09121885402075879,
          -0.07747072141945843,
          0.3581675531259318,
          null,
          null,
          0.1434522301034713,
          -0.40961955762492214,
          -0.2677505001769501,
          0.5260634743342566,
          -0.2677505001769501,
          0.1939146381287929,
          -3.837013960903469,
          0.24272223945043686,
          null,
          null,
          null,
          null,
          -0.5664485246806511,
          0.8621763567617615,
          null,
          0.037085671073063965,
          null,
          null,
          -0.3369954725832208,
          0.1434522301034713,
          0.6588838809580485,
          0.24272223945043686,
          -0.2015841193058585,
          -0.1382341980766708,
          -4.03577523541002,
          null,
          -1.441368079982616,
          -3.233479765149754,
          0.5060833290178235,
          null,
          -0.07747072141945843,
          null,
          null,
          null,
          0.24272223945043686,
          null,
          1.0688341934307586,
          0.5060833290178235,
          0.037085671073063965,
          -3.837013960903469,
          null,
          0.24272223945043686,
          0.1939146381287929,
          0.33578369557676424,
          null,
          0.7639980221807439,
          -0.07747072141945843,
          null,
          1.344806608925484,
          0.24272223945043686,
          -3.969239087184734,
          1.122967376378454,
          0.8301644030518361,
          -0.48596954818314925,
          -0.2015841193058585,
          null,
          0.5457789741745455,
          1.122967376378454,
          -0.5664485246806511,
          1.1752007524611654,
          -0.40961955762492214,
          0.09121885402075879,
          -0.2015841193058585,
          0.037085671073063965,
          -0.019090749637673703,
          0.037085671073063965,
          0.38021978574855236,
          0.6221289647327726,
          -0.1382341980766708,
          -1.0508392719953683,
          0.8621763567617615,
          0.1939146381287929,
          -0.2677505001769501,
          0.9242061018719034,
          0.6221289647327726,
          null,
          -0.40961955762492214,
          0.09121885402075879,
          0.24272223945043686,
          0.33578369557676424,
          0.6221289647327726,
          -0.019090749637673703,
          null,
          -0.48596954818314925,
          0.33578369557676424,
          null,
          1.2006457904756787,
          null,
          -0.6515287366091423,
          0.037085671073063965,
          0.5844434461160407,
          -0.07747072141945843,
          0.2899801285273088,
          0.8301644030518361,
          -0.019090749637673703,
          -0.48596954818314925,
          0.9542778009382362,
          -4.635062642329645,
          0.9837539815022668,
          1.225663160486487,
          null,
          null,
          0.24272223945043686,
          -0.7890262829072578,
          -0.07747072141945843,
          0.2899801285273088,
          0.09121885402075879,
          -0.019090749637673703,
          null,
          null,
          -0.2015841193058585,
          0.8301644030518361,
          0.1939146381287929,
          -0.2677505001769501,
          0.2899801285273088,
          0.9542778009382362,
          0.7974488338825073,
          1.0961468583862082,
          0.8301644030518361,
          -0.2015841193058585,
          -0.2677505001769501,
          1.122967376378454,
          -2.2017312427920603,
          null,
          0.037085671073063965,
          null,
          -0.40961955762492214,
          null,
          -0.07747072141945843,
          -0.07747072141945843,
          1.1752007524611654,
          -0.2677505001769501,
          -1.9722781906946303,
          -0.1382341980766708,
          1.012657772720021,
          -0.9405296683369359,
          0.8935143242810238,
          0.1939146381287929,
          -0.48596954818314925,
          -0.07747072141945843,
          0.9242061018719034,
          -0.2015841193058585,
          0.2899801285273088,
          0.24272223945043686,
          0.5844434461160407,
          -0.2015841193058585,
          -0.5664485246806511,
          0.7639980221807439,
          -0.3369954725832208,
          -0.1382341980766708,
          0.9837539815022668,
          null,
          -2.8052654385457747,
          null,
          0.5457789741745455,
          0.1434522301034713,
          null,
          0.6221289647327726,
          0.6034054665797496,
          null,
          null
         ],
         "xaxis": "x",
         "yaxis": "y"
        }
       ],
       "layout": {
        "barmode": "relative",
        "legend": {
         "title": {
          "text": "variable"
         },
         "tracegroupgap": 0
        },
        "template": {
         "data": {
          "bar": [
           {
            "error_x": {
             "color": "#2a3f5f"
            },
            "error_y": {
             "color": "#2a3f5f"
            },
            "marker": {
             "line": {
              "color": "#E5ECF6",
              "width": 0.5
             },
             "pattern": {
              "fillmode": "overlay",
              "size": 10,
              "solidity": 0.2
             }
            },
            "type": "bar"
           }
          ],
          "barpolar": [
           {
            "marker": {
             "line": {
              "color": "#E5ECF6",
              "width": 0.5
             },
             "pattern": {
              "fillmode": "overlay",
              "size": 10,
              "solidity": 0.2
             }
            },
            "type": "barpolar"
           }
          ],
          "carpet": [
           {
            "aaxis": {
             "endlinecolor": "#2a3f5f",
             "gridcolor": "white",
             "linecolor": "white",
             "minorgridcolor": "white",
             "startlinecolor": "#2a3f5f"
            },
            "baxis": {
             "endlinecolor": "#2a3f5f",
             "gridcolor": "white",
             "linecolor": "white",
             "minorgridcolor": "white",
             "startlinecolor": "#2a3f5f"
            },
            "type": "carpet"
           }
          ],
          "choropleth": [
           {
            "colorbar": {
             "outlinewidth": 0,
             "ticks": ""
            },
            "type": "choropleth"
           }
          ],
          "contour": [
           {
            "colorbar": {
             "outlinewidth": 0,
             "ticks": ""
            },
            "colorscale": [
             [
              0,
              "#0d0887"
             ],
             [
              0.1111111111111111,
              "#46039f"
             ],
             [
              0.2222222222222222,
              "#7201a8"
             ],
             [
              0.3333333333333333,
              "#9c179e"
             ],
             [
              0.4444444444444444,
              "#bd3786"
             ],
             [
              0.5555555555555556,
              "#d8576b"
             ],
             [
              0.6666666666666666,
              "#ed7953"
             ],
             [
              0.7777777777777778,
              "#fb9f3a"
             ],
             [
              0.8888888888888888,
              "#fdca26"
             ],
             [
              1,
              "#f0f921"
             ]
            ],
            "type": "contour"
           }
          ],
          "contourcarpet": [
           {
            "colorbar": {
             "outlinewidth": 0,
             "ticks": ""
            },
            "type": "contourcarpet"
           }
          ],
          "heatmap": [
           {
            "colorbar": {
             "outlinewidth": 0,
             "ticks": ""
            },
            "colorscale": [
             [
              0,
              "#0d0887"
             ],
             [
              0.1111111111111111,
              "#46039f"
             ],
             [
              0.2222222222222222,
              "#7201a8"
             ],
             [
              0.3333333333333333,
              "#9c179e"
             ],
             [
              0.4444444444444444,
              "#bd3786"
             ],
             [
              0.5555555555555556,
              "#d8576b"
             ],
             [
              0.6666666666666666,
              "#ed7953"
             ],
             [
              0.7777777777777778,
              "#fb9f3a"
             ],
             [
              0.8888888888888888,
              "#fdca26"
             ],
             [
              1,
              "#f0f921"
             ]
            ],
            "type": "heatmap"
           }
          ],
          "heatmapgl": [
           {
            "colorbar": {
             "outlinewidth": 0,
             "ticks": ""
            },
            "colorscale": [
             [
              0,
              "#0d0887"
             ],
             [
              0.1111111111111111,
              "#46039f"
             ],
             [
              0.2222222222222222,
              "#7201a8"
             ],
             [
              0.3333333333333333,
              "#9c179e"
             ],
             [
              0.4444444444444444,
              "#bd3786"
             ],
             [
              0.5555555555555556,
              "#d8576b"
             ],
             [
              0.6666666666666666,
              "#ed7953"
             ],
             [
              0.7777777777777778,
              "#fb9f3a"
             ],
             [
              0.8888888888888888,
              "#fdca26"
             ],
             [
              1,
              "#f0f921"
             ]
            ],
            "type": "heatmapgl"
           }
          ],
          "histogram": [
           {
            "marker": {
             "pattern": {
              "fillmode": "overlay",
              "size": 10,
              "solidity": 0.2
             }
            },
            "type": "histogram"
           }
          ],
          "histogram2d": [
           {
            "colorbar": {
             "outlinewidth": 0,
             "ticks": ""
            },
            "colorscale": [
             [
              0,
              "#0d0887"
             ],
             [
              0.1111111111111111,
              "#46039f"
             ],
             [
              0.2222222222222222,
              "#7201a8"
             ],
             [
              0.3333333333333333,
              "#9c179e"
             ],
             [
              0.4444444444444444,
              "#bd3786"
             ],
             [
              0.5555555555555556,
              "#d8576b"
             ],
             [
              0.6666666666666666,
              "#ed7953"
             ],
             [
              0.7777777777777778,
              "#fb9f3a"
             ],
             [
              0.8888888888888888,
              "#fdca26"
             ],
             [
              1,
              "#f0f921"
             ]
            ],
            "type": "histogram2d"
           }
          ],
          "histogram2dcontour": [
           {
            "colorbar": {
             "outlinewidth": 0,
             "ticks": ""
            },
            "colorscale": [
             [
              0,
              "#0d0887"
             ],
             [
              0.1111111111111111,
              "#46039f"
             ],
             [
              0.2222222222222222,
              "#7201a8"
             ],
             [
              0.3333333333333333,
              "#9c179e"
             ],
             [
              0.4444444444444444,
              "#bd3786"
             ],
             [
              0.5555555555555556,
              "#d8576b"
             ],
             [
              0.6666666666666666,
              "#ed7953"
             ],
             [
              0.7777777777777778,
              "#fb9f3a"
             ],
             [
              0.8888888888888888,
              "#fdca26"
             ],
             [
              1,
              "#f0f921"
             ]
            ],
            "type": "histogram2dcontour"
           }
          ],
          "mesh3d": [
           {
            "colorbar": {
             "outlinewidth": 0,
             "ticks": ""
            },
            "type": "mesh3d"
           }
          ],
          "parcoords": [
           {
            "line": {
             "colorbar": {
              "outlinewidth": 0,
              "ticks": ""
             }
            },
            "type": "parcoords"
           }
          ],
          "pie": [
           {
            "automargin": true,
            "type": "pie"
           }
          ],
          "scatter": [
           {
            "fillpattern": {
             "fillmode": "overlay",
             "size": 10,
             "solidity": 0.2
            },
            "type": "scatter"
           }
          ],
          "scatter3d": [
           {
            "line": {
             "colorbar": {
              "outlinewidth": 0,
              "ticks": ""
             }
            },
            "marker": {
             "colorbar": {
              "outlinewidth": 0,
              "ticks": ""
             }
            },
            "type": "scatter3d"
           }
          ],
          "scattercarpet": [
           {
            "marker": {
             "colorbar": {
              "outlinewidth": 0,
              "ticks": ""
             }
            },
            "type": "scattercarpet"
           }
          ],
          "scattergeo": [
           {
            "marker": {
             "colorbar": {
              "outlinewidth": 0,
              "ticks": ""
             }
            },
            "type": "scattergeo"
           }
          ],
          "scattergl": [
           {
            "marker": {
             "colorbar": {
              "outlinewidth": 0,
              "ticks": ""
             }
            },
            "type": "scattergl"
           }
          ],
          "scattermapbox": [
           {
            "marker": {
             "colorbar": {
              "outlinewidth": 0,
              "ticks": ""
             }
            },
            "type": "scattermapbox"
           }
          ],
          "scatterpolar": [
           {
            "marker": {
             "colorbar": {
              "outlinewidth": 0,
              "ticks": ""
             }
            },
            "type": "scatterpolar"
           }
          ],
          "scatterpolargl": [
           {
            "marker": {
             "colorbar": {
              "outlinewidth": 0,
              "ticks": ""
             }
            },
            "type": "scatterpolargl"
           }
          ],
          "scatterternary": [
           {
            "marker": {
             "colorbar": {
              "outlinewidth": 0,
              "ticks": ""
             }
            },
            "type": "scatterternary"
           }
          ],
          "surface": [
           {
            "colorbar": {
             "outlinewidth": 0,
             "ticks": ""
            },
            "colorscale": [
             [
              0,
              "#0d0887"
             ],
             [
              0.1111111111111111,
              "#46039f"
             ],
             [
              0.2222222222222222,
              "#7201a8"
             ],
             [
              0.3333333333333333,
              "#9c179e"
             ],
             [
              0.4444444444444444,
              "#bd3786"
             ],
             [
              0.5555555555555556,
              "#d8576b"
             ],
             [
              0.6666666666666666,
              "#ed7953"
             ],
             [
              0.7777777777777778,
              "#fb9f3a"
             ],
             [
              0.8888888888888888,
              "#fdca26"
             ],
             [
              1,
              "#f0f921"
             ]
            ],
            "type": "surface"
           }
          ],
          "table": [
           {
            "cells": {
             "fill": {
              "color": "#EBF0F8"
             },
             "line": {
              "color": "white"
             }
            },
            "header": {
             "fill": {
              "color": "#C8D4E3"
             },
             "line": {
              "color": "white"
             }
            },
            "type": "table"
           }
          ]
         },
         "layout": {
          "annotationdefaults": {
           "arrowcolor": "#2a3f5f",
           "arrowhead": 0,
           "arrowwidth": 1
          },
          "autotypenumbers": "strict",
          "coloraxis": {
           "colorbar": {
            "outlinewidth": 0,
            "ticks": ""
           }
          },
          "colorscale": {
           "diverging": [
            [
             0,
             "#8e0152"
            ],
            [
             0.1,
             "#c51b7d"
            ],
            [
             0.2,
             "#de77ae"
            ],
            [
             0.3,
             "#f1b6da"
            ],
            [
             0.4,
             "#fde0ef"
            ],
            [
             0.5,
             "#f7f7f7"
            ],
            [
             0.6,
             "#e6f5d0"
            ],
            [
             0.7,
             "#b8e186"
            ],
            [
             0.8,
             "#7fbc41"
            ],
            [
             0.9,
             "#4d9221"
            ],
            [
             1,
             "#276419"
            ]
           ],
           "sequential": [
            [
             0,
             "#0d0887"
            ],
            [
             0.1111111111111111,
             "#46039f"
            ],
            [
             0.2222222222222222,
             "#7201a8"
            ],
            [
             0.3333333333333333,
             "#9c179e"
            ],
            [
             0.4444444444444444,
             "#bd3786"
            ],
            [
             0.5555555555555556,
             "#d8576b"
            ],
            [
             0.6666666666666666,
             "#ed7953"
            ],
            [
             0.7777777777777778,
             "#fb9f3a"
            ],
            [
             0.8888888888888888,
             "#fdca26"
            ],
            [
             1,
             "#f0f921"
            ]
           ],
           "sequentialminus": [
            [
             0,
             "#0d0887"
            ],
            [
             0.1111111111111111,
             "#46039f"
            ],
            [
             0.2222222222222222,
             "#7201a8"
            ],
            [
             0.3333333333333333,
             "#9c179e"
            ],
            [
             0.4444444444444444,
             "#bd3786"
            ],
            [
             0.5555555555555556,
             "#d8576b"
            ],
            [
             0.6666666666666666,
             "#ed7953"
            ],
            [
             0.7777777777777778,
             "#fb9f3a"
            ],
            [
             0.8888888888888888,
             "#fdca26"
            ],
            [
             1,
             "#f0f921"
            ]
           ]
          },
          "colorway": [
           "#636efa",
           "#EF553B",
           "#00cc96",
           "#ab63fa",
           "#FFA15A",
           "#19d3f3",
           "#FF6692",
           "#B6E880",
           "#FF97FF",
           "#FECB52"
          ],
          "font": {
           "color": "#2a3f5f"
          },
          "geo": {
           "bgcolor": "white",
           "lakecolor": "white",
           "landcolor": "#E5ECF6",
           "showlakes": true,
           "showland": true,
           "subunitcolor": "white"
          },
          "hoverlabel": {
           "align": "left"
          },
          "hovermode": "closest",
          "mapbox": {
           "style": "light"
          },
          "paper_bgcolor": "white",
          "plot_bgcolor": "#E5ECF6",
          "polar": {
           "angularaxis": {
            "gridcolor": "white",
            "linecolor": "white",
            "ticks": ""
           },
           "bgcolor": "#E5ECF6",
           "radialaxis": {
            "gridcolor": "white",
            "linecolor": "white",
            "ticks": ""
           }
          },
          "scene": {
           "xaxis": {
            "backgroundcolor": "#E5ECF6",
            "gridcolor": "white",
            "gridwidth": 2,
            "linecolor": "white",
            "showbackground": true,
            "ticks": "",
            "zerolinecolor": "white"
           },
           "yaxis": {
            "backgroundcolor": "#E5ECF6",
            "gridcolor": "white",
            "gridwidth": 2,
            "linecolor": "white",
            "showbackground": true,
            "ticks": "",
            "zerolinecolor": "white"
           },
           "zaxis": {
            "backgroundcolor": "#E5ECF6",
            "gridcolor": "white",
            "gridwidth": 2,
            "linecolor": "white",
            "showbackground": true,
            "ticks": "",
            "zerolinecolor": "white"
           }
          },
          "shapedefaults": {
           "line": {
            "color": "#2a3f5f"
           }
          },
          "ternary": {
           "aaxis": {
            "gridcolor": "white",
            "linecolor": "white",
            "ticks": ""
           },
           "baxis": {
            "gridcolor": "white",
            "linecolor": "white",
            "ticks": ""
           },
           "bgcolor": "#E5ECF6",
           "caxis": {
            "gridcolor": "white",
            "linecolor": "white",
            "ticks": ""
           }
          },
          "title": {
           "x": 0.05
          },
          "xaxis": {
           "automargin": true,
           "gridcolor": "white",
           "linecolor": "white",
           "ticks": "",
           "title": {
            "standoff": 15
           },
           "zerolinecolor": "white",
           "zerolinewidth": 2
          },
          "yaxis": {
           "automargin": true,
           "gridcolor": "white",
           "linecolor": "white",
           "ticks": "",
           "title": {
            "standoff": 15
           },
           "zerolinecolor": "white",
           "zerolinewidth": 2
          }
         }
        },
        "title": {
         "text": "norm_Age"
        },
        "xaxis": {
         "anchor": "y",
         "domain": [
          0,
          1
         ],
         "title": {
          "text": "value"
         }
        },
        "yaxis": {
         "anchor": "x",
         "domain": [
          0,
          1
         ],
         "title": {
          "text": "count"
         }
        }
       }
      }
     },
     "metadata": {},
     "output_type": "display_data"
    },
    {
     "data": {
      "application/vnd.plotly.v1+json": {
       "config": {
        "plotlyServerURL": "https://plot.ly"
       },
       "data": [
        {
         "alignmentgroup": "True",
         "bingroup": "x",
         "hovertemplate": "variable=Fare<br>value=%{x}<br>count=%{y}<extra></extra>",
         "legendgroup": "Fare",
         "marker": {
          "color": "#636efa",
          "pattern": {
           "shape": ""
          }
         },
         "name": "Fare",
         "offsetgroup": "Fare",
         "orientation": "v",
         "showlegend": true,
         "type": "histogram",
         "x": [
          7.25,
          71.2833,
          7.925,
          53.1,
          8.05,
          8.4583,
          51.8625,
          21.075,
          11.1333,
          30.0708,
          16.7,
          26.55,
          8.05,
          31.275,
          7.8542,
          16,
          29.125,
          13,
          18,
          7.225,
          26,
          13,
          8.0292,
          35.5,
          21.075,
          31.3875,
          7.225,
          263,
          7.8792,
          7.8958,
          27.7208,
          146.5208,
          7.75,
          10.5,
          82.1708,
          52,
          7.2292,
          8.05,
          18,
          11.2417,
          9.475,
          21,
          7.8958,
          41.5792,
          7.8792,
          8.05,
          15.5,
          7.75,
          21.6792,
          17.8,
          39.6875,
          7.8,
          76.7292,
          26,
          61.9792,
          35.5,
          10.5,
          7.2292,
          27.75,
          46.9,
          7.2292,
          80,
          83.475,
          27.9,
          27.7208,
          15.2458,
          10.5,
          8.1583,
          7.925,
          8.6625,
          10.5,
          46.9,
          73.5,
          14.4542,
          56.4958,
          7.65,
          7.8958,
          8.05,
          29,
          12.475,
          9,
          9.5,
          7.7875,
          47.1,
          10.5,
          15.85,
          34.375,
          8.05,
          263,
          8.05,
          8.05,
          7.8542,
          61.175,
          20.575,
          7.25,
          8.05,
          34.6542,
          63.3583,
          23,
          26,
          7.8958,
          7.8958,
          77.2875,
          8.6542,
          7.925,
          7.8958,
          7.65,
          7.775,
          7.8958,
          24.15,
          52,
          14.4542,
          8.05,
          9.825,
          14.4583,
          7.925,
          7.75,
          21,
          247.5208,
          31.275,
          73.5,
          8.05,
          30.0708,
          13,
          77.2875,
          11.2417,
          7.75,
          7.1417,
          22.3583,
          6.975,
          7.8958,
          7.05,
          14.5,
          26,
          13,
          15.0458,
          26.2833,
          53.1,
          9.2167,
          79.2,
          15.2458,
          7.75,
          15.85,
          6.75,
          11.5,
          36.75,
          7.7958,
          34.375,
          26,
          13,
          12.525,
          66.6,
          8.05,
          14.5,
          7.3125,
          61.3792,
          7.7333,
          8.05,
          8.6625,
          69.55,
          16.1,
          15.75,
          7.775,
          8.6625,
          39.6875,
          20.525,
          55,
          27.9,
          25.925,
          56.4958,
          33.5,
          29.125,
          11.1333,
          7.925,
          30.6958,
          7.8542,
          25.4667,
          28.7125,
          13,
          0,
          69.55,
          15.05,
          31.3875,
          39,
          22.025,
          50,
          15.5,
          26.55,
          15.5,
          7.8958,
          13,
          13,
          7.8542,
          26,
          27.7208,
          146.5208,
          7.75,
          8.4042,
          7.75,
          13,
          9.5,
          69.55,
          6.4958,
          7.225,
          8.05,
          10.4625,
          15.85,
          18.7875,
          7.75,
          31,
          7.05,
          21,
          7.25,
          13,
          7.75,
          113.275,
          7.925,
          27,
          76.2917,
          10.5,
          8.05,
          13,
          8.05,
          7.8958,
          90,
          9.35,
          10.5,
          7.25,
          13,
          25.4667,
          83.475,
          7.775,
          13.5,
          31.3875,
          10.5,
          7.55,
          26,
          26.25,
          10.5,
          12.275,
          14.4542,
          15.5,
          10.5,
          7.125,
          7.225,
          90,
          7.775,
          14.5,
          52.5542,
          26,
          7.25,
          10.4625,
          26.55,
          16.1,
          20.2125,
          15.2458,
          79.2,
          86.5,
          512.3292,
          26,
          7.75,
          31.3875,
          79.65,
          0,
          7.75,
          10.5,
          39.6875,
          7.775,
          153.4625,
          135.6333,
          31,
          0,
          19.5,
          29.7,
          7.75,
          77.9583,
          7.75,
          0,
          29.125,
          20.25,
          7.75,
          7.8542,
          9.5,
          8.05,
          26,
          8.6625,
          9.5,
          7.8958,
          13,
          7.75,
          78.85,
          91.0792,
          12.875,
          8.85,
          7.8958,
          27.7208,
          7.2292,
          151.55,
          30.5,
          247.5208,
          7.75,
          23.25,
          0,
          12.35,
          8.05,
          151.55,
          110.8833,
          108.9,
          24,
          56.9292,
          83.1583,
          262.375,
          26,
          7.8958,
          26.25,
          7.8542,
          26,
          14,
          164.8667,
          134.5,
          7.25,
          7.8958,
          12.35,
          29,
          69.55,
          135.6333,
          6.2375,
          13,
          20.525,
          57.9792,
          23.25,
          28.5,
          153.4625,
          18,
          133.65,
          7.8958,
          66.6,
          134.5,
          8.05,
          35.5,
          26,
          263,
          13,
          13,
          13,
          13,
          13,
          16.1,
          15.9,
          8.6625,
          9.225,
          35,
          7.2292,
          17.8,
          7.225,
          9.5,
          55,
          13,
          7.8792,
          7.8792,
          27.9,
          27.7208,
          14.4542,
          7.05,
          15.5,
          7.25,
          75.25,
          7.2292,
          7.75,
          69.3,
          55.4417,
          6.4958,
          8.05,
          135.6333,
          21.075,
          82.1708,
          7.25,
          211.5,
          4.0125,
          7.775,
          227.525,
          15.7417,
          7.925,
          52,
          7.8958,
          73.5,
          46.9,
          13,
          7.7292,
          12,
          120,
          7.7958,
          7.925,
          113.275,
          16.7,
          7.7958,
          7.8542,
          26,
          10.5,
          12.65,
          7.925,
          8.05,
          9.825,
          15.85,
          8.6625,
          21,
          7.75,
          18.75,
          7.775,
          25.4667,
          7.8958,
          6.8583,
          90,
          0,
          7.925,
          8.05,
          32.5,
          13,
          13,
          24.15,
          7.8958,
          7.7333,
          7.875,
          14.4,
          20.2125,
          7.25,
          26,
          26,
          7.75,
          8.05,
          26.55,
          16.1,
          26,
          7.125,
          55.9,
          120,
          34.375,
          18.75,
          263,
          10.5,
          26.25,
          9.5,
          7.775,
          13,
          8.1125,
          81.8583,
          19.5,
          26.55,
          19.2583,
          30.5,
          27.75,
          19.9667,
          27.75,
          89.1042,
          8.05,
          7.8958,
          26.55,
          51.8625,
          10.5,
          7.75,
          26.55,
          8.05,
          38.5,
          13,
          8.05,
          7.05,
          0,
          26.55,
          7.725,
          19.2583,
          7.25,
          8.6625,
          27.75,
          13.7917,
          9.8375,
          52,
          21,
          7.0458,
          7.5208,
          12.2875,
          46.9,
          0,
          8.05,
          9.5875,
          91.0792,
          25.4667,
          90,
          29.7,
          8.05,
          15.9,
          19.9667,
          7.25,
          30.5,
          49.5042,
          8.05,
          14.4583,
          78.2667,
          15.1,
          151.55,
          7.7958,
          8.6625,
          7.75,
          7.6292,
          9.5875,
          86.5,
          108.9,
          26,
          26.55,
          22.525,
          56.4958,
          7.75,
          8.05,
          26.2875,
          59.4,
          7.4958,
          34.0208,
          10.5,
          24.15,
          26,
          7.8958,
          93.5,
          7.8958,
          7.225,
          57.9792,
          7.2292,
          7.75,
          10.5,
          221.7792,
          7.925,
          11.5,
          26,
          7.2292,
          7.2292,
          22.3583,
          8.6625,
          26.25,
          26.55,
          106.425,
          14.5,
          49.5,
          71,
          31.275,
          31.275,
          26,
          106.425,
          26,
          26,
          13.8625,
          20.525,
          36.75,
          110.8833,
          26,
          7.8292,
          7.225,
          7.775,
          26.55,
          39.6,
          227.525,
          79.65,
          17.4,
          7.75,
          7.8958,
          13.5,
          8.05,
          8.05,
          24.15,
          7.8958,
          21.075,
          7.2292,
          7.8542,
          10.5,
          51.4792,
          26.3875,
          7.75,
          8.05,
          14.5,
          13,
          55.9,
          14.4583,
          7.925,
          30,
          110.8833,
          26,
          40.125,
          8.7125,
          79.65,
          15,
          79.2,
          8.05,
          8.05,
          7.125,
          78.2667,
          7.25,
          7.75,
          26,
          24.15,
          33,
          0,
          7.225,
          56.9292,
          27,
          7.8958,
          42.4,
          8.05,
          26.55,
          15.55,
          7.8958,
          30.5,
          41.5792,
          153.4625,
          31.275,
          7.05,
          15.5,
          7.75,
          8.05,
          65,
          14.4,
          16.1,
          39,
          10.5,
          14.4542,
          52.5542,
          15.7417,
          7.8542,
          16.1,
          32.3208,
          12.35,
          77.9583,
          7.8958,
          7.7333,
          30,
          7.0542,
          30.5,
          0,
          27.9,
          13,
          7.925,
          26.25,
          39.6875,
          16.1,
          7.8542,
          69.3,
          27.9,
          56.4958,
          19.2583,
          76.7292,
          7.8958,
          35.5,
          7.55,
          7.55,
          7.8958,
          23,
          8.4333,
          7.8292,
          6.75,
          73.5,
          7.8958,
          15.5,
          13,
          113.275,
          133.65,
          7.225,
          25.5875,
          7.4958,
          7.925,
          73.5,
          13,
          7.775,
          8.05,
          52,
          39,
          52,
          10.5,
          13,
          0,
          7.775,
          8.05,
          9.8417,
          46.9,
          512.3292,
          8.1375,
          76.7292,
          9.225,
          46.9,
          39,
          41.5792,
          39.6875,
          10.1708,
          7.7958,
          211.3375,
          57,
          13.4167,
          56.4958,
          7.225,
          26.55,
          13.5,
          8.05,
          7.7333,
          110.8833,
          7.65,
          227.525,
          26.2875,
          14.4542,
          7.7417,
          7.8542,
          26,
          13.5,
          26.2875,
          151.55,
          15.2458,
          49.5042,
          26.55,
          52,
          9.4833,
          13,
          7.65,
          227.525,
          10.5,
          15.5,
          7.775,
          33,
          7.0542,
          13,
          13,
          53.1,
          8.6625,
          21,
          7.7375,
          26,
          7.925,
          211.3375,
          18.7875,
          0,
          13,
          13,
          16.1,
          34.375,
          512.3292,
          7.8958,
          7.8958,
          30,
          78.85,
          262.375,
          16.1,
          7.925,
          71,
          20.25,
          13,
          53.1,
          7.75,
          23,
          12.475,
          9.5,
          7.8958,
          65,
          14.5,
          7.7958,
          11.5,
          8.05,
          86.5,
          14.5,
          7.125,
          7.2292,
          120,
          7.775,
          77.9583,
          39.6,
          7.75,
          24.15,
          8.3625,
          9.5,
          7.8542,
          10.5,
          7.225,
          23,
          7.75,
          7.75,
          12.475,
          7.7375,
          211.3375,
          7.2292,
          57,
          30,
          23.45,
          7.05,
          7.25,
          7.4958,
          29.125,
          20.575,
          79.2,
          7.75,
          26,
          69.55,
          30.6958,
          7.8958,
          13,
          25.9292,
          8.6833,
          7.2292,
          24.15,
          13,
          26.25,
          120,
          8.5167,
          6.975,
          7.775,
          0,
          7.775,
          13,
          53.1,
          7.8875,
          24.15,
          10.5,
          31.275,
          8.05,
          0,
          7.925,
          37.0042,
          6.45,
          27.9,
          93.5,
          8.6625,
          0,
          12.475,
          39.6875,
          6.95,
          56.4958,
          37.0042,
          7.75,
          80,
          14.4542,
          18.75,
          7.2292,
          7.8542,
          8.3,
          83.1583,
          8.6625,
          8.05,
          56.4958,
          29.7,
          7.925,
          10.5,
          31,
          6.4375,
          8.6625,
          7.55,
          69.55,
          7.8958,
          33,
          89.1042,
          31.275,
          7.775,
          15.2458,
          39.4,
          26,
          9.35,
          164.8667,
          26.55,
          19.2583,
          7.2292,
          14.1083,
          11.5,
          25.9292,
          69.55,
          13,
          13,
          13.8583,
          50.4958,
          9.5,
          11.1333,
          7.8958,
          52.5542,
          5,
          9,
          24,
          7.225,
          9.8458,
          7.8958,
          7.8958,
          83.1583,
          26,
          7.8958,
          10.5167,
          10.5,
          7.05,
          29.125,
          13,
          30,
          23.45,
          30,
          7.75,
          7.8292,
          7,
          9.6875,
          8.6625,
          12.2875,
          9.225,
          7.6292,
          29,
          7.2292,
          24.15,
          7.8958,
          26,
          82.2667,
          26,
          61.175,
          27.7208,
          12.35,
          7.225,
          7.925,
          7.225,
          59.4,
          3.1708,
          31.6833,
          61.3792,
          262.375,
          14.5,
          61.9792,
          7.225,
          30.5,
          21.6792,
          26,
          31.5,
          20.575,
          23.45,
          57.75,
          7.2292,
          8.05,
          8.6625,
          9.5,
          56.4958,
          13.4167,
          26.55,
          7.85,
          13,
          52.5542,
          7.925,
          29.7,
          7.75,
          76.2917,
          15.9,
          60,
          15.0333,
          23,
          263,
          15.5792,
          29.125,
          7.8958,
          7.65,
          16.1,
          262.375,
          7.8958,
          13.5,
          7.75,
          7.725,
          262.375,
          21,
          7.8792,
          42.4,
          28.5375,
          263,
          7.75,
          7.8958,
          7.925,
          27.7208,
          211.5,
          211.5,
          8.05,
          25.7,
          13,
          7.75,
          15.2458,
          221.7792,
          26,
          7.8958,
          10.7083,
          14.4542,
          7.8792,
          8.05,
          7.75,
          23,
          13.9,
          7.775,
          52,
          8.05,
          26,
          7.7958,
          78.85,
          7.925,
          7.8542,
          8.05,
          55.4417,
          26,
          7.75,
          7.775,
          8.5167,
          22.525,
          7.8208,
          7.75,
          8.7125,
          13,
          15.0458,
          7.7792,
          31.6792,
          7.2833,
          221.7792,
          14.4542,
          6.4375,
          16.7,
          75.2417,
          26,
          15.75,
          7.75,
          57.75,
          7.25,
          7.75,
          16.1,
          7.7958,
          23.25,
          13,
          8.05,
          8.05,
          28.5,
          25.4667,
          6.4375,
          7.8958,
          7.8542,
          7.225,
          13,
          8.05,
          46.9,
          46.9,
          151.55,
          262.375,
          26,
          26.55,
          18,
          51.8625,
          8.05,
          26.55,
          26,
          83.1583,
          7.8958,
          null,
          12.1833,
          31.3875,
          7.55,
          221.7792,
          7.8542,
          26.55,
          13.775,
          7.7333,
          15.2458,
          13.5,
          7,
          13,
          22.025,
          50.4958,
          34.375,
          27.7208,
          8.9625,
          7.55,
          7.225,
          13.9,
          7.2292,
          31.3875,
          39,
          36.75,
          55.4417,
          39,
          83.1583,
          13,
          83.1583,
          53.1,
          7.75,
          247.5208,
          16,
          21,
          8.05,
          69.55,
          13,
          26,
          26,
          14.5,
          12.35,
          32.5,
          7.8542,
          134.5,
          7.775,
          10.5,
          8.1125,
          15.5,
          14.4,
          227.525,
          26,
          10.5,
          25.7417,
          7.75,
          10.5,
          27.7208,
          7.8958,
          22.525,
          7.05,
          73.5,
          26,
          7.775,
          42.5,
          7.8792,
          164.8667,
          211.5,
          8.05,
          13.8583,
          8.05,
          10.5,
          7.7958,
          27.4458,
          15.2458,
          7.7958,
          7.75,
          15.1,
          13,
          65,
          26.55,
          6.4958,
          7.8792,
          71.2833,
          7.8542,
          75.25,
          7.225,
          13,
          106.425,
          27.7208,
          30,
          134.5,
          7.8875,
          23.45,
          51.8625,
          21,
          32.5,
          26,
          14.4542,
          27.75,
          7.925,
          136.7792,
          9.325,
          9.5,
          7.55,
          7.75,
          8.05,
          13,
          7.775,
          17.4,
          7.8542,
          23,
          12.1833,
          12.7375,
          7.8958,
          0,
          7.55,
          8.05,
          8.6625,
          75.2417,
          7.75,
          136.7792,
          15.5,
          7.225,
          26,
          10.5,
          26,
          21,
          10.5,
          8.6625,
          13.775,
          7.75,
          15.2458,
          20.2125,
          7.25,
          7.25,
          82.2667,
          7.2292,
          8.05,
          39.6,
          6.95,
          7.2292,
          81.8583,
          9.5,
          7.8958,
          41.5792,
          21.6792,
          45.5,
          7.8542,
          7.775,
          15.0458,
          21,
          8.6625,
          7.75,
          26.55,
          151.55,
          9.35,
          93.5,
          14.1083,
          8.6625,
          7.225,
          7.575,
          7.75,
          135.6333,
          7.7333,
          146.5208,
          10.5,
          7.8542,
          31.5,
          7.775,
          7.2292,
          13,
          26.55,
          211.3375,
          7.05,
          39,
          79.2,
          26,
          13,
          36.75,
          29.7,
          7.225,
          15.7417,
          7.8958,
          26,
          13,
          7.2292,
          31.5,
          7.2292,
          10.5,
          7.5792,
          69.55,
          512.3292,
          14.5,
          7.65,
          13,
          7.2292,
          13.5,
          21,
          63.3583,
          10.5,
          73.5,
          65,
          20.575,
          26,
          51.4792,
          7.8792,
          7.75,
          15.55,
          69.55,
          37.0042,
          21,
          8.6625,
          55.4417,
          69.55,
          14.4583,
          39.6875,
          59.4,
          13.8583,
          11.5,
          134.5,
          0,
          13,
          81.8583,
          262.375,
          8.6625,
          11.5,
          50,
          31.3875,
          7.75,
          7.8792,
          14.5,
          16.1,
          12.875,
          65,
          7.775,
          13,
          7.75,
          21.075,
          93.5,
          39.4,
          20.25,
          10.5,
          22.025,
          60,
          7.25,
          79.2,
          7.775,
          7.7333,
          164.8667,
          21,
          59.4,
          47.1,
          27.7208,
          13.8625,
          10.5,
          211.5,
          7.7208,
          13.775,
          7.75,
          90,
          7.775,
          8.05,
          108.9,
          7.25,
          8.05,
          22.3583
         ],
         "xaxis": "x",
         "yaxis": "y"
        }
       ],
       "layout": {
        "barmode": "relative",
        "legend": {
         "title": {
          "text": "variable"
         },
         "tracegroupgap": 0
        },
        "template": {
         "data": {
          "bar": [
           {
            "error_x": {
             "color": "#2a3f5f"
            },
            "error_y": {
             "color": "#2a3f5f"
            },
            "marker": {
             "line": {
              "color": "#E5ECF6",
              "width": 0.5
             },
             "pattern": {
              "fillmode": "overlay",
              "size": 10,
              "solidity": 0.2
             }
            },
            "type": "bar"
           }
          ],
          "barpolar": [
           {
            "marker": {
             "line": {
              "color": "#E5ECF6",
              "width": 0.5
             },
             "pattern": {
              "fillmode": "overlay",
              "size": 10,
              "solidity": 0.2
             }
            },
            "type": "barpolar"
           }
          ],
          "carpet": [
           {
            "aaxis": {
             "endlinecolor": "#2a3f5f",
             "gridcolor": "white",
             "linecolor": "white",
             "minorgridcolor": "white",
             "startlinecolor": "#2a3f5f"
            },
            "baxis": {
             "endlinecolor": "#2a3f5f",
             "gridcolor": "white",
             "linecolor": "white",
             "minorgridcolor": "white",
             "startlinecolor": "#2a3f5f"
            },
            "type": "carpet"
           }
          ],
          "choropleth": [
           {
            "colorbar": {
             "outlinewidth": 0,
             "ticks": ""
            },
            "type": "choropleth"
           }
          ],
          "contour": [
           {
            "colorbar": {
             "outlinewidth": 0,
             "ticks": ""
            },
            "colorscale": [
             [
              0,
              "#0d0887"
             ],
             [
              0.1111111111111111,
              "#46039f"
             ],
             [
              0.2222222222222222,
              "#7201a8"
             ],
             [
              0.3333333333333333,
              "#9c179e"
             ],
             [
              0.4444444444444444,
              "#bd3786"
             ],
             [
              0.5555555555555556,
              "#d8576b"
             ],
             [
              0.6666666666666666,
              "#ed7953"
             ],
             [
              0.7777777777777778,
              "#fb9f3a"
             ],
             [
              0.8888888888888888,
              "#fdca26"
             ],
             [
              1,
              "#f0f921"
             ]
            ],
            "type": "contour"
           }
          ],
          "contourcarpet": [
           {
            "colorbar": {
             "outlinewidth": 0,
             "ticks": ""
            },
            "type": "contourcarpet"
           }
          ],
          "heatmap": [
           {
            "colorbar": {
             "outlinewidth": 0,
             "ticks": ""
            },
            "colorscale": [
             [
              0,
              "#0d0887"
             ],
             [
              0.1111111111111111,
              "#46039f"
             ],
             [
              0.2222222222222222,
              "#7201a8"
             ],
             [
              0.3333333333333333,
              "#9c179e"
             ],
             [
              0.4444444444444444,
              "#bd3786"
             ],
             [
              0.5555555555555556,
              "#d8576b"
             ],
             [
              0.6666666666666666,
              "#ed7953"
             ],
             [
              0.7777777777777778,
              "#fb9f3a"
             ],
             [
              0.8888888888888888,
              "#fdca26"
             ],
             [
              1,
              "#f0f921"
             ]
            ],
            "type": "heatmap"
           }
          ],
          "heatmapgl": [
           {
            "colorbar": {
             "outlinewidth": 0,
             "ticks": ""
            },
            "colorscale": [
             [
              0,
              "#0d0887"
             ],
             [
              0.1111111111111111,
              "#46039f"
             ],
             [
              0.2222222222222222,
              "#7201a8"
             ],
             [
              0.3333333333333333,
              "#9c179e"
             ],
             [
              0.4444444444444444,
              "#bd3786"
             ],
             [
              0.5555555555555556,
              "#d8576b"
             ],
             [
              0.6666666666666666,
              "#ed7953"
             ],
             [
              0.7777777777777778,
              "#fb9f3a"
             ],
             [
              0.8888888888888888,
              "#fdca26"
             ],
             [
              1,
              "#f0f921"
             ]
            ],
            "type": "heatmapgl"
           }
          ],
          "histogram": [
           {
            "marker": {
             "pattern": {
              "fillmode": "overlay",
              "size": 10,
              "solidity": 0.2
             }
            },
            "type": "histogram"
           }
          ],
          "histogram2d": [
           {
            "colorbar": {
             "outlinewidth": 0,
             "ticks": ""
            },
            "colorscale": [
             [
              0,
              "#0d0887"
             ],
             [
              0.1111111111111111,
              "#46039f"
             ],
             [
              0.2222222222222222,
              "#7201a8"
             ],
             [
              0.3333333333333333,
              "#9c179e"
             ],
             [
              0.4444444444444444,
              "#bd3786"
             ],
             [
              0.5555555555555556,
              "#d8576b"
             ],
             [
              0.6666666666666666,
              "#ed7953"
             ],
             [
              0.7777777777777778,
              "#fb9f3a"
             ],
             [
              0.8888888888888888,
              "#fdca26"
             ],
             [
              1,
              "#f0f921"
             ]
            ],
            "type": "histogram2d"
           }
          ],
          "histogram2dcontour": [
           {
            "colorbar": {
             "outlinewidth": 0,
             "ticks": ""
            },
            "colorscale": [
             [
              0,
              "#0d0887"
             ],
             [
              0.1111111111111111,
              "#46039f"
             ],
             [
              0.2222222222222222,
              "#7201a8"
             ],
             [
              0.3333333333333333,
              "#9c179e"
             ],
             [
              0.4444444444444444,
              "#bd3786"
             ],
             [
              0.5555555555555556,
              "#d8576b"
             ],
             [
              0.6666666666666666,
              "#ed7953"
             ],
             [
              0.7777777777777778,
              "#fb9f3a"
             ],
             [
              0.8888888888888888,
              "#fdca26"
             ],
             [
              1,
              "#f0f921"
             ]
            ],
            "type": "histogram2dcontour"
           }
          ],
          "mesh3d": [
           {
            "colorbar": {
             "outlinewidth": 0,
             "ticks": ""
            },
            "type": "mesh3d"
           }
          ],
          "parcoords": [
           {
            "line": {
             "colorbar": {
              "outlinewidth": 0,
              "ticks": ""
             }
            },
            "type": "parcoords"
           }
          ],
          "pie": [
           {
            "automargin": true,
            "type": "pie"
           }
          ],
          "scatter": [
           {
            "fillpattern": {
             "fillmode": "overlay",
             "size": 10,
             "solidity": 0.2
            },
            "type": "scatter"
           }
          ],
          "scatter3d": [
           {
            "line": {
             "colorbar": {
              "outlinewidth": 0,
              "ticks": ""
             }
            },
            "marker": {
             "colorbar": {
              "outlinewidth": 0,
              "ticks": ""
             }
            },
            "type": "scatter3d"
           }
          ],
          "scattercarpet": [
           {
            "marker": {
             "colorbar": {
              "outlinewidth": 0,
              "ticks": ""
             }
            },
            "type": "scattercarpet"
           }
          ],
          "scattergeo": [
           {
            "marker": {
             "colorbar": {
              "outlinewidth": 0,
              "ticks": ""
             }
            },
            "type": "scattergeo"
           }
          ],
          "scattergl": [
           {
            "marker": {
             "colorbar": {
              "outlinewidth": 0,
              "ticks": ""
             }
            },
            "type": "scattergl"
           }
          ],
          "scattermapbox": [
           {
            "marker": {
             "colorbar": {
              "outlinewidth": 0,
              "ticks": ""
             }
            },
            "type": "scattermapbox"
           }
          ],
          "scatterpolar": [
           {
            "marker": {
             "colorbar": {
              "outlinewidth": 0,
              "ticks": ""
             }
            },
            "type": "scatterpolar"
           }
          ],
          "scatterpolargl": [
           {
            "marker": {
             "colorbar": {
              "outlinewidth": 0,
              "ticks": ""
             }
            },
            "type": "scatterpolargl"
           }
          ],
          "scatterternary": [
           {
            "marker": {
             "colorbar": {
              "outlinewidth": 0,
              "ticks": ""
             }
            },
            "type": "scatterternary"
           }
          ],
          "surface": [
           {
            "colorbar": {
             "outlinewidth": 0,
             "ticks": ""
            },
            "colorscale": [
             [
              0,
              "#0d0887"
             ],
             [
              0.1111111111111111,
              "#46039f"
             ],
             [
              0.2222222222222222,
              "#7201a8"
             ],
             [
              0.3333333333333333,
              "#9c179e"
             ],
             [
              0.4444444444444444,
              "#bd3786"
             ],
             [
              0.5555555555555556,
              "#d8576b"
             ],
             [
              0.6666666666666666,
              "#ed7953"
             ],
             [
              0.7777777777777778,
              "#fb9f3a"
             ],
             [
              0.8888888888888888,
              "#fdca26"
             ],
             [
              1,
              "#f0f921"
             ]
            ],
            "type": "surface"
           }
          ],
          "table": [
           {
            "cells": {
             "fill": {
              "color": "#EBF0F8"
             },
             "line": {
              "color": "white"
             }
            },
            "header": {
             "fill": {
              "color": "#C8D4E3"
             },
             "line": {
              "color": "white"
             }
            },
            "type": "table"
           }
          ]
         },
         "layout": {
          "annotationdefaults": {
           "arrowcolor": "#2a3f5f",
           "arrowhead": 0,
           "arrowwidth": 1
          },
          "autotypenumbers": "strict",
          "coloraxis": {
           "colorbar": {
            "outlinewidth": 0,
            "ticks": ""
           }
          },
          "colorscale": {
           "diverging": [
            [
             0,
             "#8e0152"
            ],
            [
             0.1,
             "#c51b7d"
            ],
            [
             0.2,
             "#de77ae"
            ],
            [
             0.3,
             "#f1b6da"
            ],
            [
             0.4,
             "#fde0ef"
            ],
            [
             0.5,
             "#f7f7f7"
            ],
            [
             0.6,
             "#e6f5d0"
            ],
            [
             0.7,
             "#b8e186"
            ],
            [
             0.8,
             "#7fbc41"
            ],
            [
             0.9,
             "#4d9221"
            ],
            [
             1,
             "#276419"
            ]
           ],
           "sequential": [
            [
             0,
             "#0d0887"
            ],
            [
             0.1111111111111111,
             "#46039f"
            ],
            [
             0.2222222222222222,
             "#7201a8"
            ],
            [
             0.3333333333333333,
             "#9c179e"
            ],
            [
             0.4444444444444444,
             "#bd3786"
            ],
            [
             0.5555555555555556,
             "#d8576b"
            ],
            [
             0.6666666666666666,
             "#ed7953"
            ],
            [
             0.7777777777777778,
             "#fb9f3a"
            ],
            [
             0.8888888888888888,
             "#fdca26"
            ],
            [
             1,
             "#f0f921"
            ]
           ],
           "sequentialminus": [
            [
             0,
             "#0d0887"
            ],
            [
             0.1111111111111111,
             "#46039f"
            ],
            [
             0.2222222222222222,
             "#7201a8"
            ],
            [
             0.3333333333333333,
             "#9c179e"
            ],
            [
             0.4444444444444444,
             "#bd3786"
            ],
            [
             0.5555555555555556,
             "#d8576b"
            ],
            [
             0.6666666666666666,
             "#ed7953"
            ],
            [
             0.7777777777777778,
             "#fb9f3a"
            ],
            [
             0.8888888888888888,
             "#fdca26"
            ],
            [
             1,
             "#f0f921"
            ]
           ]
          },
          "colorway": [
           "#636efa",
           "#EF553B",
           "#00cc96",
           "#ab63fa",
           "#FFA15A",
           "#19d3f3",
           "#FF6692",
           "#B6E880",
           "#FF97FF",
           "#FECB52"
          ],
          "font": {
           "color": "#2a3f5f"
          },
          "geo": {
           "bgcolor": "white",
           "lakecolor": "white",
           "landcolor": "#E5ECF6",
           "showlakes": true,
           "showland": true,
           "subunitcolor": "white"
          },
          "hoverlabel": {
           "align": "left"
          },
          "hovermode": "closest",
          "mapbox": {
           "style": "light"
          },
          "paper_bgcolor": "white",
          "plot_bgcolor": "#E5ECF6",
          "polar": {
           "angularaxis": {
            "gridcolor": "white",
            "linecolor": "white",
            "ticks": ""
           },
           "bgcolor": "#E5ECF6",
           "radialaxis": {
            "gridcolor": "white",
            "linecolor": "white",
            "ticks": ""
           }
          },
          "scene": {
           "xaxis": {
            "backgroundcolor": "#E5ECF6",
            "gridcolor": "white",
            "gridwidth": 2,
            "linecolor": "white",
            "showbackground": true,
            "ticks": "",
            "zerolinecolor": "white"
           },
           "yaxis": {
            "backgroundcolor": "#E5ECF6",
            "gridcolor": "white",
            "gridwidth": 2,
            "linecolor": "white",
            "showbackground": true,
            "ticks": "",
            "zerolinecolor": "white"
           },
           "zaxis": {
            "backgroundcolor": "#E5ECF6",
            "gridcolor": "white",
            "gridwidth": 2,
            "linecolor": "white",
            "showbackground": true,
            "ticks": "",
            "zerolinecolor": "white"
           }
          },
          "shapedefaults": {
           "line": {
            "color": "#2a3f5f"
           }
          },
          "ternary": {
           "aaxis": {
            "gridcolor": "white",
            "linecolor": "white",
            "ticks": ""
           },
           "baxis": {
            "gridcolor": "white",
            "linecolor": "white",
            "ticks": ""
           },
           "bgcolor": "#E5ECF6",
           "caxis": {
            "gridcolor": "white",
            "linecolor": "white",
            "ticks": ""
           }
          },
          "title": {
           "x": 0.05
          },
          "xaxis": {
           "automargin": true,
           "gridcolor": "white",
           "linecolor": "white",
           "ticks": "",
           "title": {
            "standoff": 15
           },
           "zerolinecolor": "white",
           "zerolinewidth": 2
          },
          "yaxis": {
           "automargin": true,
           "gridcolor": "white",
           "linecolor": "white",
           "ticks": "",
           "title": {
            "standoff": 15
           },
           "zerolinecolor": "white",
           "zerolinewidth": 2
          }
         }
        },
        "title": {
         "text": "Fare"
        },
        "xaxis": {
         "anchor": "y",
         "domain": [
          0,
          1
         ],
         "title": {
          "text": "value"
         }
        },
        "yaxis": {
         "anchor": "x",
         "domain": [
          0,
          1
         ],
         "title": {
          "text": "count"
         }
        }
       }
      }
     },
     "metadata": {},
     "output_type": "display_data"
    },
    {
     "data": {
      "application/vnd.plotly.v1+json": {
       "config": {
        "plotlyServerURL": "https://plot.ly"
       },
       "data": [
        {
         "alignmentgroup": "True",
         "bingroup": "x",
         "hovertemplate": "variable=0<br>value=%{x}<br>count=%{y}<extra></extra>",
         "legendgroup": "0",
         "marker": {
          "color": "#636efa",
          "pattern": {
           "shape": ""
          }
         },
         "name": "0",
         "offsetgroup": "0",
         "orientation": "v",
         "showlegend": true,
         "type": "histogram",
         "x": [
          -0.89765485839414,
          1.3437829824661556,
          -0.8164369666035423,
          1.0445373827684135,
          -0.8020731765945291,
          -0.756500530254731,
          1.0206398000581522,
          0.11880131717345953,
          -0.49928523128640534,
          0.47181526802174784,
          -0.10931140482994556,
          0.347611843111758,
          -0.8020731765945291,
          0.5110846487977208,
          -0.8246621250056464,
          -0.15098379585968283,
          0.43989009875069424,
          -0.35149644978013467,
          -0.03611664974445992,
          -0.9007891243918247,
          0.32678595244781106,
          -0.35149644978013467,
          -0.8044494983821748,
          0.6381316073008532,
          0.11880131717345953,
          0.514678179847421,
          -0.9007891243918247,
          2.6815487303213184,
          -0.8217502735340512,
          -0.8198213298993995,
          0.3905935084971427,
          2.0805148725979374,
          -0.8368879290173904,
          -0.5546470102524386,
          1.4886796930479902,
          1.0233225594813138,
          -0.9002619024692602,
          -0.8020731765945291,
          -0.03611664974445992,
          -0.49009961174553945,
          -0.6510590274893523,
          0.1152866007230175,
          -0.8198213298993995,
          0.7972289104862824,
          -0.8217502735340512,
          -0.8020731765945291,
          -0.18181414065104826,
          -0.8368879290173904,
          0.14668783208519015,
          -0.047045215784774344,
          0.7502960982840425,
          -0.8310033555259098,
          1.4187990064027005,
          0.32678595244781106,
          1.2014831963231893,
          0.6381316073008532,
          -0.5546470102524386,
          -0.9002619024692602,
          0.3916429459964887,
          0.9188336495278178,
          -0.9002619024692602,
          1.4613666465599293,
          1.5047484104235382,
          0.39701714643406616,
          0.3905935084971427,
          -0.19784842561560204,
          -0.5546470102524386,
          -0.7897878951480188,
          -0.8164369666035423,
          -0.7344414641191619,
          -0.5546470102524386,
          0.9188336495278178,
          1.3749779275643326,
          -0.24943750202424797,
          1.1074082260733904,
          -0.8487586327422224,
          -0.8198213298993995,
          -0.8020731765945291,
          0.43559595595868594,
          -0.3909690195107353,
          -0.6989847381534318,
          -0.6485971911542,
          -0.8324713584078532,
          0.9231367384765021,
          -0.5546470102524386,
          -0.16013664620044818,
          0.6057997192031446,
          -0.8020731765945291,
          2.6815487303213184,
          -0.8020731765945291,
          -0.8020731765945291,
          -0.8246621250056464,
          1.1882109158697278,
          0.0951407209263697,
          -0.89765485839414,
          -0.8020731765945291,
          0.6139187027248391,
          1.223853781920326,
          0.2051467174528504,
          0.32678595244781106,
          -0.8198213298993995,
          -0.8198213298993995,
          1.4261902808158198,
          -0.7353289595311131,
          -0.8164369666035423,
          -0.8198213298993995,
          -0.8487586327422224,
          -0.8339414509743195,
          -0.8198213298993995,
          0.25348314192371696,
          1.0233225594813138,
          -0.24943750202424797,
          -0.8020731765945291,
          -0.6171161649256502,
          -0.24916355242946245,
          -0.8164369666035423,
          -0.8368879290173904,
          0.1152866007230175,
          2.6191479456923923,
          0.5110846487977208,
          1.3749779275643326,
          -0.8020731765945291,
          0.47181526802174784,
          -0.35149644978013467,
          1.4261902808158198,
          -0.49009961174553945,
          -0.8368879290173904,
          -0.9113016861948348,
          0.17715797097251948,
          -0.9326663419069485,
          -0.8198213298993995,
          -0.9229994396222323,
          -0.24638140496411706,
          0.32678595244781106,
          -0.35149644978013467,
          -0.2106412641151178,
          0.3375656160590555,
          1.0445373827684135,
          -0.6768443000260063,
          1.4511160427664747,
          -0.19784842561560204,
          -0.8368879290173904,
          -0.16013664620044818,
          -0.9622221227072089,
          -0.4685354996475963,
          0.6729072785387347,
          -0.8314963717533397,
          0.6057997192031446,
          0.32678595244781106,
          -0.35149644978013467,
          -0.3871440527177695,
          1.2746047614608564,
          -0.8020731765945291,
          -0.24638140496411706,
          -0.8898605583515098,
          1.1915971632549536,
          -0.8388608701440298,
          -0.8020731765945291,
          -0.7344414641191619,
          1.3187168968380085,
          -0.1449266532553343,
          -0.16628392538382433,
          -0.8339414509743195,
          -0.7344414641191619,
          0.7502960982840425,
          0.09274457169934618,
          1.0801849857060493,
          0.39701714643406616,
          0.32391323890272194,
          1.1074082260733904,
          0.5799336838596796,
          0.43989009875069424,
          -0.49928523128640534,
          -0.8164369666035423,
          0.49238301401308104,
          -0.8246621250056464,
          0.30618328088189595,
          0.425651136959579,
          -0.35149644978013467,
          -3.0769561298885426,
          1.3187168968380085,
          -0.21037097906787272,
          0.514678179847421,
          0.7326966973327512,
          0.16231564117356856,
          0.9835968982524349,
          -0.18181414065104826,
          0.347611843111758,
          -0.18181414065104826,
          -0.8198213298993995,
          -0.35149644978013467,
          -0.35149644978013467,
          -0.8246621250056464,
          0.32678595244781106,
          0.3905935084971427,
          2.0805148725979374,
          -0.8368879290173904,
          -0.7624245996283057,
          -0.8368879290173904,
          -0.35149644978013467,
          -0.6485971911542,
          1.3187168968380085,
          -0.9966639758395776,
          -0.9007891243918247,
          -0.8020731765945291,
          -0.558020142876273,
          -0.16013664620044818,
          0.005824409092233192,
          -0.8368879290173904,
          0.5022474588269157,
          -0.9229994396222323,
          0.1152866007230175,
          -0.89765485839414,
          -0.35149644978013467,
          -0.8368879290173904,
          1.8167930205456748,
          -0.8164369666035423,
          0.36434426796295705,
          1.4129697938836199,
          -0.5546470102524386,
          -0.8020731765945291,
          -0.35149644978013467,
          -0.8020731765945291,
          -0.8198213298993995,
          1.5815882562759367,
          -0.6634570137633135,
          -0.5546470102524386,
          -0.89765485839414,
          -0.35149644978013467,
          0.30618328088189595,
          1.5047484104235382,
          -0.8339414509743195,
          -0.31525624529721435,
          0.514678179847421,
          -0.5546470102524386,
          -0.860767370998426,
          0.32678595244781106,
          0.33630435949113124,
          -0.5546470102524386,
          -0.40641214620401084,
          -0.24943750202424797,
          -0.18181414065104826,
          -0.5546470102524386,
          -0.9134221853266355,
          -0.9007891243918247,
          1.5815882562759367,
          -0.8339414509743195,
          -0.24638140496411706,
          1.0340654412795942,
          0.32678595244781106,
          -0.89765485839414,
          -0.558020142876273,
          0.347611843111758,
          -0.1449266532553343,
          0.07764135058485108,
          -0.19784842561560204,
          1.4511160427664747,
          1.5410834627177203,
          3.3682879451101964,
          0.32678595244781106,
          -0.8368879290173904,
          0.514678179847421,
          1.4568945214305549,
          -3.0769561298885426,
          -0.8368879290173904,
          -0.5546470102524386,
          0.7502960982840425,
          -0.8339414509743195,
          2.128002487610446,
          2.0013362696247716,
          0.5022474588269157,
          -3.0769561298885426,
          0.042357024700114355,
          0.45941638254763384,
          -0.8368879290173904,
          1.4350015316873315,
          -0.8368879290173904,
          -3.0769561298885426,
          0.43989009875069424,
          0.07946544264615271,
          -0.8368879290173904,
          -0.8246621250056464,
          -0.6485971911542,
          -0.8020731765945291,
          0.32678595244781106,
          -0.7344414641191619,
          -0.6485971911542,
          -0.8198213298993995,
          -0.35149644978013467,
          -0.8368879290173904,
          1.446599210215005,
          1.5937638148251334,
          -0.36075875270470786,
          -0.7145931942520546,
          -0.8198213298993995,
          0.3905935084971427,
          -0.9002619024692602,
          2.1151356465612308,
          0.48598350295791776,
          2.6191479456923923,
          -0.8368879290173904,
          0.2158487806183554,
          -3.0769561298885426,
          -0.40059387811870745,
          -0.8020731765945291,
          2.1151356465612308,
          1.7949490643981245,
          1.7764779932918948,
          0.24730521809549502,
          1.1151637652723463,
          1.500869353367206,
          2.679100898282807,
          0.32678595244781106,
          -0.8198213298993995,
          0.33630435949113124,
          -0.8246621250056464,
          0.32678595244781106,
          -0.2802447617844058,
          2.201567754337062,
          1.9927345230377613,
          -0.89765485839414,
          -0.8198213298993995,
          -0.40059387811870745,
          0.43559595595868594,
          1.3187168968380085,
          2.0013362696247716,
          -1.0328790857492405,
          -0.35149644978013467,
          0.09274457169934618,
          1.1337151440418014,
          0.2158487806183554,
          0.41823857504995576,
          2.128002487610446,
          -0.03611664974445992,
          1.9862356759355957,
          -0.8198213298993995,
          1.2746047614608564,
          1.9927345230377613,
          -0.8020731765945291,
          0.6381316073008532,
          0.32678595244781106,
          2.6815487303213184,
          -0.35149644978013467,
          -0.35149644978013467,
          -0.35149644978013467,
          -0.35149644978013467,
          -0.35149644978013467,
          -0.1449266532553343,
          -0.15707667402532696,
          -0.7344414641191619,
          -0.676005647540591,
          0.6238866938218763,
          -0.9002619024692602,
          -0.047045215784774344,
          -0.9007891243918247,
          -0.6485971911542,
          1.0801849857060493,
          -0.35149644978013467,
          -0.8217502735340512,
          -0.8217502735340512,
          0.39701714643406616,
          0.3905935084971427,
          -0.24943750202424797,
          -0.9229994396222323,
          -0.18181414065104826,
          -0.89765485839414,
          1.398956381084062,
          -0.9002619024692602,
          -0.8368879290173904,
          1.3150507948214216,
          1.0882987644858042,
          -0.9966639758395776,
          -0.8020731765945291,
          2.0013362696247716,
          0.11880131717345953,
          1.4886796930479902,
          -0.89765485839414,
          2.4574368343812636,
          -1.412246828205892,
          -0.8339414509743195,
          2.5325207655977877,
          -0.16679579793493268,
          -0.8164369666035423,
          1.0233225594813138,
          -0.8198213298993995,
          1.3749779275643326,
          0.9188336495278178,
          -0.35149644978013467,
          -0.8393458217234,
          -0.4280307060893794,
          1.8758478958483942,
          -0.8314963717533397,
          -0.8164369666035423,
          1.8167930205456748,
          -0.10931140482994556,
          -0.8314963717533397,
          -0.8246621250056464,
          0.32678595244781106,
          -0.5546470102524386,
          -0.3776431590901471,
          -0.8164369666035423,
          -0.8020731765945291,
          -0.6171161649256502,
          -0.16013664620044818,
          -0.7344414641191619,
          0.1152866007230175,
          -0.8368879290173904,
          0.003865369895454604,
          -0.8339414509743195,
          0.30618328088189595,
          -0.8198213298993995,
          -0.947890322177156,
          1.5815882562759367,
          -3.0769561298885426,
          -0.8164369666035423,
          -0.8020731765945291,
          0.5495567923592675,
          -0.35149644978013467,
          -0.35149644978013467,
          0.25348314192371696,
          -0.8198213298993995,
          -0.8388608701440298,
          -0.8222388911530752,
          -0.2530658286467767,
          0.07764135058485108,
          -0.89765485839414,
          0.32678595244781106,
          0.32678595244781106,
          -0.8368879290173904,
          -0.8020731765945291,
          0.347611843111758,
          -0.1449266532553343,
          0.32678595244781106,
          -0.9134221853266355,
          1.0966506288823086,
          1.8758478958483942,
          0.6057997192031446,
          0.003865369895454604,
          2.6815487303213184,
          -0.5546470102524386,
          0.33630435949113124,
          -0.6485971911542,
          -0.8339414509743195,
          -0.35149644978013467,
          -0.7949655101802209,
          1.4847920422042842,
          0.042357024700114355,
          0.347611843111758,
          0.030108420189134306,
          0.48598350295791776,
          0.3916429459964887,
          0.06560459646853635,
          0.3916429459964887,
          1.5713716416895127,
          -0.8020731765945291,
          -0.8198213298993995,
          0.347611843111758,
          1.0206398000581522,
          -0.5546470102524386,
          -0.8368879290173904,
          0.347611843111758,
          -0.8020731765945291,
          0.7197060876385464,
          -0.35149644978013467,
          -0.8020731765945291,
          -0.9229994396222323,
          -3.0769561298885426,
          0.347611843111758,
          -0.8398428376242888,
          0.030108420189134306,
          -0.89765485839414,
          -0.7344414641191619,
          0.3916429459964887,
          -0.29468658397471814,
          -0.6159243126830909,
          1.0233225594813138,
          0.1152866007230175,
          -0.9235384010262477,
          -0.8643004254697909,
          -0.4054401556818569,
          0.9188336495278178,
          -3.0769561298885426,
          -0.8020731765945291,
          -0.6400266867506753,
          1.5937638148251334,
          0.30618328088189595,
          1.5815882562759367,
          0.45941638254763384,
          -0.8020731765945291,
          -0.15707667402532696,
          0.06560459646853635,
          -0.89765485839414,
          0.48598350295791776,
          0.9735079267305335,
          -0.8020731765945291,
          -0.24916355242946245,
          1.4390274109626553,
          -0.20715872187914103,
          2.1151356465612308,
          -0.8314963717533397,
          -0.7344414641191619,
          -0.8368879290173904,
          -0.8512449746248928,
          -0.6400266867506753,
          1.5410834627177203,
          1.7764779932918948,
          0.32678595244781106,
          0.347611843111758,
          0.18450209816056107,
          1.1074082260733904,
          -0.8368879290173904,
          -0.8020731765945291,
          0.3377245841296537,
          1.158298757775991,
          -0.867334934703661,
          0.5954070667133421,
          -0.5546470102524386,
          0.25348314192371696,
          0.32678595244781106,
          -0.8198213298993995,
          1.620564197070036,
          -0.8198213298993995,
          -0.9007891243918247,
          1.1337151440418014,
          -0.9002619024692602,
          -0.8368879290173904,
          -0.5546470102524386,
          2.5062225955576634,
          -0.8164369666035423,
          -0.4685354996475963,
          0.32678595244781106,
          -0.9002619024692602,
          -0.9002619024692602,
          0.17715797097251948,
          -0.7344414641191619,
          0.33630435949113124,
          0.347611843111758,
          1.7529543153936602,
          -0.24638140496411706,
          0.9734220390667052,
          1.3397274115649682,
          0.5110846487977208,
          0.5110846487977208,
          0.32678595244781106,
          1.7529543153936602,
          0.32678595244781106,
          0.32678595244781106,
          -0.28975520018675943,
          0.09274457169934618,
          0.6729072785387347,
          1.7949490643981245,
          0.32678595244781106,
          -0.8275822097789429,
          -0.9007891243918247,
          -0.8339414509743195,
          0.347611843111758,
          0.748072760819175,
          2.5325207655977877,
          1.4568945214305549,
          -0.06925553101518239,
          -0.8368879290173904,
          -0.8198213298993995,
          -0.31525624529721435,
          -0.8020731765945291,
          -0.8020731765945291,
          0.25348314192371696,
          -0.8198213298993995,
          0.11880131717345953,
          -0.9002619024692602,
          -0.8246621250056464,
          -0.5546470102524386,
          1.0131242400690605,
          0.34150232900439076,
          -0.8368879290173904,
          -0.8020731765945291,
          -0.24638140496411706,
          -0.35149644978013467,
          1.0966506288823086,
          -0.24916355242946245,
          -0.8164369666035423,
          0.4694593127789747,
          1.7949490643981245,
          0.32678595244781106,
          0.7613415496001943,
          -0.729111182074502,
          1.4568945214305549,
          -0.21359325891617606,
          1.4511160427664747,
          -0.8020731765945291,
          -0.8020731765945291,
          -0.9134221853266355,
          1.4390274109626553,
          -0.89765485839414,
          -0.8368879290173904,
          0.32678595244781106,
          0.25348314192371696,
          0.564856921883409,
          -3.0769561298885426,
          -0.9007891243918247,
          1.1151637652723463,
          0.36434426796295705,
          -0.8198213298993995,
          0.8169476011522723,
          -0.8020731765945291,
          0.347611843111758,
          -0.1786893580748073,
          -0.8198213298993995,
          0.48598350295791776,
          0.7972289104862824,
          2.128002487610446,
          0.5110846487977208,
          -0.9229994396222323,
          -0.18181414065104826,
          -0.8368879290173904,
          -0.8020731765945291,
          1.2498672948351348,
          -0.2530658286467767,
          -0.1449266532553343,
          0.7326966973327512,
          -0.5546470102524386,
          -0.24943750202424797,
          1.0340654412795942,
          -0.16679579793493268,
          -0.8246621250056464,
          -0.1449266532553343,
          0.5440175762640052,
          -0.40059387811870745,
          1.4350015316873315,
          -0.8198213298993995,
          -0.8388608701440298,
          0.4694593127789747,
          -0.9224607593421481,
          0.48598350295791776,
          -3.0769561298885426,
          0.39701714643406616,
          -0.35149644978013467,
          -0.8164369666035423,
          0.33630435949113124,
          0.7502960982840425,
          -0.1449266532553343,
          -0.8246621250056464,
          1.3150507948214216,
          0.39701714643406616,
          1.1074082260733904,
          0.030108420189134306,
          1.4187990064027005,
          -0.8198213298993995,
          0.6381316073008532,
          -0.860767370998426,
          -0.860767370998426,
          -0.8198213298993995,
          0.2051467174528504,
          -0.7592338626786891,
          -0.8275822097789429,
          -0.9622221227072089,
          1.3749779275643326,
          -0.8198213298993995,
          -0.18181414065104826,
          -0.35149644978013467,
          1.8167930205456748,
          1.9862356759355957,
          -0.9007891243918247,
          0.31088621448191955,
          -0.867334934703661,
          -0.8164369666035423,
          1.3749779275643326,
          -0.35149644978013467,
          -0.8339414509743195,
          -0.8020731765945291,
          1.0233225594813138,
          0.7326966973327512,
          1.0233225594813138,
          -0.5546470102524386,
          -0.35149644978013467,
          -3.0769561298885426,
          -0.8339414509743195,
          -0.8020731765945291,
          -0.6155241588546105,
          0.9188336495278178,
          3.3682879451101964,
          -0.7921360841540774,
          1.4187990064027005,
          -0.676005647540591,
          0.9188336495278178,
          0.7326966973327512,
          0.7972289104862824,
          0.7502960982840425,
          -0.5846417045973916,
          -0.8314963717533397,
          2.4566467900260127,
          1.1164251901889688,
          -0.3212062650272702,
          1.1074082260733904,
          -0.9007891243918247,
          0.347611843111758,
          -0.31525624529721435,
          -0.8020731765945291,
          -0.8388608701440298,
          1.7949490643981245,
          -0.8487586327422224,
          2.5325207655977877,
          0.3377245841296537,
          -0.24943750202424797,
          -0.8378680214529846,
          -0.8246621250056464,
          0.32678595244781106,
          -0.31525624529721435,
          0.3377245841296537,
          2.1151356465612308,
          -0.19784842561560204,
          0.9735079267305335,
          0.347611843111758,
          1.0233225594813138,
          -0.6502410469057532,
          -0.35149644978013467,
          -0.8487586327422224,
          2.5325207655977877,
          -0.5546470102524386,
          -0.18181414065104826,
          -0.8339414509743195,
          0.564856921883409,
          -0.9224607593421481,
          -0.35149644978013467,
          -0.35149644978013467,
          1.0445373827684135,
          -0.7344414641191619,
          0.1152866007230175,
          -0.8383643264862136,
          0.32678595244781106,
          -0.8164369666035423,
          2.4566467900260127,
          0.005824409092233192,
          -3.0769561298885426,
          -0.35149644978013467,
          -0.35149644978013467,
          -0.1449266532553343,
          0.6057997192031446,
          3.3682879451101964,
          -0.8198213298993995,
          -0.8198213298993995,
          0.4694593127789747,
          1.446599210215005,
          2.679100898282807,
          -0.1449266532553343,
          -0.8164369666035423,
          1.3397274115649682,
          0.07946544264615271,
          -0.35149644978013467,
          1.0445373827684135,
          -0.8368879290173904,
          0.2051467174528504,
          -0.3909690195107353,
          -0.6485971911542,
          -0.8198213298993995,
          1.2498672948351348,
          -0.24638140496411706,
          -0.8314963717533397,
          -0.4685354996475963,
          -0.8020731765945291,
          1.5410834627177203,
          -0.24638140496411706,
          -0.9134221853266355,
          -0.9002619024692602,
          1.8758478958483942,
          -0.8339414509743195,
          1.4350015316873315,
          0.748072760819175,
          -0.8368879290173904,
          0.25348314192371696,
          -0.7670141463008573,
          -0.6485971911542,
          -0.8246621250056464,
          -0.5546470102524386,
          -0.9007891243918247,
          0.2051467174528504,
          -0.8368879290173904,
          -0.8368879290173904,
          -0.3909690195107353,
          -0.8383643264862136,
          2.4566467900260127,
          -0.9002619024692602,
          1.1164251901889688,
          0.4694593127789747,
          0.2243312911690128,
          -0.9229994396222323,
          -0.89765485839414,
          -0.867334934703661,
          0.43989009875069424,
          0.0951407209263697,
          1.4511160427664747,
          -0.8368879290173904,
          0.32678595244781106,
          1.3187168968380085,
          0.49238301401308104,
          -0.8198213298993995,
          -0.35149644978013467,
          0.32407432224974875,
          -0.7322207239862968,
          -0.9002619024692602,
          0.25348314192371696,
          -0.35149644978013467,
          0.33630435949113124,
          1.8758478958483942,
          -0.7501435133500951,
          -0.9326663419069485,
          -0.8339414509743195,
          -3.0769561298885426,
          -0.8339414509743195,
          -0.35149644978013467,
          1.0445373827684135,
          -0.8207853513585119,
          0.25348314192371696,
          -0.5546470102524386,
          0.5110846487977208,
          -0.8020731765945291,
          -3.0769561298885426,
          -0.8164369666035423,
          0.6798382066222695,
          -1.0029934641707778,
          0.39701714643406616,
          1.620564197070036,
          -0.7344414641191619,
          -3.0769561298885426,
          -0.3909690195107353,
          0.7502960982840425,
          -0.9359088558847705,
          1.1074082260733904,
          0.6798382066222695,
          -0.8368879290173904,
          1.4613666465599293,
          -0.24943750202424797,
          0.003865369895454604,
          -0.9002619024692602,
          -0.8246621250056464,
          -0.7739313848440179,
          1.500869353367206,
          -0.7344414641191619,
          -0.8020731765945291,
          1.1074082260733904,
          0.45941638254763384,
          -0.8164369666035423,
          -0.5546470102524386,
          0.5022474588269157,
          -1.004727704466733,
          -0.7344414641191619,
          -0.860767370998426,
          1.3187168968380085,
          -0.8198213298993995,
          0.564856921883409,
          1.5713716416895127,
          0.5110846487977208,
          -0.8339414509743195,
          -0.19784842561560204,
          0.7429728005608697,
          0.32678595244781106,
          -0.6634570137633135,
          2.201567754337062,
          0.347611843111758,
          0.030108420189134306,
          -0.9002619024692602,
          -0.27281516871430705,
          -0.4685354996475963,
          0.32407432224974875,
          1.3187168968380085,
          -0.35149644978013467,
          -0.35149644978013467,
          -0.2900470838112784,
          0.9935882620578531,
          -0.6485971911542,
          -0.49928523128640534,
          -0.8198213298993995,
          1.0340654412795942,
          -1.226534718033333,
          -0.6989847381534318,
          0.24730521809549502,
          -0.9007891243918247,
          -0.615133681994667,
          -0.8198213298993995,
          -0.8198213298993995,
          1.500869353367206,
          0.32678595244781106,
          -0.8198213298993995,
          -0.5531483802506743,
          -0.5546470102524386,
          -0.9229994396222323,
          0.43989009875069424,
          -0.35149644978013467,
          0.4694593127789747,
          0.2243312911690128,
          0.4694593127789747,
          -0.8368879290173904,
          -0.8275822097789429,
          -0.9294339766592679,
          -0.6303181324925905,
          -0.7344414641191619,
          -0.4054401556818569,
          -0.676005647540591,
          -0.8512449746248928,
          0.43559595595868594,
          -0.9002619024692602,
          0.25348314192371696,
          -0.8198213298993995,
          0.32678595244781106,
          1.4898698066091316,
          0.32678595244781106,
          1.1882109158697278,
          0.3905935084971427,
          -0.40059387811870745,
          -0.9007891243918247,
          -0.8164369666035423,
          -0.9007891243918247,
          1.158298757775991,
          -1.6020922236302433,
          0.5240675389126588,
          1.1915971632549536,
          2.679100898282807,
          -0.24638140496411706,
          1.2014831963231893,
          -0.9007891243918247,
          0.48598350295791776,
          0.14668783208519015,
          0.32678595244781106,
          0.5182592501595479,
          0.0951407209263697,
          0.2243312911690128,
          1.129693978969988,
          -0.9002619024692602,
          -0.8020731765945291,
          -0.7344414641191619,
          -0.6485971911542,
          1.1074082260733904,
          -0.3212062650272702,
          0.347611843111758,
          -0.8251521225730373,
          -0.35149644978013467,
          1.0340654412795942,
          -0.8164369666035423,
          0.45941638254763384,
          -0.8368879290173904,
          1.4129697938836199,
          -0.15707667402532696,
          1.1685071425782265,
          -0.2114461027061503,
          0.2051467174528504,
          2.6815487303213184,
          -0.1768688485827093,
          0.43989009875069424,
          -0.8198213298993995,
          -0.8487586327422224,
          -0.1449266532553343,
          2.679100898282807,
          -0.8198213298993995,
          -0.31525624529721435,
          -0.8368879290173904,
          -0.8398428376242888,
          2.679100898282807,
          0.1152866007230175,
          -0.8217502735340512,
          0.8169476011522723,
          0.41955054624510224,
          2.6815487303213184,
          -0.8368879290173904,
          -0.8198213298993995,
          -0.8164369666035423,
          0.3905935084971427,
          2.4574368343812636,
          2.4574368343812636,
          -0.8020731765945291,
          0.31524683962438427,
          -0.35149644978013467,
          -0.8368879290173904,
          -0.19784842561560204,
          2.5062225955576634,
          0.32678595244781106,
          -0.8198213298993995,
          -0.5361083419235138,
          -0.24943750202424797,
          -0.8217502735340512,
          -0.8020731765945291,
          -0.8368879290173904,
          0.2051467174528504,
          -0.2871527464276865,
          -0.8339414509743195,
          1.0233225594813138,
          -0.8020731765945291,
          0.32678595244781106,
          -0.8314963717533397,
          1.446599210215005,
          -0.8164369666035423,
          -0.8246621250056464,
          -0.8020731765945291,
          1.0882987644858042,
          0.32678595244781106,
          -0.8368879290173904,
          -0.8339414509743195,
          -0.7501435133500951,
          0.18450209816056107,
          -0.8285652143596596,
          -0.8368879290173904,
          -0.729111182074502,
          -0.35149644978013467,
          -0.2106412641151178,
          -0.8334472663953931,
          0.5239379773626831,
          -0.8934947350519489,
          2.5062225955576634,
          -0.24943750202424797,
          -1.004727704466733,
          -0.10931140482994556,
          1.3988439586926407,
          0.32678595244781106,
          -0.16628392538382433,
          -0.8368879290173904,
          1.129693978969988,
          -0.89765485839414,
          -0.8368879290173904,
          -0.1449266532553343,
          -0.8314963717533397,
          0.2158487806183554,
          -0.35149644978013467,
          -0.8020731765945291,
          -0.8020731765945291,
          0.41823857504995576,
          0.30618328088189595,
          -1.004727704466733,
          -0.8198213298993995,
          -0.8246621250056464,
          -0.9007891243918247,
          -0.35149644978013467,
          -0.8020731765945291,
          0.9188336495278178,
          0.9188336495278178,
          2.1151356465612308,
          2.679100898282807,
          0.32678595244781106,
          0.347611843111758,
          -0.03611664974445992,
          1.0206398000581522,
          -0.8020731765945291,
          0.347611843111758,
          0.32678595244781106,
          1.500869353367206,
          -0.8198213298993995,
          null,
          -0.413570778751151,
          0.514678179847421,
          -0.860767370998426,
          2.5062225955576634,
          -0.8246621250056464,
          0.347611843111758,
          -0.29585321788302865,
          -0.8388608701440298,
          -0.19784842561560204,
          -0.31525624529721435,
          -0.9294339766592679,
          -0.35149644978013467,
          0.16231564117356856,
          0.9935882620578531,
          0.6057997192031446,
          0.3905935084971427,
          -0.702864792261197,
          -0.860767370998426,
          -0.9007891243918247,
          -0.2871527464276865,
          -0.9002619024692602,
          0.514678179847421,
          0.7326966973327512,
          0.6729072785387347,
          1.0882987644858042,
          0.7326966973327512,
          1.500869353367206,
          -0.35149644978013467,
          1.500869353367206,
          1.0445373827684135,
          -0.8368879290173904,
          2.6191479456923923,
          -0.15098379585968283,
          0.1152866007230175,
          -0.8020731765945291,
          1.3187168968380085,
          -0.35149644978013467,
          0.32678595244781106,
          0.32678595244781106,
          -0.24638140496411706,
          -0.40059387811870745,
          0.5495567923592675,
          -0.8246621250056464,
          1.9927345230377613,
          -0.8339414509743195,
          -0.5546470102524386,
          -0.7949655101802209,
          -0.18181414065104826,
          -0.2530658286467767,
          2.5325207655977877,
          0.32678595244781106,
          -0.5546470102524386,
          0.31685851218095873,
          -0.8368879290173904,
          -0.5546470102524386,
          0.3905935084971427,
          -0.8198213298993995,
          0.18450209816056107,
          -0.9229994396222323,
          1.3749779275643326,
          0.32678595244781106,
          -0.8339414509743195,
          0.8193244488149034,
          -0.8217502735340512,
          2.201567754337062,
          2.4574368343812636,
          -0.8020731765945291,
          -0.2900470838112784,
          -0.8020731765945291,
          -0.5546470102524386,
          -0.8314963717533397,
          0.3806574391679009,
          -0.19784842561560204,
          -0.8314963717533397,
          -0.8368879290173904,
          -0.20715872187914103,
          -0.35149644978013467,
          1.2498672948351348,
          0.347611843111758,
          -0.9966639758395776,
          -0.8217502735340512,
          1.3437829824661556,
          -0.8246621250056464,
          1.398956381084062,
          -0.9007891243918247,
          -0.35149644978013467,
          1.7529543153936602,
          0.3905935084971427,
          0.4694593127789747,
          1.9927345230377613,
          -0.8207853513585119,
          0.2243312911690128,
          1.0206398000581522,
          0.1152866007230175,
          0.5495567923592675,
          0.32678595244781106,
          -0.24943750202424797,
          0.3916429459964887,
          -0.8164369666035423,
          2.009961412261435,
          -0.6659545720629302,
          -0.6485971911542,
          -0.860767370998426,
          -0.8368879290173904,
          -0.8020731765945291,
          -0.35149644978013467,
          -0.8339414509743195,
          -0.06925553101518239,
          -0.8246621250056464,
          0.2051467174528504,
          -0.413570778751151,
          -0.3710441599373804,
          -0.8198213298993995,
          -3.0769561298885426,
          -0.860767370998426,
          -0.8020731765945291,
          -0.7344414641191619,
          1.3988439586926407,
          -0.8368879290173904,
          2.009961412261435,
          -0.18181414065104826,
          -0.9007891243918247,
          0.32678595244781106,
          -0.5546470102524386,
          0.32678595244781106,
          0.1152866007230175,
          -0.5546470102524386,
          -0.7344414641191619,
          -0.29585321788302865,
          -0.8368879290173904,
          -0.19784842561560204,
          0.07764135058485108,
          -0.89765485839414,
          -0.89765485839414,
          1.4898698066091316,
          -0.9002619024692602,
          -0.8020731765945291,
          0.748072760819175,
          -0.9359088558847705,
          -0.9002619024692602,
          1.4847920422042842,
          -0.6485971911542,
          -0.8198213298993995,
          0.7972289104862824,
          0.14668783208519015,
          0.8881992891480007,
          -0.8246621250056464,
          -0.8339414509743195,
          -0.2106412641151178,
          0.1152866007230175,
          -0.7344414641191619,
          -0.8368879290173904,
          0.347611843111758,
          2.1151356465612308,
          -0.6634570137633135,
          1.620564197070036,
          -0.27281516871430705,
          -0.7344414641191619,
          -0.9007891243918247,
          -0.857752070013887,
          -0.8368879290173904,
          2.0013362696247716,
          -0.8388608701440298,
          2.0805148725979374,
          -0.5546470102524386,
          -0.8246621250056464,
          0.5182592501595479,
          -0.8339414509743195,
          -0.9002619024692602,
          -0.35149644978013467,
          0.347611843111758,
          2.4566467900260127,
          -0.9229994396222323,
          0.7326966973327512,
          1.4511160427664747,
          0.32678595244781106,
          -0.35149644978013467,
          0.6729072785387347,
          0.45941638254763384,
          -0.9007891243918247,
          -0.16679579793493268,
          -0.8198213298993995,
          0.32678595244781106,
          -0.35149644978013467,
          -0.9002619024692602,
          0.5182592501595479,
          -0.9002619024692602,
          -0.5546470102524386,
          -0.8572463620856131,
          1.3187168968380085,
          3.3682879451101964,
          -0.24638140496411706,
          -0.8487586327422224,
          -0.35149644978013467,
          -0.9002619024692602,
          -0.31525624529721435,
          0.1152866007230175,
          1.223853781920326,
          -0.5546470102524386,
          1.3749779275643326,
          1.2498672948351348,
          0.0951407209263697,
          0.32678595244781106,
          1.0131242400690605,
          -0.8217502735340512,
          -0.8368879290173904,
          -0.1786893580748073,
          1.3187168968380085,
          0.6798382066222695,
          0.1152866007230175,
          -0.7344414641191619,
          1.0882987644858042,
          1.3187168968380085,
          -0.24916355242946245,
          0.7502960982840425,
          1.158298757775991,
          -0.2900470838112784,
          -0.4685354996475963,
          1.9927345230377613,
          -3.0769561298885426,
          -0.35149644978013467,
          1.4847920422042842,
          2.679100898282807,
          -0.7344414641191619,
          -0.4685354996475963,
          0.9835968982524349,
          0.514678179847421,
          -0.8368879290173904,
          -0.8217502735340512,
          -0.24638140496411706,
          -0.1449266532553343,
          -0.36075875270470786,
          1.2498672948351348,
          -0.8339414509743195,
          -0.35149644978013467,
          -0.8368879290173904,
          0.11880131717345953,
          1.620564197070036,
          0.7429728005608697,
          0.07946544264615271,
          -0.5546470102524386,
          0.16231564117356856,
          1.1685071425782265,
          -0.89765485839414,
          1.4511160427664747,
          -0.8339414509743195,
          -0.8388608701440298,
          2.201567754337062,
          0.1152866007230175,
          1.158298757775991,
          0.9231367384765021,
          0.3905935084971427,
          -0.28975520018675943,
          -0.5546470102524386,
          2.4574368343812636,
          -0.8403400928339925,
          -0.29585321788302865,
          -0.8368879290173904,
          1.5815882562759367,
          -0.8339414509743195,
          -0.8020731765945291,
          1.7764779932918948,
          -0.89765485839414,
          -0.8020731765945291,
          0.17715797097251948
         ],
         "xaxis": "x",
         "yaxis": "y"
        }
       ],
       "layout": {
        "barmode": "relative",
        "legend": {
         "title": {
          "text": "variable"
         },
         "tracegroupgap": 0
        },
        "template": {
         "data": {
          "bar": [
           {
            "error_x": {
             "color": "#2a3f5f"
            },
            "error_y": {
             "color": "#2a3f5f"
            },
            "marker": {
             "line": {
              "color": "#E5ECF6",
              "width": 0.5
             },
             "pattern": {
              "fillmode": "overlay",
              "size": 10,
              "solidity": 0.2
             }
            },
            "type": "bar"
           }
          ],
          "barpolar": [
           {
            "marker": {
             "line": {
              "color": "#E5ECF6",
              "width": 0.5
             },
             "pattern": {
              "fillmode": "overlay",
              "size": 10,
              "solidity": 0.2
             }
            },
            "type": "barpolar"
           }
          ],
          "carpet": [
           {
            "aaxis": {
             "endlinecolor": "#2a3f5f",
             "gridcolor": "white",
             "linecolor": "white",
             "minorgridcolor": "white",
             "startlinecolor": "#2a3f5f"
            },
            "baxis": {
             "endlinecolor": "#2a3f5f",
             "gridcolor": "white",
             "linecolor": "white",
             "minorgridcolor": "white",
             "startlinecolor": "#2a3f5f"
            },
            "type": "carpet"
           }
          ],
          "choropleth": [
           {
            "colorbar": {
             "outlinewidth": 0,
             "ticks": ""
            },
            "type": "choropleth"
           }
          ],
          "contour": [
           {
            "colorbar": {
             "outlinewidth": 0,
             "ticks": ""
            },
            "colorscale": [
             [
              0,
              "#0d0887"
             ],
             [
              0.1111111111111111,
              "#46039f"
             ],
             [
              0.2222222222222222,
              "#7201a8"
             ],
             [
              0.3333333333333333,
              "#9c179e"
             ],
             [
              0.4444444444444444,
              "#bd3786"
             ],
             [
              0.5555555555555556,
              "#d8576b"
             ],
             [
              0.6666666666666666,
              "#ed7953"
             ],
             [
              0.7777777777777778,
              "#fb9f3a"
             ],
             [
              0.8888888888888888,
              "#fdca26"
             ],
             [
              1,
              "#f0f921"
             ]
            ],
            "type": "contour"
           }
          ],
          "contourcarpet": [
           {
            "colorbar": {
             "outlinewidth": 0,
             "ticks": ""
            },
            "type": "contourcarpet"
           }
          ],
          "heatmap": [
           {
            "colorbar": {
             "outlinewidth": 0,
             "ticks": ""
            },
            "colorscale": [
             [
              0,
              "#0d0887"
             ],
             [
              0.1111111111111111,
              "#46039f"
             ],
             [
              0.2222222222222222,
              "#7201a8"
             ],
             [
              0.3333333333333333,
              "#9c179e"
             ],
             [
              0.4444444444444444,
              "#bd3786"
             ],
             [
              0.5555555555555556,
              "#d8576b"
             ],
             [
              0.6666666666666666,
              "#ed7953"
             ],
             [
              0.7777777777777778,
              "#fb9f3a"
             ],
             [
              0.8888888888888888,
              "#fdca26"
             ],
             [
              1,
              "#f0f921"
             ]
            ],
            "type": "heatmap"
           }
          ],
          "heatmapgl": [
           {
            "colorbar": {
             "outlinewidth": 0,
             "ticks": ""
            },
            "colorscale": [
             [
              0,
              "#0d0887"
             ],
             [
              0.1111111111111111,
              "#46039f"
             ],
             [
              0.2222222222222222,
              "#7201a8"
             ],
             [
              0.3333333333333333,
              "#9c179e"
             ],
             [
              0.4444444444444444,
              "#bd3786"
             ],
             [
              0.5555555555555556,
              "#d8576b"
             ],
             [
              0.6666666666666666,
              "#ed7953"
             ],
             [
              0.7777777777777778,
              "#fb9f3a"
             ],
             [
              0.8888888888888888,
              "#fdca26"
             ],
             [
              1,
              "#f0f921"
             ]
            ],
            "type": "heatmapgl"
           }
          ],
          "histogram": [
           {
            "marker": {
             "pattern": {
              "fillmode": "overlay",
              "size": 10,
              "solidity": 0.2
             }
            },
            "type": "histogram"
           }
          ],
          "histogram2d": [
           {
            "colorbar": {
             "outlinewidth": 0,
             "ticks": ""
            },
            "colorscale": [
             [
              0,
              "#0d0887"
             ],
             [
              0.1111111111111111,
              "#46039f"
             ],
             [
              0.2222222222222222,
              "#7201a8"
             ],
             [
              0.3333333333333333,
              "#9c179e"
             ],
             [
              0.4444444444444444,
              "#bd3786"
             ],
             [
              0.5555555555555556,
              "#d8576b"
             ],
             [
              0.6666666666666666,
              "#ed7953"
             ],
             [
              0.7777777777777778,
              "#fb9f3a"
             ],
             [
              0.8888888888888888,
              "#fdca26"
             ],
             [
              1,
              "#f0f921"
             ]
            ],
            "type": "histogram2d"
           }
          ],
          "histogram2dcontour": [
           {
            "colorbar": {
             "outlinewidth": 0,
             "ticks": ""
            },
            "colorscale": [
             [
              0,
              "#0d0887"
             ],
             [
              0.1111111111111111,
              "#46039f"
             ],
             [
              0.2222222222222222,
              "#7201a8"
             ],
             [
              0.3333333333333333,
              "#9c179e"
             ],
             [
              0.4444444444444444,
              "#bd3786"
             ],
             [
              0.5555555555555556,
              "#d8576b"
             ],
             [
              0.6666666666666666,
              "#ed7953"
             ],
             [
              0.7777777777777778,
              "#fb9f3a"
             ],
             [
              0.8888888888888888,
              "#fdca26"
             ],
             [
              1,
              "#f0f921"
             ]
            ],
            "type": "histogram2dcontour"
           }
          ],
          "mesh3d": [
           {
            "colorbar": {
             "outlinewidth": 0,
             "ticks": ""
            },
            "type": "mesh3d"
           }
          ],
          "parcoords": [
           {
            "line": {
             "colorbar": {
              "outlinewidth": 0,
              "ticks": ""
             }
            },
            "type": "parcoords"
           }
          ],
          "pie": [
           {
            "automargin": true,
            "type": "pie"
           }
          ],
          "scatter": [
           {
            "fillpattern": {
             "fillmode": "overlay",
             "size": 10,
             "solidity": 0.2
            },
            "type": "scatter"
           }
          ],
          "scatter3d": [
           {
            "line": {
             "colorbar": {
              "outlinewidth": 0,
              "ticks": ""
             }
            },
            "marker": {
             "colorbar": {
              "outlinewidth": 0,
              "ticks": ""
             }
            },
            "type": "scatter3d"
           }
          ],
          "scattercarpet": [
           {
            "marker": {
             "colorbar": {
              "outlinewidth": 0,
              "ticks": ""
             }
            },
            "type": "scattercarpet"
           }
          ],
          "scattergeo": [
           {
            "marker": {
             "colorbar": {
              "outlinewidth": 0,
              "ticks": ""
             }
            },
            "type": "scattergeo"
           }
          ],
          "scattergl": [
           {
            "marker": {
             "colorbar": {
              "outlinewidth": 0,
              "ticks": ""
             }
            },
            "type": "scattergl"
           }
          ],
          "scattermapbox": [
           {
            "marker": {
             "colorbar": {
              "outlinewidth": 0,
              "ticks": ""
             }
            },
            "type": "scattermapbox"
           }
          ],
          "scatterpolar": [
           {
            "marker": {
             "colorbar": {
              "outlinewidth": 0,
              "ticks": ""
             }
            },
            "type": "scatterpolar"
           }
          ],
          "scatterpolargl": [
           {
            "marker": {
             "colorbar": {
              "outlinewidth": 0,
              "ticks": ""
             }
            },
            "type": "scatterpolargl"
           }
          ],
          "scatterternary": [
           {
            "marker": {
             "colorbar": {
              "outlinewidth": 0,
              "ticks": ""
             }
            },
            "type": "scatterternary"
           }
          ],
          "surface": [
           {
            "colorbar": {
             "outlinewidth": 0,
             "ticks": ""
            },
            "colorscale": [
             [
              0,
              "#0d0887"
             ],
             [
              0.1111111111111111,
              "#46039f"
             ],
             [
              0.2222222222222222,
              "#7201a8"
             ],
             [
              0.3333333333333333,
              "#9c179e"
             ],
             [
              0.4444444444444444,
              "#bd3786"
             ],
             [
              0.5555555555555556,
              "#d8576b"
             ],
             [
              0.6666666666666666,
              "#ed7953"
             ],
             [
              0.7777777777777778,
              "#fb9f3a"
             ],
             [
              0.8888888888888888,
              "#fdca26"
             ],
             [
              1,
              "#f0f921"
             ]
            ],
            "type": "surface"
           }
          ],
          "table": [
           {
            "cells": {
             "fill": {
              "color": "#EBF0F8"
             },
             "line": {
              "color": "white"
             }
            },
            "header": {
             "fill": {
              "color": "#C8D4E3"
             },
             "line": {
              "color": "white"
             }
            },
            "type": "table"
           }
          ]
         },
         "layout": {
          "annotationdefaults": {
           "arrowcolor": "#2a3f5f",
           "arrowhead": 0,
           "arrowwidth": 1
          },
          "autotypenumbers": "strict",
          "coloraxis": {
           "colorbar": {
            "outlinewidth": 0,
            "ticks": ""
           }
          },
          "colorscale": {
           "diverging": [
            [
             0,
             "#8e0152"
            ],
            [
             0.1,
             "#c51b7d"
            ],
            [
             0.2,
             "#de77ae"
            ],
            [
             0.3,
             "#f1b6da"
            ],
            [
             0.4,
             "#fde0ef"
            ],
            [
             0.5,
             "#f7f7f7"
            ],
            [
             0.6,
             "#e6f5d0"
            ],
            [
             0.7,
             "#b8e186"
            ],
            [
             0.8,
             "#7fbc41"
            ],
            [
             0.9,
             "#4d9221"
            ],
            [
             1,
             "#276419"
            ]
           ],
           "sequential": [
            [
             0,
             "#0d0887"
            ],
            [
             0.1111111111111111,
             "#46039f"
            ],
            [
             0.2222222222222222,
             "#7201a8"
            ],
            [
             0.3333333333333333,
             "#9c179e"
            ],
            [
             0.4444444444444444,
             "#bd3786"
            ],
            [
             0.5555555555555556,
             "#d8576b"
            ],
            [
             0.6666666666666666,
             "#ed7953"
            ],
            [
             0.7777777777777778,
             "#fb9f3a"
            ],
            [
             0.8888888888888888,
             "#fdca26"
            ],
            [
             1,
             "#f0f921"
            ]
           ],
           "sequentialminus": [
            [
             0,
             "#0d0887"
            ],
            [
             0.1111111111111111,
             "#46039f"
            ],
            [
             0.2222222222222222,
             "#7201a8"
            ],
            [
             0.3333333333333333,
             "#9c179e"
            ],
            [
             0.4444444444444444,
             "#bd3786"
            ],
            [
             0.5555555555555556,
             "#d8576b"
            ],
            [
             0.6666666666666666,
             "#ed7953"
            ],
            [
             0.7777777777777778,
             "#fb9f3a"
            ],
            [
             0.8888888888888888,
             "#fdca26"
            ],
            [
             1,
             "#f0f921"
            ]
           ]
          },
          "colorway": [
           "#636efa",
           "#EF553B",
           "#00cc96",
           "#ab63fa",
           "#FFA15A",
           "#19d3f3",
           "#FF6692",
           "#B6E880",
           "#FF97FF",
           "#FECB52"
          ],
          "font": {
           "color": "#2a3f5f"
          },
          "geo": {
           "bgcolor": "white",
           "lakecolor": "white",
           "landcolor": "#E5ECF6",
           "showlakes": true,
           "showland": true,
           "subunitcolor": "white"
          },
          "hoverlabel": {
           "align": "left"
          },
          "hovermode": "closest",
          "mapbox": {
           "style": "light"
          },
          "paper_bgcolor": "white",
          "plot_bgcolor": "#E5ECF6",
          "polar": {
           "angularaxis": {
            "gridcolor": "white",
            "linecolor": "white",
            "ticks": ""
           },
           "bgcolor": "#E5ECF6",
           "radialaxis": {
            "gridcolor": "white",
            "linecolor": "white",
            "ticks": ""
           }
          },
          "scene": {
           "xaxis": {
            "backgroundcolor": "#E5ECF6",
            "gridcolor": "white",
            "gridwidth": 2,
            "linecolor": "white",
            "showbackground": true,
            "ticks": "",
            "zerolinecolor": "white"
           },
           "yaxis": {
            "backgroundcolor": "#E5ECF6",
            "gridcolor": "white",
            "gridwidth": 2,
            "linecolor": "white",
            "showbackground": true,
            "ticks": "",
            "zerolinecolor": "white"
           },
           "zaxis": {
            "backgroundcolor": "#E5ECF6",
            "gridcolor": "white",
            "gridwidth": 2,
            "linecolor": "white",
            "showbackground": true,
            "ticks": "",
            "zerolinecolor": "white"
           }
          },
          "shapedefaults": {
           "line": {
            "color": "#2a3f5f"
           }
          },
          "ternary": {
           "aaxis": {
            "gridcolor": "white",
            "linecolor": "white",
            "ticks": ""
           },
           "baxis": {
            "gridcolor": "white",
            "linecolor": "white",
            "ticks": ""
           },
           "bgcolor": "#E5ECF6",
           "caxis": {
            "gridcolor": "white",
            "linecolor": "white",
            "ticks": ""
           }
          },
          "title": {
           "x": 0.05
          },
          "xaxis": {
           "automargin": true,
           "gridcolor": "white",
           "linecolor": "white",
           "ticks": "",
           "title": {
            "standoff": 15
           },
           "zerolinecolor": "white",
           "zerolinewidth": 2
          },
          "yaxis": {
           "automargin": true,
           "gridcolor": "white",
           "linecolor": "white",
           "ticks": "",
           "title": {
            "standoff": 15
           },
           "zerolinecolor": "white",
           "zerolinewidth": 2
          }
         }
        },
        "title": {
         "text": "norm_Fare"
        },
        "xaxis": {
         "anchor": "y",
         "domain": [
          0,
          1
         ],
         "title": {
          "text": "value"
         }
        },
        "yaxis": {
         "anchor": "x",
         "domain": [
          0,
          1
         ],
         "title": {
          "text": "count"
         }
        }
       }
      }
     },
     "metadata": {},
     "output_type": "display_data"
    },
    {
     "data": {
      "application/vnd.plotly.v1+json": {
       "config": {
        "plotlyServerURL": "https://plot.ly"
       },
       "data": [
        {
         "alignmentgroup": "True",
         "bingroup": "x",
         "hovertemplate": "variable=Parch<br>value=%{x}<br>count=%{y}<extra></extra>",
         "legendgroup": "Parch",
         "marker": {
          "color": "#636efa",
          "pattern": {
           "shape": ""
          }
         },
         "name": "Parch",
         "offsetgroup": "Parch",
         "orientation": "v",
         "showlegend": true,
         "type": "histogram",
         "x": [
          0,
          0,
          0,
          0,
          0,
          0,
          0,
          1,
          2,
          0,
          1,
          0,
          0,
          5,
          0,
          0,
          1,
          0,
          0,
          0,
          0,
          0,
          0,
          0,
          1,
          5,
          0,
          2,
          0,
          0,
          0,
          0,
          0,
          0,
          0,
          0,
          0,
          0,
          0,
          0,
          0,
          0,
          0,
          2,
          0,
          0,
          0,
          0,
          0,
          0,
          1,
          0,
          0,
          0,
          1,
          0,
          0,
          0,
          2,
          2,
          0,
          0,
          0,
          2,
          0,
          1,
          0,
          0,
          2,
          0,
          0,
          2,
          0,
          0,
          0,
          0,
          0,
          0,
          2,
          0,
          0,
          0,
          0,
          0,
          0,
          0,
          3,
          0,
          2,
          0,
          0,
          0,
          0,
          2,
          0,
          0,
          0,
          1,
          1,
          0,
          0,
          0,
          1,
          0,
          0,
          0,
          0,
          0,
          0,
          0,
          0,
          0,
          0,
          0,
          0,
          0,
          0,
          0,
          1,
          2,
          0,
          0,
          0,
          0,
          1,
          0,
          0,
          0,
          1,
          0,
          0,
          0,
          0,
          0,
          0,
          0,
          2,
          0,
          0,
          0,
          2,
          0,
          0,
          0,
          0,
          1,
          0,
          2,
          2,
          0,
          0,
          0,
          0,
          2,
          0,
          1,
          0,
          0,
          0,
          2,
          1,
          0,
          0,
          0,
          1,
          2,
          1,
          4,
          0,
          0,
          0,
          1,
          1,
          0,
          0,
          1,
          1,
          0,
          0,
          0,
          2,
          0,
          2,
          1,
          2,
          0,
          0,
          0,
          1,
          0,
          0,
          0,
          0,
          1,
          0,
          0,
          0,
          1,
          0,
          0,
          0,
          2,
          0,
          0,
          0,
          1,
          0,
          0,
          0,
          0,
          0,
          0,
          0,
          0,
          0,
          0,
          0,
          0,
          0,
          0,
          0,
          0,
          0,
          0,
          0,
          0,
          0,
          0,
          0,
          1,
          0,
          0,
          0,
          2,
          0,
          0,
          0,
          2,
          0,
          0,
          0,
          0,
          0,
          0,
          0,
          0,
          0,
          2,
          1,
          0,
          0,
          1,
          0,
          0,
          2,
          2,
          0,
          0,
          0,
          1,
          0,
          2,
          1,
          0,
          0,
          0,
          1,
          0,
          1,
          0,
          0,
          0,
          1,
          1,
          0,
          0,
          0,
          0,
          1,
          1,
          0,
          0,
          0,
          0,
          0,
          0,
          0,
          0,
          0,
          0,
          0,
          0,
          0,
          0,
          0,
          0,
          0,
          2,
          0,
          1,
          0,
          0,
          0,
          0,
          0,
          2,
          0,
          0,
          0,
          0,
          0,
          2,
          1,
          0,
          1,
          0,
          0,
          0,
          2,
          1,
          0,
          0,
          0,
          1,
          2,
          0,
          0,
          0,
          1,
          1,
          0,
          0,
          1,
          0,
          0,
          0,
          0,
          0,
          0,
          0,
          1,
          2,
          0,
          0,
          0,
          0,
          0,
          0,
          1,
          0,
          0,
          0,
          1,
          0,
          0,
          0,
          1,
          0,
          0,
          0,
          4,
          0,
          1,
          0,
          0,
          0,
          0,
          0,
          0,
          0,
          0,
          0,
          0,
          0,
          1,
          0,
          0,
          2,
          0,
          0,
          0,
          2,
          0,
          0,
          0,
          0,
          2,
          0,
          0,
          0,
          2,
          0,
          0,
          0,
          2,
          0,
          0,
          0,
          0,
          0,
          0,
          0,
          0,
          0,
          0,
          0,
          0,
          1,
          0,
          1,
          0,
          0,
          0,
          0,
          0,
          0,
          1,
          2,
          0,
          2,
          0,
          0,
          0,
          1,
          1,
          0,
          0,
          0,
          0,
          0,
          0,
          0,
          0,
          0,
          0,
          2,
          2,
          3,
          4,
          0,
          1,
          0,
          0,
          0,
          0,
          2,
          1,
          0,
          1,
          0,
          2,
          0,
          0,
          0,
          0,
          0,
          0,
          0,
          0,
          0,
          0,
          0,
          0,
          0,
          0,
          0,
          0,
          0,
          0,
          1,
          0,
          0,
          2,
          0,
          0,
          0,
          0,
          0,
          0,
          1,
          2,
          0,
          0,
          0,
          0,
          1,
          0,
          0,
          0,
          1,
          0,
          0,
          0,
          0,
          0,
          0,
          0,
          0,
          2,
          0,
          0,
          0,
          0,
          0,
          0,
          0,
          2,
          0,
          0,
          0,
          0,
          0,
          0,
          0,
          0,
          0,
          0,
          0,
          0,
          0,
          0,
          0,
          0,
          1,
          0,
          0,
          0,
          0,
          0,
          1,
          1,
          0,
          1,
          2,
          0,
          2,
          0,
          0,
          0,
          2,
          2,
          2,
          2,
          0,
          0,
          0,
          0,
          0,
          1,
          1,
          2,
          0,
          0,
          0,
          0,
          0,
          0,
          0,
          1,
          0,
          0,
          0,
          0,
          0,
          0,
          0,
          0,
          4,
          0,
          0,
          0,
          0,
          0,
          0,
          0,
          0,
          0,
          0,
          0,
          0,
          1,
          1,
          0,
          0,
          0,
          2,
          0,
          1,
          0,
          0,
          0,
          0,
          0,
          2,
          0,
          1,
          0,
          0,
          0,
          0,
          1,
          0,
          0,
          0,
          0,
          0,
          0,
          0,
          2,
          0,
          5,
          0,
          0,
          0,
          0,
          2,
          1,
          0,
          1,
          0,
          0,
          0,
          1,
          0,
          0,
          0,
          0,
          0,
          0,
          0,
          0,
          0,
          0,
          0,
          2,
          0,
          0,
          1,
          5,
          0,
          0,
          0,
          2,
          0,
          1,
          0,
          0,
          0,
          0,
          0,
          0,
          1,
          0,
          0,
          0,
          0,
          0,
          1,
          0,
          2,
          0,
          0,
          0,
          0,
          0,
          0,
          0,
          0,
          0,
          0,
          1,
          0,
          0,
          0,
          0,
          0,
          0,
          0,
          6,
          1,
          0,
          0,
          0,
          2,
          1,
          2,
          1,
          0,
          0,
          1,
          0,
          1,
          0,
          0,
          0,
          0,
          0,
          0,
          1,
          0,
          0,
          0,
          1,
          0,
          0,
          0,
          0,
          0,
          0,
          1,
          0,
          0,
          0,
          0,
          0,
          0,
          0,
          0,
          0,
          0,
          1,
          0,
          0,
          0,
          0,
          0,
          0,
          0,
          0,
          0,
          0,
          0,
          0,
          0,
          0,
          0,
          3,
          0,
          0,
          0,
          0,
          0,
          2,
          0,
          0,
          1,
          1,
          0,
          0,
          0,
          1,
          1,
          0,
          0,
          2,
          1,
          0,
          0,
          0,
          0,
          0,
          0,
          0,
          2,
          0,
          0,
          0,
          0,
          0,
          0,
          0,
          0,
          0,
          0,
          3,
          0,
          0,
          0,
          0,
          1,
          0,
          0,
          0,
          2,
          0,
          0,
          0,
          1,
          2,
          0,
          0,
          0,
          2,
          0,
          0,
          0,
          0,
          0,
          0,
          1,
          0,
          1,
          2,
          1,
          0,
          0,
          0,
          0,
          0,
          0,
          0,
          0,
          0,
          2,
          0,
          0,
          0,
          1,
          0,
          2,
          1,
          0,
          0,
          1,
          1,
          0,
          0,
          2,
          0,
          0,
          0,
          1,
          0,
          0,
          0,
          1,
          0,
          0,
          0,
          0,
          0,
          0,
          0,
          0,
          0,
          0,
          2,
          0,
          1,
          0,
          2,
          0,
          1,
          1,
          0,
          1,
          1,
          0,
          3,
          0,
          0,
          0,
          0,
          2,
          0,
          0,
          0,
          0,
          0,
          1,
          0,
          1,
          0,
          0,
          0,
          0,
          0,
          0,
          0,
          1,
          1,
          0,
          0,
          0,
          0,
          5,
          0,
          0,
          2,
          0,
          0,
          0,
          0,
          0,
          0,
          1,
          0,
          0,
          1,
          0,
          0,
          0,
          0,
          0,
          0,
          0,
          0,
          0,
          0,
          0,
          0,
          0,
          1,
          0,
          1,
          3,
          0,
          1,
          0,
          0,
          0,
          0,
          0,
          2,
          2,
          0,
          0,
          0,
          0,
          0,
          0,
          1,
          0,
          0,
          0,
          0,
          0,
          0,
          0,
          0,
          2,
          0,
          0,
          1,
          2,
          0,
          1,
          0,
          0,
          0,
          0,
          0,
          0,
          0,
          0,
          2,
          0,
          0,
          0,
          0,
          4,
          0,
          0,
          0,
          0,
          0,
          0,
          0,
          0,
          0,
          0,
          1,
          0,
          0,
          0,
          0,
          0,
          0,
          0,
          0,
          1,
          0,
          0,
          2,
          0,
          0,
          0,
          0,
          0,
          0,
          0,
          0,
          0,
          0,
          0,
          1,
          0,
          0,
          0,
          0,
          0,
          0,
          0,
          0,
          0,
          0,
          0,
          0,
          1,
          0,
          0,
          0,
          0,
          0,
          0,
          0,
          1,
          0,
          0,
          0,
          0,
          0,
          0,
          4,
          0,
          0,
          0,
          0,
          0,
          0,
          6,
          2,
          0,
          3,
          0,
          0,
          0,
          0,
          0,
          0,
          1,
          1,
          0,
          0,
          2,
          2,
          0,
          0,
          0,
          0,
          2,
          0,
          1,
          0,
          0,
          0,
          1,
          0,
          2,
          0,
          0,
          0,
          0,
          0,
          0,
          5,
          2,
          0,
          0,
          3,
          2,
          0,
          1,
          0,
          0,
          1,
          0,
          1,
          0,
          2,
          0,
          0,
          0,
          1,
          0,
          2,
          0,
          2,
          0,
          0,
          0,
          0,
          2,
          0,
          1,
          0,
          0,
          0,
          0,
          0,
          0,
          0,
          0,
          0,
          0,
          2,
          0,
          0,
          1,
          1,
          0,
          0,
          0,
          0,
          0,
          0,
          2,
          0,
          0,
          0,
          0,
          0,
          0,
          0,
          0,
          0,
          0,
          0,
          0,
          1,
          0,
          0,
          2,
          1,
          0,
          2,
          0,
          0,
          1,
          0,
          0,
          2,
          0,
          0,
          0,
          0,
          0,
          0,
          0,
          0,
          0,
          0,
          0,
          2,
          1,
          0,
          0,
          0,
          0,
          0,
          0,
          0,
          0,
          0,
          0,
          0,
          0,
          0,
          0,
          0,
          0,
          0,
          1,
          0,
          1,
          1,
          0,
          0,
          0,
          0,
          0,
          0,
          0,
          0,
          1,
          0,
          0,
          2,
          0,
          0,
          0,
          0,
          0,
          1,
          0,
          0,
          1,
          2,
          1,
          1,
          0,
          0,
          0,
          0,
          0,
          0,
          0,
          0,
          0,
          0,
          0,
          0,
          0,
          0,
          0,
          0,
          0,
          1,
          0,
          0,
          0,
          2,
          0,
          0,
          1,
          0,
          0,
          0,
          2,
          0,
          0,
          0,
          0,
          9,
          1,
          1,
          0,
          0,
          0,
          0,
          0,
          1,
          0,
          0,
          2,
          2,
          0,
          0,
          0,
          0,
          0,
          2,
          1,
          0,
          0,
          0,
          9,
          0,
          0,
          1,
          0,
          0,
          0,
          0,
          0,
          1,
          0,
          0,
          0,
          0,
          2,
          0,
          0,
          0,
          0,
          0,
          2,
          0,
          0,
          0,
          1,
          0,
          1,
          2,
          0,
          1,
          0,
          0,
          1,
          0,
          0,
          0,
          0,
          1,
          0,
          0,
          0,
          0,
          1,
          0,
          1,
          0,
          0,
          0,
          0,
          0,
          0,
          0,
          1
         ],
         "xaxis": "x",
         "yaxis": "y"
        }
       ],
       "layout": {
        "barmode": "relative",
        "legend": {
         "title": {
          "text": "variable"
         },
         "tracegroupgap": 0
        },
        "template": {
         "data": {
          "bar": [
           {
            "error_x": {
             "color": "#2a3f5f"
            },
            "error_y": {
             "color": "#2a3f5f"
            },
            "marker": {
             "line": {
              "color": "#E5ECF6",
              "width": 0.5
             },
             "pattern": {
              "fillmode": "overlay",
              "size": 10,
              "solidity": 0.2
             }
            },
            "type": "bar"
           }
          ],
          "barpolar": [
           {
            "marker": {
             "line": {
              "color": "#E5ECF6",
              "width": 0.5
             },
             "pattern": {
              "fillmode": "overlay",
              "size": 10,
              "solidity": 0.2
             }
            },
            "type": "barpolar"
           }
          ],
          "carpet": [
           {
            "aaxis": {
             "endlinecolor": "#2a3f5f",
             "gridcolor": "white",
             "linecolor": "white",
             "minorgridcolor": "white",
             "startlinecolor": "#2a3f5f"
            },
            "baxis": {
             "endlinecolor": "#2a3f5f",
             "gridcolor": "white",
             "linecolor": "white",
             "minorgridcolor": "white",
             "startlinecolor": "#2a3f5f"
            },
            "type": "carpet"
           }
          ],
          "choropleth": [
           {
            "colorbar": {
             "outlinewidth": 0,
             "ticks": ""
            },
            "type": "choropleth"
           }
          ],
          "contour": [
           {
            "colorbar": {
             "outlinewidth": 0,
             "ticks": ""
            },
            "colorscale": [
             [
              0,
              "#0d0887"
             ],
             [
              0.1111111111111111,
              "#46039f"
             ],
             [
              0.2222222222222222,
              "#7201a8"
             ],
             [
              0.3333333333333333,
              "#9c179e"
             ],
             [
              0.4444444444444444,
              "#bd3786"
             ],
             [
              0.5555555555555556,
              "#d8576b"
             ],
             [
              0.6666666666666666,
              "#ed7953"
             ],
             [
              0.7777777777777778,
              "#fb9f3a"
             ],
             [
              0.8888888888888888,
              "#fdca26"
             ],
             [
              1,
              "#f0f921"
             ]
            ],
            "type": "contour"
           }
          ],
          "contourcarpet": [
           {
            "colorbar": {
             "outlinewidth": 0,
             "ticks": ""
            },
            "type": "contourcarpet"
           }
          ],
          "heatmap": [
           {
            "colorbar": {
             "outlinewidth": 0,
             "ticks": ""
            },
            "colorscale": [
             [
              0,
              "#0d0887"
             ],
             [
              0.1111111111111111,
              "#46039f"
             ],
             [
              0.2222222222222222,
              "#7201a8"
             ],
             [
              0.3333333333333333,
              "#9c179e"
             ],
             [
              0.4444444444444444,
              "#bd3786"
             ],
             [
              0.5555555555555556,
              "#d8576b"
             ],
             [
              0.6666666666666666,
              "#ed7953"
             ],
             [
              0.7777777777777778,
              "#fb9f3a"
             ],
             [
              0.8888888888888888,
              "#fdca26"
             ],
             [
              1,
              "#f0f921"
             ]
            ],
            "type": "heatmap"
           }
          ],
          "heatmapgl": [
           {
            "colorbar": {
             "outlinewidth": 0,
             "ticks": ""
            },
            "colorscale": [
             [
              0,
              "#0d0887"
             ],
             [
              0.1111111111111111,
              "#46039f"
             ],
             [
              0.2222222222222222,
              "#7201a8"
             ],
             [
              0.3333333333333333,
              "#9c179e"
             ],
             [
              0.4444444444444444,
              "#bd3786"
             ],
             [
              0.5555555555555556,
              "#d8576b"
             ],
             [
              0.6666666666666666,
              "#ed7953"
             ],
             [
              0.7777777777777778,
              "#fb9f3a"
             ],
             [
              0.8888888888888888,
              "#fdca26"
             ],
             [
              1,
              "#f0f921"
             ]
            ],
            "type": "heatmapgl"
           }
          ],
          "histogram": [
           {
            "marker": {
             "pattern": {
              "fillmode": "overlay",
              "size": 10,
              "solidity": 0.2
             }
            },
            "type": "histogram"
           }
          ],
          "histogram2d": [
           {
            "colorbar": {
             "outlinewidth": 0,
             "ticks": ""
            },
            "colorscale": [
             [
              0,
              "#0d0887"
             ],
             [
              0.1111111111111111,
              "#46039f"
             ],
             [
              0.2222222222222222,
              "#7201a8"
             ],
             [
              0.3333333333333333,
              "#9c179e"
             ],
             [
              0.4444444444444444,
              "#bd3786"
             ],
             [
              0.5555555555555556,
              "#d8576b"
             ],
             [
              0.6666666666666666,
              "#ed7953"
             ],
             [
              0.7777777777777778,
              "#fb9f3a"
             ],
             [
              0.8888888888888888,
              "#fdca26"
             ],
             [
              1,
              "#f0f921"
             ]
            ],
            "type": "histogram2d"
           }
          ],
          "histogram2dcontour": [
           {
            "colorbar": {
             "outlinewidth": 0,
             "ticks": ""
            },
            "colorscale": [
             [
              0,
              "#0d0887"
             ],
             [
              0.1111111111111111,
              "#46039f"
             ],
             [
              0.2222222222222222,
              "#7201a8"
             ],
             [
              0.3333333333333333,
              "#9c179e"
             ],
             [
              0.4444444444444444,
              "#bd3786"
             ],
             [
              0.5555555555555556,
              "#d8576b"
             ],
             [
              0.6666666666666666,
              "#ed7953"
             ],
             [
              0.7777777777777778,
              "#fb9f3a"
             ],
             [
              0.8888888888888888,
              "#fdca26"
             ],
             [
              1,
              "#f0f921"
             ]
            ],
            "type": "histogram2dcontour"
           }
          ],
          "mesh3d": [
           {
            "colorbar": {
             "outlinewidth": 0,
             "ticks": ""
            },
            "type": "mesh3d"
           }
          ],
          "parcoords": [
           {
            "line": {
             "colorbar": {
              "outlinewidth": 0,
              "ticks": ""
             }
            },
            "type": "parcoords"
           }
          ],
          "pie": [
           {
            "automargin": true,
            "type": "pie"
           }
          ],
          "scatter": [
           {
            "fillpattern": {
             "fillmode": "overlay",
             "size": 10,
             "solidity": 0.2
            },
            "type": "scatter"
           }
          ],
          "scatter3d": [
           {
            "line": {
             "colorbar": {
              "outlinewidth": 0,
              "ticks": ""
             }
            },
            "marker": {
             "colorbar": {
              "outlinewidth": 0,
              "ticks": ""
             }
            },
            "type": "scatter3d"
           }
          ],
          "scattercarpet": [
           {
            "marker": {
             "colorbar": {
              "outlinewidth": 0,
              "ticks": ""
             }
            },
            "type": "scattercarpet"
           }
          ],
          "scattergeo": [
           {
            "marker": {
             "colorbar": {
              "outlinewidth": 0,
              "ticks": ""
             }
            },
            "type": "scattergeo"
           }
          ],
          "scattergl": [
           {
            "marker": {
             "colorbar": {
              "outlinewidth": 0,
              "ticks": ""
             }
            },
            "type": "scattergl"
           }
          ],
          "scattermapbox": [
           {
            "marker": {
             "colorbar": {
              "outlinewidth": 0,
              "ticks": ""
             }
            },
            "type": "scattermapbox"
           }
          ],
          "scatterpolar": [
           {
            "marker": {
             "colorbar": {
              "outlinewidth": 0,
              "ticks": ""
             }
            },
            "type": "scatterpolar"
           }
          ],
          "scatterpolargl": [
           {
            "marker": {
             "colorbar": {
              "outlinewidth": 0,
              "ticks": ""
             }
            },
            "type": "scatterpolargl"
           }
          ],
          "scatterternary": [
           {
            "marker": {
             "colorbar": {
              "outlinewidth": 0,
              "ticks": ""
             }
            },
            "type": "scatterternary"
           }
          ],
          "surface": [
           {
            "colorbar": {
             "outlinewidth": 0,
             "ticks": ""
            },
            "colorscale": [
             [
              0,
              "#0d0887"
             ],
             [
              0.1111111111111111,
              "#46039f"
             ],
             [
              0.2222222222222222,
              "#7201a8"
             ],
             [
              0.3333333333333333,
              "#9c179e"
             ],
             [
              0.4444444444444444,
              "#bd3786"
             ],
             [
              0.5555555555555556,
              "#d8576b"
             ],
             [
              0.6666666666666666,
              "#ed7953"
             ],
             [
              0.7777777777777778,
              "#fb9f3a"
             ],
             [
              0.8888888888888888,
              "#fdca26"
             ],
             [
              1,
              "#f0f921"
             ]
            ],
            "type": "surface"
           }
          ],
          "table": [
           {
            "cells": {
             "fill": {
              "color": "#EBF0F8"
             },
             "line": {
              "color": "white"
             }
            },
            "header": {
             "fill": {
              "color": "#C8D4E3"
             },
             "line": {
              "color": "white"
             }
            },
            "type": "table"
           }
          ]
         },
         "layout": {
          "annotationdefaults": {
           "arrowcolor": "#2a3f5f",
           "arrowhead": 0,
           "arrowwidth": 1
          },
          "autotypenumbers": "strict",
          "coloraxis": {
           "colorbar": {
            "outlinewidth": 0,
            "ticks": ""
           }
          },
          "colorscale": {
           "diverging": [
            [
             0,
             "#8e0152"
            ],
            [
             0.1,
             "#c51b7d"
            ],
            [
             0.2,
             "#de77ae"
            ],
            [
             0.3,
             "#f1b6da"
            ],
            [
             0.4,
             "#fde0ef"
            ],
            [
             0.5,
             "#f7f7f7"
            ],
            [
             0.6,
             "#e6f5d0"
            ],
            [
             0.7,
             "#b8e186"
            ],
            [
             0.8,
             "#7fbc41"
            ],
            [
             0.9,
             "#4d9221"
            ],
            [
             1,
             "#276419"
            ]
           ],
           "sequential": [
            [
             0,
             "#0d0887"
            ],
            [
             0.1111111111111111,
             "#46039f"
            ],
            [
             0.2222222222222222,
             "#7201a8"
            ],
            [
             0.3333333333333333,
             "#9c179e"
            ],
            [
             0.4444444444444444,
             "#bd3786"
            ],
            [
             0.5555555555555556,
             "#d8576b"
            ],
            [
             0.6666666666666666,
             "#ed7953"
            ],
            [
             0.7777777777777778,
             "#fb9f3a"
            ],
            [
             0.8888888888888888,
             "#fdca26"
            ],
            [
             1,
             "#f0f921"
            ]
           ],
           "sequentialminus": [
            [
             0,
             "#0d0887"
            ],
            [
             0.1111111111111111,
             "#46039f"
            ],
            [
             0.2222222222222222,
             "#7201a8"
            ],
            [
             0.3333333333333333,
             "#9c179e"
            ],
            [
             0.4444444444444444,
             "#bd3786"
            ],
            [
             0.5555555555555556,
             "#d8576b"
            ],
            [
             0.6666666666666666,
             "#ed7953"
            ],
            [
             0.7777777777777778,
             "#fb9f3a"
            ],
            [
             0.8888888888888888,
             "#fdca26"
            ],
            [
             1,
             "#f0f921"
            ]
           ]
          },
          "colorway": [
           "#636efa",
           "#EF553B",
           "#00cc96",
           "#ab63fa",
           "#FFA15A",
           "#19d3f3",
           "#FF6692",
           "#B6E880",
           "#FF97FF",
           "#FECB52"
          ],
          "font": {
           "color": "#2a3f5f"
          },
          "geo": {
           "bgcolor": "white",
           "lakecolor": "white",
           "landcolor": "#E5ECF6",
           "showlakes": true,
           "showland": true,
           "subunitcolor": "white"
          },
          "hoverlabel": {
           "align": "left"
          },
          "hovermode": "closest",
          "mapbox": {
           "style": "light"
          },
          "paper_bgcolor": "white",
          "plot_bgcolor": "#E5ECF6",
          "polar": {
           "angularaxis": {
            "gridcolor": "white",
            "linecolor": "white",
            "ticks": ""
           },
           "bgcolor": "#E5ECF6",
           "radialaxis": {
            "gridcolor": "white",
            "linecolor": "white",
            "ticks": ""
           }
          },
          "scene": {
           "xaxis": {
            "backgroundcolor": "#E5ECF6",
            "gridcolor": "white",
            "gridwidth": 2,
            "linecolor": "white",
            "showbackground": true,
            "ticks": "",
            "zerolinecolor": "white"
           },
           "yaxis": {
            "backgroundcolor": "#E5ECF6",
            "gridcolor": "white",
            "gridwidth": 2,
            "linecolor": "white",
            "showbackground": true,
            "ticks": "",
            "zerolinecolor": "white"
           },
           "zaxis": {
            "backgroundcolor": "#E5ECF6",
            "gridcolor": "white",
            "gridwidth": 2,
            "linecolor": "white",
            "showbackground": true,
            "ticks": "",
            "zerolinecolor": "white"
           }
          },
          "shapedefaults": {
           "line": {
            "color": "#2a3f5f"
           }
          },
          "ternary": {
           "aaxis": {
            "gridcolor": "white",
            "linecolor": "white",
            "ticks": ""
           },
           "baxis": {
            "gridcolor": "white",
            "linecolor": "white",
            "ticks": ""
           },
           "bgcolor": "#E5ECF6",
           "caxis": {
            "gridcolor": "white",
            "linecolor": "white",
            "ticks": ""
           }
          },
          "title": {
           "x": 0.05
          },
          "xaxis": {
           "automargin": true,
           "gridcolor": "white",
           "linecolor": "white",
           "ticks": "",
           "title": {
            "standoff": 15
           },
           "zerolinecolor": "white",
           "zerolinewidth": 2
          },
          "yaxis": {
           "automargin": true,
           "gridcolor": "white",
           "linecolor": "white",
           "ticks": "",
           "title": {
            "standoff": 15
           },
           "zerolinecolor": "white",
           "zerolinewidth": 2
          }
         }
        },
        "title": {
         "text": "Parch"
        },
        "xaxis": {
         "anchor": "y",
         "domain": [
          0,
          1
         ],
         "title": {
          "text": "value"
         }
        },
        "yaxis": {
         "anchor": "x",
         "domain": [
          0,
          1
         ],
         "title": {
          "text": "count"
         }
        }
       }
      }
     },
     "metadata": {},
     "output_type": "display_data"
    },
    {
     "data": {
      "application/vnd.plotly.v1+json": {
       "config": {
        "plotlyServerURL": "https://plot.ly"
       },
       "data": [
        {
         "alignmentgroup": "True",
         "bingroup": "x",
         "hovertemplate": "variable=0<br>value=%{x}<br>count=%{y}<extra></extra>",
         "legendgroup": "0",
         "marker": {
          "color": "#636efa",
          "pattern": {
           "shape": ""
          }
         },
         "name": "0",
         "offsetgroup": "0",
         "orientation": "v",
         "showlegend": true,
         "type": "histogram",
         "x": [
          -0.5187914749596527,
          -0.5187914749596527,
          -0.5187914749596527,
          -0.5187914749596527,
          -0.5187914749596527,
          -0.5187914749596527,
          -0.5187914749596527,
          1.1505716484292459,
          2.1270864756984964,
          -0.5187914749596527,
          1.1505716484292459,
          -0.5187914749596527,
          -0.5187914749596527,
          3.7964495990873943,
          -0.5187914749596527,
          -0.5187914749596527,
          1.1505716484292459,
          -0.5187914749596527,
          -0.5187914749596527,
          -0.5187914749596527,
          -0.5187914749596527,
          -0.5187914749596527,
          -0.5187914749596527,
          -0.5187914749596527,
          1.1505716484292459,
          3.7964495990873943,
          -0.5187914749596527,
          2.1270864756984964,
          -0.5187914749596527,
          -0.5187914749596527,
          -0.5187914749596527,
          -0.5187914749596527,
          -0.5187914749596527,
          -0.5187914749596527,
          -0.5187914749596527,
          -0.5187914749596527,
          -0.5187914749596527,
          -0.5187914749596527,
          -0.5187914749596527,
          -0.5187914749596527,
          -0.5187914749596527,
          -0.5187914749596527,
          -0.5187914749596527,
          2.1270864756984964,
          -0.5187914749596527,
          -0.5187914749596527,
          -0.5187914749596527,
          -0.5187914749596527,
          -0.5187914749596527,
          -0.5187914749596527,
          1.1505716484292459,
          -0.5187914749596527,
          -0.5187914749596527,
          -0.5187914749596527,
          1.1505716484292459,
          -0.5187914749596527,
          -0.5187914749596527,
          -0.5187914749596527,
          2.1270864756984964,
          2.1270864756984964,
          -0.5187914749596527,
          -0.5187914749596527,
          -0.5187914749596527,
          2.1270864756984964,
          -0.5187914749596527,
          1.1505716484292459,
          -0.5187914749596527,
          -0.5187914749596527,
          2.1270864756984964,
          -0.5187914749596527,
          -0.5187914749596527,
          2.1270864756984964,
          -0.5187914749596527,
          -0.5187914749596527,
          -0.5187914749596527,
          -0.5187914749596527,
          -0.5187914749596527,
          -0.5187914749596527,
          2.1270864756984964,
          -0.5187914749596527,
          -0.5187914749596527,
          -0.5187914749596527,
          -0.5187914749596527,
          -0.5187914749596527,
          -0.5187914749596527,
          -0.5187914749596527,
          2.8199347718181444,
          -0.5187914749596527,
          2.1270864756984964,
          -0.5187914749596527,
          -0.5187914749596527,
          -0.5187914749596527,
          -0.5187914749596527,
          2.1270864756984964,
          -0.5187914749596527,
          -0.5187914749596527,
          -0.5187914749596527,
          1.1505716484292459,
          1.1505716484292459,
          -0.5187914749596527,
          -0.5187914749596527,
          -0.5187914749596527,
          1.1505716484292459,
          -0.5187914749596527,
          -0.5187914749596527,
          -0.5187914749596527,
          -0.5187914749596527,
          -0.5187914749596527,
          -0.5187914749596527,
          -0.5187914749596527,
          -0.5187914749596527,
          -0.5187914749596527,
          -0.5187914749596527,
          -0.5187914749596527,
          -0.5187914749596527,
          -0.5187914749596527,
          -0.5187914749596527,
          -0.5187914749596527,
          1.1505716484292459,
          2.1270864756984964,
          -0.5187914749596527,
          -0.5187914749596527,
          -0.5187914749596527,
          -0.5187914749596527,
          1.1505716484292459,
          -0.5187914749596527,
          -0.5187914749596527,
          -0.5187914749596527,
          1.1505716484292459,
          -0.5187914749596527,
          -0.5187914749596527,
          -0.5187914749596527,
          -0.5187914749596527,
          -0.5187914749596527,
          -0.5187914749596527,
          -0.5187914749596527,
          2.1270864756984964,
          -0.5187914749596527,
          -0.5187914749596527,
          -0.5187914749596527,
          2.1270864756984964,
          -0.5187914749596527,
          -0.5187914749596527,
          -0.5187914749596527,
          -0.5187914749596527,
          1.1505716484292459,
          -0.5187914749596527,
          2.1270864756984964,
          2.1270864756984964,
          -0.5187914749596527,
          -0.5187914749596527,
          -0.5187914749596527,
          -0.5187914749596527,
          2.1270864756984964,
          -0.5187914749596527,
          1.1505716484292459,
          -0.5187914749596527,
          -0.5187914749596527,
          -0.5187914749596527,
          2.1270864756984964,
          1.1505716484292459,
          -0.5187914749596527,
          -0.5187914749596527,
          -0.5187914749596527,
          1.1505716484292459,
          2.1270864756984964,
          1.1505716484292459,
          3.3573496618059493,
          -0.5187914749596527,
          -0.5187914749596527,
          -0.5187914749596527,
          1.1505716484292459,
          1.1505716484292459,
          -0.5187914749596527,
          -0.5187914749596527,
          1.1505716484292459,
          1.1505716484292459,
          -0.5187914749596527,
          -0.5187914749596527,
          -0.5187914749596527,
          2.1270864756984964,
          -0.5187914749596527,
          2.1270864756984964,
          1.1505716484292459,
          2.1270864756984964,
          -0.5187914749596527,
          -0.5187914749596527,
          -0.5187914749596527,
          1.1505716484292459,
          -0.5187914749596527,
          -0.5187914749596527,
          -0.5187914749596527,
          -0.5187914749596527,
          1.1505716484292459,
          -0.5187914749596527,
          -0.5187914749596527,
          -0.5187914749596527,
          1.1505716484292459,
          -0.5187914749596527,
          -0.5187914749596527,
          -0.5187914749596527,
          2.1270864756984964,
          -0.5187914749596527,
          -0.5187914749596527,
          -0.5187914749596527,
          1.1505716484292459,
          -0.5187914749596527,
          -0.5187914749596527,
          -0.5187914749596527,
          -0.5187914749596527,
          -0.5187914749596527,
          -0.5187914749596527,
          -0.5187914749596527,
          -0.5187914749596527,
          -0.5187914749596527,
          -0.5187914749596527,
          -0.5187914749596527,
          -0.5187914749596527,
          -0.5187914749596527,
          -0.5187914749596527,
          -0.5187914749596527,
          -0.5187914749596527,
          -0.5187914749596527,
          -0.5187914749596527,
          -0.5187914749596527,
          -0.5187914749596527,
          -0.5187914749596527,
          -0.5187914749596527,
          -0.5187914749596527,
          1.1505716484292459,
          -0.5187914749596527,
          -0.5187914749596527,
          -0.5187914749596527,
          2.1270864756984964,
          -0.5187914749596527,
          -0.5187914749596527,
          -0.5187914749596527,
          2.1270864756984964,
          -0.5187914749596527,
          -0.5187914749596527,
          -0.5187914749596527,
          -0.5187914749596527,
          -0.5187914749596527,
          -0.5187914749596527,
          -0.5187914749596527,
          -0.5187914749596527,
          -0.5187914749596527,
          2.1270864756984964,
          1.1505716484292459,
          -0.5187914749596527,
          -0.5187914749596527,
          1.1505716484292459,
          -0.5187914749596527,
          -0.5187914749596527,
          2.1270864756984964,
          2.1270864756984964,
          -0.5187914749596527,
          -0.5187914749596527,
          -0.5187914749596527,
          1.1505716484292459,
          -0.5187914749596527,
          2.1270864756984964,
          1.1505716484292459,
          -0.5187914749596527,
          -0.5187914749596527,
          -0.5187914749596527,
          1.1505716484292459,
          -0.5187914749596527,
          1.1505716484292459,
          -0.5187914749596527,
          -0.5187914749596527,
          -0.5187914749596527,
          1.1505716484292459,
          1.1505716484292459,
          -0.5187914749596527,
          -0.5187914749596527,
          -0.5187914749596527,
          -0.5187914749596527,
          1.1505716484292459,
          1.1505716484292459,
          -0.5187914749596527,
          -0.5187914749596527,
          -0.5187914749596527,
          -0.5187914749596527,
          -0.5187914749596527,
          -0.5187914749596527,
          -0.5187914749596527,
          -0.5187914749596527,
          -0.5187914749596527,
          -0.5187914749596527,
          -0.5187914749596527,
          -0.5187914749596527,
          -0.5187914749596527,
          -0.5187914749596527,
          -0.5187914749596527,
          -0.5187914749596527,
          -0.5187914749596527,
          2.1270864756984964,
          -0.5187914749596527,
          1.1505716484292459,
          -0.5187914749596527,
          -0.5187914749596527,
          -0.5187914749596527,
          -0.5187914749596527,
          -0.5187914749596527,
          2.1270864756984964,
          -0.5187914749596527,
          -0.5187914749596527,
          -0.5187914749596527,
          -0.5187914749596527,
          -0.5187914749596527,
          2.1270864756984964,
          1.1505716484292459,
          -0.5187914749596527,
          1.1505716484292459,
          -0.5187914749596527,
          -0.5187914749596527,
          -0.5187914749596527,
          2.1270864756984964,
          1.1505716484292459,
          -0.5187914749596527,
          -0.5187914749596527,
          -0.5187914749596527,
          1.1505716484292459,
          2.1270864756984964,
          -0.5187914749596527,
          -0.5187914749596527,
          -0.5187914749596527,
          1.1505716484292459,
          1.1505716484292459,
          -0.5187914749596527,
          -0.5187914749596527,
          1.1505716484292459,
          -0.5187914749596527,
          -0.5187914749596527,
          -0.5187914749596527,
          -0.5187914749596527,
          -0.5187914749596527,
          -0.5187914749596527,
          -0.5187914749596527,
          1.1505716484292459,
          2.1270864756984964,
          -0.5187914749596527,
          -0.5187914749596527,
          -0.5187914749596527,
          -0.5187914749596527,
          -0.5187914749596527,
          -0.5187914749596527,
          1.1505716484292459,
          -0.5187914749596527,
          -0.5187914749596527,
          -0.5187914749596527,
          1.1505716484292459,
          -0.5187914749596527,
          -0.5187914749596527,
          -0.5187914749596527,
          1.1505716484292459,
          -0.5187914749596527,
          -0.5187914749596527,
          -0.5187914749596527,
          3.3573496618059493,
          -0.5187914749596527,
          1.1505716484292459,
          -0.5187914749596527,
          -0.5187914749596527,
          -0.5187914749596527,
          -0.5187914749596527,
          -0.5187914749596527,
          -0.5187914749596527,
          -0.5187914749596527,
          -0.5187914749596527,
          -0.5187914749596527,
          -0.5187914749596527,
          -0.5187914749596527,
          1.1505716484292459,
          -0.5187914749596527,
          -0.5187914749596527,
          2.1270864756984964,
          -0.5187914749596527,
          -0.5187914749596527,
          -0.5187914749596527,
          2.1270864756984964,
          -0.5187914749596527,
          -0.5187914749596527,
          -0.5187914749596527,
          -0.5187914749596527,
          2.1270864756984964,
          -0.5187914749596527,
          -0.5187914749596527,
          -0.5187914749596527,
          2.1270864756984964,
          -0.5187914749596527,
          -0.5187914749596527,
          -0.5187914749596527,
          2.1270864756984964,
          -0.5187914749596527,
          -0.5187914749596527,
          -0.5187914749596527,
          -0.5187914749596527,
          -0.5187914749596527,
          -0.5187914749596527,
          -0.5187914749596527,
          -0.5187914749596527,
          -0.5187914749596527,
          -0.5187914749596527,
          -0.5187914749596527,
          -0.5187914749596527,
          1.1505716484292459,
          -0.5187914749596527,
          1.1505716484292459,
          -0.5187914749596527,
          -0.5187914749596527,
          -0.5187914749596527,
          -0.5187914749596527,
          -0.5187914749596527,
          -0.5187914749596527,
          1.1505716484292459,
          2.1270864756984964,
          -0.5187914749596527,
          2.1270864756984964,
          -0.5187914749596527,
          -0.5187914749596527,
          -0.5187914749596527,
          1.1505716484292459,
          1.1505716484292459,
          -0.5187914749596527,
          -0.5187914749596527,
          -0.5187914749596527,
          -0.5187914749596527,
          -0.5187914749596527,
          -0.5187914749596527,
          -0.5187914749596527,
          -0.5187914749596527,
          -0.5187914749596527,
          -0.5187914749596527,
          2.1270864756984964,
          2.1270864756984964,
          2.8199347718181444,
          3.3573496618059493,
          -0.5187914749596527,
          1.1505716484292459,
          -0.5187914749596527,
          -0.5187914749596527,
          -0.5187914749596527,
          -0.5187914749596527,
          2.1270864756984964,
          1.1505716484292459,
          -0.5187914749596527,
          1.1505716484292459,
          -0.5187914749596527,
          2.1270864756984964,
          -0.5187914749596527,
          -0.5187914749596527,
          -0.5187914749596527,
          -0.5187914749596527,
          -0.5187914749596527,
          -0.5187914749596527,
          -0.5187914749596527,
          -0.5187914749596527,
          -0.5187914749596527,
          -0.5187914749596527,
          -0.5187914749596527,
          -0.5187914749596527,
          -0.5187914749596527,
          -0.5187914749596527,
          -0.5187914749596527,
          -0.5187914749596527,
          -0.5187914749596527,
          -0.5187914749596527,
          1.1505716484292459,
          -0.5187914749596527,
          -0.5187914749596527,
          2.1270864756984964,
          -0.5187914749596527,
          -0.5187914749596527,
          -0.5187914749596527,
          -0.5187914749596527,
          -0.5187914749596527,
          -0.5187914749596527,
          1.1505716484292459,
          2.1270864756984964,
          -0.5187914749596527,
          -0.5187914749596527,
          -0.5187914749596527,
          -0.5187914749596527,
          1.1505716484292459,
          -0.5187914749596527,
          -0.5187914749596527,
          -0.5187914749596527,
          1.1505716484292459,
          -0.5187914749596527,
          -0.5187914749596527,
          -0.5187914749596527,
          -0.5187914749596527,
          -0.5187914749596527,
          -0.5187914749596527,
          -0.5187914749596527,
          -0.5187914749596527,
          2.1270864756984964,
          -0.5187914749596527,
          -0.5187914749596527,
          -0.5187914749596527,
          -0.5187914749596527,
          -0.5187914749596527,
          -0.5187914749596527,
          -0.5187914749596527,
          2.1270864756984964,
          -0.5187914749596527,
          -0.5187914749596527,
          -0.5187914749596527,
          -0.5187914749596527,
          -0.5187914749596527,
          -0.5187914749596527,
          -0.5187914749596527,
          -0.5187914749596527,
          -0.5187914749596527,
          -0.5187914749596527,
          -0.5187914749596527,
          -0.5187914749596527,
          -0.5187914749596527,
          -0.5187914749596527,
          -0.5187914749596527,
          -0.5187914749596527,
          1.1505716484292459,
          -0.5187914749596527,
          -0.5187914749596527,
          -0.5187914749596527,
          -0.5187914749596527,
          -0.5187914749596527,
          1.1505716484292459,
          1.1505716484292459,
          -0.5187914749596527,
          1.1505716484292459,
          2.1270864756984964,
          -0.5187914749596527,
          2.1270864756984964,
          -0.5187914749596527,
          -0.5187914749596527,
          -0.5187914749596527,
          2.1270864756984964,
          2.1270864756984964,
          2.1270864756984964,
          2.1270864756984964,
          -0.5187914749596527,
          -0.5187914749596527,
          -0.5187914749596527,
          -0.5187914749596527,
          -0.5187914749596527,
          1.1505716484292459,
          1.1505716484292459,
          2.1270864756984964,
          -0.5187914749596527,
          -0.5187914749596527,
          -0.5187914749596527,
          -0.5187914749596527,
          -0.5187914749596527,
          -0.5187914749596527,
          -0.5187914749596527,
          1.1505716484292459,
          -0.5187914749596527,
          -0.5187914749596527,
          -0.5187914749596527,
          -0.5187914749596527,
          -0.5187914749596527,
          -0.5187914749596527,
          -0.5187914749596527,
          -0.5187914749596527,
          3.3573496618059493,
          -0.5187914749596527,
          -0.5187914749596527,
          -0.5187914749596527,
          -0.5187914749596527,
          -0.5187914749596527,
          -0.5187914749596527,
          -0.5187914749596527,
          -0.5187914749596527,
          -0.5187914749596527,
          -0.5187914749596527,
          -0.5187914749596527,
          -0.5187914749596527,
          1.1505716484292459,
          1.1505716484292459,
          -0.5187914749596527,
          -0.5187914749596527,
          -0.5187914749596527,
          2.1270864756984964,
          -0.5187914749596527,
          1.1505716484292459,
          -0.5187914749596527,
          -0.5187914749596527,
          -0.5187914749596527,
          -0.5187914749596527,
          -0.5187914749596527,
          2.1270864756984964,
          -0.5187914749596527,
          1.1505716484292459,
          -0.5187914749596527,
          -0.5187914749596527,
          -0.5187914749596527,
          -0.5187914749596527,
          1.1505716484292459,
          -0.5187914749596527,
          -0.5187914749596527,
          -0.5187914749596527,
          -0.5187914749596527,
          -0.5187914749596527,
          -0.5187914749596527,
          -0.5187914749596527,
          2.1270864756984964,
          -0.5187914749596527,
          3.7964495990873943,
          -0.5187914749596527,
          -0.5187914749596527,
          -0.5187914749596527,
          -0.5187914749596527,
          2.1270864756984964,
          1.1505716484292459,
          -0.5187914749596527,
          1.1505716484292459,
          -0.5187914749596527,
          -0.5187914749596527,
          -0.5187914749596527,
          1.1505716484292459,
          -0.5187914749596527,
          -0.5187914749596527,
          -0.5187914749596527,
          -0.5187914749596527,
          -0.5187914749596527,
          -0.5187914749596527,
          -0.5187914749596527,
          -0.5187914749596527,
          -0.5187914749596527,
          -0.5187914749596527,
          -0.5187914749596527,
          2.1270864756984964,
          -0.5187914749596527,
          -0.5187914749596527,
          1.1505716484292459,
          3.7964495990873943,
          -0.5187914749596527,
          -0.5187914749596527,
          -0.5187914749596527,
          2.1270864756984964,
          -0.5187914749596527,
          1.1505716484292459,
          -0.5187914749596527,
          -0.5187914749596527,
          -0.5187914749596527,
          -0.5187914749596527,
          -0.5187914749596527,
          -0.5187914749596527,
          1.1505716484292459,
          -0.5187914749596527,
          -0.5187914749596527,
          -0.5187914749596527,
          -0.5187914749596527,
          -0.5187914749596527,
          1.1505716484292459,
          -0.5187914749596527,
          2.1270864756984964,
          -0.5187914749596527,
          -0.5187914749596527,
          -0.5187914749596527,
          -0.5187914749596527,
          -0.5187914749596527,
          -0.5187914749596527,
          -0.5187914749596527,
          -0.5187914749596527,
          -0.5187914749596527,
          -0.5187914749596527,
          1.1505716484292459,
          -0.5187914749596527,
          -0.5187914749596527,
          -0.5187914749596527,
          -0.5187914749596527,
          -0.5187914749596527,
          -0.5187914749596527,
          -0.5187914749596527,
          4.167703306187627,
          1.1505716484292459,
          -0.5187914749596527,
          -0.5187914749596527,
          -0.5187914749596527,
          2.1270864756984964,
          1.1505716484292459,
          2.1270864756984964,
          1.1505716484292459,
          -0.5187914749596527,
          -0.5187914749596527,
          1.1505716484292459,
          -0.5187914749596527,
          1.1505716484292459,
          -0.5187914749596527,
          -0.5187914749596527,
          -0.5187914749596527,
          -0.5187914749596527,
          -0.5187914749596527,
          -0.5187914749596527,
          1.1505716484292459,
          -0.5187914749596527,
          -0.5187914749596527,
          -0.5187914749596527,
          1.1505716484292459,
          -0.5187914749596527,
          -0.5187914749596527,
          -0.5187914749596527,
          -0.5187914749596527,
          -0.5187914749596527,
          -0.5187914749596527,
          1.1505716484292459,
          -0.5187914749596527,
          -0.5187914749596527,
          -0.5187914749596527,
          -0.5187914749596527,
          -0.5187914749596527,
          -0.5187914749596527,
          -0.5187914749596527,
          -0.5187914749596527,
          -0.5187914749596527,
          -0.5187914749596527,
          1.1505716484292459,
          -0.5187914749596527,
          -0.5187914749596527,
          -0.5187914749596527,
          -0.5187914749596527,
          -0.5187914749596527,
          -0.5187914749596527,
          -0.5187914749596527,
          -0.5187914749596527,
          -0.5187914749596527,
          -0.5187914749596527,
          -0.5187914749596527,
          -0.5187914749596527,
          -0.5187914749596527,
          -0.5187914749596527,
          -0.5187914749596527,
          2.8199347718181444,
          -0.5187914749596527,
          -0.5187914749596527,
          -0.5187914749596527,
          -0.5187914749596527,
          -0.5187914749596527,
          2.1270864756984964,
          -0.5187914749596527,
          -0.5187914749596527,
          1.1505716484292459,
          1.1505716484292459,
          -0.5187914749596527,
          -0.5187914749596527,
          -0.5187914749596527,
          1.1505716484292459,
          1.1505716484292459,
          -0.5187914749596527,
          -0.5187914749596527,
          2.1270864756984964,
          1.1505716484292459,
          -0.5187914749596527,
          -0.5187914749596527,
          -0.5187914749596527,
          -0.5187914749596527,
          -0.5187914749596527,
          -0.5187914749596527,
          -0.5187914749596527,
          2.1270864756984964,
          -0.5187914749596527,
          -0.5187914749596527,
          -0.5187914749596527,
          -0.5187914749596527,
          -0.5187914749596527,
          -0.5187914749596527,
          -0.5187914749596527,
          -0.5187914749596527,
          -0.5187914749596527,
          -0.5187914749596527,
          2.8199347718181444,
          -0.5187914749596527,
          -0.5187914749596527,
          -0.5187914749596527,
          -0.5187914749596527,
          1.1505716484292459,
          -0.5187914749596527,
          -0.5187914749596527,
          -0.5187914749596527,
          2.1270864756984964,
          -0.5187914749596527,
          -0.5187914749596527,
          -0.5187914749596527,
          1.1505716484292459,
          2.1270864756984964,
          -0.5187914749596527,
          -0.5187914749596527,
          -0.5187914749596527,
          2.1270864756984964,
          -0.5187914749596527,
          -0.5187914749596527,
          -0.5187914749596527,
          -0.5187914749596527,
          -0.5187914749596527,
          -0.5187914749596527,
          1.1505716484292459,
          -0.5187914749596527,
          1.1505716484292459,
          2.1270864756984964,
          1.1505716484292459,
          -0.5187914749596527,
          -0.5187914749596527,
          -0.5187914749596527,
          -0.5187914749596527,
          -0.5187914749596527,
          -0.5187914749596527,
          -0.5187914749596527,
          -0.5187914749596527,
          -0.5187914749596527,
          2.1270864756984964,
          -0.5187914749596527,
          -0.5187914749596527,
          -0.5187914749596527,
          1.1505716484292459,
          -0.5187914749596527,
          2.1270864756984964,
          1.1505716484292459,
          -0.5187914749596527,
          -0.5187914749596527,
          1.1505716484292459,
          1.1505716484292459,
          -0.5187914749596527,
          -0.5187914749596527,
          2.1270864756984964,
          -0.5187914749596527,
          -0.5187914749596527,
          -0.5187914749596527,
          1.1505716484292459,
          -0.5187914749596527,
          -0.5187914749596527,
          -0.5187914749596527,
          1.1505716484292459,
          -0.5187914749596527,
          -0.5187914749596527,
          -0.5187914749596527,
          -0.5187914749596527,
          -0.5187914749596527,
          -0.5187914749596527,
          -0.5187914749596527,
          -0.5187914749596527,
          -0.5187914749596527,
          -0.5187914749596527,
          2.1270864756984964,
          -0.5187914749596527,
          1.1505716484292459,
          -0.5187914749596527,
          2.1270864756984964,
          -0.5187914749596527,
          1.1505716484292459,
          1.1505716484292459,
          -0.5187914749596527,
          1.1505716484292459,
          1.1505716484292459,
          -0.5187914749596527,
          2.8199347718181444,
          -0.5187914749596527,
          -0.5187914749596527,
          -0.5187914749596527,
          -0.5187914749596527,
          2.1270864756984964,
          -0.5187914749596527,
          -0.5187914749596527,
          -0.5187914749596527,
          -0.5187914749596527,
          -0.5187914749596527,
          1.1505716484292459,
          -0.5187914749596527,
          1.1505716484292459,
          -0.5187914749596527,
          -0.5187914749596527,
          -0.5187914749596527,
          -0.5187914749596527,
          -0.5187914749596527,
          -0.5187914749596527,
          -0.5187914749596527,
          1.1505716484292459,
          1.1505716484292459,
          -0.5187914749596527,
          -0.5187914749596527,
          -0.5187914749596527,
          -0.5187914749596527,
          3.7964495990873943,
          -0.5187914749596527,
          -0.5187914749596527,
          2.1270864756984964,
          -0.5187914749596527,
          -0.5187914749596527,
          -0.5187914749596527,
          -0.5187914749596527,
          -0.5187914749596527,
          -0.5187914749596527,
          1.1505716484292459,
          -0.5187914749596527,
          -0.5187914749596527,
          1.1505716484292459,
          -0.5187914749596527,
          -0.5187914749596527,
          -0.5187914749596527,
          -0.5187914749596527,
          -0.5187914749596527,
          -0.5187914749596527,
          -0.5187914749596527,
          -0.5187914749596527,
          -0.5187914749596527,
          -0.5187914749596527,
          -0.5187914749596527,
          -0.5187914749596527,
          -0.5187914749596527,
          1.1505716484292459,
          -0.5187914749596527,
          1.1505716484292459,
          2.8199347718181444,
          -0.5187914749596527,
          1.1505716484292459,
          -0.5187914749596527,
          -0.5187914749596527,
          -0.5187914749596527,
          -0.5187914749596527,
          -0.5187914749596527,
          2.1270864756984964,
          2.1270864756984964,
          -0.5187914749596527,
          -0.5187914749596527,
          -0.5187914749596527,
          -0.5187914749596527,
          -0.5187914749596527,
          -0.5187914749596527,
          1.1505716484292459,
          -0.5187914749596527,
          -0.5187914749596527,
          -0.5187914749596527,
          -0.5187914749596527,
          -0.5187914749596527,
          -0.5187914749596527,
          -0.5187914749596527,
          -0.5187914749596527,
          2.1270864756984964,
          -0.5187914749596527,
          -0.5187914749596527,
          1.1505716484292459,
          2.1270864756984964,
          -0.5187914749596527,
          1.1505716484292459,
          -0.5187914749596527,
          -0.5187914749596527,
          -0.5187914749596527,
          -0.5187914749596527,
          -0.5187914749596527,
          -0.5187914749596527,
          -0.5187914749596527,
          -0.5187914749596527,
          2.1270864756984964,
          -0.5187914749596527,
          -0.5187914749596527,
          -0.5187914749596527,
          -0.5187914749596527,
          3.3573496618059493,
          -0.5187914749596527,
          -0.5187914749596527,
          -0.5187914749596527,
          -0.5187914749596527,
          -0.5187914749596527,
          -0.5187914749596527,
          -0.5187914749596527,
          -0.5187914749596527,
          -0.5187914749596527,
          -0.5187914749596527,
          1.1505716484292459,
          -0.5187914749596527,
          -0.5187914749596527,
          -0.5187914749596527,
          -0.5187914749596527,
          -0.5187914749596527,
          -0.5187914749596527,
          -0.5187914749596527,
          -0.5187914749596527,
          1.1505716484292459,
          -0.5187914749596527,
          -0.5187914749596527,
          2.1270864756984964,
          -0.5187914749596527,
          -0.5187914749596527,
          -0.5187914749596527,
          -0.5187914749596527,
          -0.5187914749596527,
          -0.5187914749596527,
          -0.5187914749596527,
          -0.5187914749596527,
          -0.5187914749596527,
          -0.5187914749596527,
          -0.5187914749596527,
          1.1505716484292459,
          -0.5187914749596527,
          -0.5187914749596527,
          -0.5187914749596527,
          -0.5187914749596527,
          -0.5187914749596527,
          -0.5187914749596527,
          -0.5187914749596527,
          -0.5187914749596527,
          -0.5187914749596527,
          -0.5187914749596527,
          -0.5187914749596527,
          -0.5187914749596527,
          1.1505716484292459,
          -0.5187914749596527,
          -0.5187914749596527,
          -0.5187914749596527,
          -0.5187914749596527,
          -0.5187914749596527,
          -0.5187914749596527,
          -0.5187914749596527,
          1.1505716484292459,
          -0.5187914749596527,
          -0.5187914749596527,
          -0.5187914749596527,
          -0.5187914749596527,
          -0.5187914749596527,
          -0.5187914749596527,
          3.3573496618059493,
          -0.5187914749596527,
          -0.5187914749596527,
          -0.5187914749596527,
          -0.5187914749596527,
          -0.5187914749596527,
          -0.5187914749596527,
          4.167703306187627,
          2.1270864756984964,
          -0.5187914749596527,
          2.8199347718181444,
          -0.5187914749596527,
          -0.5187914749596527,
          -0.5187914749596527,
          -0.5187914749596527,
          -0.5187914749596527,
          -0.5187914749596527,
          1.1505716484292459,
          1.1505716484292459,
          -0.5187914749596527,
          -0.5187914749596527,
          2.1270864756984964,
          2.1270864756984964,
          -0.5187914749596527,
          -0.5187914749596527,
          -0.5187914749596527,
          -0.5187914749596527,
          2.1270864756984964,
          -0.5187914749596527,
          1.1505716484292459,
          -0.5187914749596527,
          -0.5187914749596527,
          -0.5187914749596527,
          1.1505716484292459,
          -0.5187914749596527,
          2.1270864756984964,
          -0.5187914749596527,
          -0.5187914749596527,
          -0.5187914749596527,
          -0.5187914749596527,
          -0.5187914749596527,
          -0.5187914749596527,
          3.7964495990873943,
          2.1270864756984964,
          -0.5187914749596527,
          -0.5187914749596527,
          2.8199347718181444,
          2.1270864756984964,
          -0.5187914749596527,
          1.1505716484292459,
          -0.5187914749596527,
          -0.5187914749596527,
          1.1505716484292459,
          -0.5187914749596527,
          1.1505716484292459,
          -0.5187914749596527,
          2.1270864756984964,
          -0.5187914749596527,
          -0.5187914749596527,
          -0.5187914749596527,
          1.1505716484292459,
          -0.5187914749596527,
          2.1270864756984964,
          -0.5187914749596527,
          2.1270864756984964,
          -0.5187914749596527,
          -0.5187914749596527,
          -0.5187914749596527,
          -0.5187914749596527,
          2.1270864756984964,
          -0.5187914749596527,
          1.1505716484292459,
          -0.5187914749596527,
          -0.5187914749596527,
          -0.5187914749596527,
          -0.5187914749596527,
          -0.5187914749596527,
          -0.5187914749596527,
          -0.5187914749596527,
          -0.5187914749596527,
          -0.5187914749596527,
          -0.5187914749596527,
          2.1270864756984964,
          -0.5187914749596527,
          -0.5187914749596527,
          1.1505716484292459,
          1.1505716484292459,
          -0.5187914749596527,
          -0.5187914749596527,
          -0.5187914749596527,
          -0.5187914749596527,
          -0.5187914749596527,
          -0.5187914749596527,
          2.1270864756984964,
          -0.5187914749596527,
          -0.5187914749596527,
          -0.5187914749596527,
          -0.5187914749596527,
          -0.5187914749596527,
          -0.5187914749596527,
          -0.5187914749596527,
          -0.5187914749596527,
          -0.5187914749596527,
          -0.5187914749596527,
          -0.5187914749596527,
          -0.5187914749596527,
          1.1505716484292459,
          -0.5187914749596527,
          -0.5187914749596527,
          2.1270864756984964,
          1.1505716484292459,
          -0.5187914749596527,
          2.1270864756984964,
          -0.5187914749596527,
          -0.5187914749596527,
          1.1505716484292459,
          -0.5187914749596527,
          -0.5187914749596527,
          2.1270864756984964,
          -0.5187914749596527,
          -0.5187914749596527,
          -0.5187914749596527,
          -0.5187914749596527,
          -0.5187914749596527,
          -0.5187914749596527,
          -0.5187914749596527,
          -0.5187914749596527,
          -0.5187914749596527,
          -0.5187914749596527,
          -0.5187914749596527,
          2.1270864756984964,
          1.1505716484292459,
          -0.5187914749596527,
          -0.5187914749596527,
          -0.5187914749596527,
          -0.5187914749596527,
          -0.5187914749596527,
          -0.5187914749596527,
          -0.5187914749596527,
          -0.5187914749596527,
          -0.5187914749596527,
          -0.5187914749596527,
          -0.5187914749596527,
          -0.5187914749596527,
          -0.5187914749596527,
          -0.5187914749596527,
          -0.5187914749596527,
          -0.5187914749596527,
          -0.5187914749596527,
          1.1505716484292459,
          -0.5187914749596527,
          1.1505716484292459,
          1.1505716484292459,
          -0.5187914749596527,
          -0.5187914749596527,
          -0.5187914749596527,
          -0.5187914749596527,
          -0.5187914749596527,
          -0.5187914749596527,
          -0.5187914749596527,
          -0.5187914749596527,
          1.1505716484292459,
          -0.5187914749596527,
          -0.5187914749596527,
          2.1270864756984964,
          -0.5187914749596527,
          -0.5187914749596527,
          -0.5187914749596527,
          -0.5187914749596527,
          -0.5187914749596527,
          1.1505716484292459,
          -0.5187914749596527,
          -0.5187914749596527,
          1.1505716484292459,
          2.1270864756984964,
          1.1505716484292459,
          1.1505716484292459,
          -0.5187914749596527,
          -0.5187914749596527,
          -0.5187914749596527,
          -0.5187914749596527,
          -0.5187914749596527,
          -0.5187914749596527,
          -0.5187914749596527,
          -0.5187914749596527,
          -0.5187914749596527,
          -0.5187914749596527,
          -0.5187914749596527,
          -0.5187914749596527,
          -0.5187914749596527,
          -0.5187914749596527,
          -0.5187914749596527,
          -0.5187914749596527,
          -0.5187914749596527,
          1.1505716484292459,
          -0.5187914749596527,
          -0.5187914749596527,
          -0.5187914749596527,
          2.1270864756984964,
          -0.5187914749596527,
          -0.5187914749596527,
          1.1505716484292459,
          -0.5187914749596527,
          -0.5187914749596527,
          -0.5187914749596527,
          2.1270864756984964,
          -0.5187914749596527,
          -0.5187914749596527,
          -0.5187914749596527,
          -0.5187914749596527,
          5.026712785194849,
          1.1505716484292459,
          1.1505716484292459,
          -0.5187914749596527,
          -0.5187914749596527,
          -0.5187914749596527,
          -0.5187914749596527,
          -0.5187914749596527,
          1.1505716484292459,
          -0.5187914749596527,
          -0.5187914749596527,
          2.1270864756984964,
          2.1270864756984964,
          -0.5187914749596527,
          -0.5187914749596527,
          -0.5187914749596527,
          -0.5187914749596527,
          -0.5187914749596527,
          2.1270864756984964,
          1.1505716484292459,
          -0.5187914749596527,
          -0.5187914749596527,
          -0.5187914749596527,
          5.026712785194849,
          -0.5187914749596527,
          -0.5187914749596527,
          1.1505716484292459,
          -0.5187914749596527,
          -0.5187914749596527,
          -0.5187914749596527,
          -0.5187914749596527,
          -0.5187914749596527,
          1.1505716484292459,
          -0.5187914749596527,
          -0.5187914749596527,
          -0.5187914749596527,
          -0.5187914749596527,
          2.1270864756984964,
          -0.5187914749596527,
          -0.5187914749596527,
          -0.5187914749596527,
          -0.5187914749596527,
          -0.5187914749596527,
          2.1270864756984964,
          -0.5187914749596527,
          -0.5187914749596527,
          -0.5187914749596527,
          1.1505716484292459,
          -0.5187914749596527,
          1.1505716484292459,
          2.1270864756984964,
          -0.5187914749596527,
          1.1505716484292459,
          -0.5187914749596527,
          -0.5187914749596527,
          1.1505716484292459,
          -0.5187914749596527,
          -0.5187914749596527,
          -0.5187914749596527,
          -0.5187914749596527,
          1.1505716484292459,
          -0.5187914749596527,
          -0.5187914749596527,
          -0.5187914749596527,
          -0.5187914749596527,
          1.1505716484292459,
          -0.5187914749596527,
          1.1505716484292459,
          -0.5187914749596527,
          -0.5187914749596527,
          -0.5187914749596527,
          -0.5187914749596527,
          -0.5187914749596527,
          -0.5187914749596527,
          -0.5187914749596527,
          1.1505716484292459
         ],
         "xaxis": "x",
         "yaxis": "y"
        }
       ],
       "layout": {
        "barmode": "relative",
        "legend": {
         "title": {
          "text": "variable"
         },
         "tracegroupgap": 0
        },
        "template": {
         "data": {
          "bar": [
           {
            "error_x": {
             "color": "#2a3f5f"
            },
            "error_y": {
             "color": "#2a3f5f"
            },
            "marker": {
             "line": {
              "color": "#E5ECF6",
              "width": 0.5
             },
             "pattern": {
              "fillmode": "overlay",
              "size": 10,
              "solidity": 0.2
             }
            },
            "type": "bar"
           }
          ],
          "barpolar": [
           {
            "marker": {
             "line": {
              "color": "#E5ECF6",
              "width": 0.5
             },
             "pattern": {
              "fillmode": "overlay",
              "size": 10,
              "solidity": 0.2
             }
            },
            "type": "barpolar"
           }
          ],
          "carpet": [
           {
            "aaxis": {
             "endlinecolor": "#2a3f5f",
             "gridcolor": "white",
             "linecolor": "white",
             "minorgridcolor": "white",
             "startlinecolor": "#2a3f5f"
            },
            "baxis": {
             "endlinecolor": "#2a3f5f",
             "gridcolor": "white",
             "linecolor": "white",
             "minorgridcolor": "white",
             "startlinecolor": "#2a3f5f"
            },
            "type": "carpet"
           }
          ],
          "choropleth": [
           {
            "colorbar": {
             "outlinewidth": 0,
             "ticks": ""
            },
            "type": "choropleth"
           }
          ],
          "contour": [
           {
            "colorbar": {
             "outlinewidth": 0,
             "ticks": ""
            },
            "colorscale": [
             [
              0,
              "#0d0887"
             ],
             [
              0.1111111111111111,
              "#46039f"
             ],
             [
              0.2222222222222222,
              "#7201a8"
             ],
             [
              0.3333333333333333,
              "#9c179e"
             ],
             [
              0.4444444444444444,
              "#bd3786"
             ],
             [
              0.5555555555555556,
              "#d8576b"
             ],
             [
              0.6666666666666666,
              "#ed7953"
             ],
             [
              0.7777777777777778,
              "#fb9f3a"
             ],
             [
              0.8888888888888888,
              "#fdca26"
             ],
             [
              1,
              "#f0f921"
             ]
            ],
            "type": "contour"
           }
          ],
          "contourcarpet": [
           {
            "colorbar": {
             "outlinewidth": 0,
             "ticks": ""
            },
            "type": "contourcarpet"
           }
          ],
          "heatmap": [
           {
            "colorbar": {
             "outlinewidth": 0,
             "ticks": ""
            },
            "colorscale": [
             [
              0,
              "#0d0887"
             ],
             [
              0.1111111111111111,
              "#46039f"
             ],
             [
              0.2222222222222222,
              "#7201a8"
             ],
             [
              0.3333333333333333,
              "#9c179e"
             ],
             [
              0.4444444444444444,
              "#bd3786"
             ],
             [
              0.5555555555555556,
              "#d8576b"
             ],
             [
              0.6666666666666666,
              "#ed7953"
             ],
             [
              0.7777777777777778,
              "#fb9f3a"
             ],
             [
              0.8888888888888888,
              "#fdca26"
             ],
             [
              1,
              "#f0f921"
             ]
            ],
            "type": "heatmap"
           }
          ],
          "heatmapgl": [
           {
            "colorbar": {
             "outlinewidth": 0,
             "ticks": ""
            },
            "colorscale": [
             [
              0,
              "#0d0887"
             ],
             [
              0.1111111111111111,
              "#46039f"
             ],
             [
              0.2222222222222222,
              "#7201a8"
             ],
             [
              0.3333333333333333,
              "#9c179e"
             ],
             [
              0.4444444444444444,
              "#bd3786"
             ],
             [
              0.5555555555555556,
              "#d8576b"
             ],
             [
              0.6666666666666666,
              "#ed7953"
             ],
             [
              0.7777777777777778,
              "#fb9f3a"
             ],
             [
              0.8888888888888888,
              "#fdca26"
             ],
             [
              1,
              "#f0f921"
             ]
            ],
            "type": "heatmapgl"
           }
          ],
          "histogram": [
           {
            "marker": {
             "pattern": {
              "fillmode": "overlay",
              "size": 10,
              "solidity": 0.2
             }
            },
            "type": "histogram"
           }
          ],
          "histogram2d": [
           {
            "colorbar": {
             "outlinewidth": 0,
             "ticks": ""
            },
            "colorscale": [
             [
              0,
              "#0d0887"
             ],
             [
              0.1111111111111111,
              "#46039f"
             ],
             [
              0.2222222222222222,
              "#7201a8"
             ],
             [
              0.3333333333333333,
              "#9c179e"
             ],
             [
              0.4444444444444444,
              "#bd3786"
             ],
             [
              0.5555555555555556,
              "#d8576b"
             ],
             [
              0.6666666666666666,
              "#ed7953"
             ],
             [
              0.7777777777777778,
              "#fb9f3a"
             ],
             [
              0.8888888888888888,
              "#fdca26"
             ],
             [
              1,
              "#f0f921"
             ]
            ],
            "type": "histogram2d"
           }
          ],
          "histogram2dcontour": [
           {
            "colorbar": {
             "outlinewidth": 0,
             "ticks": ""
            },
            "colorscale": [
             [
              0,
              "#0d0887"
             ],
             [
              0.1111111111111111,
              "#46039f"
             ],
             [
              0.2222222222222222,
              "#7201a8"
             ],
             [
              0.3333333333333333,
              "#9c179e"
             ],
             [
              0.4444444444444444,
              "#bd3786"
             ],
             [
              0.5555555555555556,
              "#d8576b"
             ],
             [
              0.6666666666666666,
              "#ed7953"
             ],
             [
              0.7777777777777778,
              "#fb9f3a"
             ],
             [
              0.8888888888888888,
              "#fdca26"
             ],
             [
              1,
              "#f0f921"
             ]
            ],
            "type": "histogram2dcontour"
           }
          ],
          "mesh3d": [
           {
            "colorbar": {
             "outlinewidth": 0,
             "ticks": ""
            },
            "type": "mesh3d"
           }
          ],
          "parcoords": [
           {
            "line": {
             "colorbar": {
              "outlinewidth": 0,
              "ticks": ""
             }
            },
            "type": "parcoords"
           }
          ],
          "pie": [
           {
            "automargin": true,
            "type": "pie"
           }
          ],
          "scatter": [
           {
            "fillpattern": {
             "fillmode": "overlay",
             "size": 10,
             "solidity": 0.2
            },
            "type": "scatter"
           }
          ],
          "scatter3d": [
           {
            "line": {
             "colorbar": {
              "outlinewidth": 0,
              "ticks": ""
             }
            },
            "marker": {
             "colorbar": {
              "outlinewidth": 0,
              "ticks": ""
             }
            },
            "type": "scatter3d"
           }
          ],
          "scattercarpet": [
           {
            "marker": {
             "colorbar": {
              "outlinewidth": 0,
              "ticks": ""
             }
            },
            "type": "scattercarpet"
           }
          ],
          "scattergeo": [
           {
            "marker": {
             "colorbar": {
              "outlinewidth": 0,
              "ticks": ""
             }
            },
            "type": "scattergeo"
           }
          ],
          "scattergl": [
           {
            "marker": {
             "colorbar": {
              "outlinewidth": 0,
              "ticks": ""
             }
            },
            "type": "scattergl"
           }
          ],
          "scattermapbox": [
           {
            "marker": {
             "colorbar": {
              "outlinewidth": 0,
              "ticks": ""
             }
            },
            "type": "scattermapbox"
           }
          ],
          "scatterpolar": [
           {
            "marker": {
             "colorbar": {
              "outlinewidth": 0,
              "ticks": ""
             }
            },
            "type": "scatterpolar"
           }
          ],
          "scatterpolargl": [
           {
            "marker": {
             "colorbar": {
              "outlinewidth": 0,
              "ticks": ""
             }
            },
            "type": "scatterpolargl"
           }
          ],
          "scatterternary": [
           {
            "marker": {
             "colorbar": {
              "outlinewidth": 0,
              "ticks": ""
             }
            },
            "type": "scatterternary"
           }
          ],
          "surface": [
           {
            "colorbar": {
             "outlinewidth": 0,
             "ticks": ""
            },
            "colorscale": [
             [
              0,
              "#0d0887"
             ],
             [
              0.1111111111111111,
              "#46039f"
             ],
             [
              0.2222222222222222,
              "#7201a8"
             ],
             [
              0.3333333333333333,
              "#9c179e"
             ],
             [
              0.4444444444444444,
              "#bd3786"
             ],
             [
              0.5555555555555556,
              "#d8576b"
             ],
             [
              0.6666666666666666,
              "#ed7953"
             ],
             [
              0.7777777777777778,
              "#fb9f3a"
             ],
             [
              0.8888888888888888,
              "#fdca26"
             ],
             [
              1,
              "#f0f921"
             ]
            ],
            "type": "surface"
           }
          ],
          "table": [
           {
            "cells": {
             "fill": {
              "color": "#EBF0F8"
             },
             "line": {
              "color": "white"
             }
            },
            "header": {
             "fill": {
              "color": "#C8D4E3"
             },
             "line": {
              "color": "white"
             }
            },
            "type": "table"
           }
          ]
         },
         "layout": {
          "annotationdefaults": {
           "arrowcolor": "#2a3f5f",
           "arrowhead": 0,
           "arrowwidth": 1
          },
          "autotypenumbers": "strict",
          "coloraxis": {
           "colorbar": {
            "outlinewidth": 0,
            "ticks": ""
           }
          },
          "colorscale": {
           "diverging": [
            [
             0,
             "#8e0152"
            ],
            [
             0.1,
             "#c51b7d"
            ],
            [
             0.2,
             "#de77ae"
            ],
            [
             0.3,
             "#f1b6da"
            ],
            [
             0.4,
             "#fde0ef"
            ],
            [
             0.5,
             "#f7f7f7"
            ],
            [
             0.6,
             "#e6f5d0"
            ],
            [
             0.7,
             "#b8e186"
            ],
            [
             0.8,
             "#7fbc41"
            ],
            [
             0.9,
             "#4d9221"
            ],
            [
             1,
             "#276419"
            ]
           ],
           "sequential": [
            [
             0,
             "#0d0887"
            ],
            [
             0.1111111111111111,
             "#46039f"
            ],
            [
             0.2222222222222222,
             "#7201a8"
            ],
            [
             0.3333333333333333,
             "#9c179e"
            ],
            [
             0.4444444444444444,
             "#bd3786"
            ],
            [
             0.5555555555555556,
             "#d8576b"
            ],
            [
             0.6666666666666666,
             "#ed7953"
            ],
            [
             0.7777777777777778,
             "#fb9f3a"
            ],
            [
             0.8888888888888888,
             "#fdca26"
            ],
            [
             1,
             "#f0f921"
            ]
           ],
           "sequentialminus": [
            [
             0,
             "#0d0887"
            ],
            [
             0.1111111111111111,
             "#46039f"
            ],
            [
             0.2222222222222222,
             "#7201a8"
            ],
            [
             0.3333333333333333,
             "#9c179e"
            ],
            [
             0.4444444444444444,
             "#bd3786"
            ],
            [
             0.5555555555555556,
             "#d8576b"
            ],
            [
             0.6666666666666666,
             "#ed7953"
            ],
            [
             0.7777777777777778,
             "#fb9f3a"
            ],
            [
             0.8888888888888888,
             "#fdca26"
            ],
            [
             1,
             "#f0f921"
            ]
           ]
          },
          "colorway": [
           "#636efa",
           "#EF553B",
           "#00cc96",
           "#ab63fa",
           "#FFA15A",
           "#19d3f3",
           "#FF6692",
           "#B6E880",
           "#FF97FF",
           "#FECB52"
          ],
          "font": {
           "color": "#2a3f5f"
          },
          "geo": {
           "bgcolor": "white",
           "lakecolor": "white",
           "landcolor": "#E5ECF6",
           "showlakes": true,
           "showland": true,
           "subunitcolor": "white"
          },
          "hoverlabel": {
           "align": "left"
          },
          "hovermode": "closest",
          "mapbox": {
           "style": "light"
          },
          "paper_bgcolor": "white",
          "plot_bgcolor": "#E5ECF6",
          "polar": {
           "angularaxis": {
            "gridcolor": "white",
            "linecolor": "white",
            "ticks": ""
           },
           "bgcolor": "#E5ECF6",
           "radialaxis": {
            "gridcolor": "white",
            "linecolor": "white",
            "ticks": ""
           }
          },
          "scene": {
           "xaxis": {
            "backgroundcolor": "#E5ECF6",
            "gridcolor": "white",
            "gridwidth": 2,
            "linecolor": "white",
            "showbackground": true,
            "ticks": "",
            "zerolinecolor": "white"
           },
           "yaxis": {
            "backgroundcolor": "#E5ECF6",
            "gridcolor": "white",
            "gridwidth": 2,
            "linecolor": "white",
            "showbackground": true,
            "ticks": "",
            "zerolinecolor": "white"
           },
           "zaxis": {
            "backgroundcolor": "#E5ECF6",
            "gridcolor": "white",
            "gridwidth": 2,
            "linecolor": "white",
            "showbackground": true,
            "ticks": "",
            "zerolinecolor": "white"
           }
          },
          "shapedefaults": {
           "line": {
            "color": "#2a3f5f"
           }
          },
          "ternary": {
           "aaxis": {
            "gridcolor": "white",
            "linecolor": "white",
            "ticks": ""
           },
           "baxis": {
            "gridcolor": "white",
            "linecolor": "white",
            "ticks": ""
           },
           "bgcolor": "#E5ECF6",
           "caxis": {
            "gridcolor": "white",
            "linecolor": "white",
            "ticks": ""
           }
          },
          "title": {
           "x": 0.05
          },
          "xaxis": {
           "automargin": true,
           "gridcolor": "white",
           "linecolor": "white",
           "ticks": "",
           "title": {
            "standoff": 15
           },
           "zerolinecolor": "white",
           "zerolinewidth": 2
          },
          "yaxis": {
           "automargin": true,
           "gridcolor": "white",
           "linecolor": "white",
           "ticks": "",
           "title": {
            "standoff": 15
           },
           "zerolinecolor": "white",
           "zerolinewidth": 2
          }
         }
        },
        "title": {
         "text": "norm_Parch"
        },
        "xaxis": {
         "anchor": "y",
         "domain": [
          0,
          1
         ],
         "title": {
          "text": "value"
         }
        },
        "yaxis": {
         "anchor": "x",
         "domain": [
          0,
          1
         ],
         "title": {
          "text": "count"
         }
        }
       }
      }
     },
     "metadata": {},
     "output_type": "display_data"
    },
    {
     "data": {
      "application/vnd.plotly.v1+json": {
       "config": {
        "plotlyServerURL": "https://plot.ly"
       },
       "data": [
        {
         "alignmentgroup": "True",
         "bingroup": "x",
         "hovertemplate": "variable=SibSp<br>value=%{x}<br>count=%{y}<extra></extra>",
         "legendgroup": "SibSp",
         "marker": {
          "color": "#636efa",
          "pattern": {
           "shape": ""
          }
         },
         "name": "SibSp",
         "offsetgroup": "SibSp",
         "orientation": "v",
         "showlegend": true,
         "type": "histogram",
         "x": [
          1,
          1,
          0,
          1,
          0,
          0,
          0,
          3,
          0,
          1,
          1,
          0,
          0,
          1,
          0,
          0,
          4,
          0,
          1,
          0,
          0,
          0,
          0,
          0,
          3,
          1,
          0,
          3,
          0,
          0,
          0,
          1,
          0,
          0,
          1,
          1,
          0,
          0,
          2,
          1,
          1,
          1,
          0,
          1,
          0,
          0,
          1,
          0,
          2,
          1,
          4,
          0,
          1,
          1,
          0,
          0,
          0,
          0,
          1,
          5,
          0,
          0,
          1,
          3,
          0,
          1,
          0,
          0,
          4,
          2,
          0,
          5,
          0,
          1,
          0,
          0,
          0,
          0,
          0,
          0,
          0,
          0,
          0,
          0,
          0,
          3,
          1,
          0,
          3,
          0,
          0,
          0,
          1,
          1,
          0,
          0,
          0,
          0,
          0,
          1,
          0,
          0,
          0,
          0,
          2,
          0,
          0,
          0,
          0,
          1,
          0,
          1,
          0,
          1,
          0,
          0,
          0,
          1,
          0,
          4,
          2,
          0,
          1,
          0,
          0,
          1,
          0,
          0,
          1,
          0,
          0,
          0,
          1,
          1,
          0,
          0,
          0,
          1,
          0,
          0,
          0,
          0,
          1,
          0,
          0,
          1,
          0,
          2,
          0,
          0,
          0,
          1,
          0,
          0,
          0,
          0,
          0,
          0,
          0,
          8,
          0,
          0,
          0,
          0,
          4,
          0,
          0,
          1,
          0,
          0,
          0,
          4,
          1,
          0,
          0,
          1,
          3,
          0,
          0,
          0,
          8,
          0,
          4,
          2,
          0,
          0,
          1,
          0,
          1,
          0,
          0,
          0,
          1,
          1,
          0,
          0,
          0,
          0,
          0,
          0,
          0,
          8,
          0,
          0,
          0,
          0,
          1,
          0,
          0,
          0,
          0,
          0,
          0,
          0,
          1,
          1,
          0,
          1,
          0,
          0,
          0,
          0,
          0,
          0,
          1,
          0,
          0,
          0,
          0,
          3,
          1,
          0,
          0,
          4,
          0,
          0,
          1,
          0,
          0,
          0,
          1,
          1,
          0,
          0,
          0,
          2,
          0,
          0,
          1,
          1,
          0,
          1,
          0,
          1,
          0,
          0,
          0,
          0,
          0,
          0,
          0,
          4,
          1,
          0,
          0,
          0,
          4,
          1,
          0,
          0,
          0,
          0,
          0,
          0,
          0,
          1,
          0,
          0,
          4,
          1,
          0,
          0,
          0,
          0,
          0,
          0,
          0,
          0,
          0,
          0,
          0,
          1,
          0,
          0,
          0,
          0,
          0,
          1,
          0,
          0,
          0,
          2,
          0,
          0,
          0,
          1,
          0,
          1,
          1,
          0,
          0,
          2,
          1,
          0,
          1,
          0,
          1,
          0,
          0,
          1,
          0,
          0,
          0,
          1,
          8,
          0,
          0,
          0,
          1,
          0,
          2,
          0,
          0,
          2,
          1,
          0,
          1,
          0,
          0,
          0,
          1,
          3,
          0,
          0,
          0,
          0,
          0,
          1,
          1,
          0,
          0,
          0,
          1,
          1,
          0,
          0,
          0,
          0,
          0,
          0,
          1,
          1,
          0,
          0,
          1,
          0,
          1,
          0,
          0,
          0,
          1,
          1,
          0,
          0,
          3,
          1,
          0,
          0,
          0,
          0,
          0,
          0,
          0,
          1,
          0,
          0,
          5,
          0,
          0,
          0,
          1,
          0,
          2,
          1,
          0,
          0,
          0,
          0,
          0,
          0,
          0,
          0,
          1,
          1,
          0,
          1,
          0,
          1,
          0,
          3,
          0,
          0,
          1,
          0,
          0,
          0,
          1,
          0,
          0,
          0,
          0,
          0,
          0,
          1,
          1,
          0,
          1,
          0,
          0,
          0,
          0,
          1,
          1,
          0,
          1,
          1,
          2,
          2,
          1,
          0,
          1,
          0,
          1,
          0,
          0,
          0,
          0,
          0,
          2,
          0,
          1,
          1,
          0,
          1,
          0,
          0,
          0,
          1,
          0,
          0,
          0,
          0,
          0,
          0,
          0,
          0,
          0,
          0,
          0,
          2,
          0,
          0,
          1,
          0,
          0,
          0,
          1,
          1,
          0,
          0,
          5,
          0,
          0,
          0,
          1,
          3,
          1,
          0,
          0,
          1,
          1,
          0,
          0,
          0,
          0,
          0,
          1,
          0,
          1,
          0,
          0,
          0,
          0,
          0,
          0,
          1,
          0,
          0,
          0,
          0,
          0,
          0,
          0,
          1,
          0,
          0,
          0,
          0,
          1,
          0,
          0,
          0,
          0,
          0,
          0,
          0,
          0,
          0,
          0,
          2,
          1,
          0,
          1,
          0,
          0,
          0,
          0,
          0,
          0,
          0,
          0,
          4,
          4,
          1,
          1,
          0,
          1,
          0,
          1,
          1,
          0,
          0,
          0,
          0,
          0,
          0,
          1,
          0,
          1,
          1,
          0,
          0,
          0,
          0,
          0,
          2,
          0,
          0,
          0,
          0,
          0,
          2,
          0,
          0,
          0,
          0,
          0,
          1,
          1,
          0,
          1,
          1,
          0,
          0,
          0,
          0,
          0,
          1,
          0,
          0,
          0,
          1,
          0,
          0,
          1,
          1,
          0,
          0,
          0,
          1,
          2,
          0,
          0,
          0,
          0,
          1,
          0,
          0,
          1,
          0,
          1,
          0,
          1,
          0,
          0,
          1,
          1,
          1,
          2,
          0,
          1,
          1,
          1,
          0,
          0,
          0,
          0,
          0,
          0,
          0,
          0,
          0,
          0,
          0,
          3,
          0,
          0,
          1,
          0,
          1,
          0,
          0,
          3,
          0,
          2,
          1,
          0,
          0,
          0,
          0,
          0,
          0,
          0,
          0,
          0,
          2,
          0,
          1,
          0,
          0,
          2,
          0,
          0,
          0,
          1,
          2,
          0,
          0,
          0,
          1,
          1,
          1,
          0,
          0,
          0,
          0,
          0,
          0,
          1,
          0,
          0,
          0,
          0,
          5,
          1,
          1,
          4,
          0,
          0,
          0,
          1,
          0,
          0,
          0,
          0,
          0,
          0,
          0,
          1,
          0,
          1,
          0,
          0,
          0,
          1,
          0,
          0,
          0,
          0,
          1,
          0,
          0,
          1,
          0,
          0,
          0,
          0,
          0,
          0,
          0,
          0,
          1,
          0,
          0,
          1,
          0,
          3,
          0,
          1,
          1,
          0,
          0,
          0,
          0,
          0,
          0,
          1,
          0,
          0,
          0,
          0,
          1,
          2,
          1,
          0,
          1,
          1,
          0,
          1,
          0,
          1,
          0,
          0,
          0,
          1,
          1,
          0,
          0,
          0,
          0,
          0,
          0,
          0,
          1,
          0,
          1,
          0,
          0,
          1,
          0,
          0,
          0,
          0,
          0,
          1,
          0,
          0,
          0,
          0,
          0,
          0,
          1,
          0,
          1,
          0,
          0,
          0,
          4,
          1,
          0,
          0,
          0,
          8,
          0,
          0,
          0,
          0,
          0,
          0,
          1,
          0,
          1,
          1,
          0,
          0,
          0,
          0,
          0,
          0,
          1,
          0,
          0,
          0,
          4,
          0,
          0,
          0,
          1,
          0,
          3,
          1,
          0,
          0,
          0,
          4,
          0,
          0,
          0,
          0,
          0,
          1,
          1,
          0,
          0,
          0,
          1,
          0,
          0,
          0,
          0,
          0,
          0,
          0,
          0,
          0,
          0,
          8,
          0,
          0,
          1,
          4,
          0,
          1,
          0,
          1,
          0,
          1,
          0,
          0,
          0,
          2,
          1,
          0,
          8,
          0,
          0,
          1,
          0,
          0,
          1,
          0,
          1,
          0,
          0,
          1,
          0,
          0,
          0,
          0,
          0,
          0,
          0,
          0,
          0,
          0,
          0,
          0,
          0,
          1,
          0,
          0,
          0,
          1,
          0,
          0,
          1,
          0,
          0,
          1,
          0,
          2,
          0,
          0,
          1,
          1,
          1,
          1,
          0,
          0,
          1,
          0,
          1,
          0,
          0,
          0,
          1,
          1,
          0,
          0,
          0,
          2,
          1,
          2,
          1,
          1,
          1,
          0,
          0,
          0,
          0,
          0,
          0,
          0,
          0,
          0,
          1,
          0,
          0,
          0,
          0,
          0,
          1,
          0,
          2,
          3,
          0,
          4,
          0,
          0,
          1,
          0,
          0,
          0,
          0,
          0,
          2,
          0,
          0,
          0,
          0,
          1,
          0,
          0,
          0,
          0,
          0,
          0,
          0,
          2,
          0,
          0,
          1,
          1,
          0,
          0,
          0,
          1,
          0,
          0,
          0,
          1,
          1,
          0,
          1,
          0,
          0,
          0,
          1,
          0,
          0,
          0,
          1,
          1,
          0,
          0,
          1,
          0,
          0,
          0,
          0,
          0,
          0,
          0,
          0,
          0,
          1,
          1,
          0,
          1,
          0,
          1,
          0,
          1,
          1,
          0,
          0,
          0,
          0,
          2,
          0,
          0,
          0,
          0,
          0,
          1,
          0,
          0,
          0,
          0,
          0,
          1,
          5,
          0,
          1,
          0,
          0,
          3,
          0,
          0,
          0,
          1,
          0,
          0,
          0,
          0,
          4,
          0,
          0,
          0,
          0,
          0,
          0,
          1,
          0,
          0,
          0,
          1,
          0,
          2,
          0,
          0,
          0,
          0,
          1,
          0,
          1,
          0,
          0,
          1,
          0,
          0,
          0,
          1,
          1,
          0,
          1,
          0,
          0,
          2,
          8,
          0,
          1,
          0,
          1,
          0,
          0,
          0,
          0,
          0,
          0,
          0,
          0,
          0,
          1,
          1,
          0,
          0,
          0,
          0,
          0,
          0,
          0,
          0,
          0,
          1,
          4,
          0,
          0,
          1,
          1,
          0,
          1,
          0,
          0,
          0,
          0,
          0,
          0,
          0,
          0,
          0,
          0,
          0,
          1,
          0,
          1,
          0,
          1,
          0,
          1,
          1,
          0,
          0,
          1,
          0,
          1,
          1,
          0,
          1,
          1,
          1,
          1,
          0,
          1,
          0,
          0,
          0,
          0,
          0,
          0,
          0,
          1,
          0,
          0,
          1,
          0,
          0,
          0,
          0,
          0,
          0,
          0,
          0,
          1,
          1,
          0,
          1,
          0,
          1,
          1,
          0,
          0,
          1,
          0,
          1,
          1,
          0,
          0,
          1,
          0,
          0,
          0,
          0,
          0,
          1,
          0,
          0,
          1,
          2,
          0,
          0,
          0,
          0,
          0,
          0,
          0,
          1,
          1,
          0,
          1,
          1,
          0,
          0,
          0,
          0,
          0,
          0,
          1,
          0,
          0,
          2,
          0,
          0,
          0,
          0,
          0,
          0,
          2,
          0,
          1,
          0,
          0,
          0,
          0,
          1,
          0,
          0,
          0,
          0,
          0,
          0,
          0,
          0,
          1,
          0,
          1,
          0,
          0,
          0,
          0,
          0,
          0,
          0,
          0,
          1,
          1,
          0,
          2,
          0,
          0,
          1,
          8,
          1,
          0,
          0,
          1,
          1,
          1,
          0,
          0,
          0,
          1,
          0,
          0,
          0,
          1,
          0,
          2,
          0,
          0,
          4,
          0,
          0,
          0,
          1,
          0,
          1,
          0,
          0,
          0,
          3,
          0,
          0,
          0,
          0,
          3,
          1,
          0,
          1,
          0,
          0,
          0,
          1,
          0,
          0,
          1,
          0,
          1,
          1,
          0,
          1,
          0,
          1,
          0,
          0,
          0,
          0,
          0,
          1
         ],
         "xaxis": "x",
         "yaxis": "y"
        }
       ],
       "layout": {
        "barmode": "relative",
        "legend": {
         "title": {
          "text": "variable"
         },
         "tracegroupgap": 0
        },
        "template": {
         "data": {
          "bar": [
           {
            "error_x": {
             "color": "#2a3f5f"
            },
            "error_y": {
             "color": "#2a3f5f"
            },
            "marker": {
             "line": {
              "color": "#E5ECF6",
              "width": 0.5
             },
             "pattern": {
              "fillmode": "overlay",
              "size": 10,
              "solidity": 0.2
             }
            },
            "type": "bar"
           }
          ],
          "barpolar": [
           {
            "marker": {
             "line": {
              "color": "#E5ECF6",
              "width": 0.5
             },
             "pattern": {
              "fillmode": "overlay",
              "size": 10,
              "solidity": 0.2
             }
            },
            "type": "barpolar"
           }
          ],
          "carpet": [
           {
            "aaxis": {
             "endlinecolor": "#2a3f5f",
             "gridcolor": "white",
             "linecolor": "white",
             "minorgridcolor": "white",
             "startlinecolor": "#2a3f5f"
            },
            "baxis": {
             "endlinecolor": "#2a3f5f",
             "gridcolor": "white",
             "linecolor": "white",
             "minorgridcolor": "white",
             "startlinecolor": "#2a3f5f"
            },
            "type": "carpet"
           }
          ],
          "choropleth": [
           {
            "colorbar": {
             "outlinewidth": 0,
             "ticks": ""
            },
            "type": "choropleth"
           }
          ],
          "contour": [
           {
            "colorbar": {
             "outlinewidth": 0,
             "ticks": ""
            },
            "colorscale": [
             [
              0,
              "#0d0887"
             ],
             [
              0.1111111111111111,
              "#46039f"
             ],
             [
              0.2222222222222222,
              "#7201a8"
             ],
             [
              0.3333333333333333,
              "#9c179e"
             ],
             [
              0.4444444444444444,
              "#bd3786"
             ],
             [
              0.5555555555555556,
              "#d8576b"
             ],
             [
              0.6666666666666666,
              "#ed7953"
             ],
             [
              0.7777777777777778,
              "#fb9f3a"
             ],
             [
              0.8888888888888888,
              "#fdca26"
             ],
             [
              1,
              "#f0f921"
             ]
            ],
            "type": "contour"
           }
          ],
          "contourcarpet": [
           {
            "colorbar": {
             "outlinewidth": 0,
             "ticks": ""
            },
            "type": "contourcarpet"
           }
          ],
          "heatmap": [
           {
            "colorbar": {
             "outlinewidth": 0,
             "ticks": ""
            },
            "colorscale": [
             [
              0,
              "#0d0887"
             ],
             [
              0.1111111111111111,
              "#46039f"
             ],
             [
              0.2222222222222222,
              "#7201a8"
             ],
             [
              0.3333333333333333,
              "#9c179e"
             ],
             [
              0.4444444444444444,
              "#bd3786"
             ],
             [
              0.5555555555555556,
              "#d8576b"
             ],
             [
              0.6666666666666666,
              "#ed7953"
             ],
             [
              0.7777777777777778,
              "#fb9f3a"
             ],
             [
              0.8888888888888888,
              "#fdca26"
             ],
             [
              1,
              "#f0f921"
             ]
            ],
            "type": "heatmap"
           }
          ],
          "heatmapgl": [
           {
            "colorbar": {
             "outlinewidth": 0,
             "ticks": ""
            },
            "colorscale": [
             [
              0,
              "#0d0887"
             ],
             [
              0.1111111111111111,
              "#46039f"
             ],
             [
              0.2222222222222222,
              "#7201a8"
             ],
             [
              0.3333333333333333,
              "#9c179e"
             ],
             [
              0.4444444444444444,
              "#bd3786"
             ],
             [
              0.5555555555555556,
              "#d8576b"
             ],
             [
              0.6666666666666666,
              "#ed7953"
             ],
             [
              0.7777777777777778,
              "#fb9f3a"
             ],
             [
              0.8888888888888888,
              "#fdca26"
             ],
             [
              1,
              "#f0f921"
             ]
            ],
            "type": "heatmapgl"
           }
          ],
          "histogram": [
           {
            "marker": {
             "pattern": {
              "fillmode": "overlay",
              "size": 10,
              "solidity": 0.2
             }
            },
            "type": "histogram"
           }
          ],
          "histogram2d": [
           {
            "colorbar": {
             "outlinewidth": 0,
             "ticks": ""
            },
            "colorscale": [
             [
              0,
              "#0d0887"
             ],
             [
              0.1111111111111111,
              "#46039f"
             ],
             [
              0.2222222222222222,
              "#7201a8"
             ],
             [
              0.3333333333333333,
              "#9c179e"
             ],
             [
              0.4444444444444444,
              "#bd3786"
             ],
             [
              0.5555555555555556,
              "#d8576b"
             ],
             [
              0.6666666666666666,
              "#ed7953"
             ],
             [
              0.7777777777777778,
              "#fb9f3a"
             ],
             [
              0.8888888888888888,
              "#fdca26"
             ],
             [
              1,
              "#f0f921"
             ]
            ],
            "type": "histogram2d"
           }
          ],
          "histogram2dcontour": [
           {
            "colorbar": {
             "outlinewidth": 0,
             "ticks": ""
            },
            "colorscale": [
             [
              0,
              "#0d0887"
             ],
             [
              0.1111111111111111,
              "#46039f"
             ],
             [
              0.2222222222222222,
              "#7201a8"
             ],
             [
              0.3333333333333333,
              "#9c179e"
             ],
             [
              0.4444444444444444,
              "#bd3786"
             ],
             [
              0.5555555555555556,
              "#d8576b"
             ],
             [
              0.6666666666666666,
              "#ed7953"
             ],
             [
              0.7777777777777778,
              "#fb9f3a"
             ],
             [
              0.8888888888888888,
              "#fdca26"
             ],
             [
              1,
              "#f0f921"
             ]
            ],
            "type": "histogram2dcontour"
           }
          ],
          "mesh3d": [
           {
            "colorbar": {
             "outlinewidth": 0,
             "ticks": ""
            },
            "type": "mesh3d"
           }
          ],
          "parcoords": [
           {
            "line": {
             "colorbar": {
              "outlinewidth": 0,
              "ticks": ""
             }
            },
            "type": "parcoords"
           }
          ],
          "pie": [
           {
            "automargin": true,
            "type": "pie"
           }
          ],
          "scatter": [
           {
            "fillpattern": {
             "fillmode": "overlay",
             "size": 10,
             "solidity": 0.2
            },
            "type": "scatter"
           }
          ],
          "scatter3d": [
           {
            "line": {
             "colorbar": {
              "outlinewidth": 0,
              "ticks": ""
             }
            },
            "marker": {
             "colorbar": {
              "outlinewidth": 0,
              "ticks": ""
             }
            },
            "type": "scatter3d"
           }
          ],
          "scattercarpet": [
           {
            "marker": {
             "colorbar": {
              "outlinewidth": 0,
              "ticks": ""
             }
            },
            "type": "scattercarpet"
           }
          ],
          "scattergeo": [
           {
            "marker": {
             "colorbar": {
              "outlinewidth": 0,
              "ticks": ""
             }
            },
            "type": "scattergeo"
           }
          ],
          "scattergl": [
           {
            "marker": {
             "colorbar": {
              "outlinewidth": 0,
              "ticks": ""
             }
            },
            "type": "scattergl"
           }
          ],
          "scattermapbox": [
           {
            "marker": {
             "colorbar": {
              "outlinewidth": 0,
              "ticks": ""
             }
            },
            "type": "scattermapbox"
           }
          ],
          "scatterpolar": [
           {
            "marker": {
             "colorbar": {
              "outlinewidth": 0,
              "ticks": ""
             }
            },
            "type": "scatterpolar"
           }
          ],
          "scatterpolargl": [
           {
            "marker": {
             "colorbar": {
              "outlinewidth": 0,
              "ticks": ""
             }
            },
            "type": "scatterpolargl"
           }
          ],
          "scatterternary": [
           {
            "marker": {
             "colorbar": {
              "outlinewidth": 0,
              "ticks": ""
             }
            },
            "type": "scatterternary"
           }
          ],
          "surface": [
           {
            "colorbar": {
             "outlinewidth": 0,
             "ticks": ""
            },
            "colorscale": [
             [
              0,
              "#0d0887"
             ],
             [
              0.1111111111111111,
              "#46039f"
             ],
             [
              0.2222222222222222,
              "#7201a8"
             ],
             [
              0.3333333333333333,
              "#9c179e"
             ],
             [
              0.4444444444444444,
              "#bd3786"
             ],
             [
              0.5555555555555556,
              "#d8576b"
             ],
             [
              0.6666666666666666,
              "#ed7953"
             ],
             [
              0.7777777777777778,
              "#fb9f3a"
             ],
             [
              0.8888888888888888,
              "#fdca26"
             ],
             [
              1,
              "#f0f921"
             ]
            ],
            "type": "surface"
           }
          ],
          "table": [
           {
            "cells": {
             "fill": {
              "color": "#EBF0F8"
             },
             "line": {
              "color": "white"
             }
            },
            "header": {
             "fill": {
              "color": "#C8D4E3"
             },
             "line": {
              "color": "white"
             }
            },
            "type": "table"
           }
          ]
         },
         "layout": {
          "annotationdefaults": {
           "arrowcolor": "#2a3f5f",
           "arrowhead": 0,
           "arrowwidth": 1
          },
          "autotypenumbers": "strict",
          "coloraxis": {
           "colorbar": {
            "outlinewidth": 0,
            "ticks": ""
           }
          },
          "colorscale": {
           "diverging": [
            [
             0,
             "#8e0152"
            ],
            [
             0.1,
             "#c51b7d"
            ],
            [
             0.2,
             "#de77ae"
            ],
            [
             0.3,
             "#f1b6da"
            ],
            [
             0.4,
             "#fde0ef"
            ],
            [
             0.5,
             "#f7f7f7"
            ],
            [
             0.6,
             "#e6f5d0"
            ],
            [
             0.7,
             "#b8e186"
            ],
            [
             0.8,
             "#7fbc41"
            ],
            [
             0.9,
             "#4d9221"
            ],
            [
             1,
             "#276419"
            ]
           ],
           "sequential": [
            [
             0,
             "#0d0887"
            ],
            [
             0.1111111111111111,
             "#46039f"
            ],
            [
             0.2222222222222222,
             "#7201a8"
            ],
            [
             0.3333333333333333,
             "#9c179e"
            ],
            [
             0.4444444444444444,
             "#bd3786"
            ],
            [
             0.5555555555555556,
             "#d8576b"
            ],
            [
             0.6666666666666666,
             "#ed7953"
            ],
            [
             0.7777777777777778,
             "#fb9f3a"
            ],
            [
             0.8888888888888888,
             "#fdca26"
            ],
            [
             1,
             "#f0f921"
            ]
           ],
           "sequentialminus": [
            [
             0,
             "#0d0887"
            ],
            [
             0.1111111111111111,
             "#46039f"
            ],
            [
             0.2222222222222222,
             "#7201a8"
            ],
            [
             0.3333333333333333,
             "#9c179e"
            ],
            [
             0.4444444444444444,
             "#bd3786"
            ],
            [
             0.5555555555555556,
             "#d8576b"
            ],
            [
             0.6666666666666666,
             "#ed7953"
            ],
            [
             0.7777777777777778,
             "#fb9f3a"
            ],
            [
             0.8888888888888888,
             "#fdca26"
            ],
            [
             1,
             "#f0f921"
            ]
           ]
          },
          "colorway": [
           "#636efa",
           "#EF553B",
           "#00cc96",
           "#ab63fa",
           "#FFA15A",
           "#19d3f3",
           "#FF6692",
           "#B6E880",
           "#FF97FF",
           "#FECB52"
          ],
          "font": {
           "color": "#2a3f5f"
          },
          "geo": {
           "bgcolor": "white",
           "lakecolor": "white",
           "landcolor": "#E5ECF6",
           "showlakes": true,
           "showland": true,
           "subunitcolor": "white"
          },
          "hoverlabel": {
           "align": "left"
          },
          "hovermode": "closest",
          "mapbox": {
           "style": "light"
          },
          "paper_bgcolor": "white",
          "plot_bgcolor": "#E5ECF6",
          "polar": {
           "angularaxis": {
            "gridcolor": "white",
            "linecolor": "white",
            "ticks": ""
           },
           "bgcolor": "#E5ECF6",
           "radialaxis": {
            "gridcolor": "white",
            "linecolor": "white",
            "ticks": ""
           }
          },
          "scene": {
           "xaxis": {
            "backgroundcolor": "#E5ECF6",
            "gridcolor": "white",
            "gridwidth": 2,
            "linecolor": "white",
            "showbackground": true,
            "ticks": "",
            "zerolinecolor": "white"
           },
           "yaxis": {
            "backgroundcolor": "#E5ECF6",
            "gridcolor": "white",
            "gridwidth": 2,
            "linecolor": "white",
            "showbackground": true,
            "ticks": "",
            "zerolinecolor": "white"
           },
           "zaxis": {
            "backgroundcolor": "#E5ECF6",
            "gridcolor": "white",
            "gridwidth": 2,
            "linecolor": "white",
            "showbackground": true,
            "ticks": "",
            "zerolinecolor": "white"
           }
          },
          "shapedefaults": {
           "line": {
            "color": "#2a3f5f"
           }
          },
          "ternary": {
           "aaxis": {
            "gridcolor": "white",
            "linecolor": "white",
            "ticks": ""
           },
           "baxis": {
            "gridcolor": "white",
            "linecolor": "white",
            "ticks": ""
           },
           "bgcolor": "#E5ECF6",
           "caxis": {
            "gridcolor": "white",
            "linecolor": "white",
            "ticks": ""
           }
          },
          "title": {
           "x": 0.05
          },
          "xaxis": {
           "automargin": true,
           "gridcolor": "white",
           "linecolor": "white",
           "ticks": "",
           "title": {
            "standoff": 15
           },
           "zerolinecolor": "white",
           "zerolinewidth": 2
          },
          "yaxis": {
           "automargin": true,
           "gridcolor": "white",
           "linecolor": "white",
           "ticks": "",
           "title": {
            "standoff": 15
           },
           "zerolinecolor": "white",
           "zerolinewidth": 2
          }
         }
        },
        "title": {
         "text": "SibSp"
        },
        "xaxis": {
         "anchor": "y",
         "domain": [
          0,
          1
         ],
         "title": {
          "text": "value"
         }
        },
        "yaxis": {
         "anchor": "x",
         "domain": [
          0,
          1
         ],
         "title": {
          "text": "count"
         }
        }
       }
      }
     },
     "metadata": {},
     "output_type": "display_data"
    },
    {
     "data": {
      "application/vnd.plotly.v1+json": {
       "config": {
        "plotlyServerURL": "https://plot.ly"
       },
       "data": [
        {
         "alignmentgroup": "True",
         "bingroup": "x",
         "hovertemplate": "variable=0<br>value=%{x}<br>count=%{y}<extra></extra>",
         "legendgroup": "0",
         "marker": {
          "color": "#636efa",
          "pattern": {
           "shape": ""
          }
         },
         "name": "0",
         "offsetgroup": "0",
         "orientation": "v",
         "showlegend": true,
         "type": "histogram",
         "x": [
          0.9320112136358318,
          0.9320112136358318,
          -0.6156065898224531,
          0.9320112136358318,
          -0.6156065898224531,
          -0.6156065898224531,
          -0.6156065898224531,
          2.479629017094117,
          -0.6156065898224531,
          0.9320112136358318,
          0.9320112136358318,
          -0.6156065898224531,
          -0.6156065898224531,
          0.9320112136358318,
          -0.6156065898224531,
          -0.6156065898224531,
          2.977850668175207,
          -0.6156065898224531,
          0.9320112136358318,
          -0.6156065898224531,
          -0.6156065898224531,
          -0.6156065898224531,
          -0.6156065898224531,
          -0.6156065898224531,
          2.479629017094117,
          0.9320112136358318,
          -0.6156065898224531,
          2.479629017094117,
          -0.6156065898224531,
          -0.6156065898224531,
          -0.6156065898224531,
          0.9320112136358318,
          -0.6156065898224531,
          -0.6156065898224531,
          0.9320112136358318,
          0.9320112136358318,
          -0.6156065898224531,
          -0.6156065898224531,
          1.8373095941073734,
          0.9320112136358318,
          0.9320112136358318,
          0.9320112136358318,
          -0.6156065898224531,
          0.9320112136358318,
          -0.6156065898224531,
          -0.6156065898224531,
          0.9320112136358318,
          -0.6156065898224531,
          1.8373095941073734,
          0.9320112136358318,
          2.977850668175207,
          -0.6156065898224531,
          0.9320112136358318,
          0.9320112136358318,
          -0.6156065898224531,
          -0.6156065898224531,
          -0.6156065898224531,
          -0.6156065898224531,
          0.9320112136358318,
          3.3849273975656575,
          -0.6156065898224531,
          -0.6156065898224531,
          0.9320112136358318,
          2.479629017094117,
          -0.6156065898224531,
          0.9320112136358318,
          -0.6156065898224531,
          -0.6156065898224531,
          2.977850668175207,
          1.8373095941073734,
          -0.6156065898224531,
          3.3849273975656575,
          -0.6156065898224531,
          0.9320112136358318,
          -0.6156065898224531,
          -0.6156065898224531,
          -0.6156065898224531,
          -0.6156065898224531,
          -0.6156065898224531,
          -0.6156065898224531,
          -0.6156065898224531,
          -0.6156065898224531,
          -0.6156065898224531,
          -0.6156065898224531,
          -0.6156065898224531,
          2.479629017094117,
          0.9320112136358318,
          -0.6156065898224531,
          2.479629017094117,
          -0.6156065898224531,
          -0.6156065898224531,
          -0.6156065898224531,
          0.9320112136358318,
          0.9320112136358318,
          -0.6156065898224531,
          -0.6156065898224531,
          -0.6156065898224531,
          -0.6156065898224531,
          -0.6156065898224531,
          0.9320112136358318,
          -0.6156065898224531,
          -0.6156065898224531,
          -0.6156065898224531,
          -0.6156065898224531,
          1.8373095941073734,
          -0.6156065898224531,
          -0.6156065898224531,
          -0.6156065898224531,
          -0.6156065898224531,
          0.9320112136358318,
          -0.6156065898224531,
          0.9320112136358318,
          -0.6156065898224531,
          0.9320112136358318,
          -0.6156065898224531,
          -0.6156065898224531,
          -0.6156065898224531,
          0.9320112136358318,
          -0.6156065898224531,
          2.977850668175207,
          1.8373095941073734,
          -0.6156065898224531,
          0.9320112136358318,
          -0.6156065898224531,
          -0.6156065898224531,
          0.9320112136358318,
          -0.6156065898224531,
          -0.6156065898224531,
          0.9320112136358318,
          -0.6156065898224531,
          -0.6156065898224531,
          -0.6156065898224531,
          0.9320112136358318,
          0.9320112136358318,
          -0.6156065898224531,
          -0.6156065898224531,
          -0.6156065898224531,
          0.9320112136358318,
          -0.6156065898224531,
          -0.6156065898224531,
          -0.6156065898224531,
          -0.6156065898224531,
          0.9320112136358318,
          -0.6156065898224531,
          -0.6156065898224531,
          0.9320112136358318,
          -0.6156065898224531,
          1.8373095941073734,
          -0.6156065898224531,
          -0.6156065898224531,
          -0.6156065898224531,
          0.9320112136358318,
          -0.6156065898224531,
          -0.6156065898224531,
          -0.6156065898224531,
          -0.6156065898224531,
          -0.6156065898224531,
          -0.6156065898224531,
          -0.6156065898224531,
          4.2902257780371995,
          -0.6156065898224531,
          -0.6156065898224531,
          -0.6156065898224531,
          -0.6156065898224531,
          2.977850668175207,
          -0.6156065898224531,
          -0.6156065898224531,
          0.9320112136358318,
          -0.6156065898224531,
          -0.6156065898224531,
          -0.6156065898224531,
          2.977850668175207,
          0.9320112136358318,
          -0.6156065898224531,
          -0.6156065898224531,
          0.9320112136358318,
          2.479629017094117,
          -0.6156065898224531,
          -0.6156065898224531,
          -0.6156065898224531,
          4.2902257780371995,
          -0.6156065898224531,
          2.977850668175207,
          1.8373095941073734,
          -0.6156065898224531,
          -0.6156065898224531,
          0.9320112136358318,
          -0.6156065898224531,
          0.9320112136358318,
          -0.6156065898224531,
          -0.6156065898224531,
          -0.6156065898224531,
          0.9320112136358318,
          0.9320112136358318,
          -0.6156065898224531,
          -0.6156065898224531,
          -0.6156065898224531,
          -0.6156065898224531,
          -0.6156065898224531,
          -0.6156065898224531,
          -0.6156065898224531,
          4.2902257780371995,
          -0.6156065898224531,
          -0.6156065898224531,
          -0.6156065898224531,
          -0.6156065898224531,
          0.9320112136358318,
          -0.6156065898224531,
          -0.6156065898224531,
          -0.6156065898224531,
          -0.6156065898224531,
          -0.6156065898224531,
          -0.6156065898224531,
          -0.6156065898224531,
          0.9320112136358318,
          0.9320112136358318,
          -0.6156065898224531,
          0.9320112136358318,
          -0.6156065898224531,
          -0.6156065898224531,
          -0.6156065898224531,
          -0.6156065898224531,
          -0.6156065898224531,
          -0.6156065898224531,
          0.9320112136358318,
          -0.6156065898224531,
          -0.6156065898224531,
          -0.6156065898224531,
          -0.6156065898224531,
          2.479629017094117,
          0.9320112136358318,
          -0.6156065898224531,
          -0.6156065898224531,
          2.977850668175207,
          -0.6156065898224531,
          -0.6156065898224531,
          0.9320112136358318,
          -0.6156065898224531,
          -0.6156065898224531,
          -0.6156065898224531,
          0.9320112136358318,
          0.9320112136358318,
          -0.6156065898224531,
          -0.6156065898224531,
          -0.6156065898224531,
          1.8373095941073734,
          -0.6156065898224531,
          -0.6156065898224531,
          0.9320112136358318,
          0.9320112136358318,
          -0.6156065898224531,
          0.9320112136358318,
          -0.6156065898224531,
          0.9320112136358318,
          -0.6156065898224531,
          -0.6156065898224531,
          -0.6156065898224531,
          -0.6156065898224531,
          -0.6156065898224531,
          -0.6156065898224531,
          -0.6156065898224531,
          2.977850668175207,
          0.9320112136358318,
          -0.6156065898224531,
          -0.6156065898224531,
          -0.6156065898224531,
          2.977850668175207,
          0.9320112136358318,
          -0.6156065898224531,
          -0.6156065898224531,
          -0.6156065898224531,
          -0.6156065898224531,
          -0.6156065898224531,
          -0.6156065898224531,
          -0.6156065898224531,
          0.9320112136358318,
          -0.6156065898224531,
          -0.6156065898224531,
          2.977850668175207,
          0.9320112136358318,
          -0.6156065898224531,
          -0.6156065898224531,
          -0.6156065898224531,
          -0.6156065898224531,
          -0.6156065898224531,
          -0.6156065898224531,
          -0.6156065898224531,
          -0.6156065898224531,
          -0.6156065898224531,
          -0.6156065898224531,
          -0.6156065898224531,
          0.9320112136358318,
          -0.6156065898224531,
          -0.6156065898224531,
          -0.6156065898224531,
          -0.6156065898224531,
          -0.6156065898224531,
          0.9320112136358318,
          -0.6156065898224531,
          -0.6156065898224531,
          -0.6156065898224531,
          1.8373095941073734,
          -0.6156065898224531,
          -0.6156065898224531,
          -0.6156065898224531,
          0.9320112136358318,
          -0.6156065898224531,
          0.9320112136358318,
          0.9320112136358318,
          -0.6156065898224531,
          -0.6156065898224531,
          1.8373095941073734,
          0.9320112136358318,
          -0.6156065898224531,
          0.9320112136358318,
          -0.6156065898224531,
          0.9320112136358318,
          -0.6156065898224531,
          -0.6156065898224531,
          0.9320112136358318,
          -0.6156065898224531,
          -0.6156065898224531,
          -0.6156065898224531,
          0.9320112136358318,
          4.2902257780371995,
          -0.6156065898224531,
          -0.6156065898224531,
          -0.6156065898224531,
          0.9320112136358318,
          -0.6156065898224531,
          1.8373095941073734,
          -0.6156065898224531,
          -0.6156065898224531,
          1.8373095941073734,
          0.9320112136358318,
          -0.6156065898224531,
          0.9320112136358318,
          -0.6156065898224531,
          -0.6156065898224531,
          -0.6156065898224531,
          0.9320112136358318,
          2.479629017094117,
          -0.6156065898224531,
          -0.6156065898224531,
          -0.6156065898224531,
          -0.6156065898224531,
          -0.6156065898224531,
          0.9320112136358318,
          0.9320112136358318,
          -0.6156065898224531,
          -0.6156065898224531,
          -0.6156065898224531,
          0.9320112136358318,
          0.9320112136358318,
          -0.6156065898224531,
          -0.6156065898224531,
          -0.6156065898224531,
          -0.6156065898224531,
          -0.6156065898224531,
          -0.6156065898224531,
          0.9320112136358318,
          0.9320112136358318,
          -0.6156065898224531,
          -0.6156065898224531,
          0.9320112136358318,
          -0.6156065898224531,
          0.9320112136358318,
          -0.6156065898224531,
          -0.6156065898224531,
          -0.6156065898224531,
          0.9320112136358318,
          0.9320112136358318,
          -0.6156065898224531,
          -0.6156065898224531,
          2.479629017094117,
          0.9320112136358318,
          -0.6156065898224531,
          -0.6156065898224531,
          -0.6156065898224531,
          -0.6156065898224531,
          -0.6156065898224531,
          -0.6156065898224531,
          -0.6156065898224531,
          0.9320112136358318,
          -0.6156065898224531,
          -0.6156065898224531,
          3.3849273975656575,
          -0.6156065898224531,
          -0.6156065898224531,
          -0.6156065898224531,
          0.9320112136358318,
          -0.6156065898224531,
          1.8373095941073734,
          0.9320112136358318,
          -0.6156065898224531,
          -0.6156065898224531,
          -0.6156065898224531,
          -0.6156065898224531,
          -0.6156065898224531,
          -0.6156065898224531,
          -0.6156065898224531,
          -0.6156065898224531,
          0.9320112136358318,
          0.9320112136358318,
          -0.6156065898224531,
          0.9320112136358318,
          -0.6156065898224531,
          0.9320112136358318,
          -0.6156065898224531,
          2.479629017094117,
          -0.6156065898224531,
          -0.6156065898224531,
          0.9320112136358318,
          -0.6156065898224531,
          -0.6156065898224531,
          -0.6156065898224531,
          0.9320112136358318,
          -0.6156065898224531,
          -0.6156065898224531,
          -0.6156065898224531,
          -0.6156065898224531,
          -0.6156065898224531,
          -0.6156065898224531,
          0.9320112136358318,
          0.9320112136358318,
          -0.6156065898224531,
          0.9320112136358318,
          -0.6156065898224531,
          -0.6156065898224531,
          -0.6156065898224531,
          -0.6156065898224531,
          0.9320112136358318,
          0.9320112136358318,
          -0.6156065898224531,
          0.9320112136358318,
          0.9320112136358318,
          1.8373095941073734,
          1.8373095941073734,
          0.9320112136358318,
          -0.6156065898224531,
          0.9320112136358318,
          -0.6156065898224531,
          0.9320112136358318,
          -0.6156065898224531,
          -0.6156065898224531,
          -0.6156065898224531,
          -0.6156065898224531,
          -0.6156065898224531,
          1.8373095941073734,
          -0.6156065898224531,
          0.9320112136358318,
          0.9320112136358318,
          -0.6156065898224531,
          0.9320112136358318,
          -0.6156065898224531,
          -0.6156065898224531,
          -0.6156065898224531,
          0.9320112136358318,
          -0.6156065898224531,
          -0.6156065898224531,
          -0.6156065898224531,
          -0.6156065898224531,
          -0.6156065898224531,
          -0.6156065898224531,
          -0.6156065898224531,
          -0.6156065898224531,
          -0.6156065898224531,
          -0.6156065898224531,
          -0.6156065898224531,
          1.8373095941073734,
          -0.6156065898224531,
          -0.6156065898224531,
          0.9320112136358318,
          -0.6156065898224531,
          -0.6156065898224531,
          -0.6156065898224531,
          0.9320112136358318,
          0.9320112136358318,
          -0.6156065898224531,
          -0.6156065898224531,
          3.3849273975656575,
          -0.6156065898224531,
          -0.6156065898224531,
          -0.6156065898224531,
          0.9320112136358318,
          2.479629017094117,
          0.9320112136358318,
          -0.6156065898224531,
          -0.6156065898224531,
          0.9320112136358318,
          0.9320112136358318,
          -0.6156065898224531,
          -0.6156065898224531,
          -0.6156065898224531,
          -0.6156065898224531,
          -0.6156065898224531,
          0.9320112136358318,
          -0.6156065898224531,
          0.9320112136358318,
          -0.6156065898224531,
          -0.6156065898224531,
          -0.6156065898224531,
          -0.6156065898224531,
          -0.6156065898224531,
          -0.6156065898224531,
          0.9320112136358318,
          -0.6156065898224531,
          -0.6156065898224531,
          -0.6156065898224531,
          -0.6156065898224531,
          -0.6156065898224531,
          -0.6156065898224531,
          -0.6156065898224531,
          0.9320112136358318,
          -0.6156065898224531,
          -0.6156065898224531,
          -0.6156065898224531,
          -0.6156065898224531,
          0.9320112136358318,
          -0.6156065898224531,
          -0.6156065898224531,
          -0.6156065898224531,
          -0.6156065898224531,
          -0.6156065898224531,
          -0.6156065898224531,
          -0.6156065898224531,
          -0.6156065898224531,
          -0.6156065898224531,
          -0.6156065898224531,
          1.8373095941073734,
          0.9320112136358318,
          -0.6156065898224531,
          0.9320112136358318,
          -0.6156065898224531,
          -0.6156065898224531,
          -0.6156065898224531,
          -0.6156065898224531,
          -0.6156065898224531,
          -0.6156065898224531,
          -0.6156065898224531,
          -0.6156065898224531,
          2.977850668175207,
          2.977850668175207,
          0.9320112136358318,
          0.9320112136358318,
          -0.6156065898224531,
          0.9320112136358318,
          -0.6156065898224531,
          0.9320112136358318,
          0.9320112136358318,
          -0.6156065898224531,
          -0.6156065898224531,
          -0.6156065898224531,
          -0.6156065898224531,
          -0.6156065898224531,
          -0.6156065898224531,
          0.9320112136358318,
          -0.6156065898224531,
          0.9320112136358318,
          0.9320112136358318,
          -0.6156065898224531,
          -0.6156065898224531,
          -0.6156065898224531,
          -0.6156065898224531,
          -0.6156065898224531,
          1.8373095941073734,
          -0.6156065898224531,
          -0.6156065898224531,
          -0.6156065898224531,
          -0.6156065898224531,
          -0.6156065898224531,
          1.8373095941073734,
          -0.6156065898224531,
          -0.6156065898224531,
          -0.6156065898224531,
          -0.6156065898224531,
          -0.6156065898224531,
          0.9320112136358318,
          0.9320112136358318,
          -0.6156065898224531,
          0.9320112136358318,
          0.9320112136358318,
          -0.6156065898224531,
          -0.6156065898224531,
          -0.6156065898224531,
          -0.6156065898224531,
          -0.6156065898224531,
          0.9320112136358318,
          -0.6156065898224531,
          -0.6156065898224531,
          -0.6156065898224531,
          0.9320112136358318,
          -0.6156065898224531,
          -0.6156065898224531,
          0.9320112136358318,
          0.9320112136358318,
          -0.6156065898224531,
          -0.6156065898224531,
          -0.6156065898224531,
          0.9320112136358318,
          1.8373095941073734,
          -0.6156065898224531,
          -0.6156065898224531,
          -0.6156065898224531,
          -0.6156065898224531,
          0.9320112136358318,
          -0.6156065898224531,
          -0.6156065898224531,
          0.9320112136358318,
          -0.6156065898224531,
          0.9320112136358318,
          -0.6156065898224531,
          0.9320112136358318,
          -0.6156065898224531,
          -0.6156065898224531,
          0.9320112136358318,
          0.9320112136358318,
          0.9320112136358318,
          1.8373095941073734,
          -0.6156065898224531,
          0.9320112136358318,
          0.9320112136358318,
          0.9320112136358318,
          -0.6156065898224531,
          -0.6156065898224531,
          -0.6156065898224531,
          -0.6156065898224531,
          -0.6156065898224531,
          -0.6156065898224531,
          -0.6156065898224531,
          -0.6156065898224531,
          -0.6156065898224531,
          -0.6156065898224531,
          -0.6156065898224531,
          2.479629017094117,
          -0.6156065898224531,
          -0.6156065898224531,
          0.9320112136358318,
          -0.6156065898224531,
          0.9320112136358318,
          -0.6156065898224531,
          -0.6156065898224531,
          2.479629017094117,
          -0.6156065898224531,
          1.8373095941073734,
          0.9320112136358318,
          -0.6156065898224531,
          -0.6156065898224531,
          -0.6156065898224531,
          -0.6156065898224531,
          -0.6156065898224531,
          -0.6156065898224531,
          -0.6156065898224531,
          -0.6156065898224531,
          -0.6156065898224531,
          1.8373095941073734,
          -0.6156065898224531,
          0.9320112136358318,
          -0.6156065898224531,
          -0.6156065898224531,
          1.8373095941073734,
          -0.6156065898224531,
          -0.6156065898224531,
          -0.6156065898224531,
          0.9320112136358318,
          1.8373095941073734,
          -0.6156065898224531,
          -0.6156065898224531,
          -0.6156065898224531,
          0.9320112136358318,
          0.9320112136358318,
          0.9320112136358318,
          -0.6156065898224531,
          -0.6156065898224531,
          -0.6156065898224531,
          -0.6156065898224531,
          -0.6156065898224531,
          -0.6156065898224531,
          0.9320112136358318,
          -0.6156065898224531,
          -0.6156065898224531,
          -0.6156065898224531,
          -0.6156065898224531,
          3.3849273975656575,
          0.9320112136358318,
          0.9320112136358318,
          2.977850668175207,
          -0.6156065898224531,
          -0.6156065898224531,
          -0.6156065898224531,
          0.9320112136358318,
          -0.6156065898224531,
          -0.6156065898224531,
          -0.6156065898224531,
          -0.6156065898224531,
          -0.6156065898224531,
          -0.6156065898224531,
          -0.6156065898224531,
          0.9320112136358318,
          -0.6156065898224531,
          0.9320112136358318,
          -0.6156065898224531,
          -0.6156065898224531,
          -0.6156065898224531,
          0.9320112136358318,
          -0.6156065898224531,
          -0.6156065898224531,
          -0.6156065898224531,
          -0.6156065898224531,
          0.9320112136358318,
          -0.6156065898224531,
          -0.6156065898224531,
          0.9320112136358318,
          -0.6156065898224531,
          -0.6156065898224531,
          -0.6156065898224531,
          -0.6156065898224531,
          -0.6156065898224531,
          -0.6156065898224531,
          -0.6156065898224531,
          -0.6156065898224531,
          0.9320112136358318,
          -0.6156065898224531,
          -0.6156065898224531,
          0.9320112136358318,
          -0.6156065898224531,
          2.479629017094117,
          -0.6156065898224531,
          0.9320112136358318,
          0.9320112136358318,
          -0.6156065898224531,
          -0.6156065898224531,
          -0.6156065898224531,
          -0.6156065898224531,
          -0.6156065898224531,
          -0.6156065898224531,
          0.9320112136358318,
          -0.6156065898224531,
          -0.6156065898224531,
          -0.6156065898224531,
          -0.6156065898224531,
          0.9320112136358318,
          1.8373095941073734,
          0.9320112136358318,
          -0.6156065898224531,
          0.9320112136358318,
          0.9320112136358318,
          -0.6156065898224531,
          0.9320112136358318,
          -0.6156065898224531,
          0.9320112136358318,
          -0.6156065898224531,
          -0.6156065898224531,
          -0.6156065898224531,
          0.9320112136358318,
          0.9320112136358318,
          -0.6156065898224531,
          -0.6156065898224531,
          -0.6156065898224531,
          -0.6156065898224531,
          -0.6156065898224531,
          -0.6156065898224531,
          -0.6156065898224531,
          0.9320112136358318,
          -0.6156065898224531,
          0.9320112136358318,
          -0.6156065898224531,
          -0.6156065898224531,
          0.9320112136358318,
          -0.6156065898224531,
          -0.6156065898224531,
          -0.6156065898224531,
          -0.6156065898224531,
          -0.6156065898224531,
          0.9320112136358318,
          -0.6156065898224531,
          -0.6156065898224531,
          -0.6156065898224531,
          -0.6156065898224531,
          -0.6156065898224531,
          -0.6156065898224531,
          0.9320112136358318,
          -0.6156065898224531,
          0.9320112136358318,
          -0.6156065898224531,
          -0.6156065898224531,
          -0.6156065898224531,
          2.977850668175207,
          0.9320112136358318,
          -0.6156065898224531,
          -0.6156065898224531,
          -0.6156065898224531,
          4.2902257780371995,
          -0.6156065898224531,
          -0.6156065898224531,
          -0.6156065898224531,
          -0.6156065898224531,
          -0.6156065898224531,
          -0.6156065898224531,
          0.9320112136358318,
          -0.6156065898224531,
          0.9320112136358318,
          0.9320112136358318,
          -0.6156065898224531,
          -0.6156065898224531,
          -0.6156065898224531,
          -0.6156065898224531,
          -0.6156065898224531,
          -0.6156065898224531,
          0.9320112136358318,
          -0.6156065898224531,
          -0.6156065898224531,
          -0.6156065898224531,
          2.977850668175207,
          -0.6156065898224531,
          -0.6156065898224531,
          -0.6156065898224531,
          0.9320112136358318,
          -0.6156065898224531,
          2.479629017094117,
          0.9320112136358318,
          -0.6156065898224531,
          -0.6156065898224531,
          -0.6156065898224531,
          2.977850668175207,
          -0.6156065898224531,
          -0.6156065898224531,
          -0.6156065898224531,
          -0.6156065898224531,
          -0.6156065898224531,
          0.9320112136358318,
          0.9320112136358318,
          -0.6156065898224531,
          -0.6156065898224531,
          -0.6156065898224531,
          0.9320112136358318,
          -0.6156065898224531,
          -0.6156065898224531,
          -0.6156065898224531,
          -0.6156065898224531,
          -0.6156065898224531,
          -0.6156065898224531,
          -0.6156065898224531,
          -0.6156065898224531,
          -0.6156065898224531,
          -0.6156065898224531,
          4.2902257780371995,
          -0.6156065898224531,
          -0.6156065898224531,
          0.9320112136358318,
          2.977850668175207,
          -0.6156065898224531,
          0.9320112136358318,
          -0.6156065898224531,
          0.9320112136358318,
          -0.6156065898224531,
          0.9320112136358318,
          -0.6156065898224531,
          -0.6156065898224531,
          -0.6156065898224531,
          1.8373095941073734,
          0.9320112136358318,
          -0.6156065898224531,
          4.2902257780371995,
          -0.6156065898224531,
          -0.6156065898224531,
          0.9320112136358318,
          -0.6156065898224531,
          -0.6156065898224531,
          0.9320112136358318,
          -0.6156065898224531,
          0.9320112136358318,
          -0.6156065898224531,
          -0.6156065898224531,
          0.9320112136358318,
          -0.6156065898224531,
          -0.6156065898224531,
          -0.6156065898224531,
          -0.6156065898224531,
          -0.6156065898224531,
          -0.6156065898224531,
          -0.6156065898224531,
          -0.6156065898224531,
          -0.6156065898224531,
          -0.6156065898224531,
          -0.6156065898224531,
          -0.6156065898224531,
          -0.6156065898224531,
          0.9320112136358318,
          -0.6156065898224531,
          -0.6156065898224531,
          -0.6156065898224531,
          0.9320112136358318,
          -0.6156065898224531,
          -0.6156065898224531,
          0.9320112136358318,
          -0.6156065898224531,
          -0.6156065898224531,
          0.9320112136358318,
          -0.6156065898224531,
          1.8373095941073734,
          -0.6156065898224531,
          -0.6156065898224531,
          0.9320112136358318,
          0.9320112136358318,
          0.9320112136358318,
          0.9320112136358318,
          -0.6156065898224531,
          -0.6156065898224531,
          0.9320112136358318,
          -0.6156065898224531,
          0.9320112136358318,
          -0.6156065898224531,
          -0.6156065898224531,
          -0.6156065898224531,
          0.9320112136358318,
          0.9320112136358318,
          -0.6156065898224531,
          -0.6156065898224531,
          -0.6156065898224531,
          1.8373095941073734,
          0.9320112136358318,
          1.8373095941073734,
          0.9320112136358318,
          0.9320112136358318,
          0.9320112136358318,
          -0.6156065898224531,
          -0.6156065898224531,
          -0.6156065898224531,
          -0.6156065898224531,
          -0.6156065898224531,
          -0.6156065898224531,
          -0.6156065898224531,
          -0.6156065898224531,
          -0.6156065898224531,
          0.9320112136358318,
          -0.6156065898224531,
          -0.6156065898224531,
          -0.6156065898224531,
          -0.6156065898224531,
          -0.6156065898224531,
          0.9320112136358318,
          -0.6156065898224531,
          1.8373095941073734,
          2.479629017094117,
          -0.6156065898224531,
          2.977850668175207,
          -0.6156065898224531,
          -0.6156065898224531,
          0.9320112136358318,
          -0.6156065898224531,
          -0.6156065898224531,
          -0.6156065898224531,
          -0.6156065898224531,
          -0.6156065898224531,
          1.8373095941073734,
          -0.6156065898224531,
          -0.6156065898224531,
          -0.6156065898224531,
          -0.6156065898224531,
          0.9320112136358318,
          -0.6156065898224531,
          -0.6156065898224531,
          -0.6156065898224531,
          -0.6156065898224531,
          -0.6156065898224531,
          -0.6156065898224531,
          -0.6156065898224531,
          1.8373095941073734,
          -0.6156065898224531,
          -0.6156065898224531,
          0.9320112136358318,
          0.9320112136358318,
          -0.6156065898224531,
          -0.6156065898224531,
          -0.6156065898224531,
          0.9320112136358318,
          -0.6156065898224531,
          -0.6156065898224531,
          -0.6156065898224531,
          0.9320112136358318,
          0.9320112136358318,
          -0.6156065898224531,
          0.9320112136358318,
          -0.6156065898224531,
          -0.6156065898224531,
          -0.6156065898224531,
          0.9320112136358318,
          -0.6156065898224531,
          -0.6156065898224531,
          -0.6156065898224531,
          0.9320112136358318,
          0.9320112136358318,
          -0.6156065898224531,
          -0.6156065898224531,
          0.9320112136358318,
          -0.6156065898224531,
          -0.6156065898224531,
          -0.6156065898224531,
          -0.6156065898224531,
          -0.6156065898224531,
          -0.6156065898224531,
          -0.6156065898224531,
          -0.6156065898224531,
          -0.6156065898224531,
          0.9320112136358318,
          0.9320112136358318,
          -0.6156065898224531,
          0.9320112136358318,
          -0.6156065898224531,
          0.9320112136358318,
          -0.6156065898224531,
          0.9320112136358318,
          0.9320112136358318,
          -0.6156065898224531,
          -0.6156065898224531,
          -0.6156065898224531,
          -0.6156065898224531,
          1.8373095941073734,
          -0.6156065898224531,
          -0.6156065898224531,
          -0.6156065898224531,
          -0.6156065898224531,
          -0.6156065898224531,
          0.9320112136358318,
          -0.6156065898224531,
          -0.6156065898224531,
          -0.6156065898224531,
          -0.6156065898224531,
          -0.6156065898224531,
          0.9320112136358318,
          3.3849273975656575,
          -0.6156065898224531,
          0.9320112136358318,
          -0.6156065898224531,
          -0.6156065898224531,
          2.479629017094117,
          -0.6156065898224531,
          -0.6156065898224531,
          -0.6156065898224531,
          0.9320112136358318,
          -0.6156065898224531,
          -0.6156065898224531,
          -0.6156065898224531,
          -0.6156065898224531,
          2.977850668175207,
          -0.6156065898224531,
          -0.6156065898224531,
          -0.6156065898224531,
          -0.6156065898224531,
          -0.6156065898224531,
          -0.6156065898224531,
          0.9320112136358318,
          -0.6156065898224531,
          -0.6156065898224531,
          -0.6156065898224531,
          0.9320112136358318,
          -0.6156065898224531,
          1.8373095941073734,
          -0.6156065898224531,
          -0.6156065898224531,
          -0.6156065898224531,
          -0.6156065898224531,
          0.9320112136358318,
          -0.6156065898224531,
          0.9320112136358318,
          -0.6156065898224531,
          -0.6156065898224531,
          0.9320112136358318,
          -0.6156065898224531,
          -0.6156065898224531,
          -0.6156065898224531,
          0.9320112136358318,
          0.9320112136358318,
          -0.6156065898224531,
          0.9320112136358318,
          -0.6156065898224531,
          -0.6156065898224531,
          1.8373095941073734,
          4.2902257780371995,
          -0.6156065898224531,
          0.9320112136358318,
          -0.6156065898224531,
          0.9320112136358318,
          -0.6156065898224531,
          -0.6156065898224531,
          -0.6156065898224531,
          -0.6156065898224531,
          -0.6156065898224531,
          -0.6156065898224531,
          -0.6156065898224531,
          -0.6156065898224531,
          -0.6156065898224531,
          0.9320112136358318,
          0.9320112136358318,
          -0.6156065898224531,
          -0.6156065898224531,
          -0.6156065898224531,
          -0.6156065898224531,
          -0.6156065898224531,
          -0.6156065898224531,
          -0.6156065898224531,
          -0.6156065898224531,
          -0.6156065898224531,
          0.9320112136358318,
          2.977850668175207,
          -0.6156065898224531,
          -0.6156065898224531,
          0.9320112136358318,
          0.9320112136358318,
          -0.6156065898224531,
          0.9320112136358318,
          -0.6156065898224531,
          -0.6156065898224531,
          -0.6156065898224531,
          -0.6156065898224531,
          -0.6156065898224531,
          -0.6156065898224531,
          -0.6156065898224531,
          -0.6156065898224531,
          -0.6156065898224531,
          -0.6156065898224531,
          -0.6156065898224531,
          0.9320112136358318,
          -0.6156065898224531,
          0.9320112136358318,
          -0.6156065898224531,
          0.9320112136358318,
          -0.6156065898224531,
          0.9320112136358318,
          0.9320112136358318,
          -0.6156065898224531,
          -0.6156065898224531,
          0.9320112136358318,
          -0.6156065898224531,
          0.9320112136358318,
          0.9320112136358318,
          -0.6156065898224531,
          0.9320112136358318,
          0.9320112136358318,
          0.9320112136358318,
          0.9320112136358318,
          -0.6156065898224531,
          0.9320112136358318,
          -0.6156065898224531,
          -0.6156065898224531,
          -0.6156065898224531,
          -0.6156065898224531,
          -0.6156065898224531,
          -0.6156065898224531,
          -0.6156065898224531,
          0.9320112136358318,
          -0.6156065898224531,
          -0.6156065898224531,
          0.9320112136358318,
          -0.6156065898224531,
          -0.6156065898224531,
          -0.6156065898224531,
          -0.6156065898224531,
          -0.6156065898224531,
          -0.6156065898224531,
          -0.6156065898224531,
          -0.6156065898224531,
          0.9320112136358318,
          0.9320112136358318,
          -0.6156065898224531,
          0.9320112136358318,
          -0.6156065898224531,
          0.9320112136358318,
          0.9320112136358318,
          -0.6156065898224531,
          -0.6156065898224531,
          0.9320112136358318,
          -0.6156065898224531,
          0.9320112136358318,
          0.9320112136358318,
          -0.6156065898224531,
          -0.6156065898224531,
          0.9320112136358318,
          -0.6156065898224531,
          -0.6156065898224531,
          -0.6156065898224531,
          -0.6156065898224531,
          -0.6156065898224531,
          0.9320112136358318,
          -0.6156065898224531,
          -0.6156065898224531,
          0.9320112136358318,
          1.8373095941073734,
          -0.6156065898224531,
          -0.6156065898224531,
          -0.6156065898224531,
          -0.6156065898224531,
          -0.6156065898224531,
          -0.6156065898224531,
          -0.6156065898224531,
          0.9320112136358318,
          0.9320112136358318,
          -0.6156065898224531,
          0.9320112136358318,
          0.9320112136358318,
          -0.6156065898224531,
          -0.6156065898224531,
          -0.6156065898224531,
          -0.6156065898224531,
          -0.6156065898224531,
          -0.6156065898224531,
          0.9320112136358318,
          -0.6156065898224531,
          -0.6156065898224531,
          1.8373095941073734,
          -0.6156065898224531,
          -0.6156065898224531,
          -0.6156065898224531,
          -0.6156065898224531,
          -0.6156065898224531,
          -0.6156065898224531,
          1.8373095941073734,
          -0.6156065898224531,
          0.9320112136358318,
          -0.6156065898224531,
          -0.6156065898224531,
          -0.6156065898224531,
          -0.6156065898224531,
          0.9320112136358318,
          -0.6156065898224531,
          -0.6156065898224531,
          -0.6156065898224531,
          -0.6156065898224531,
          -0.6156065898224531,
          -0.6156065898224531,
          -0.6156065898224531,
          -0.6156065898224531,
          0.9320112136358318,
          -0.6156065898224531,
          0.9320112136358318,
          -0.6156065898224531,
          -0.6156065898224531,
          -0.6156065898224531,
          -0.6156065898224531,
          -0.6156065898224531,
          -0.6156065898224531,
          -0.6156065898224531,
          -0.6156065898224531,
          0.9320112136358318,
          0.9320112136358318,
          -0.6156065898224531,
          1.8373095941073734,
          -0.6156065898224531,
          -0.6156065898224531,
          0.9320112136358318,
          4.2902257780371995,
          0.9320112136358318,
          -0.6156065898224531,
          -0.6156065898224531,
          0.9320112136358318,
          0.9320112136358318,
          0.9320112136358318,
          -0.6156065898224531,
          -0.6156065898224531,
          -0.6156065898224531,
          0.9320112136358318,
          -0.6156065898224531,
          -0.6156065898224531,
          -0.6156065898224531,
          0.9320112136358318,
          -0.6156065898224531,
          1.8373095941073734,
          -0.6156065898224531,
          -0.6156065898224531,
          2.977850668175207,
          -0.6156065898224531,
          -0.6156065898224531,
          -0.6156065898224531,
          0.9320112136358318,
          -0.6156065898224531,
          0.9320112136358318,
          -0.6156065898224531,
          -0.6156065898224531,
          -0.6156065898224531,
          2.479629017094117,
          -0.6156065898224531,
          -0.6156065898224531,
          -0.6156065898224531,
          -0.6156065898224531,
          2.479629017094117,
          0.9320112136358318,
          -0.6156065898224531,
          0.9320112136358318,
          -0.6156065898224531,
          -0.6156065898224531,
          -0.6156065898224531,
          0.9320112136358318,
          -0.6156065898224531,
          -0.6156065898224531,
          0.9320112136358318,
          -0.6156065898224531,
          0.9320112136358318,
          0.9320112136358318,
          -0.6156065898224531,
          0.9320112136358318,
          -0.6156065898224531,
          0.9320112136358318,
          -0.6156065898224531,
          -0.6156065898224531,
          -0.6156065898224531,
          -0.6156065898224531,
          -0.6156065898224531,
          0.9320112136358318
         ],
         "xaxis": "x",
         "yaxis": "y"
        }
       ],
       "layout": {
        "barmode": "relative",
        "legend": {
         "title": {
          "text": "variable"
         },
         "tracegroupgap": 0
        },
        "template": {
         "data": {
          "bar": [
           {
            "error_x": {
             "color": "#2a3f5f"
            },
            "error_y": {
             "color": "#2a3f5f"
            },
            "marker": {
             "line": {
              "color": "#E5ECF6",
              "width": 0.5
             },
             "pattern": {
              "fillmode": "overlay",
              "size": 10,
              "solidity": 0.2
             }
            },
            "type": "bar"
           }
          ],
          "barpolar": [
           {
            "marker": {
             "line": {
              "color": "#E5ECF6",
              "width": 0.5
             },
             "pattern": {
              "fillmode": "overlay",
              "size": 10,
              "solidity": 0.2
             }
            },
            "type": "barpolar"
           }
          ],
          "carpet": [
           {
            "aaxis": {
             "endlinecolor": "#2a3f5f",
             "gridcolor": "white",
             "linecolor": "white",
             "minorgridcolor": "white",
             "startlinecolor": "#2a3f5f"
            },
            "baxis": {
             "endlinecolor": "#2a3f5f",
             "gridcolor": "white",
             "linecolor": "white",
             "minorgridcolor": "white",
             "startlinecolor": "#2a3f5f"
            },
            "type": "carpet"
           }
          ],
          "choropleth": [
           {
            "colorbar": {
             "outlinewidth": 0,
             "ticks": ""
            },
            "type": "choropleth"
           }
          ],
          "contour": [
           {
            "colorbar": {
             "outlinewidth": 0,
             "ticks": ""
            },
            "colorscale": [
             [
              0,
              "#0d0887"
             ],
             [
              0.1111111111111111,
              "#46039f"
             ],
             [
              0.2222222222222222,
              "#7201a8"
             ],
             [
              0.3333333333333333,
              "#9c179e"
             ],
             [
              0.4444444444444444,
              "#bd3786"
             ],
             [
              0.5555555555555556,
              "#d8576b"
             ],
             [
              0.6666666666666666,
              "#ed7953"
             ],
             [
              0.7777777777777778,
              "#fb9f3a"
             ],
             [
              0.8888888888888888,
              "#fdca26"
             ],
             [
              1,
              "#f0f921"
             ]
            ],
            "type": "contour"
           }
          ],
          "contourcarpet": [
           {
            "colorbar": {
             "outlinewidth": 0,
             "ticks": ""
            },
            "type": "contourcarpet"
           }
          ],
          "heatmap": [
           {
            "colorbar": {
             "outlinewidth": 0,
             "ticks": ""
            },
            "colorscale": [
             [
              0,
              "#0d0887"
             ],
             [
              0.1111111111111111,
              "#46039f"
             ],
             [
              0.2222222222222222,
              "#7201a8"
             ],
             [
              0.3333333333333333,
              "#9c179e"
             ],
             [
              0.4444444444444444,
              "#bd3786"
             ],
             [
              0.5555555555555556,
              "#d8576b"
             ],
             [
              0.6666666666666666,
              "#ed7953"
             ],
             [
              0.7777777777777778,
              "#fb9f3a"
             ],
             [
              0.8888888888888888,
              "#fdca26"
             ],
             [
              1,
              "#f0f921"
             ]
            ],
            "type": "heatmap"
           }
          ],
          "heatmapgl": [
           {
            "colorbar": {
             "outlinewidth": 0,
             "ticks": ""
            },
            "colorscale": [
             [
              0,
              "#0d0887"
             ],
             [
              0.1111111111111111,
              "#46039f"
             ],
             [
              0.2222222222222222,
              "#7201a8"
             ],
             [
              0.3333333333333333,
              "#9c179e"
             ],
             [
              0.4444444444444444,
              "#bd3786"
             ],
             [
              0.5555555555555556,
              "#d8576b"
             ],
             [
              0.6666666666666666,
              "#ed7953"
             ],
             [
              0.7777777777777778,
              "#fb9f3a"
             ],
             [
              0.8888888888888888,
              "#fdca26"
             ],
             [
              1,
              "#f0f921"
             ]
            ],
            "type": "heatmapgl"
           }
          ],
          "histogram": [
           {
            "marker": {
             "pattern": {
              "fillmode": "overlay",
              "size": 10,
              "solidity": 0.2
             }
            },
            "type": "histogram"
           }
          ],
          "histogram2d": [
           {
            "colorbar": {
             "outlinewidth": 0,
             "ticks": ""
            },
            "colorscale": [
             [
              0,
              "#0d0887"
             ],
             [
              0.1111111111111111,
              "#46039f"
             ],
             [
              0.2222222222222222,
              "#7201a8"
             ],
             [
              0.3333333333333333,
              "#9c179e"
             ],
             [
              0.4444444444444444,
              "#bd3786"
             ],
             [
              0.5555555555555556,
              "#d8576b"
             ],
             [
              0.6666666666666666,
              "#ed7953"
             ],
             [
              0.7777777777777778,
              "#fb9f3a"
             ],
             [
              0.8888888888888888,
              "#fdca26"
             ],
             [
              1,
              "#f0f921"
             ]
            ],
            "type": "histogram2d"
           }
          ],
          "histogram2dcontour": [
           {
            "colorbar": {
             "outlinewidth": 0,
             "ticks": ""
            },
            "colorscale": [
             [
              0,
              "#0d0887"
             ],
             [
              0.1111111111111111,
              "#46039f"
             ],
             [
              0.2222222222222222,
              "#7201a8"
             ],
             [
              0.3333333333333333,
              "#9c179e"
             ],
             [
              0.4444444444444444,
              "#bd3786"
             ],
             [
              0.5555555555555556,
              "#d8576b"
             ],
             [
              0.6666666666666666,
              "#ed7953"
             ],
             [
              0.7777777777777778,
              "#fb9f3a"
             ],
             [
              0.8888888888888888,
              "#fdca26"
             ],
             [
              1,
              "#f0f921"
             ]
            ],
            "type": "histogram2dcontour"
           }
          ],
          "mesh3d": [
           {
            "colorbar": {
             "outlinewidth": 0,
             "ticks": ""
            },
            "type": "mesh3d"
           }
          ],
          "parcoords": [
           {
            "line": {
             "colorbar": {
              "outlinewidth": 0,
              "ticks": ""
             }
            },
            "type": "parcoords"
           }
          ],
          "pie": [
           {
            "automargin": true,
            "type": "pie"
           }
          ],
          "scatter": [
           {
            "fillpattern": {
             "fillmode": "overlay",
             "size": 10,
             "solidity": 0.2
            },
            "type": "scatter"
           }
          ],
          "scatter3d": [
           {
            "line": {
             "colorbar": {
              "outlinewidth": 0,
              "ticks": ""
             }
            },
            "marker": {
             "colorbar": {
              "outlinewidth": 0,
              "ticks": ""
             }
            },
            "type": "scatter3d"
           }
          ],
          "scattercarpet": [
           {
            "marker": {
             "colorbar": {
              "outlinewidth": 0,
              "ticks": ""
             }
            },
            "type": "scattercarpet"
           }
          ],
          "scattergeo": [
           {
            "marker": {
             "colorbar": {
              "outlinewidth": 0,
              "ticks": ""
             }
            },
            "type": "scattergeo"
           }
          ],
          "scattergl": [
           {
            "marker": {
             "colorbar": {
              "outlinewidth": 0,
              "ticks": ""
             }
            },
            "type": "scattergl"
           }
          ],
          "scattermapbox": [
           {
            "marker": {
             "colorbar": {
              "outlinewidth": 0,
              "ticks": ""
             }
            },
            "type": "scattermapbox"
           }
          ],
          "scatterpolar": [
           {
            "marker": {
             "colorbar": {
              "outlinewidth": 0,
              "ticks": ""
             }
            },
            "type": "scatterpolar"
           }
          ],
          "scatterpolargl": [
           {
            "marker": {
             "colorbar": {
              "outlinewidth": 0,
              "ticks": ""
             }
            },
            "type": "scatterpolargl"
           }
          ],
          "scatterternary": [
           {
            "marker": {
             "colorbar": {
              "outlinewidth": 0,
              "ticks": ""
             }
            },
            "type": "scatterternary"
           }
          ],
          "surface": [
           {
            "colorbar": {
             "outlinewidth": 0,
             "ticks": ""
            },
            "colorscale": [
             [
              0,
              "#0d0887"
             ],
             [
              0.1111111111111111,
              "#46039f"
             ],
             [
              0.2222222222222222,
              "#7201a8"
             ],
             [
              0.3333333333333333,
              "#9c179e"
             ],
             [
              0.4444444444444444,
              "#bd3786"
             ],
             [
              0.5555555555555556,
              "#d8576b"
             ],
             [
              0.6666666666666666,
              "#ed7953"
             ],
             [
              0.7777777777777778,
              "#fb9f3a"
             ],
             [
              0.8888888888888888,
              "#fdca26"
             ],
             [
              1,
              "#f0f921"
             ]
            ],
            "type": "surface"
           }
          ],
          "table": [
           {
            "cells": {
             "fill": {
              "color": "#EBF0F8"
             },
             "line": {
              "color": "white"
             }
            },
            "header": {
             "fill": {
              "color": "#C8D4E3"
             },
             "line": {
              "color": "white"
             }
            },
            "type": "table"
           }
          ]
         },
         "layout": {
          "annotationdefaults": {
           "arrowcolor": "#2a3f5f",
           "arrowhead": 0,
           "arrowwidth": 1
          },
          "autotypenumbers": "strict",
          "coloraxis": {
           "colorbar": {
            "outlinewidth": 0,
            "ticks": ""
           }
          },
          "colorscale": {
           "diverging": [
            [
             0,
             "#8e0152"
            ],
            [
             0.1,
             "#c51b7d"
            ],
            [
             0.2,
             "#de77ae"
            ],
            [
             0.3,
             "#f1b6da"
            ],
            [
             0.4,
             "#fde0ef"
            ],
            [
             0.5,
             "#f7f7f7"
            ],
            [
             0.6,
             "#e6f5d0"
            ],
            [
             0.7,
             "#b8e186"
            ],
            [
             0.8,
             "#7fbc41"
            ],
            [
             0.9,
             "#4d9221"
            ],
            [
             1,
             "#276419"
            ]
           ],
           "sequential": [
            [
             0,
             "#0d0887"
            ],
            [
             0.1111111111111111,
             "#46039f"
            ],
            [
             0.2222222222222222,
             "#7201a8"
            ],
            [
             0.3333333333333333,
             "#9c179e"
            ],
            [
             0.4444444444444444,
             "#bd3786"
            ],
            [
             0.5555555555555556,
             "#d8576b"
            ],
            [
             0.6666666666666666,
             "#ed7953"
            ],
            [
             0.7777777777777778,
             "#fb9f3a"
            ],
            [
             0.8888888888888888,
             "#fdca26"
            ],
            [
             1,
             "#f0f921"
            ]
           ],
           "sequentialminus": [
            [
             0,
             "#0d0887"
            ],
            [
             0.1111111111111111,
             "#46039f"
            ],
            [
             0.2222222222222222,
             "#7201a8"
            ],
            [
             0.3333333333333333,
             "#9c179e"
            ],
            [
             0.4444444444444444,
             "#bd3786"
            ],
            [
             0.5555555555555556,
             "#d8576b"
            ],
            [
             0.6666666666666666,
             "#ed7953"
            ],
            [
             0.7777777777777778,
             "#fb9f3a"
            ],
            [
             0.8888888888888888,
             "#fdca26"
            ],
            [
             1,
             "#f0f921"
            ]
           ]
          },
          "colorway": [
           "#636efa",
           "#EF553B",
           "#00cc96",
           "#ab63fa",
           "#FFA15A",
           "#19d3f3",
           "#FF6692",
           "#B6E880",
           "#FF97FF",
           "#FECB52"
          ],
          "font": {
           "color": "#2a3f5f"
          },
          "geo": {
           "bgcolor": "white",
           "lakecolor": "white",
           "landcolor": "#E5ECF6",
           "showlakes": true,
           "showland": true,
           "subunitcolor": "white"
          },
          "hoverlabel": {
           "align": "left"
          },
          "hovermode": "closest",
          "mapbox": {
           "style": "light"
          },
          "paper_bgcolor": "white",
          "plot_bgcolor": "#E5ECF6",
          "polar": {
           "angularaxis": {
            "gridcolor": "white",
            "linecolor": "white",
            "ticks": ""
           },
           "bgcolor": "#E5ECF6",
           "radialaxis": {
            "gridcolor": "white",
            "linecolor": "white",
            "ticks": ""
           }
          },
          "scene": {
           "xaxis": {
            "backgroundcolor": "#E5ECF6",
            "gridcolor": "white",
            "gridwidth": 2,
            "linecolor": "white",
            "showbackground": true,
            "ticks": "",
            "zerolinecolor": "white"
           },
           "yaxis": {
            "backgroundcolor": "#E5ECF6",
            "gridcolor": "white",
            "gridwidth": 2,
            "linecolor": "white",
            "showbackground": true,
            "ticks": "",
            "zerolinecolor": "white"
           },
           "zaxis": {
            "backgroundcolor": "#E5ECF6",
            "gridcolor": "white",
            "gridwidth": 2,
            "linecolor": "white",
            "showbackground": true,
            "ticks": "",
            "zerolinecolor": "white"
           }
          },
          "shapedefaults": {
           "line": {
            "color": "#2a3f5f"
           }
          },
          "ternary": {
           "aaxis": {
            "gridcolor": "white",
            "linecolor": "white",
            "ticks": ""
           },
           "baxis": {
            "gridcolor": "white",
            "linecolor": "white",
            "ticks": ""
           },
           "bgcolor": "#E5ECF6",
           "caxis": {
            "gridcolor": "white",
            "linecolor": "white",
            "ticks": ""
           }
          },
          "title": {
           "x": 0.05
          },
          "xaxis": {
           "automargin": true,
           "gridcolor": "white",
           "linecolor": "white",
           "ticks": "",
           "title": {
            "standoff": 15
           },
           "zerolinecolor": "white",
           "zerolinewidth": 2
          },
          "yaxis": {
           "automargin": true,
           "gridcolor": "white",
           "linecolor": "white",
           "ticks": "",
           "title": {
            "standoff": 15
           },
           "zerolinecolor": "white",
           "zerolinewidth": 2
          }
         }
        },
        "title": {
         "text": "norm_SibSp"
        },
        "xaxis": {
         "anchor": "y",
         "domain": [
          0,
          1
         ],
         "title": {
          "text": "value"
         }
        },
        "yaxis": {
         "anchor": "x",
         "domain": [
          0,
          1
         ],
         "title": {
          "text": "count"
         }
        }
       }
      }
     },
     "metadata": {},
     "output_type": "display_data"
    }
   ],
   "source": [
    "import plotly.express as px\n",
    "from sklearn.preprocessing import StandardScaler\n",
    "\n",
    "num_features = ['Age', 'Fare', 'Parch', 'SibSp']\n",
    "all_num_data = all_csv[num_features]\n",
    "\n",
    "for column in all_num_data.columns:\n",
    "    std_scaler = StandardScaler()\n",
    "    data = all_num_data[[column]]\n",
    "    std_scaler.fit(np.log(data + 1))\n",
    "    tr_data = std_scaler.transform(np.log(data + 1))\n",
    "    fig = px.histogram(data, title=f'{column}')\n",
    "    fig.show()\n",
    "    fig = px.histogram(tr_data, title=f'norm_{column}')\n",
    "    fig.show()\n"
   ]
  },
  {
   "cell_type": "code",
   "execution_count": 6,
   "metadata": {},
   "outputs": [
    {
     "data": {
      "application/vnd.plotly.v1+json": {
       "config": {
        "plotlyServerURL": "https://plot.ly"
       },
       "data": [
        {
         "coloraxis": "coloraxis",
         "hovertemplate": "x: %{x}<br>y: %{y}<br>color: %{z}<extra></extra>",
         "name": "0",
         "texttemplate": "%{z}",
         "type": "heatmap",
         "x": [
          "Age",
          "Fare",
          "Parch",
          "SibSp"
         ],
         "xaxis": "x",
         "y": [
          "Age",
          "Fare",
          "Parch",
          "SibSp"
         ],
         "yaxis": "y",
         "z": [
          [
           1,
           0.1787398559996412,
           -0.1509170903635447,
           -0.24369899766477315
          ],
          [
           0.1787398559996412,
           1,
           0.22153865854819044,
           0.16023825591495047
          ],
          [
           -0.1509170903635447,
           0.22153865854819044,
           1,
           0.37358719062649215
          ],
          [
           -0.24369899766477315,
           0.16023825591495047,
           0.37358719062649215,
           1
          ]
         ]
        }
       ],
       "layout": {
        "coloraxis": {
         "colorscale": [
          [
           0,
           "#0d0887"
          ],
          [
           0.1111111111111111,
           "#46039f"
          ],
          [
           0.2222222222222222,
           "#7201a8"
          ],
          [
           0.3333333333333333,
           "#9c179e"
          ],
          [
           0.4444444444444444,
           "#bd3786"
          ],
          [
           0.5555555555555556,
           "#d8576b"
          ],
          [
           0.6666666666666666,
           "#ed7953"
          ],
          [
           0.7777777777777778,
           "#fb9f3a"
          ],
          [
           0.8888888888888888,
           "#fdca26"
          ],
          [
           1,
           "#f0f921"
          ]
         ]
        },
        "margin": {
         "t": 60
        },
        "template": {
         "data": {
          "bar": [
           {
            "error_x": {
             "color": "#2a3f5f"
            },
            "error_y": {
             "color": "#2a3f5f"
            },
            "marker": {
             "line": {
              "color": "#E5ECF6",
              "width": 0.5
             },
             "pattern": {
              "fillmode": "overlay",
              "size": 10,
              "solidity": 0.2
             }
            },
            "type": "bar"
           }
          ],
          "barpolar": [
           {
            "marker": {
             "line": {
              "color": "#E5ECF6",
              "width": 0.5
             },
             "pattern": {
              "fillmode": "overlay",
              "size": 10,
              "solidity": 0.2
             }
            },
            "type": "barpolar"
           }
          ],
          "carpet": [
           {
            "aaxis": {
             "endlinecolor": "#2a3f5f",
             "gridcolor": "white",
             "linecolor": "white",
             "minorgridcolor": "white",
             "startlinecolor": "#2a3f5f"
            },
            "baxis": {
             "endlinecolor": "#2a3f5f",
             "gridcolor": "white",
             "linecolor": "white",
             "minorgridcolor": "white",
             "startlinecolor": "#2a3f5f"
            },
            "type": "carpet"
           }
          ],
          "choropleth": [
           {
            "colorbar": {
             "outlinewidth": 0,
             "ticks": ""
            },
            "type": "choropleth"
           }
          ],
          "contour": [
           {
            "colorbar": {
             "outlinewidth": 0,
             "ticks": ""
            },
            "colorscale": [
             [
              0,
              "#0d0887"
             ],
             [
              0.1111111111111111,
              "#46039f"
             ],
             [
              0.2222222222222222,
              "#7201a8"
             ],
             [
              0.3333333333333333,
              "#9c179e"
             ],
             [
              0.4444444444444444,
              "#bd3786"
             ],
             [
              0.5555555555555556,
              "#d8576b"
             ],
             [
              0.6666666666666666,
              "#ed7953"
             ],
             [
              0.7777777777777778,
              "#fb9f3a"
             ],
             [
              0.8888888888888888,
              "#fdca26"
             ],
             [
              1,
              "#f0f921"
             ]
            ],
            "type": "contour"
           }
          ],
          "contourcarpet": [
           {
            "colorbar": {
             "outlinewidth": 0,
             "ticks": ""
            },
            "type": "contourcarpet"
           }
          ],
          "heatmap": [
           {
            "colorbar": {
             "outlinewidth": 0,
             "ticks": ""
            },
            "colorscale": [
             [
              0,
              "#0d0887"
             ],
             [
              0.1111111111111111,
              "#46039f"
             ],
             [
              0.2222222222222222,
              "#7201a8"
             ],
             [
              0.3333333333333333,
              "#9c179e"
             ],
             [
              0.4444444444444444,
              "#bd3786"
             ],
             [
              0.5555555555555556,
              "#d8576b"
             ],
             [
              0.6666666666666666,
              "#ed7953"
             ],
             [
              0.7777777777777778,
              "#fb9f3a"
             ],
             [
              0.8888888888888888,
              "#fdca26"
             ],
             [
              1,
              "#f0f921"
             ]
            ],
            "type": "heatmap"
           }
          ],
          "heatmapgl": [
           {
            "colorbar": {
             "outlinewidth": 0,
             "ticks": ""
            },
            "colorscale": [
             [
              0,
              "#0d0887"
             ],
             [
              0.1111111111111111,
              "#46039f"
             ],
             [
              0.2222222222222222,
              "#7201a8"
             ],
             [
              0.3333333333333333,
              "#9c179e"
             ],
             [
              0.4444444444444444,
              "#bd3786"
             ],
             [
              0.5555555555555556,
              "#d8576b"
             ],
             [
              0.6666666666666666,
              "#ed7953"
             ],
             [
              0.7777777777777778,
              "#fb9f3a"
             ],
             [
              0.8888888888888888,
              "#fdca26"
             ],
             [
              1,
              "#f0f921"
             ]
            ],
            "type": "heatmapgl"
           }
          ],
          "histogram": [
           {
            "marker": {
             "pattern": {
              "fillmode": "overlay",
              "size": 10,
              "solidity": 0.2
             }
            },
            "type": "histogram"
           }
          ],
          "histogram2d": [
           {
            "colorbar": {
             "outlinewidth": 0,
             "ticks": ""
            },
            "colorscale": [
             [
              0,
              "#0d0887"
             ],
             [
              0.1111111111111111,
              "#46039f"
             ],
             [
              0.2222222222222222,
              "#7201a8"
             ],
             [
              0.3333333333333333,
              "#9c179e"
             ],
             [
              0.4444444444444444,
              "#bd3786"
             ],
             [
              0.5555555555555556,
              "#d8576b"
             ],
             [
              0.6666666666666666,
              "#ed7953"
             ],
             [
              0.7777777777777778,
              "#fb9f3a"
             ],
             [
              0.8888888888888888,
              "#fdca26"
             ],
             [
              1,
              "#f0f921"
             ]
            ],
            "type": "histogram2d"
           }
          ],
          "histogram2dcontour": [
           {
            "colorbar": {
             "outlinewidth": 0,
             "ticks": ""
            },
            "colorscale": [
             [
              0,
              "#0d0887"
             ],
             [
              0.1111111111111111,
              "#46039f"
             ],
             [
              0.2222222222222222,
              "#7201a8"
             ],
             [
              0.3333333333333333,
              "#9c179e"
             ],
             [
              0.4444444444444444,
              "#bd3786"
             ],
             [
              0.5555555555555556,
              "#d8576b"
             ],
             [
              0.6666666666666666,
              "#ed7953"
             ],
             [
              0.7777777777777778,
              "#fb9f3a"
             ],
             [
              0.8888888888888888,
              "#fdca26"
             ],
             [
              1,
              "#f0f921"
             ]
            ],
            "type": "histogram2dcontour"
           }
          ],
          "mesh3d": [
           {
            "colorbar": {
             "outlinewidth": 0,
             "ticks": ""
            },
            "type": "mesh3d"
           }
          ],
          "parcoords": [
           {
            "line": {
             "colorbar": {
              "outlinewidth": 0,
              "ticks": ""
             }
            },
            "type": "parcoords"
           }
          ],
          "pie": [
           {
            "automargin": true,
            "type": "pie"
           }
          ],
          "scatter": [
           {
            "fillpattern": {
             "fillmode": "overlay",
             "size": 10,
             "solidity": 0.2
            },
            "type": "scatter"
           }
          ],
          "scatter3d": [
           {
            "line": {
             "colorbar": {
              "outlinewidth": 0,
              "ticks": ""
             }
            },
            "marker": {
             "colorbar": {
              "outlinewidth": 0,
              "ticks": ""
             }
            },
            "type": "scatter3d"
           }
          ],
          "scattercarpet": [
           {
            "marker": {
             "colorbar": {
              "outlinewidth": 0,
              "ticks": ""
             }
            },
            "type": "scattercarpet"
           }
          ],
          "scattergeo": [
           {
            "marker": {
             "colorbar": {
              "outlinewidth": 0,
              "ticks": ""
             }
            },
            "type": "scattergeo"
           }
          ],
          "scattergl": [
           {
            "marker": {
             "colorbar": {
              "outlinewidth": 0,
              "ticks": ""
             }
            },
            "type": "scattergl"
           }
          ],
          "scattermapbox": [
           {
            "marker": {
             "colorbar": {
              "outlinewidth": 0,
              "ticks": ""
             }
            },
            "type": "scattermapbox"
           }
          ],
          "scatterpolar": [
           {
            "marker": {
             "colorbar": {
              "outlinewidth": 0,
              "ticks": ""
             }
            },
            "type": "scatterpolar"
           }
          ],
          "scatterpolargl": [
           {
            "marker": {
             "colorbar": {
              "outlinewidth": 0,
              "ticks": ""
             }
            },
            "type": "scatterpolargl"
           }
          ],
          "scatterternary": [
           {
            "marker": {
             "colorbar": {
              "outlinewidth": 0,
              "ticks": ""
             }
            },
            "type": "scatterternary"
           }
          ],
          "surface": [
           {
            "colorbar": {
             "outlinewidth": 0,
             "ticks": ""
            },
            "colorscale": [
             [
              0,
              "#0d0887"
             ],
             [
              0.1111111111111111,
              "#46039f"
             ],
             [
              0.2222222222222222,
              "#7201a8"
             ],
             [
              0.3333333333333333,
              "#9c179e"
             ],
             [
              0.4444444444444444,
              "#bd3786"
             ],
             [
              0.5555555555555556,
              "#d8576b"
             ],
             [
              0.6666666666666666,
              "#ed7953"
             ],
             [
              0.7777777777777778,
              "#fb9f3a"
             ],
             [
              0.8888888888888888,
              "#fdca26"
             ],
             [
              1,
              "#f0f921"
             ]
            ],
            "type": "surface"
           }
          ],
          "table": [
           {
            "cells": {
             "fill": {
              "color": "#EBF0F8"
             },
             "line": {
              "color": "white"
             }
            },
            "header": {
             "fill": {
              "color": "#C8D4E3"
             },
             "line": {
              "color": "white"
             }
            },
            "type": "table"
           }
          ]
         },
         "layout": {
          "annotationdefaults": {
           "arrowcolor": "#2a3f5f",
           "arrowhead": 0,
           "arrowwidth": 1
          },
          "autotypenumbers": "strict",
          "coloraxis": {
           "colorbar": {
            "outlinewidth": 0,
            "ticks": ""
           }
          },
          "colorscale": {
           "diverging": [
            [
             0,
             "#8e0152"
            ],
            [
             0.1,
             "#c51b7d"
            ],
            [
             0.2,
             "#de77ae"
            ],
            [
             0.3,
             "#f1b6da"
            ],
            [
             0.4,
             "#fde0ef"
            ],
            [
             0.5,
             "#f7f7f7"
            ],
            [
             0.6,
             "#e6f5d0"
            ],
            [
             0.7,
             "#b8e186"
            ],
            [
             0.8,
             "#7fbc41"
            ],
            [
             0.9,
             "#4d9221"
            ],
            [
             1,
             "#276419"
            ]
           ],
           "sequential": [
            [
             0,
             "#0d0887"
            ],
            [
             0.1111111111111111,
             "#46039f"
            ],
            [
             0.2222222222222222,
             "#7201a8"
            ],
            [
             0.3333333333333333,
             "#9c179e"
            ],
            [
             0.4444444444444444,
             "#bd3786"
            ],
            [
             0.5555555555555556,
             "#d8576b"
            ],
            [
             0.6666666666666666,
             "#ed7953"
            ],
            [
             0.7777777777777778,
             "#fb9f3a"
            ],
            [
             0.8888888888888888,
             "#fdca26"
            ],
            [
             1,
             "#f0f921"
            ]
           ],
           "sequentialminus": [
            [
             0,
             "#0d0887"
            ],
            [
             0.1111111111111111,
             "#46039f"
            ],
            [
             0.2222222222222222,
             "#7201a8"
            ],
            [
             0.3333333333333333,
             "#9c179e"
            ],
            [
             0.4444444444444444,
             "#bd3786"
            ],
            [
             0.5555555555555556,
             "#d8576b"
            ],
            [
             0.6666666666666666,
             "#ed7953"
            ],
            [
             0.7777777777777778,
             "#fb9f3a"
            ],
            [
             0.8888888888888888,
             "#fdca26"
            ],
            [
             1,
             "#f0f921"
            ]
           ]
          },
          "colorway": [
           "#636efa",
           "#EF553B",
           "#00cc96",
           "#ab63fa",
           "#FFA15A",
           "#19d3f3",
           "#FF6692",
           "#B6E880",
           "#FF97FF",
           "#FECB52"
          ],
          "font": {
           "color": "#2a3f5f"
          },
          "geo": {
           "bgcolor": "white",
           "lakecolor": "white",
           "landcolor": "#E5ECF6",
           "showlakes": true,
           "showland": true,
           "subunitcolor": "white"
          },
          "hoverlabel": {
           "align": "left"
          },
          "hovermode": "closest",
          "mapbox": {
           "style": "light"
          },
          "paper_bgcolor": "white",
          "plot_bgcolor": "#E5ECF6",
          "polar": {
           "angularaxis": {
            "gridcolor": "white",
            "linecolor": "white",
            "ticks": ""
           },
           "bgcolor": "#E5ECF6",
           "radialaxis": {
            "gridcolor": "white",
            "linecolor": "white",
            "ticks": ""
           }
          },
          "scene": {
           "xaxis": {
            "backgroundcolor": "#E5ECF6",
            "gridcolor": "white",
            "gridwidth": 2,
            "linecolor": "white",
            "showbackground": true,
            "ticks": "",
            "zerolinecolor": "white"
           },
           "yaxis": {
            "backgroundcolor": "#E5ECF6",
            "gridcolor": "white",
            "gridwidth": 2,
            "linecolor": "white",
            "showbackground": true,
            "ticks": "",
            "zerolinecolor": "white"
           },
           "zaxis": {
            "backgroundcolor": "#E5ECF6",
            "gridcolor": "white",
            "gridwidth": 2,
            "linecolor": "white",
            "showbackground": true,
            "ticks": "",
            "zerolinecolor": "white"
           }
          },
          "shapedefaults": {
           "line": {
            "color": "#2a3f5f"
           }
          },
          "ternary": {
           "aaxis": {
            "gridcolor": "white",
            "linecolor": "white",
            "ticks": ""
           },
           "baxis": {
            "gridcolor": "white",
            "linecolor": "white",
            "ticks": ""
           },
           "bgcolor": "#E5ECF6",
           "caxis": {
            "gridcolor": "white",
            "linecolor": "white",
            "ticks": ""
           }
          },
          "title": {
           "x": 0.05
          },
          "xaxis": {
           "automargin": true,
           "gridcolor": "white",
           "linecolor": "white",
           "ticks": "",
           "title": {
            "standoff": 15
           },
           "zerolinecolor": "white",
           "zerolinewidth": 2
          },
          "yaxis": {
           "automargin": true,
           "gridcolor": "white",
           "linecolor": "white",
           "ticks": "",
           "title": {
            "standoff": 15
           },
           "zerolinecolor": "white",
           "zerolinewidth": 2
          }
         }
        },
        "xaxis": {
         "anchor": "y",
         "constrain": "domain",
         "domain": [
          0,
          1
         ],
         "scaleanchor": "y"
        },
        "yaxis": {
         "anchor": "x",
         "autorange": "reversed",
         "constrain": "domain",
         "domain": [
          0,
          1
         ]
        }
       }
      }
     },
     "metadata": {},
     "output_type": "display_data"
    }
   ],
   "source": [
    "correlations = all_num_data.corr()\n",
    "px.imshow(correlations, text_auto=True)"
   ]
  },
  {
   "cell_type": "code",
   "execution_count": 7,
   "metadata": {},
   "outputs": [
    {
     "data": {
      "application/vnd.plotly.v1+json": {
       "config": {
        "plotlyServerURL": "https://plot.ly"
       },
       "data": [
        {
         "coloraxis": "coloraxis",
         "hovertemplate": "x: %{x}<br>y: %{y}<br>color: %{z}<extra></extra>",
         "name": "0",
         "texttemplate": "%{z}",
         "type": "heatmap",
         "x": [
          "Age",
          "Fare",
          "Parch",
          "SibSp",
          "Survived"
         ],
         "xaxis": "x",
         "y": [
          "Age",
          "Fare",
          "Parch",
          "SibSp",
          "Survived"
         ],
         "yaxis": "y",
         "z": [
          [
           1,
           0.09606669176903912,
           -0.1891192626320352,
           -0.30824675892365666,
           -0.07722109457217759
          ],
          [
           0.09606669176903912,
           1,
           0.2162249447707645,
           0.159651043242161,
           0.2573065223849626
          ],
          [
           -0.1891192626320352,
           0.2162249447707645,
           1,
           0.41483769862015635,
           0.08162940708348335
          ],
          [
           -0.30824675892365666,
           0.159651043242161,
           0.41483769862015635,
           1,
           -0.03532249888573556
          ],
          [
           -0.07722109457217759,
           0.2573065223849626,
           0.08162940708348335,
           -0.03532249888573556,
           1
          ]
         ]
        }
       ],
       "layout": {
        "coloraxis": {
         "colorscale": [
          [
           0,
           "#0d0887"
          ],
          [
           0.1111111111111111,
           "#46039f"
          ],
          [
           0.2222222222222222,
           "#7201a8"
          ],
          [
           0.3333333333333333,
           "#9c179e"
          ],
          [
           0.4444444444444444,
           "#bd3786"
          ],
          [
           0.5555555555555556,
           "#d8576b"
          ],
          [
           0.6666666666666666,
           "#ed7953"
          ],
          [
           0.7777777777777778,
           "#fb9f3a"
          ],
          [
           0.8888888888888888,
           "#fdca26"
          ],
          [
           1,
           "#f0f921"
          ]
         ]
        },
        "margin": {
         "t": 60
        },
        "template": {
         "data": {
          "bar": [
           {
            "error_x": {
             "color": "#2a3f5f"
            },
            "error_y": {
             "color": "#2a3f5f"
            },
            "marker": {
             "line": {
              "color": "#E5ECF6",
              "width": 0.5
             },
             "pattern": {
              "fillmode": "overlay",
              "size": 10,
              "solidity": 0.2
             }
            },
            "type": "bar"
           }
          ],
          "barpolar": [
           {
            "marker": {
             "line": {
              "color": "#E5ECF6",
              "width": 0.5
             },
             "pattern": {
              "fillmode": "overlay",
              "size": 10,
              "solidity": 0.2
             }
            },
            "type": "barpolar"
           }
          ],
          "carpet": [
           {
            "aaxis": {
             "endlinecolor": "#2a3f5f",
             "gridcolor": "white",
             "linecolor": "white",
             "minorgridcolor": "white",
             "startlinecolor": "#2a3f5f"
            },
            "baxis": {
             "endlinecolor": "#2a3f5f",
             "gridcolor": "white",
             "linecolor": "white",
             "minorgridcolor": "white",
             "startlinecolor": "#2a3f5f"
            },
            "type": "carpet"
           }
          ],
          "choropleth": [
           {
            "colorbar": {
             "outlinewidth": 0,
             "ticks": ""
            },
            "type": "choropleth"
           }
          ],
          "contour": [
           {
            "colorbar": {
             "outlinewidth": 0,
             "ticks": ""
            },
            "colorscale": [
             [
              0,
              "#0d0887"
             ],
             [
              0.1111111111111111,
              "#46039f"
             ],
             [
              0.2222222222222222,
              "#7201a8"
             ],
             [
              0.3333333333333333,
              "#9c179e"
             ],
             [
              0.4444444444444444,
              "#bd3786"
             ],
             [
              0.5555555555555556,
              "#d8576b"
             ],
             [
              0.6666666666666666,
              "#ed7953"
             ],
             [
              0.7777777777777778,
              "#fb9f3a"
             ],
             [
              0.8888888888888888,
              "#fdca26"
             ],
             [
              1,
              "#f0f921"
             ]
            ],
            "type": "contour"
           }
          ],
          "contourcarpet": [
           {
            "colorbar": {
             "outlinewidth": 0,
             "ticks": ""
            },
            "type": "contourcarpet"
           }
          ],
          "heatmap": [
           {
            "colorbar": {
             "outlinewidth": 0,
             "ticks": ""
            },
            "colorscale": [
             [
              0,
              "#0d0887"
             ],
             [
              0.1111111111111111,
              "#46039f"
             ],
             [
              0.2222222222222222,
              "#7201a8"
             ],
             [
              0.3333333333333333,
              "#9c179e"
             ],
             [
              0.4444444444444444,
              "#bd3786"
             ],
             [
              0.5555555555555556,
              "#d8576b"
             ],
             [
              0.6666666666666666,
              "#ed7953"
             ],
             [
              0.7777777777777778,
              "#fb9f3a"
             ],
             [
              0.8888888888888888,
              "#fdca26"
             ],
             [
              1,
              "#f0f921"
             ]
            ],
            "type": "heatmap"
           }
          ],
          "heatmapgl": [
           {
            "colorbar": {
             "outlinewidth": 0,
             "ticks": ""
            },
            "colorscale": [
             [
              0,
              "#0d0887"
             ],
             [
              0.1111111111111111,
              "#46039f"
             ],
             [
              0.2222222222222222,
              "#7201a8"
             ],
             [
              0.3333333333333333,
              "#9c179e"
             ],
             [
              0.4444444444444444,
              "#bd3786"
             ],
             [
              0.5555555555555556,
              "#d8576b"
             ],
             [
              0.6666666666666666,
              "#ed7953"
             ],
             [
              0.7777777777777778,
              "#fb9f3a"
             ],
             [
              0.8888888888888888,
              "#fdca26"
             ],
             [
              1,
              "#f0f921"
             ]
            ],
            "type": "heatmapgl"
           }
          ],
          "histogram": [
           {
            "marker": {
             "pattern": {
              "fillmode": "overlay",
              "size": 10,
              "solidity": 0.2
             }
            },
            "type": "histogram"
           }
          ],
          "histogram2d": [
           {
            "colorbar": {
             "outlinewidth": 0,
             "ticks": ""
            },
            "colorscale": [
             [
              0,
              "#0d0887"
             ],
             [
              0.1111111111111111,
              "#46039f"
             ],
             [
              0.2222222222222222,
              "#7201a8"
             ],
             [
              0.3333333333333333,
              "#9c179e"
             ],
             [
              0.4444444444444444,
              "#bd3786"
             ],
             [
              0.5555555555555556,
              "#d8576b"
             ],
             [
              0.6666666666666666,
              "#ed7953"
             ],
             [
              0.7777777777777778,
              "#fb9f3a"
             ],
             [
              0.8888888888888888,
              "#fdca26"
             ],
             [
              1,
              "#f0f921"
             ]
            ],
            "type": "histogram2d"
           }
          ],
          "histogram2dcontour": [
           {
            "colorbar": {
             "outlinewidth": 0,
             "ticks": ""
            },
            "colorscale": [
             [
              0,
              "#0d0887"
             ],
             [
              0.1111111111111111,
              "#46039f"
             ],
             [
              0.2222222222222222,
              "#7201a8"
             ],
             [
              0.3333333333333333,
              "#9c179e"
             ],
             [
              0.4444444444444444,
              "#bd3786"
             ],
             [
              0.5555555555555556,
              "#d8576b"
             ],
             [
              0.6666666666666666,
              "#ed7953"
             ],
             [
              0.7777777777777778,
              "#fb9f3a"
             ],
             [
              0.8888888888888888,
              "#fdca26"
             ],
             [
              1,
              "#f0f921"
             ]
            ],
            "type": "histogram2dcontour"
           }
          ],
          "mesh3d": [
           {
            "colorbar": {
             "outlinewidth": 0,
             "ticks": ""
            },
            "type": "mesh3d"
           }
          ],
          "parcoords": [
           {
            "line": {
             "colorbar": {
              "outlinewidth": 0,
              "ticks": ""
             }
            },
            "type": "parcoords"
           }
          ],
          "pie": [
           {
            "automargin": true,
            "type": "pie"
           }
          ],
          "scatter": [
           {
            "fillpattern": {
             "fillmode": "overlay",
             "size": 10,
             "solidity": 0.2
            },
            "type": "scatter"
           }
          ],
          "scatter3d": [
           {
            "line": {
             "colorbar": {
              "outlinewidth": 0,
              "ticks": ""
             }
            },
            "marker": {
             "colorbar": {
              "outlinewidth": 0,
              "ticks": ""
             }
            },
            "type": "scatter3d"
           }
          ],
          "scattercarpet": [
           {
            "marker": {
             "colorbar": {
              "outlinewidth": 0,
              "ticks": ""
             }
            },
            "type": "scattercarpet"
           }
          ],
          "scattergeo": [
           {
            "marker": {
             "colorbar": {
              "outlinewidth": 0,
              "ticks": ""
             }
            },
            "type": "scattergeo"
           }
          ],
          "scattergl": [
           {
            "marker": {
             "colorbar": {
              "outlinewidth": 0,
              "ticks": ""
             }
            },
            "type": "scattergl"
           }
          ],
          "scattermapbox": [
           {
            "marker": {
             "colorbar": {
              "outlinewidth": 0,
              "ticks": ""
             }
            },
            "type": "scattermapbox"
           }
          ],
          "scatterpolar": [
           {
            "marker": {
             "colorbar": {
              "outlinewidth": 0,
              "ticks": ""
             }
            },
            "type": "scatterpolar"
           }
          ],
          "scatterpolargl": [
           {
            "marker": {
             "colorbar": {
              "outlinewidth": 0,
              "ticks": ""
             }
            },
            "type": "scatterpolargl"
           }
          ],
          "scatterternary": [
           {
            "marker": {
             "colorbar": {
              "outlinewidth": 0,
              "ticks": ""
             }
            },
            "type": "scatterternary"
           }
          ],
          "surface": [
           {
            "colorbar": {
             "outlinewidth": 0,
             "ticks": ""
            },
            "colorscale": [
             [
              0,
              "#0d0887"
             ],
             [
              0.1111111111111111,
              "#46039f"
             ],
             [
              0.2222222222222222,
              "#7201a8"
             ],
             [
              0.3333333333333333,
              "#9c179e"
             ],
             [
              0.4444444444444444,
              "#bd3786"
             ],
             [
              0.5555555555555556,
              "#d8576b"
             ],
             [
              0.6666666666666666,
              "#ed7953"
             ],
             [
              0.7777777777777778,
              "#fb9f3a"
             ],
             [
              0.8888888888888888,
              "#fdca26"
             ],
             [
              1,
              "#f0f921"
             ]
            ],
            "type": "surface"
           }
          ],
          "table": [
           {
            "cells": {
             "fill": {
              "color": "#EBF0F8"
             },
             "line": {
              "color": "white"
             }
            },
            "header": {
             "fill": {
              "color": "#C8D4E3"
             },
             "line": {
              "color": "white"
             }
            },
            "type": "table"
           }
          ]
         },
         "layout": {
          "annotationdefaults": {
           "arrowcolor": "#2a3f5f",
           "arrowhead": 0,
           "arrowwidth": 1
          },
          "autotypenumbers": "strict",
          "coloraxis": {
           "colorbar": {
            "outlinewidth": 0,
            "ticks": ""
           }
          },
          "colorscale": {
           "diverging": [
            [
             0,
             "#8e0152"
            ],
            [
             0.1,
             "#c51b7d"
            ],
            [
             0.2,
             "#de77ae"
            ],
            [
             0.3,
             "#f1b6da"
            ],
            [
             0.4,
             "#fde0ef"
            ],
            [
             0.5,
             "#f7f7f7"
            ],
            [
             0.6,
             "#e6f5d0"
            ],
            [
             0.7,
             "#b8e186"
            ],
            [
             0.8,
             "#7fbc41"
            ],
            [
             0.9,
             "#4d9221"
            ],
            [
             1,
             "#276419"
            ]
           ],
           "sequential": [
            [
             0,
             "#0d0887"
            ],
            [
             0.1111111111111111,
             "#46039f"
            ],
            [
             0.2222222222222222,
             "#7201a8"
            ],
            [
             0.3333333333333333,
             "#9c179e"
            ],
            [
             0.4444444444444444,
             "#bd3786"
            ],
            [
             0.5555555555555556,
             "#d8576b"
            ],
            [
             0.6666666666666666,
             "#ed7953"
            ],
            [
             0.7777777777777778,
             "#fb9f3a"
            ],
            [
             0.8888888888888888,
             "#fdca26"
            ],
            [
             1,
             "#f0f921"
            ]
           ],
           "sequentialminus": [
            [
             0,
             "#0d0887"
            ],
            [
             0.1111111111111111,
             "#46039f"
            ],
            [
             0.2222222222222222,
             "#7201a8"
            ],
            [
             0.3333333333333333,
             "#9c179e"
            ],
            [
             0.4444444444444444,
             "#bd3786"
            ],
            [
             0.5555555555555556,
             "#d8576b"
            ],
            [
             0.6666666666666666,
             "#ed7953"
            ],
            [
             0.7777777777777778,
             "#fb9f3a"
            ],
            [
             0.8888888888888888,
             "#fdca26"
            ],
            [
             1,
             "#f0f921"
            ]
           ]
          },
          "colorway": [
           "#636efa",
           "#EF553B",
           "#00cc96",
           "#ab63fa",
           "#FFA15A",
           "#19d3f3",
           "#FF6692",
           "#B6E880",
           "#FF97FF",
           "#FECB52"
          ],
          "font": {
           "color": "#2a3f5f"
          },
          "geo": {
           "bgcolor": "white",
           "lakecolor": "white",
           "landcolor": "#E5ECF6",
           "showlakes": true,
           "showland": true,
           "subunitcolor": "white"
          },
          "hoverlabel": {
           "align": "left"
          },
          "hovermode": "closest",
          "mapbox": {
           "style": "light"
          },
          "paper_bgcolor": "white",
          "plot_bgcolor": "#E5ECF6",
          "polar": {
           "angularaxis": {
            "gridcolor": "white",
            "linecolor": "white",
            "ticks": ""
           },
           "bgcolor": "#E5ECF6",
           "radialaxis": {
            "gridcolor": "white",
            "linecolor": "white",
            "ticks": ""
           }
          },
          "scene": {
           "xaxis": {
            "backgroundcolor": "#E5ECF6",
            "gridcolor": "white",
            "gridwidth": 2,
            "linecolor": "white",
            "showbackground": true,
            "ticks": "",
            "zerolinecolor": "white"
           },
           "yaxis": {
            "backgroundcolor": "#E5ECF6",
            "gridcolor": "white",
            "gridwidth": 2,
            "linecolor": "white",
            "showbackground": true,
            "ticks": "",
            "zerolinecolor": "white"
           },
           "zaxis": {
            "backgroundcolor": "#E5ECF6",
            "gridcolor": "white",
            "gridwidth": 2,
            "linecolor": "white",
            "showbackground": true,
            "ticks": "",
            "zerolinecolor": "white"
           }
          },
          "shapedefaults": {
           "line": {
            "color": "#2a3f5f"
           }
          },
          "ternary": {
           "aaxis": {
            "gridcolor": "white",
            "linecolor": "white",
            "ticks": ""
           },
           "baxis": {
            "gridcolor": "white",
            "linecolor": "white",
            "ticks": ""
           },
           "bgcolor": "#E5ECF6",
           "caxis": {
            "gridcolor": "white",
            "linecolor": "white",
            "ticks": ""
           }
          },
          "title": {
           "x": 0.05
          },
          "xaxis": {
           "automargin": true,
           "gridcolor": "white",
           "linecolor": "white",
           "ticks": "",
           "title": {
            "standoff": 15
           },
           "zerolinecolor": "white",
           "zerolinewidth": 2
          },
          "yaxis": {
           "automargin": true,
           "gridcolor": "white",
           "linecolor": "white",
           "ticks": "",
           "title": {
            "standoff": 15
           },
           "zerolinecolor": "white",
           "zerolinewidth": 2
          }
         }
        },
        "xaxis": {
         "anchor": "y",
         "constrain": "domain",
         "domain": [
          0,
          1
         ],
         "scaleanchor": "y"
        },
        "yaxis": {
         "anchor": "x",
         "autorange": "reversed",
         "constrain": "domain",
         "domain": [
          0,
          1
         ]
        }
       }
      }
     },
     "metadata": {},
     "output_type": "display_data"
    }
   ],
   "source": [
    "correlations = train_csv[num_features + ['Survived']].corr()\n",
    "px.imshow(correlations, text_auto=True)"
   ]
  },
  {
   "cell_type": "code",
   "execution_count": 8,
   "metadata": {},
   "outputs": [
    {
     "data": {
      "text/html": [
       "<div>\n",
       "<style scoped>\n",
       "    .dataframe tbody tr th:only-of-type {\n",
       "        vertical-align: middle;\n",
       "    }\n",
       "\n",
       "    .dataframe tbody tr th {\n",
       "        vertical-align: top;\n",
       "    }\n",
       "\n",
       "    .dataframe thead th {\n",
       "        text-align: right;\n",
       "    }\n",
       "</style>\n",
       "<table border=\"1\" class=\"dataframe\">\n",
       "  <thead>\n",
       "    <tr style=\"text-align: right;\">\n",
       "      <th></th>\n",
       "      <th>Age</th>\n",
       "      <th>Fare</th>\n",
       "      <th>Parch</th>\n",
       "      <th>SibSp</th>\n",
       "    </tr>\n",
       "    <tr>\n",
       "      <th>Survived</th>\n",
       "      <th></th>\n",
       "      <th></th>\n",
       "      <th></th>\n",
       "      <th></th>\n",
       "    </tr>\n",
       "  </thead>\n",
       "  <tbody>\n",
       "    <tr>\n",
       "      <th>0</th>\n",
       "      <td>30.626179</td>\n",
       "      <td>22.117887</td>\n",
       "      <td>0.329690</td>\n",
       "      <td>0.553734</td>\n",
       "    </tr>\n",
       "    <tr>\n",
       "      <th>1</th>\n",
       "      <td>28.343690</td>\n",
       "      <td>48.395408</td>\n",
       "      <td>0.464912</td>\n",
       "      <td>0.473684</td>\n",
       "    </tr>\n",
       "  </tbody>\n",
       "</table>\n",
       "</div>"
      ],
      "text/plain": [
       "                Age       Fare     Parch     SibSp\n",
       "Survived                                          \n",
       "0         30.626179  22.117887  0.329690  0.553734\n",
       "1         28.343690  48.395408  0.464912  0.473684"
      ]
     },
     "execution_count": 8,
     "metadata": {},
     "output_type": "execute_result"
    }
   ],
   "source": [
    "pd.pivot_table(train_csv, values=num_features, index='Survived')"
   ]
  },
  {
   "cell_type": "code",
   "execution_count": 9,
   "metadata": {},
   "outputs": [
    {
     "data": {
      "application/vnd.plotly.v1+json": {
       "config": {
        "plotlyServerURL": "https://plot.ly"
       },
       "data": [
        {
         "alignmentgroup": "True",
         "hovertemplate": "variable=PassengerId<br>index=%{x}<br>value=%{y}<extra></extra>",
         "legendgroup": "PassengerId",
         "marker": {
          "color": "#636efa",
          "pattern": {
           "shape": ""
          }
         },
         "name": "PassengerId",
         "offsetgroup": "PassengerId",
         "orientation": "v",
         "showlegend": true,
         "textposition": "auto",
         "type": "bar",
         "x": [
          1,
          861,
          879,
          878,
          877,
          876,
          875,
          874,
          873,
          872,
          871,
          870,
          869,
          868,
          867,
          866,
          865,
          864,
          863,
          880,
          881,
          882,
          892,
          899,
          898,
          897,
          896,
          895,
          894,
          893,
          891,
          883,
          890,
          889,
          888,
          887,
          886,
          885,
          884,
          862,
          860,
          901,
          859,
          838,
          837,
          836,
          835,
          834,
          833,
          832,
          831,
          830,
          829,
          828,
          827,
          826,
          825,
          824,
          823,
          822,
          839,
          840,
          841,
          851,
          858,
          857,
          856,
          855,
          854,
          853,
          852,
          850,
          842,
          849,
          848,
          847,
          846,
          845,
          844,
          843,
          900,
          902,
          820,
          943,
          961,
          960,
          959,
          958,
          957,
          956,
          955,
          954,
          953,
          952,
          951,
          950,
          949,
          948,
          947,
          946,
          945,
          962,
          963,
          964,
          974,
          981,
          980,
          979,
          978,
          977,
          976,
          975,
          973,
          965,
          972,
          971,
          970,
          969,
          968,
          967,
          966,
          944,
          942,
          903,
          941,
          920,
          919,
          918,
          917,
          916,
          915,
          914,
          913,
          912,
          911,
          910,
          909,
          908,
          907,
          906,
          905,
          904,
          921,
          922,
          923,
          933,
          940,
          939,
          938,
          937,
          936,
          935,
          934,
          932,
          924,
          931,
          930,
          929,
          928,
          927,
          926,
          925,
          821,
          819,
          656,
          697,
          715,
          714,
          713,
          712,
          711,
          710,
          709,
          708,
          707,
          706,
          705,
          704,
          703,
          702,
          701,
          700,
          699,
          716,
          717,
          718,
          728,
          735,
          734,
          733,
          732,
          731,
          730,
          729,
          727,
          719,
          726,
          725,
          724,
          723,
          722,
          721,
          720,
          698,
          696,
          737,
          695,
          674,
          673,
          672,
          671,
          670,
          669,
          668,
          667,
          666,
          665,
          664,
          663,
          662,
          661,
          660,
          659,
          658,
          675,
          676,
          677,
          687,
          694,
          693,
          692,
          691,
          690,
          689,
          688,
          686,
          678,
          685,
          684,
          683,
          682,
          681,
          680,
          679,
          736,
          738,
          818,
          779,
          797,
          796,
          795,
          794,
          793,
          792,
          791,
          790,
          789,
          788,
          787,
          786,
          785,
          784,
          783,
          782,
          781,
          798,
          799,
          800,
          810,
          817,
          816,
          815,
          814,
          813,
          812,
          811,
          809,
          801,
          808,
          807,
          806,
          805,
          804,
          803,
          802,
          780,
          778,
          739,
          777,
          756,
          755,
          754,
          753,
          752,
          751,
          750,
          749,
          748,
          747,
          746,
          745,
          744,
          743,
          742,
          741,
          740,
          757,
          758,
          759,
          769,
          776,
          775,
          774,
          773,
          772,
          771,
          770,
          768,
          760,
          767,
          766,
          765,
          764,
          763,
          762,
          761,
          982,
          983,
          984,
          1188,
          1206,
          1205,
          1204,
          1203,
          1202,
          1201,
          1200,
          1199,
          1198,
          1197,
          1196,
          1195,
          1194,
          1193,
          1192,
          1191,
          1190,
          1207,
          1208,
          1209,
          1219,
          1226,
          1225,
          1224,
          1223,
          1222,
          1221,
          1220,
          1218,
          1210,
          1217,
          1216,
          1215,
          1214,
          1213,
          1212,
          1211,
          1189,
          1187,
          1228,
          1186,
          1165,
          1164,
          1163,
          1162,
          1161,
          1160,
          1159,
          1158,
          1157,
          1156,
          1155,
          1154,
          1153,
          1152,
          1151,
          1150,
          1149,
          1166,
          1167,
          1168,
          1178,
          1185,
          1184,
          1183,
          1182,
          1181,
          1180,
          1179,
          1177,
          1169,
          1176,
          1175,
          1174,
          1173,
          1172,
          1171,
          1170,
          1227,
          1229,
          985,
          1270,
          1288,
          1287,
          1286,
          1285,
          1284,
          1283,
          1282,
          1281,
          1280,
          1279,
          1278,
          1277,
          1276,
          1275,
          1274,
          1273,
          1272,
          1289,
          1290,
          1291,
          1301,
          1308,
          1307,
          1306,
          1305,
          1304,
          1303,
          1302,
          1300,
          1292,
          1299,
          1298,
          1297,
          1296,
          1295,
          1294,
          1293,
          1271,
          1269,
          1230,
          1268,
          1247,
          1246,
          1245,
          1244,
          1243,
          1242,
          1241,
          1240,
          1239,
          1238,
          1237,
          1236,
          1235,
          1234,
          1233,
          1232,
          1231,
          1248,
          1249,
          1250,
          1260,
          1267,
          1266,
          1265,
          1264,
          1263,
          1262,
          1261,
          1259,
          1251,
          1258,
          1257,
          1256,
          1255,
          1254,
          1253,
          1252,
          1148,
          1147,
          1146,
          1025,
          1043,
          1042,
          1041,
          1040,
          1039,
          1038,
          1037,
          1036,
          1035,
          1034,
          1033,
          1032,
          1031,
          1030,
          1029,
          1028,
          1027,
          1044,
          1045,
          1046,
          1056,
          1063,
          1062,
          1061,
          1060,
          1059,
          1058,
          1057,
          1055,
          1047,
          1054,
          1053,
          1052,
          1051,
          1050,
          1049,
          1048,
          1026,
          1024,
          1145,
          1023,
          1002,
          1001,
          1000,
          999,
          998,
          997,
          996,
          995,
          994,
          993,
          992,
          991,
          990,
          989,
          988,
          987,
          986,
          1003,
          1004,
          1005,
          1015,
          1022,
          1021,
          1020,
          1019,
          1018,
          1017,
          1016,
          1014,
          1006,
          1013,
          1012,
          1011,
          1010,
          1009,
          1008,
          1007,
          1064,
          1065,
          1066,
          1067,
          1124,
          1123,
          1122,
          1121,
          1120,
          1119,
          1118,
          1117,
          1116,
          1115,
          1114,
          1113,
          1112,
          1111,
          1110,
          1109,
          1108,
          1125,
          1126,
          1127,
          1137,
          1144,
          1143,
          1142,
          1141,
          1140,
          1139,
          1138,
          1136,
          1128,
          1135,
          1134,
          1133,
          1132,
          1131,
          1130,
          1129,
          1107,
          1106,
          1105,
          1076,
          1083,
          1082,
          1081,
          1080,
          1079,
          1078,
          1077,
          1075,
          1085,
          1074,
          1073,
          1072,
          1071,
          1070,
          1069,
          1068,
          1084,
          1086,
          1104,
          1096,
          1103,
          1102,
          1101,
          1100,
          1099,
          1098,
          1097,
          1095,
          1087,
          1094,
          1093,
          1092,
          1091,
          1090,
          1089,
          1088,
          657,
          655,
          2,
          206,
          224,
          223,
          222,
          221,
          220,
          219,
          218,
          217,
          216,
          215,
          214,
          213,
          212,
          211,
          210,
          209,
          208,
          225,
          226,
          227,
          237,
          244,
          243,
          242,
          241,
          240,
          239,
          238,
          236,
          228,
          235,
          234,
          233,
          232,
          231,
          230,
          229,
          207,
          205,
          246,
          204,
          183,
          182,
          181,
          180,
          179,
          178,
          177,
          176,
          175,
          174,
          173,
          172,
          171,
          170,
          169,
          168,
          167,
          184,
          185,
          186,
          196,
          203,
          202,
          201,
          200,
          199,
          198,
          197,
          195,
          187,
          194,
          193,
          192,
          191,
          190,
          189,
          188,
          245,
          247,
          165,
          288,
          306,
          305,
          304,
          303,
          302,
          301,
          300,
          299,
          298,
          297,
          296,
          295,
          294,
          293,
          292,
          291,
          290,
          307,
          308,
          309,
          319,
          326,
          325,
          324,
          323,
          322,
          321,
          320,
          318,
          310,
          317,
          316,
          315,
          314,
          313,
          312,
          311,
          289,
          287,
          248,
          286,
          265,
          264,
          263,
          262,
          261,
          260,
          259,
          258,
          257,
          256,
          255,
          254,
          253,
          252,
          251,
          250,
          249,
          266,
          267,
          268,
          278,
          285,
          284,
          283,
          282,
          281,
          280,
          279,
          277,
          269,
          276,
          275,
          274,
          273,
          272,
          271,
          270,
          166,
          164,
          654,
          42,
          60,
          59,
          58,
          57,
          56,
          55,
          54,
          53,
          52,
          51,
          50,
          49,
          48,
          47,
          46,
          45,
          44,
          61,
          62,
          63,
          73,
          80,
          79,
          78,
          77,
          76,
          75,
          74,
          72,
          64,
          71,
          70,
          69,
          68,
          67,
          66,
          65,
          43,
          41,
          82,
          40,
          19,
          18,
          17,
          16,
          15,
          14,
          13,
          12,
          11,
          10,
          9,
          8,
          7,
          6,
          5,
          4,
          3,
          20,
          21,
          22,
          32,
          39,
          38,
          37,
          36,
          35,
          34,
          33,
          31,
          23,
          30,
          29,
          28,
          27,
          26,
          25,
          24,
          81,
          83,
          163,
          124,
          142,
          141,
          140,
          139,
          138,
          137,
          136,
          135,
          134,
          133,
          132,
          131,
          130,
          129,
          128,
          127,
          126,
          143,
          144,
          145,
          155,
          162,
          161,
          160,
          159,
          158,
          157,
          156,
          154,
          146,
          153,
          152,
          151,
          150,
          149,
          148,
          147,
          125,
          123,
          84,
          122,
          101,
          100,
          99,
          98,
          97,
          96,
          95,
          94,
          93,
          92,
          91,
          90,
          89,
          88,
          87,
          86,
          85,
          102,
          103,
          104,
          114,
          121,
          120,
          119,
          118,
          117,
          116,
          115,
          113,
          105,
          112,
          111,
          110,
          109,
          108,
          107,
          106,
          327,
          328,
          329,
          533,
          551,
          550,
          549,
          548,
          547,
          546,
          545,
          544,
          543,
          542,
          541,
          540,
          539,
          538,
          537,
          536,
          535,
          552,
          553,
          554,
          564,
          571,
          570,
          569,
          568,
          567,
          566,
          565,
          563,
          555,
          562,
          561,
          560,
          559,
          558,
          557,
          556,
          534,
          532,
          573,
          531,
          510,
          509,
          508,
          507,
          506,
          505,
          504,
          503,
          502,
          501,
          500,
          499,
          498,
          497,
          496,
          495,
          494,
          511,
          512,
          513,
          523,
          530,
          529,
          528,
          527,
          526,
          525,
          524,
          522,
          514,
          521,
          520,
          519,
          518,
          517,
          516,
          515,
          572,
          574,
          330,
          615,
          633,
          632,
          631,
          630,
          629,
          628,
          627,
          626,
          625,
          624,
          623,
          622,
          621,
          620,
          619,
          618,
          617,
          634,
          635,
          636,
          646,
          653,
          652,
          651,
          650,
          649,
          648,
          647,
          645,
          637,
          644,
          643,
          642,
          641,
          640,
          639,
          638,
          616,
          614,
          575,
          613,
          592,
          591,
          590,
          589,
          588,
          587,
          586,
          585,
          584,
          583,
          582,
          581,
          580,
          579,
          578,
          577,
          576,
          593,
          594,
          595,
          605,
          612,
          611,
          610,
          609,
          608,
          607,
          606,
          604,
          596,
          603,
          602,
          601,
          600,
          599,
          598,
          597,
          493,
          492,
          491,
          370,
          388,
          387,
          386,
          385,
          384,
          383,
          382,
          381,
          380,
          379,
          378,
          377,
          376,
          375,
          374,
          373,
          372,
          389,
          390,
          391,
          401,
          408,
          407,
          406,
          405,
          404,
          403,
          402,
          400,
          392,
          399,
          398,
          397,
          396,
          395,
          394,
          393,
          371,
          369,
          490,
          368,
          347,
          346,
          345,
          344,
          343,
          342,
          341,
          340,
          339,
          338,
          337,
          336,
          335,
          334,
          333,
          332,
          331,
          348,
          349,
          350,
          360,
          367,
          366,
          365,
          364,
          363,
          362,
          361,
          359,
          351,
          358,
          357,
          356,
          355,
          354,
          353,
          352,
          409,
          410,
          411,
          412,
          469,
          468,
          467,
          466,
          465,
          464,
          463,
          462,
          461,
          460,
          459,
          458,
          457,
          456,
          455,
          454,
          453,
          470,
          471,
          472,
          482,
          489,
          488,
          487,
          486,
          485,
          484,
          483,
          481,
          473,
          480,
          479,
          478,
          477,
          476,
          475,
          474,
          452,
          451,
          450,
          421,
          428,
          427,
          426,
          425,
          424,
          423,
          422,
          420,
          430,
          419,
          418,
          417,
          416,
          415,
          414,
          413,
          429,
          431,
          449,
          441,
          448,
          447,
          446,
          445,
          444,
          443,
          442,
          440,
          432,
          439,
          438,
          437,
          436,
          435,
          434,
          433,
          1309
         ],
         "xaxis": "x",
         "y": [
          1,
          1,
          1,
          1,
          1,
          1,
          1,
          1,
          1,
          1,
          1,
          1,
          1,
          1,
          1,
          1,
          1,
          1,
          1,
          1,
          1,
          1,
          1,
          1,
          1,
          1,
          1,
          1,
          1,
          1,
          1,
          1,
          1,
          1,
          1,
          1,
          1,
          1,
          1,
          1,
          1,
          1,
          1,
          1,
          1,
          1,
          1,
          1,
          1,
          1,
          1,
          1,
          1,
          1,
          1,
          1,
          1,
          1,
          1,
          1,
          1,
          1,
          1,
          1,
          1,
          1,
          1,
          1,
          1,
          1,
          1,
          1,
          1,
          1,
          1,
          1,
          1,
          1,
          1,
          1,
          1,
          1,
          1,
          1,
          1,
          1,
          1,
          1,
          1,
          1,
          1,
          1,
          1,
          1,
          1,
          1,
          1,
          1,
          1,
          1,
          1,
          1,
          1,
          1,
          1,
          1,
          1,
          1,
          1,
          1,
          1,
          1,
          1,
          1,
          1,
          1,
          1,
          1,
          1,
          1,
          1,
          1,
          1,
          1,
          1,
          1,
          1,
          1,
          1,
          1,
          1,
          1,
          1,
          1,
          1,
          1,
          1,
          1,
          1,
          1,
          1,
          1,
          1,
          1,
          1,
          1,
          1,
          1,
          1,
          1,
          1,
          1,
          1,
          1,
          1,
          1,
          1,
          1,
          1,
          1,
          1,
          1,
          1,
          1,
          1,
          1,
          1,
          1,
          1,
          1,
          1,
          1,
          1,
          1,
          1,
          1,
          1,
          1,
          1,
          1,
          1,
          1,
          1,
          1,
          1,
          1,
          1,
          1,
          1,
          1,
          1,
          1,
          1,
          1,
          1,
          1,
          1,
          1,
          1,
          1,
          1,
          1,
          1,
          1,
          1,
          1,
          1,
          1,
          1,
          1,
          1,
          1,
          1,
          1,
          1,
          1,
          1,
          1,
          1,
          1,
          1,
          1,
          1,
          1,
          1,
          1,
          1,
          1,
          1,
          1,
          1,
          1,
          1,
          1,
          1,
          1,
          1,
          1,
          1,
          1,
          1,
          1,
          1,
          1,
          1,
          1,
          1,
          1,
          1,
          1,
          1,
          1,
          1,
          1,
          1,
          1,
          1,
          1,
          1,
          1,
          1,
          1,
          1,
          1,
          1,
          1,
          1,
          1,
          1,
          1,
          1,
          1,
          1,
          1,
          1,
          1,
          1,
          1,
          1,
          1,
          1,
          1,
          1,
          1,
          1,
          1,
          1,
          1,
          1,
          1,
          1,
          1,
          1,
          1,
          1,
          1,
          1,
          1,
          1,
          1,
          1,
          1,
          1,
          1,
          1,
          1,
          1,
          1,
          1,
          1,
          1,
          1,
          1,
          1,
          1,
          1,
          1,
          1,
          1,
          1,
          1,
          1,
          1,
          1,
          1,
          1,
          1,
          1,
          1,
          1,
          1,
          1,
          1,
          1,
          1,
          1,
          1,
          1,
          1,
          1,
          1,
          1,
          1,
          1,
          1,
          1,
          1,
          1,
          1,
          1,
          1,
          1,
          1,
          1,
          1,
          1,
          1,
          1,
          1,
          1,
          1,
          1,
          1,
          1,
          1,
          1,
          1,
          1,
          1,
          1,
          1,
          1,
          1,
          1,
          1,
          1,
          1,
          1,
          1,
          1,
          1,
          1,
          1,
          1,
          1,
          1,
          1,
          1,
          1,
          1,
          1,
          1,
          1,
          1,
          1,
          1,
          1,
          1,
          1,
          1,
          1,
          1,
          1,
          1,
          1,
          1,
          1,
          1,
          1,
          1,
          1,
          1,
          1,
          1,
          1,
          1,
          1,
          1,
          1,
          1,
          1,
          1,
          1,
          1,
          1,
          1,
          1,
          1,
          1,
          1,
          1,
          1,
          1,
          1,
          1,
          1,
          1,
          1,
          1,
          1,
          1,
          1,
          1,
          1,
          1,
          1,
          1,
          1,
          1,
          1,
          1,
          1,
          1,
          1,
          1,
          1,
          1,
          1,
          1,
          1,
          1,
          1,
          1,
          1,
          1,
          1,
          1,
          1,
          1,
          1,
          1,
          1,
          1,
          1,
          1,
          1,
          1,
          1,
          1,
          1,
          1,
          1,
          1,
          1,
          1,
          1,
          1,
          1,
          1,
          1,
          1,
          1,
          1,
          1,
          1,
          1,
          1,
          1,
          1,
          1,
          1,
          1,
          1,
          1,
          1,
          1,
          1,
          1,
          1,
          1,
          1,
          1,
          1,
          1,
          1,
          1,
          1,
          1,
          1,
          1,
          1,
          1,
          1,
          1,
          1,
          1,
          1,
          1,
          1,
          1,
          1,
          1,
          1,
          1,
          1,
          1,
          1,
          1,
          1,
          1,
          1,
          1,
          1,
          1,
          1,
          1,
          1,
          1,
          1,
          1,
          1,
          1,
          1,
          1,
          1,
          1,
          1,
          1,
          1,
          1,
          1,
          1,
          1,
          1,
          1,
          1,
          1,
          1,
          1,
          1,
          1,
          1,
          1,
          1,
          1,
          1,
          1,
          1,
          1,
          1,
          1,
          1,
          1,
          1,
          1,
          1,
          1,
          1,
          1,
          1,
          1,
          1,
          1,
          1,
          1,
          1,
          1,
          1,
          1,
          1,
          1,
          1,
          1,
          1,
          1,
          1,
          1,
          1,
          1,
          1,
          1,
          1,
          1,
          1,
          1,
          1,
          1,
          1,
          1,
          1,
          1,
          1,
          1,
          1,
          1,
          1,
          1,
          1,
          1,
          1,
          1,
          1,
          1,
          1,
          1,
          1,
          1,
          1,
          1,
          1,
          1,
          1,
          1,
          1,
          1,
          1,
          1,
          1,
          1,
          1,
          1,
          1,
          1,
          1,
          1,
          1,
          1,
          1,
          1,
          1,
          1,
          1,
          1,
          1,
          1,
          1,
          1,
          1,
          1,
          1,
          1,
          1,
          1,
          1,
          1,
          1,
          1,
          1,
          1,
          1,
          1,
          1,
          1,
          1,
          1,
          1,
          1,
          1,
          1,
          1,
          1,
          1,
          1,
          1,
          1,
          1,
          1,
          1,
          1,
          1,
          1,
          1,
          1,
          1,
          1,
          1,
          1,
          1,
          1,
          1,
          1,
          1,
          1,
          1,
          1,
          1,
          1,
          1,
          1,
          1,
          1,
          1,
          1,
          1,
          1,
          1,
          1,
          1,
          1,
          1,
          1,
          1,
          1,
          1,
          1,
          1,
          1,
          1,
          1,
          1,
          1,
          1,
          1,
          1,
          1,
          1,
          1,
          1,
          1,
          1,
          1,
          1,
          1,
          1,
          1,
          1,
          1,
          1,
          1,
          1,
          1,
          1,
          1,
          1,
          1,
          1,
          1,
          1,
          1,
          1,
          1,
          1,
          1,
          1,
          1,
          1,
          1,
          1,
          1,
          1,
          1,
          1,
          1,
          1,
          1,
          1,
          1,
          1,
          1,
          1,
          1,
          1,
          1,
          1,
          1,
          1,
          1,
          1,
          1,
          1,
          1,
          1,
          1,
          1,
          1,
          1,
          1,
          1,
          1,
          1,
          1,
          1,
          1,
          1,
          1,
          1,
          1,
          1,
          1,
          1,
          1,
          1,
          1,
          1,
          1,
          1,
          1,
          1,
          1,
          1,
          1,
          1,
          1,
          1,
          1,
          1,
          1,
          1,
          1,
          1,
          1,
          1,
          1,
          1,
          1,
          1,
          1,
          1,
          1,
          1,
          1,
          1,
          1,
          1,
          1,
          1,
          1,
          1,
          1,
          1,
          1,
          1,
          1,
          1,
          1,
          1,
          1,
          1,
          1,
          1,
          1,
          1,
          1,
          1,
          1,
          1,
          1,
          1,
          1,
          1,
          1,
          1,
          1,
          1,
          1,
          1,
          1,
          1,
          1,
          1,
          1,
          1,
          1,
          1,
          1,
          1,
          1,
          1,
          1,
          1,
          1,
          1,
          1,
          1,
          1,
          1,
          1,
          1,
          1,
          1,
          1,
          1,
          1,
          1,
          1,
          1,
          1,
          1,
          1,
          1,
          1,
          1,
          1,
          1,
          1,
          1,
          1,
          1,
          1,
          1,
          1,
          1,
          1,
          1,
          1,
          1,
          1,
          1,
          1,
          1,
          1,
          1,
          1,
          1,
          1,
          1,
          1,
          1,
          1,
          1,
          1,
          1,
          1,
          1,
          1,
          1,
          1,
          1,
          1,
          1,
          1,
          1,
          1,
          1,
          1,
          1,
          1,
          1,
          1,
          1,
          1,
          1,
          1,
          1,
          1,
          1,
          1,
          1,
          1,
          1,
          1,
          1,
          1,
          1,
          1,
          1,
          1,
          1,
          1,
          1,
          1,
          1,
          1,
          1,
          1,
          1,
          1,
          1,
          1,
          1,
          1,
          1,
          1,
          1,
          1,
          1,
          1,
          1,
          1,
          1,
          1,
          1,
          1,
          1,
          1,
          1,
          1,
          1,
          1,
          1,
          1,
          1,
          1,
          1,
          1,
          1,
          1,
          1,
          1,
          1,
          1,
          1,
          1,
          1,
          1,
          1,
          1,
          1,
          1,
          1,
          1,
          1,
          1,
          1,
          1,
          1,
          1,
          1,
          1,
          1,
          1,
          1,
          1,
          1,
          1,
          1,
          1,
          1,
          1,
          1,
          1,
          1,
          1,
          1,
          1,
          1,
          1,
          1,
          1,
          1,
          1,
          1,
          1,
          1,
          1,
          1,
          1,
          1,
          1,
          1,
          1,
          1,
          1,
          1,
          1,
          1,
          1,
          1,
          1,
          1,
          1,
          1,
          1,
          1,
          1,
          1,
          1,
          1,
          1,
          1,
          1,
          1,
          1,
          1,
          1,
          1,
          1,
          1,
          1,
          1,
          1,
          1,
          1,
          1,
          1,
          1,
          1,
          1,
          1,
          1,
          1,
          1,
          1,
          1,
          1,
          1,
          1,
          1,
          1,
          1,
          1,
          1,
          1,
          1,
          1,
          1,
          1,
          1,
          1,
          1,
          1,
          1,
          1,
          1,
          1,
          1,
          1,
          1,
          1,
          1,
          1,
          1,
          1,
          1,
          1,
          1,
          1,
          1,
          1,
          1,
          1,
          1,
          1,
          1,
          1,
          1,
          1,
          1,
          1,
          1,
          1,
          1,
          1,
          1,
          1,
          1,
          1,
          1,
          1,
          1,
          1,
          1,
          1,
          1,
          1,
          1,
          1,
          1,
          1,
          1,
          1,
          1,
          1,
          1,
          1,
          1,
          1,
          1,
          1,
          1,
          1,
          1,
          1,
          1,
          1,
          1,
          1,
          1,
          1,
          1,
          1,
          1,
          1,
          1,
          1,
          1,
          1,
          1,
          1,
          1,
          1,
          1,
          1,
          1,
          1,
          1,
          1,
          1,
          1,
          1,
          1,
          1,
          1,
          1,
          1,
          1,
          1,
          1,
          1,
          1,
          1,
          1,
          1,
          1,
          1,
          1,
          1,
          1,
          1,
          1,
          1,
          1,
          1,
          1,
          1,
          1,
          1,
          1,
          1,
          1,
          1,
          1,
          1,
          1,
          1,
          1,
          1,
          1,
          1,
          1,
          1,
          1,
          1,
          1,
          1,
          1,
          1,
          1,
          1,
          1,
          1,
          1,
          1,
          1,
          1,
          1,
          1,
          1,
          1,
          1,
          1,
          1,
          1,
          1,
          1,
          1,
          1,
          1,
          1,
          1,
          1,
          1,
          1,
          1,
          1,
          1,
          1,
          1,
          1
         ],
         "yaxis": "y"
        }
       ],
       "layout": {
        "barmode": "relative",
        "legend": {
         "title": {
          "text": "variable"
         },
         "tracegroupgap": 0
        },
        "template": {
         "data": {
          "bar": [
           {
            "error_x": {
             "color": "#2a3f5f"
            },
            "error_y": {
             "color": "#2a3f5f"
            },
            "marker": {
             "line": {
              "color": "#E5ECF6",
              "width": 0.5
             },
             "pattern": {
              "fillmode": "overlay",
              "size": 10,
              "solidity": 0.2
             }
            },
            "type": "bar"
           }
          ],
          "barpolar": [
           {
            "marker": {
             "line": {
              "color": "#E5ECF6",
              "width": 0.5
             },
             "pattern": {
              "fillmode": "overlay",
              "size": 10,
              "solidity": 0.2
             }
            },
            "type": "barpolar"
           }
          ],
          "carpet": [
           {
            "aaxis": {
             "endlinecolor": "#2a3f5f",
             "gridcolor": "white",
             "linecolor": "white",
             "minorgridcolor": "white",
             "startlinecolor": "#2a3f5f"
            },
            "baxis": {
             "endlinecolor": "#2a3f5f",
             "gridcolor": "white",
             "linecolor": "white",
             "minorgridcolor": "white",
             "startlinecolor": "#2a3f5f"
            },
            "type": "carpet"
           }
          ],
          "choropleth": [
           {
            "colorbar": {
             "outlinewidth": 0,
             "ticks": ""
            },
            "type": "choropleth"
           }
          ],
          "contour": [
           {
            "colorbar": {
             "outlinewidth": 0,
             "ticks": ""
            },
            "colorscale": [
             [
              0,
              "#0d0887"
             ],
             [
              0.1111111111111111,
              "#46039f"
             ],
             [
              0.2222222222222222,
              "#7201a8"
             ],
             [
              0.3333333333333333,
              "#9c179e"
             ],
             [
              0.4444444444444444,
              "#bd3786"
             ],
             [
              0.5555555555555556,
              "#d8576b"
             ],
             [
              0.6666666666666666,
              "#ed7953"
             ],
             [
              0.7777777777777778,
              "#fb9f3a"
             ],
             [
              0.8888888888888888,
              "#fdca26"
             ],
             [
              1,
              "#f0f921"
             ]
            ],
            "type": "contour"
           }
          ],
          "contourcarpet": [
           {
            "colorbar": {
             "outlinewidth": 0,
             "ticks": ""
            },
            "type": "contourcarpet"
           }
          ],
          "heatmap": [
           {
            "colorbar": {
             "outlinewidth": 0,
             "ticks": ""
            },
            "colorscale": [
             [
              0,
              "#0d0887"
             ],
             [
              0.1111111111111111,
              "#46039f"
             ],
             [
              0.2222222222222222,
              "#7201a8"
             ],
             [
              0.3333333333333333,
              "#9c179e"
             ],
             [
              0.4444444444444444,
              "#bd3786"
             ],
             [
              0.5555555555555556,
              "#d8576b"
             ],
             [
              0.6666666666666666,
              "#ed7953"
             ],
             [
              0.7777777777777778,
              "#fb9f3a"
             ],
             [
              0.8888888888888888,
              "#fdca26"
             ],
             [
              1,
              "#f0f921"
             ]
            ],
            "type": "heatmap"
           }
          ],
          "heatmapgl": [
           {
            "colorbar": {
             "outlinewidth": 0,
             "ticks": ""
            },
            "colorscale": [
             [
              0,
              "#0d0887"
             ],
             [
              0.1111111111111111,
              "#46039f"
             ],
             [
              0.2222222222222222,
              "#7201a8"
             ],
             [
              0.3333333333333333,
              "#9c179e"
             ],
             [
              0.4444444444444444,
              "#bd3786"
             ],
             [
              0.5555555555555556,
              "#d8576b"
             ],
             [
              0.6666666666666666,
              "#ed7953"
             ],
             [
              0.7777777777777778,
              "#fb9f3a"
             ],
             [
              0.8888888888888888,
              "#fdca26"
             ],
             [
              1,
              "#f0f921"
             ]
            ],
            "type": "heatmapgl"
           }
          ],
          "histogram": [
           {
            "marker": {
             "pattern": {
              "fillmode": "overlay",
              "size": 10,
              "solidity": 0.2
             }
            },
            "type": "histogram"
           }
          ],
          "histogram2d": [
           {
            "colorbar": {
             "outlinewidth": 0,
             "ticks": ""
            },
            "colorscale": [
             [
              0,
              "#0d0887"
             ],
             [
              0.1111111111111111,
              "#46039f"
             ],
             [
              0.2222222222222222,
              "#7201a8"
             ],
             [
              0.3333333333333333,
              "#9c179e"
             ],
             [
              0.4444444444444444,
              "#bd3786"
             ],
             [
              0.5555555555555556,
              "#d8576b"
             ],
             [
              0.6666666666666666,
              "#ed7953"
             ],
             [
              0.7777777777777778,
              "#fb9f3a"
             ],
             [
              0.8888888888888888,
              "#fdca26"
             ],
             [
              1,
              "#f0f921"
             ]
            ],
            "type": "histogram2d"
           }
          ],
          "histogram2dcontour": [
           {
            "colorbar": {
             "outlinewidth": 0,
             "ticks": ""
            },
            "colorscale": [
             [
              0,
              "#0d0887"
             ],
             [
              0.1111111111111111,
              "#46039f"
             ],
             [
              0.2222222222222222,
              "#7201a8"
             ],
             [
              0.3333333333333333,
              "#9c179e"
             ],
             [
              0.4444444444444444,
              "#bd3786"
             ],
             [
              0.5555555555555556,
              "#d8576b"
             ],
             [
              0.6666666666666666,
              "#ed7953"
             ],
             [
              0.7777777777777778,
              "#fb9f3a"
             ],
             [
              0.8888888888888888,
              "#fdca26"
             ],
             [
              1,
              "#f0f921"
             ]
            ],
            "type": "histogram2dcontour"
           }
          ],
          "mesh3d": [
           {
            "colorbar": {
             "outlinewidth": 0,
             "ticks": ""
            },
            "type": "mesh3d"
           }
          ],
          "parcoords": [
           {
            "line": {
             "colorbar": {
              "outlinewidth": 0,
              "ticks": ""
             }
            },
            "type": "parcoords"
           }
          ],
          "pie": [
           {
            "automargin": true,
            "type": "pie"
           }
          ],
          "scatter": [
           {
            "fillpattern": {
             "fillmode": "overlay",
             "size": 10,
             "solidity": 0.2
            },
            "type": "scatter"
           }
          ],
          "scatter3d": [
           {
            "line": {
             "colorbar": {
              "outlinewidth": 0,
              "ticks": ""
             }
            },
            "marker": {
             "colorbar": {
              "outlinewidth": 0,
              "ticks": ""
             }
            },
            "type": "scatter3d"
           }
          ],
          "scattercarpet": [
           {
            "marker": {
             "colorbar": {
              "outlinewidth": 0,
              "ticks": ""
             }
            },
            "type": "scattercarpet"
           }
          ],
          "scattergeo": [
           {
            "marker": {
             "colorbar": {
              "outlinewidth": 0,
              "ticks": ""
             }
            },
            "type": "scattergeo"
           }
          ],
          "scattergl": [
           {
            "marker": {
             "colorbar": {
              "outlinewidth": 0,
              "ticks": ""
             }
            },
            "type": "scattergl"
           }
          ],
          "scattermapbox": [
           {
            "marker": {
             "colorbar": {
              "outlinewidth": 0,
              "ticks": ""
             }
            },
            "type": "scattermapbox"
           }
          ],
          "scatterpolar": [
           {
            "marker": {
             "colorbar": {
              "outlinewidth": 0,
              "ticks": ""
             }
            },
            "type": "scatterpolar"
           }
          ],
          "scatterpolargl": [
           {
            "marker": {
             "colorbar": {
              "outlinewidth": 0,
              "ticks": ""
             }
            },
            "type": "scatterpolargl"
           }
          ],
          "scatterternary": [
           {
            "marker": {
             "colorbar": {
              "outlinewidth": 0,
              "ticks": ""
             }
            },
            "type": "scatterternary"
           }
          ],
          "surface": [
           {
            "colorbar": {
             "outlinewidth": 0,
             "ticks": ""
            },
            "colorscale": [
             [
              0,
              "#0d0887"
             ],
             [
              0.1111111111111111,
              "#46039f"
             ],
             [
              0.2222222222222222,
              "#7201a8"
             ],
             [
              0.3333333333333333,
              "#9c179e"
             ],
             [
              0.4444444444444444,
              "#bd3786"
             ],
             [
              0.5555555555555556,
              "#d8576b"
             ],
             [
              0.6666666666666666,
              "#ed7953"
             ],
             [
              0.7777777777777778,
              "#fb9f3a"
             ],
             [
              0.8888888888888888,
              "#fdca26"
             ],
             [
              1,
              "#f0f921"
             ]
            ],
            "type": "surface"
           }
          ],
          "table": [
           {
            "cells": {
             "fill": {
              "color": "#EBF0F8"
             },
             "line": {
              "color": "white"
             }
            },
            "header": {
             "fill": {
              "color": "#C8D4E3"
             },
             "line": {
              "color": "white"
             }
            },
            "type": "table"
           }
          ]
         },
         "layout": {
          "annotationdefaults": {
           "arrowcolor": "#2a3f5f",
           "arrowhead": 0,
           "arrowwidth": 1
          },
          "autotypenumbers": "strict",
          "coloraxis": {
           "colorbar": {
            "outlinewidth": 0,
            "ticks": ""
           }
          },
          "colorscale": {
           "diverging": [
            [
             0,
             "#8e0152"
            ],
            [
             0.1,
             "#c51b7d"
            ],
            [
             0.2,
             "#de77ae"
            ],
            [
             0.3,
             "#f1b6da"
            ],
            [
             0.4,
             "#fde0ef"
            ],
            [
             0.5,
             "#f7f7f7"
            ],
            [
             0.6,
             "#e6f5d0"
            ],
            [
             0.7,
             "#b8e186"
            ],
            [
             0.8,
             "#7fbc41"
            ],
            [
             0.9,
             "#4d9221"
            ],
            [
             1,
             "#276419"
            ]
           ],
           "sequential": [
            [
             0,
             "#0d0887"
            ],
            [
             0.1111111111111111,
             "#46039f"
            ],
            [
             0.2222222222222222,
             "#7201a8"
            ],
            [
             0.3333333333333333,
             "#9c179e"
            ],
            [
             0.4444444444444444,
             "#bd3786"
            ],
            [
             0.5555555555555556,
             "#d8576b"
            ],
            [
             0.6666666666666666,
             "#ed7953"
            ],
            [
             0.7777777777777778,
             "#fb9f3a"
            ],
            [
             0.8888888888888888,
             "#fdca26"
            ],
            [
             1,
             "#f0f921"
            ]
           ],
           "sequentialminus": [
            [
             0,
             "#0d0887"
            ],
            [
             0.1111111111111111,
             "#46039f"
            ],
            [
             0.2222222222222222,
             "#7201a8"
            ],
            [
             0.3333333333333333,
             "#9c179e"
            ],
            [
             0.4444444444444444,
             "#bd3786"
            ],
            [
             0.5555555555555556,
             "#d8576b"
            ],
            [
             0.6666666666666666,
             "#ed7953"
            ],
            [
             0.7777777777777778,
             "#fb9f3a"
            ],
            [
             0.8888888888888888,
             "#fdca26"
            ],
            [
             1,
             "#f0f921"
            ]
           ]
          },
          "colorway": [
           "#636efa",
           "#EF553B",
           "#00cc96",
           "#ab63fa",
           "#FFA15A",
           "#19d3f3",
           "#FF6692",
           "#B6E880",
           "#FF97FF",
           "#FECB52"
          ],
          "font": {
           "color": "#2a3f5f"
          },
          "geo": {
           "bgcolor": "white",
           "lakecolor": "white",
           "landcolor": "#E5ECF6",
           "showlakes": true,
           "showland": true,
           "subunitcolor": "white"
          },
          "hoverlabel": {
           "align": "left"
          },
          "hovermode": "closest",
          "mapbox": {
           "style": "light"
          },
          "paper_bgcolor": "white",
          "plot_bgcolor": "#E5ECF6",
          "polar": {
           "angularaxis": {
            "gridcolor": "white",
            "linecolor": "white",
            "ticks": ""
           },
           "bgcolor": "#E5ECF6",
           "radialaxis": {
            "gridcolor": "white",
            "linecolor": "white",
            "ticks": ""
           }
          },
          "scene": {
           "xaxis": {
            "backgroundcolor": "#E5ECF6",
            "gridcolor": "white",
            "gridwidth": 2,
            "linecolor": "white",
            "showbackground": true,
            "ticks": "",
            "zerolinecolor": "white"
           },
           "yaxis": {
            "backgroundcolor": "#E5ECF6",
            "gridcolor": "white",
            "gridwidth": 2,
            "linecolor": "white",
            "showbackground": true,
            "ticks": "",
            "zerolinecolor": "white"
           },
           "zaxis": {
            "backgroundcolor": "#E5ECF6",
            "gridcolor": "white",
            "gridwidth": 2,
            "linecolor": "white",
            "showbackground": true,
            "ticks": "",
            "zerolinecolor": "white"
           }
          },
          "shapedefaults": {
           "line": {
            "color": "#2a3f5f"
           }
          },
          "ternary": {
           "aaxis": {
            "gridcolor": "white",
            "linecolor": "white",
            "ticks": ""
           },
           "baxis": {
            "gridcolor": "white",
            "linecolor": "white",
            "ticks": ""
           },
           "bgcolor": "#E5ECF6",
           "caxis": {
            "gridcolor": "white",
            "linecolor": "white",
            "ticks": ""
           }
          },
          "title": {
           "x": 0.05
          },
          "xaxis": {
           "automargin": true,
           "gridcolor": "white",
           "linecolor": "white",
           "ticks": "",
           "title": {
            "standoff": 15
           },
           "zerolinecolor": "white",
           "zerolinewidth": 2
          },
          "yaxis": {
           "automargin": true,
           "gridcolor": "white",
           "linecolor": "white",
           "ticks": "",
           "title": {
            "standoff": 15
           },
           "zerolinecolor": "white",
           "zerolinewidth": 2
          }
         }
        },
        "title": {
         "text": "PassengerId"
        },
        "xaxis": {
         "anchor": "y",
         "domain": [
          0,
          1
         ],
         "title": {
          "text": "index"
         }
        },
        "yaxis": {
         "anchor": "x",
         "domain": [
          0,
          1
         ],
         "title": {
          "text": "value"
         }
        }
       }
      }
     },
     "metadata": {},
     "output_type": "display_data"
    },
    {
     "data": {
      "application/vnd.plotly.v1+json": {
       "config": {
        "plotlyServerURL": "https://plot.ly"
       },
       "data": [
        {
         "alignmentgroup": "True",
         "hovertemplate": "variable=Survived<br>index=%{x}<br>value=%{y}<extra></extra>",
         "legendgroup": "Survived",
         "marker": {
          "color": "#636efa",
          "pattern": {
           "shape": ""
          }
         },
         "name": "Survived",
         "offsetgroup": "Survived",
         "orientation": "v",
         "showlegend": true,
         "textposition": "auto",
         "type": "bar",
         "x": [
          0,
          1
         ],
         "xaxis": "x",
         "y": [
          549,
          342
         ],
         "yaxis": "y"
        }
       ],
       "layout": {
        "barmode": "relative",
        "legend": {
         "title": {
          "text": "variable"
         },
         "tracegroupgap": 0
        },
        "template": {
         "data": {
          "bar": [
           {
            "error_x": {
             "color": "#2a3f5f"
            },
            "error_y": {
             "color": "#2a3f5f"
            },
            "marker": {
             "line": {
              "color": "#E5ECF6",
              "width": 0.5
             },
             "pattern": {
              "fillmode": "overlay",
              "size": 10,
              "solidity": 0.2
             }
            },
            "type": "bar"
           }
          ],
          "barpolar": [
           {
            "marker": {
             "line": {
              "color": "#E5ECF6",
              "width": 0.5
             },
             "pattern": {
              "fillmode": "overlay",
              "size": 10,
              "solidity": 0.2
             }
            },
            "type": "barpolar"
           }
          ],
          "carpet": [
           {
            "aaxis": {
             "endlinecolor": "#2a3f5f",
             "gridcolor": "white",
             "linecolor": "white",
             "minorgridcolor": "white",
             "startlinecolor": "#2a3f5f"
            },
            "baxis": {
             "endlinecolor": "#2a3f5f",
             "gridcolor": "white",
             "linecolor": "white",
             "minorgridcolor": "white",
             "startlinecolor": "#2a3f5f"
            },
            "type": "carpet"
           }
          ],
          "choropleth": [
           {
            "colorbar": {
             "outlinewidth": 0,
             "ticks": ""
            },
            "type": "choropleth"
           }
          ],
          "contour": [
           {
            "colorbar": {
             "outlinewidth": 0,
             "ticks": ""
            },
            "colorscale": [
             [
              0,
              "#0d0887"
             ],
             [
              0.1111111111111111,
              "#46039f"
             ],
             [
              0.2222222222222222,
              "#7201a8"
             ],
             [
              0.3333333333333333,
              "#9c179e"
             ],
             [
              0.4444444444444444,
              "#bd3786"
             ],
             [
              0.5555555555555556,
              "#d8576b"
             ],
             [
              0.6666666666666666,
              "#ed7953"
             ],
             [
              0.7777777777777778,
              "#fb9f3a"
             ],
             [
              0.8888888888888888,
              "#fdca26"
             ],
             [
              1,
              "#f0f921"
             ]
            ],
            "type": "contour"
           }
          ],
          "contourcarpet": [
           {
            "colorbar": {
             "outlinewidth": 0,
             "ticks": ""
            },
            "type": "contourcarpet"
           }
          ],
          "heatmap": [
           {
            "colorbar": {
             "outlinewidth": 0,
             "ticks": ""
            },
            "colorscale": [
             [
              0,
              "#0d0887"
             ],
             [
              0.1111111111111111,
              "#46039f"
             ],
             [
              0.2222222222222222,
              "#7201a8"
             ],
             [
              0.3333333333333333,
              "#9c179e"
             ],
             [
              0.4444444444444444,
              "#bd3786"
             ],
             [
              0.5555555555555556,
              "#d8576b"
             ],
             [
              0.6666666666666666,
              "#ed7953"
             ],
             [
              0.7777777777777778,
              "#fb9f3a"
             ],
             [
              0.8888888888888888,
              "#fdca26"
             ],
             [
              1,
              "#f0f921"
             ]
            ],
            "type": "heatmap"
           }
          ],
          "heatmapgl": [
           {
            "colorbar": {
             "outlinewidth": 0,
             "ticks": ""
            },
            "colorscale": [
             [
              0,
              "#0d0887"
             ],
             [
              0.1111111111111111,
              "#46039f"
             ],
             [
              0.2222222222222222,
              "#7201a8"
             ],
             [
              0.3333333333333333,
              "#9c179e"
             ],
             [
              0.4444444444444444,
              "#bd3786"
             ],
             [
              0.5555555555555556,
              "#d8576b"
             ],
             [
              0.6666666666666666,
              "#ed7953"
             ],
             [
              0.7777777777777778,
              "#fb9f3a"
             ],
             [
              0.8888888888888888,
              "#fdca26"
             ],
             [
              1,
              "#f0f921"
             ]
            ],
            "type": "heatmapgl"
           }
          ],
          "histogram": [
           {
            "marker": {
             "pattern": {
              "fillmode": "overlay",
              "size": 10,
              "solidity": 0.2
             }
            },
            "type": "histogram"
           }
          ],
          "histogram2d": [
           {
            "colorbar": {
             "outlinewidth": 0,
             "ticks": ""
            },
            "colorscale": [
             [
              0,
              "#0d0887"
             ],
             [
              0.1111111111111111,
              "#46039f"
             ],
             [
              0.2222222222222222,
              "#7201a8"
             ],
             [
              0.3333333333333333,
              "#9c179e"
             ],
             [
              0.4444444444444444,
              "#bd3786"
             ],
             [
              0.5555555555555556,
              "#d8576b"
             ],
             [
              0.6666666666666666,
              "#ed7953"
             ],
             [
              0.7777777777777778,
              "#fb9f3a"
             ],
             [
              0.8888888888888888,
              "#fdca26"
             ],
             [
              1,
              "#f0f921"
             ]
            ],
            "type": "histogram2d"
           }
          ],
          "histogram2dcontour": [
           {
            "colorbar": {
             "outlinewidth": 0,
             "ticks": ""
            },
            "colorscale": [
             [
              0,
              "#0d0887"
             ],
             [
              0.1111111111111111,
              "#46039f"
             ],
             [
              0.2222222222222222,
              "#7201a8"
             ],
             [
              0.3333333333333333,
              "#9c179e"
             ],
             [
              0.4444444444444444,
              "#bd3786"
             ],
             [
              0.5555555555555556,
              "#d8576b"
             ],
             [
              0.6666666666666666,
              "#ed7953"
             ],
             [
              0.7777777777777778,
              "#fb9f3a"
             ],
             [
              0.8888888888888888,
              "#fdca26"
             ],
             [
              1,
              "#f0f921"
             ]
            ],
            "type": "histogram2dcontour"
           }
          ],
          "mesh3d": [
           {
            "colorbar": {
             "outlinewidth": 0,
             "ticks": ""
            },
            "type": "mesh3d"
           }
          ],
          "parcoords": [
           {
            "line": {
             "colorbar": {
              "outlinewidth": 0,
              "ticks": ""
             }
            },
            "type": "parcoords"
           }
          ],
          "pie": [
           {
            "automargin": true,
            "type": "pie"
           }
          ],
          "scatter": [
           {
            "fillpattern": {
             "fillmode": "overlay",
             "size": 10,
             "solidity": 0.2
            },
            "type": "scatter"
           }
          ],
          "scatter3d": [
           {
            "line": {
             "colorbar": {
              "outlinewidth": 0,
              "ticks": ""
             }
            },
            "marker": {
             "colorbar": {
              "outlinewidth": 0,
              "ticks": ""
             }
            },
            "type": "scatter3d"
           }
          ],
          "scattercarpet": [
           {
            "marker": {
             "colorbar": {
              "outlinewidth": 0,
              "ticks": ""
             }
            },
            "type": "scattercarpet"
           }
          ],
          "scattergeo": [
           {
            "marker": {
             "colorbar": {
              "outlinewidth": 0,
              "ticks": ""
             }
            },
            "type": "scattergeo"
           }
          ],
          "scattergl": [
           {
            "marker": {
             "colorbar": {
              "outlinewidth": 0,
              "ticks": ""
             }
            },
            "type": "scattergl"
           }
          ],
          "scattermapbox": [
           {
            "marker": {
             "colorbar": {
              "outlinewidth": 0,
              "ticks": ""
             }
            },
            "type": "scattermapbox"
           }
          ],
          "scatterpolar": [
           {
            "marker": {
             "colorbar": {
              "outlinewidth": 0,
              "ticks": ""
             }
            },
            "type": "scatterpolar"
           }
          ],
          "scatterpolargl": [
           {
            "marker": {
             "colorbar": {
              "outlinewidth": 0,
              "ticks": ""
             }
            },
            "type": "scatterpolargl"
           }
          ],
          "scatterternary": [
           {
            "marker": {
             "colorbar": {
              "outlinewidth": 0,
              "ticks": ""
             }
            },
            "type": "scatterternary"
           }
          ],
          "surface": [
           {
            "colorbar": {
             "outlinewidth": 0,
             "ticks": ""
            },
            "colorscale": [
             [
              0,
              "#0d0887"
             ],
             [
              0.1111111111111111,
              "#46039f"
             ],
             [
              0.2222222222222222,
              "#7201a8"
             ],
             [
              0.3333333333333333,
              "#9c179e"
             ],
             [
              0.4444444444444444,
              "#bd3786"
             ],
             [
              0.5555555555555556,
              "#d8576b"
             ],
             [
              0.6666666666666666,
              "#ed7953"
             ],
             [
              0.7777777777777778,
              "#fb9f3a"
             ],
             [
              0.8888888888888888,
              "#fdca26"
             ],
             [
              1,
              "#f0f921"
             ]
            ],
            "type": "surface"
           }
          ],
          "table": [
           {
            "cells": {
             "fill": {
              "color": "#EBF0F8"
             },
             "line": {
              "color": "white"
             }
            },
            "header": {
             "fill": {
              "color": "#C8D4E3"
             },
             "line": {
              "color": "white"
             }
            },
            "type": "table"
           }
          ]
         },
         "layout": {
          "annotationdefaults": {
           "arrowcolor": "#2a3f5f",
           "arrowhead": 0,
           "arrowwidth": 1
          },
          "autotypenumbers": "strict",
          "coloraxis": {
           "colorbar": {
            "outlinewidth": 0,
            "ticks": ""
           }
          },
          "colorscale": {
           "diverging": [
            [
             0,
             "#8e0152"
            ],
            [
             0.1,
             "#c51b7d"
            ],
            [
             0.2,
             "#de77ae"
            ],
            [
             0.3,
             "#f1b6da"
            ],
            [
             0.4,
             "#fde0ef"
            ],
            [
             0.5,
             "#f7f7f7"
            ],
            [
             0.6,
             "#e6f5d0"
            ],
            [
             0.7,
             "#b8e186"
            ],
            [
             0.8,
             "#7fbc41"
            ],
            [
             0.9,
             "#4d9221"
            ],
            [
             1,
             "#276419"
            ]
           ],
           "sequential": [
            [
             0,
             "#0d0887"
            ],
            [
             0.1111111111111111,
             "#46039f"
            ],
            [
             0.2222222222222222,
             "#7201a8"
            ],
            [
             0.3333333333333333,
             "#9c179e"
            ],
            [
             0.4444444444444444,
             "#bd3786"
            ],
            [
             0.5555555555555556,
             "#d8576b"
            ],
            [
             0.6666666666666666,
             "#ed7953"
            ],
            [
             0.7777777777777778,
             "#fb9f3a"
            ],
            [
             0.8888888888888888,
             "#fdca26"
            ],
            [
             1,
             "#f0f921"
            ]
           ],
           "sequentialminus": [
            [
             0,
             "#0d0887"
            ],
            [
             0.1111111111111111,
             "#46039f"
            ],
            [
             0.2222222222222222,
             "#7201a8"
            ],
            [
             0.3333333333333333,
             "#9c179e"
            ],
            [
             0.4444444444444444,
             "#bd3786"
            ],
            [
             0.5555555555555556,
             "#d8576b"
            ],
            [
             0.6666666666666666,
             "#ed7953"
            ],
            [
             0.7777777777777778,
             "#fb9f3a"
            ],
            [
             0.8888888888888888,
             "#fdca26"
            ],
            [
             1,
             "#f0f921"
            ]
           ]
          },
          "colorway": [
           "#636efa",
           "#EF553B",
           "#00cc96",
           "#ab63fa",
           "#FFA15A",
           "#19d3f3",
           "#FF6692",
           "#B6E880",
           "#FF97FF",
           "#FECB52"
          ],
          "font": {
           "color": "#2a3f5f"
          },
          "geo": {
           "bgcolor": "white",
           "lakecolor": "white",
           "landcolor": "#E5ECF6",
           "showlakes": true,
           "showland": true,
           "subunitcolor": "white"
          },
          "hoverlabel": {
           "align": "left"
          },
          "hovermode": "closest",
          "mapbox": {
           "style": "light"
          },
          "paper_bgcolor": "white",
          "plot_bgcolor": "#E5ECF6",
          "polar": {
           "angularaxis": {
            "gridcolor": "white",
            "linecolor": "white",
            "ticks": ""
           },
           "bgcolor": "#E5ECF6",
           "radialaxis": {
            "gridcolor": "white",
            "linecolor": "white",
            "ticks": ""
           }
          },
          "scene": {
           "xaxis": {
            "backgroundcolor": "#E5ECF6",
            "gridcolor": "white",
            "gridwidth": 2,
            "linecolor": "white",
            "showbackground": true,
            "ticks": "",
            "zerolinecolor": "white"
           },
           "yaxis": {
            "backgroundcolor": "#E5ECF6",
            "gridcolor": "white",
            "gridwidth": 2,
            "linecolor": "white",
            "showbackground": true,
            "ticks": "",
            "zerolinecolor": "white"
           },
           "zaxis": {
            "backgroundcolor": "#E5ECF6",
            "gridcolor": "white",
            "gridwidth": 2,
            "linecolor": "white",
            "showbackground": true,
            "ticks": "",
            "zerolinecolor": "white"
           }
          },
          "shapedefaults": {
           "line": {
            "color": "#2a3f5f"
           }
          },
          "ternary": {
           "aaxis": {
            "gridcolor": "white",
            "linecolor": "white",
            "ticks": ""
           },
           "baxis": {
            "gridcolor": "white",
            "linecolor": "white",
            "ticks": ""
           },
           "bgcolor": "#E5ECF6",
           "caxis": {
            "gridcolor": "white",
            "linecolor": "white",
            "ticks": ""
           }
          },
          "title": {
           "x": 0.05
          },
          "xaxis": {
           "automargin": true,
           "gridcolor": "white",
           "linecolor": "white",
           "ticks": "",
           "title": {
            "standoff": 15
           },
           "zerolinecolor": "white",
           "zerolinewidth": 2
          },
          "yaxis": {
           "automargin": true,
           "gridcolor": "white",
           "linecolor": "white",
           "ticks": "",
           "title": {
            "standoff": 15
           },
           "zerolinecolor": "white",
           "zerolinewidth": 2
          }
         }
        },
        "title": {
         "text": "Survived"
        },
        "xaxis": {
         "anchor": "y",
         "domain": [
          0,
          1
         ],
         "title": {
          "text": "index"
         }
        },
        "yaxis": {
         "anchor": "x",
         "domain": [
          0,
          1
         ],
         "title": {
          "text": "value"
         }
        }
       }
      }
     },
     "metadata": {},
     "output_type": "display_data"
    },
    {
     "data": {
      "application/vnd.plotly.v1+json": {
       "config": {
        "plotlyServerURL": "https://plot.ly"
       },
       "data": [
        {
         "alignmentgroup": "True",
         "hovertemplate": "variable=Pclass<br>index=%{x}<br>value=%{y}<extra></extra>",
         "legendgroup": "Pclass",
         "marker": {
          "color": "#636efa",
          "pattern": {
           "shape": ""
          }
         },
         "name": "Pclass",
         "offsetgroup": "Pclass",
         "orientation": "v",
         "showlegend": true,
         "textposition": "auto",
         "type": "bar",
         "x": [
          3,
          1,
          2
         ],
         "xaxis": "x",
         "y": [
          709,
          323,
          277
         ],
         "yaxis": "y"
        }
       ],
       "layout": {
        "barmode": "relative",
        "legend": {
         "title": {
          "text": "variable"
         },
         "tracegroupgap": 0
        },
        "template": {
         "data": {
          "bar": [
           {
            "error_x": {
             "color": "#2a3f5f"
            },
            "error_y": {
             "color": "#2a3f5f"
            },
            "marker": {
             "line": {
              "color": "#E5ECF6",
              "width": 0.5
             },
             "pattern": {
              "fillmode": "overlay",
              "size": 10,
              "solidity": 0.2
             }
            },
            "type": "bar"
           }
          ],
          "barpolar": [
           {
            "marker": {
             "line": {
              "color": "#E5ECF6",
              "width": 0.5
             },
             "pattern": {
              "fillmode": "overlay",
              "size": 10,
              "solidity": 0.2
             }
            },
            "type": "barpolar"
           }
          ],
          "carpet": [
           {
            "aaxis": {
             "endlinecolor": "#2a3f5f",
             "gridcolor": "white",
             "linecolor": "white",
             "minorgridcolor": "white",
             "startlinecolor": "#2a3f5f"
            },
            "baxis": {
             "endlinecolor": "#2a3f5f",
             "gridcolor": "white",
             "linecolor": "white",
             "minorgridcolor": "white",
             "startlinecolor": "#2a3f5f"
            },
            "type": "carpet"
           }
          ],
          "choropleth": [
           {
            "colorbar": {
             "outlinewidth": 0,
             "ticks": ""
            },
            "type": "choropleth"
           }
          ],
          "contour": [
           {
            "colorbar": {
             "outlinewidth": 0,
             "ticks": ""
            },
            "colorscale": [
             [
              0,
              "#0d0887"
             ],
             [
              0.1111111111111111,
              "#46039f"
             ],
             [
              0.2222222222222222,
              "#7201a8"
             ],
             [
              0.3333333333333333,
              "#9c179e"
             ],
             [
              0.4444444444444444,
              "#bd3786"
             ],
             [
              0.5555555555555556,
              "#d8576b"
             ],
             [
              0.6666666666666666,
              "#ed7953"
             ],
             [
              0.7777777777777778,
              "#fb9f3a"
             ],
             [
              0.8888888888888888,
              "#fdca26"
             ],
             [
              1,
              "#f0f921"
             ]
            ],
            "type": "contour"
           }
          ],
          "contourcarpet": [
           {
            "colorbar": {
             "outlinewidth": 0,
             "ticks": ""
            },
            "type": "contourcarpet"
           }
          ],
          "heatmap": [
           {
            "colorbar": {
             "outlinewidth": 0,
             "ticks": ""
            },
            "colorscale": [
             [
              0,
              "#0d0887"
             ],
             [
              0.1111111111111111,
              "#46039f"
             ],
             [
              0.2222222222222222,
              "#7201a8"
             ],
             [
              0.3333333333333333,
              "#9c179e"
             ],
             [
              0.4444444444444444,
              "#bd3786"
             ],
             [
              0.5555555555555556,
              "#d8576b"
             ],
             [
              0.6666666666666666,
              "#ed7953"
             ],
             [
              0.7777777777777778,
              "#fb9f3a"
             ],
             [
              0.8888888888888888,
              "#fdca26"
             ],
             [
              1,
              "#f0f921"
             ]
            ],
            "type": "heatmap"
           }
          ],
          "heatmapgl": [
           {
            "colorbar": {
             "outlinewidth": 0,
             "ticks": ""
            },
            "colorscale": [
             [
              0,
              "#0d0887"
             ],
             [
              0.1111111111111111,
              "#46039f"
             ],
             [
              0.2222222222222222,
              "#7201a8"
             ],
             [
              0.3333333333333333,
              "#9c179e"
             ],
             [
              0.4444444444444444,
              "#bd3786"
             ],
             [
              0.5555555555555556,
              "#d8576b"
             ],
             [
              0.6666666666666666,
              "#ed7953"
             ],
             [
              0.7777777777777778,
              "#fb9f3a"
             ],
             [
              0.8888888888888888,
              "#fdca26"
             ],
             [
              1,
              "#f0f921"
             ]
            ],
            "type": "heatmapgl"
           }
          ],
          "histogram": [
           {
            "marker": {
             "pattern": {
              "fillmode": "overlay",
              "size": 10,
              "solidity": 0.2
             }
            },
            "type": "histogram"
           }
          ],
          "histogram2d": [
           {
            "colorbar": {
             "outlinewidth": 0,
             "ticks": ""
            },
            "colorscale": [
             [
              0,
              "#0d0887"
             ],
             [
              0.1111111111111111,
              "#46039f"
             ],
             [
              0.2222222222222222,
              "#7201a8"
             ],
             [
              0.3333333333333333,
              "#9c179e"
             ],
             [
              0.4444444444444444,
              "#bd3786"
             ],
             [
              0.5555555555555556,
              "#d8576b"
             ],
             [
              0.6666666666666666,
              "#ed7953"
             ],
             [
              0.7777777777777778,
              "#fb9f3a"
             ],
             [
              0.8888888888888888,
              "#fdca26"
             ],
             [
              1,
              "#f0f921"
             ]
            ],
            "type": "histogram2d"
           }
          ],
          "histogram2dcontour": [
           {
            "colorbar": {
             "outlinewidth": 0,
             "ticks": ""
            },
            "colorscale": [
             [
              0,
              "#0d0887"
             ],
             [
              0.1111111111111111,
              "#46039f"
             ],
             [
              0.2222222222222222,
              "#7201a8"
             ],
             [
              0.3333333333333333,
              "#9c179e"
             ],
             [
              0.4444444444444444,
              "#bd3786"
             ],
             [
              0.5555555555555556,
              "#d8576b"
             ],
             [
              0.6666666666666666,
              "#ed7953"
             ],
             [
              0.7777777777777778,
              "#fb9f3a"
             ],
             [
              0.8888888888888888,
              "#fdca26"
             ],
             [
              1,
              "#f0f921"
             ]
            ],
            "type": "histogram2dcontour"
           }
          ],
          "mesh3d": [
           {
            "colorbar": {
             "outlinewidth": 0,
             "ticks": ""
            },
            "type": "mesh3d"
           }
          ],
          "parcoords": [
           {
            "line": {
             "colorbar": {
              "outlinewidth": 0,
              "ticks": ""
             }
            },
            "type": "parcoords"
           }
          ],
          "pie": [
           {
            "automargin": true,
            "type": "pie"
           }
          ],
          "scatter": [
           {
            "fillpattern": {
             "fillmode": "overlay",
             "size": 10,
             "solidity": 0.2
            },
            "type": "scatter"
           }
          ],
          "scatter3d": [
           {
            "line": {
             "colorbar": {
              "outlinewidth": 0,
              "ticks": ""
             }
            },
            "marker": {
             "colorbar": {
              "outlinewidth": 0,
              "ticks": ""
             }
            },
            "type": "scatter3d"
           }
          ],
          "scattercarpet": [
           {
            "marker": {
             "colorbar": {
              "outlinewidth": 0,
              "ticks": ""
             }
            },
            "type": "scattercarpet"
           }
          ],
          "scattergeo": [
           {
            "marker": {
             "colorbar": {
              "outlinewidth": 0,
              "ticks": ""
             }
            },
            "type": "scattergeo"
           }
          ],
          "scattergl": [
           {
            "marker": {
             "colorbar": {
              "outlinewidth": 0,
              "ticks": ""
             }
            },
            "type": "scattergl"
           }
          ],
          "scattermapbox": [
           {
            "marker": {
             "colorbar": {
              "outlinewidth": 0,
              "ticks": ""
             }
            },
            "type": "scattermapbox"
           }
          ],
          "scatterpolar": [
           {
            "marker": {
             "colorbar": {
              "outlinewidth": 0,
              "ticks": ""
             }
            },
            "type": "scatterpolar"
           }
          ],
          "scatterpolargl": [
           {
            "marker": {
             "colorbar": {
              "outlinewidth": 0,
              "ticks": ""
             }
            },
            "type": "scatterpolargl"
           }
          ],
          "scatterternary": [
           {
            "marker": {
             "colorbar": {
              "outlinewidth": 0,
              "ticks": ""
             }
            },
            "type": "scatterternary"
           }
          ],
          "surface": [
           {
            "colorbar": {
             "outlinewidth": 0,
             "ticks": ""
            },
            "colorscale": [
             [
              0,
              "#0d0887"
             ],
             [
              0.1111111111111111,
              "#46039f"
             ],
             [
              0.2222222222222222,
              "#7201a8"
             ],
             [
              0.3333333333333333,
              "#9c179e"
             ],
             [
              0.4444444444444444,
              "#bd3786"
             ],
             [
              0.5555555555555556,
              "#d8576b"
             ],
             [
              0.6666666666666666,
              "#ed7953"
             ],
             [
              0.7777777777777778,
              "#fb9f3a"
             ],
             [
              0.8888888888888888,
              "#fdca26"
             ],
             [
              1,
              "#f0f921"
             ]
            ],
            "type": "surface"
           }
          ],
          "table": [
           {
            "cells": {
             "fill": {
              "color": "#EBF0F8"
             },
             "line": {
              "color": "white"
             }
            },
            "header": {
             "fill": {
              "color": "#C8D4E3"
             },
             "line": {
              "color": "white"
             }
            },
            "type": "table"
           }
          ]
         },
         "layout": {
          "annotationdefaults": {
           "arrowcolor": "#2a3f5f",
           "arrowhead": 0,
           "arrowwidth": 1
          },
          "autotypenumbers": "strict",
          "coloraxis": {
           "colorbar": {
            "outlinewidth": 0,
            "ticks": ""
           }
          },
          "colorscale": {
           "diverging": [
            [
             0,
             "#8e0152"
            ],
            [
             0.1,
             "#c51b7d"
            ],
            [
             0.2,
             "#de77ae"
            ],
            [
             0.3,
             "#f1b6da"
            ],
            [
             0.4,
             "#fde0ef"
            ],
            [
             0.5,
             "#f7f7f7"
            ],
            [
             0.6,
             "#e6f5d0"
            ],
            [
             0.7,
             "#b8e186"
            ],
            [
             0.8,
             "#7fbc41"
            ],
            [
             0.9,
             "#4d9221"
            ],
            [
             1,
             "#276419"
            ]
           ],
           "sequential": [
            [
             0,
             "#0d0887"
            ],
            [
             0.1111111111111111,
             "#46039f"
            ],
            [
             0.2222222222222222,
             "#7201a8"
            ],
            [
             0.3333333333333333,
             "#9c179e"
            ],
            [
             0.4444444444444444,
             "#bd3786"
            ],
            [
             0.5555555555555556,
             "#d8576b"
            ],
            [
             0.6666666666666666,
             "#ed7953"
            ],
            [
             0.7777777777777778,
             "#fb9f3a"
            ],
            [
             0.8888888888888888,
             "#fdca26"
            ],
            [
             1,
             "#f0f921"
            ]
           ],
           "sequentialminus": [
            [
             0,
             "#0d0887"
            ],
            [
             0.1111111111111111,
             "#46039f"
            ],
            [
             0.2222222222222222,
             "#7201a8"
            ],
            [
             0.3333333333333333,
             "#9c179e"
            ],
            [
             0.4444444444444444,
             "#bd3786"
            ],
            [
             0.5555555555555556,
             "#d8576b"
            ],
            [
             0.6666666666666666,
             "#ed7953"
            ],
            [
             0.7777777777777778,
             "#fb9f3a"
            ],
            [
             0.8888888888888888,
             "#fdca26"
            ],
            [
             1,
             "#f0f921"
            ]
           ]
          },
          "colorway": [
           "#636efa",
           "#EF553B",
           "#00cc96",
           "#ab63fa",
           "#FFA15A",
           "#19d3f3",
           "#FF6692",
           "#B6E880",
           "#FF97FF",
           "#FECB52"
          ],
          "font": {
           "color": "#2a3f5f"
          },
          "geo": {
           "bgcolor": "white",
           "lakecolor": "white",
           "landcolor": "#E5ECF6",
           "showlakes": true,
           "showland": true,
           "subunitcolor": "white"
          },
          "hoverlabel": {
           "align": "left"
          },
          "hovermode": "closest",
          "mapbox": {
           "style": "light"
          },
          "paper_bgcolor": "white",
          "plot_bgcolor": "#E5ECF6",
          "polar": {
           "angularaxis": {
            "gridcolor": "white",
            "linecolor": "white",
            "ticks": ""
           },
           "bgcolor": "#E5ECF6",
           "radialaxis": {
            "gridcolor": "white",
            "linecolor": "white",
            "ticks": ""
           }
          },
          "scene": {
           "xaxis": {
            "backgroundcolor": "#E5ECF6",
            "gridcolor": "white",
            "gridwidth": 2,
            "linecolor": "white",
            "showbackground": true,
            "ticks": "",
            "zerolinecolor": "white"
           },
           "yaxis": {
            "backgroundcolor": "#E5ECF6",
            "gridcolor": "white",
            "gridwidth": 2,
            "linecolor": "white",
            "showbackground": true,
            "ticks": "",
            "zerolinecolor": "white"
           },
           "zaxis": {
            "backgroundcolor": "#E5ECF6",
            "gridcolor": "white",
            "gridwidth": 2,
            "linecolor": "white",
            "showbackground": true,
            "ticks": "",
            "zerolinecolor": "white"
           }
          },
          "shapedefaults": {
           "line": {
            "color": "#2a3f5f"
           }
          },
          "ternary": {
           "aaxis": {
            "gridcolor": "white",
            "linecolor": "white",
            "ticks": ""
           },
           "baxis": {
            "gridcolor": "white",
            "linecolor": "white",
            "ticks": ""
           },
           "bgcolor": "#E5ECF6",
           "caxis": {
            "gridcolor": "white",
            "linecolor": "white",
            "ticks": ""
           }
          },
          "title": {
           "x": 0.05
          },
          "xaxis": {
           "automargin": true,
           "gridcolor": "white",
           "linecolor": "white",
           "ticks": "",
           "title": {
            "standoff": 15
           },
           "zerolinecolor": "white",
           "zerolinewidth": 2
          },
          "yaxis": {
           "automargin": true,
           "gridcolor": "white",
           "linecolor": "white",
           "ticks": "",
           "title": {
            "standoff": 15
           },
           "zerolinecolor": "white",
           "zerolinewidth": 2
          }
         }
        },
        "title": {
         "text": "Pclass"
        },
        "xaxis": {
         "anchor": "y",
         "domain": [
          0,
          1
         ],
         "title": {
          "text": "index"
         }
        },
        "yaxis": {
         "anchor": "x",
         "domain": [
          0,
          1
         ],
         "title": {
          "text": "value"
         }
        }
       }
      }
     },
     "metadata": {},
     "output_type": "display_data"
    },
    {
     "data": {
      "application/vnd.plotly.v1+json": {
       "config": {
        "plotlyServerURL": "https://plot.ly"
       },
       "data": [
        {
         "alignmentgroup": "True",
         "hovertemplate": "variable=Name<br>index=%{x}<br>value=%{y}<extra></extra>",
         "legendgroup": "Name",
         "marker": {
          "color": "#636efa",
          "pattern": {
           "shape": ""
          }
         },
         "name": "Name",
         "offsetgroup": "Name",
         "orientation": "v",
         "showlegend": true,
         "textposition": "auto",
         "type": "bar",
         "x": [
          "Connolly, Miss. Kate",
          "Kelly, Mr. James",
          "Braund, Mr. Owen Harris",
          "Johnson, Master. Harold Theodor",
          "Gustafsson, Mr. Alfred Ossian",
          "Najib, Miss. Adele Kiamie \"Jane\"",
          "Abelson, Mrs. Samuel (Hannah Wizosky)",
          "Vander Cruyssen, Mr. Victor",
          "Carlsson, Mr. Frans Olof",
          "Beckwith, Mrs. Richard Leonard (Sallie Monypeny)",
          "Balkic, Mr. Cerin",
          "Roebling, Mr. Washington Augustus II",
          "van Melkebeke, Mr. Philemon",
          "Duran y More, Miss. Asuncion",
          "Bystrom, Mrs. (Karolina)",
          "Gill, Mr. John William",
          "Sage, Miss. Dorothy Edith \"Dolly\"",
          "Swift, Mrs. Frederick Joel (Margaret Welles Barron)",
          "Giles, Mr. Frederick Edward",
          "Hansen, Mr. Claus Peter",
          "Petroff, Mr. Nedelio",
          "Laleff, Mr. Kristo",
          "Potter, Mrs. Thomas Jr (Lily Alexenia Wilson)",
          "Shelley, Mrs. William (Imanita Parrish Hall)",
          "Abrahim, Mrs. Joseph (Sophie Halaut Easu)",
          "Caldwell, Mr. Albert Francis",
          "Svensson, Mr. Johan Cervin",
          "Hirvonen, Mrs. Alexander (Helga E Lindqvist)",
          "Wirz, Mr. Albert",
          "Myles, Mr. Thomas Francis",
          "Wilkes, Mrs. James (Ellen Needs)",
          "Dooley, Mr. Patrick",
          "Behr, Mr. Karl Howell",
          "Johnston, Miss. Catherine Helen \"Carrie\"",
          "Graham, Miss. Margaret Edith",
          "Montvila, Rev. Juozas",
          "Rice, Mrs. William (Margaret Norton)",
          "Sutehall, Mr. Henry Jr",
          "Banfield, Mr. Frederick James",
          "Dahlberg, Miss. Gerda Ulrika",
          "Markun, Mr. Johann",
          "Razi, Mr. Raihed",
          "Baclini, Mrs. Solomon (Latifa Qurban)",
          "Ilieff, Mr. Ylio",
          "Daly, Mr. Peter Denis ",
          "Pasic, Mr. Jakob",
          "Compton, Miss. Sara Rebecca",
          "Allum, Mr. Owen George",
          "Augustsson, Mr. Albert",
          "Saad, Mr. Amin",
          "Richards, Master. George Sibley",
          "Yasbeck, Mrs. Antoni (Selini Alexander)",
          "Stone, Mrs. George Nelson (Martha Evelyn)",
          "McCormack, Mr. Thomas Joseph",
          "Mallet, Master. Andre",
          "Lam, Mr. Len",
          "Flynn, Mr. John",
          "Panula, Master. Urho Abraham",
          "Moor, Mrs. (Beila)",
          "Reuchlin, Jonkheer. John George",
          "Lulic, Mr. Nikola",
          "Hays, Mrs. Charles Melville (Clara Jennings Gregg)",
          "Sirota, Mr. Maurice",
          "Chip, Mr. Chang",
          "Marechal, Mr. Pierre",
          "Goldenberg, Mrs. Samuel L (Edwiga Grabowska)",
          "Wick, Mrs. George Dennick (Mary Hitchcock)",
          "Aks, Mrs. Sam (Leah Rosen)",
          "Carter, Mrs. Ernest Courtenay (Lilian Hughes)",
          "Lines, Miss. Mary Conover",
          "Boulos, Miss. Nourelain",
          "Svensson, Mr. Johan",
          "Andersson, Master. Sigvard Harald Elias",
          "Harper, Rev. John",
          "Alhomaki, Mr. Ilmari Rudolf",
          "Markoff, Mr. Marin",
          "Sage, Mr. Douglas Bullen",
          "Abbing, Mr. Anthony",
          "Culumovic, Mr. Jeso",
          "Lemberopolous, Mr. Peter L",
          "Serepeca, Miss. Augusta",
          "Mudd, Mr. Thomas Charles",
          "Davies, Mr. John Samuel",
          "Jones, Mr. Charles Cresson",
          "Holm, Mr. John Fredrik Alexander",
          "Snyder, Mrs. John Pillsbury (Nelle Stevenson)",
          "Fortune, Mrs. Mark (Mary McDougald)",
          "Tucker, Mr. Gilbert Milligan Jr",
          "Moore, Mr. Clarence Bloomfield",
          "Burns, Miss. Mary Delia",
          "Corey, Mrs. Percy C (Mary Phyllis Elizabeth Miller)",
          "Ryerson, Master. John Borie",
          "Bradley, Miss. Bridget Delia",
          "Bjorklund, Mr. Ernst Herbert",
          "McCrae, Mr. Arthur Gordon",
          "Dika, Mr. Mirko",
          "Chaudanson, Miss. Victorine",
          "Davison, Mr. Thomas Henry",
          "Abelseth, Mr. Olaus Jorgensen",
          "Cor, Mr. Bartol",
          "Rice, Master. Albert",
          "Mangiavacchi, Mr. Serafino Emilio",
          "Fortune, Miss. Ethel Flora",
          "Mulvihill, Miss. Bertha E",
          "Minkoff, Mr. Lazar",
          "Nieminen, Miss. Manta Josefina",
          "Case, Mr. Howard Brown",
          "Wells, Master. Ralph Lester",
          "O'Donoghue, Ms. Bridget",
          "Badman, Miss. Emily Louisa",
          "Barry, Miss. Julia",
          "Khalil, Mr. Betros",
          "Lamb, Mr. John Joseph",
          "Demetri, Mr. Marinko",
          "Straus, Mr. Isidor",
          "Ovies y Rodriguez, Mr. Servando",
          "Boulos, Master. Akar",
          "Doyle, Miss. Elizabeth",
          "Aldworth, Mr. Charles Augustus",
          "Cornell, Mrs. Robert Clifford (Malvina Helen Lamson)",
          "Miles, Mr. Frank",
          "Keeping, Mr. Edwin",
          "Geiger, Miss. Amalie",
          "Hocking, Miss. Ellen Nellie\"\"",
          "Pulbaum, Mr. Franz",
          "Smith, Mr. Lucien Philip",
          "Olsen, Master. Artur Karl",
          "Brady, Mr. John Bertram",
          "Daher, Mr. Shedid",
          "Ostby, Miss. Helene Ragnhild",
          "Robins, Mr. Alexander A",
          "Ryerson, Mrs. Arthur Larned (Emily Maria Borie)",
          "Williams, Mr. Richard Norris II",
          "Flegenheim, Mrs. Alfred (Antoinette)",
          "Rothschild, Mr. Martin",
          "Louch, Mr. Charles Alexander",
          "Assaf Khalil, Mrs. Mariana (Miriam\")\"",
          "Ilmakangas, Miss. Ida Livija",
          "Assaf, Mr. Gerios",
          "Keane, Mr. Daniel",
          "del Carlo, Mrs. Sebastiano (Argenia Genovesi)",
          "Chaffee, Mrs. Herbert Fuller (Carrie Constance Toogood)",
          "Howard, Mr. Benjamin",
          "Samaan, Mr. Elias",
          "Jefferys, Mr. Clifford Thomas",
          "Coutts, Mrs. William (Winnie Minnie\" Treanor)\"",
          "Franklin, Mr. Thomas Parham",
          "Bucknell, Mrs. William Robert (Emma Eliza Ward)",
          "Shaughnessy, Mr. Patrick",
          "Chevre, Mr. Paul Romaine",
          "Peltomaki, Mr. Nikolai Johannes",
          "Kimball, Mrs. Edwin Nelson Jr (Gertrude Parsons)",
          "Corbett, Mrs. Walter H (Irene Colvin)",
          "Goldsmith, Mr. Nathan",
          "Karun, Mr. Franz",
          "Dean, Mrs. Bertram (Eva Georgetta Light)",
          "Hee, Mr. Ling",
          "Sap, Mr. Julius",
          "Cacic, Miss. Manda",
          "Roth, Miss. Sarah A",
          "Katavelas, Mr. Vassilios (Catavelas Vassilios\")\"",
          "Mock, Mr. Philipp Edmund",
          "Johnston, Mrs. Andrew G (Elizabeth Lily\" Watson)\"",
          "Skoog, Master. Karl Thorsten",
          "Mallet, Mr. Albert",
          "Pedersen, Mr. Olaf",
          "Chapman, Mr. Charles Henry",
          "Greenberg, Mr. Samuel",
          "Larsson, Mr. August Viktor",
          "Taylor, Mr. Elmer Zebley",
          "Klaber, Mr. Herman",
          "Mayne, Mlle. Berthe Antonine (\"Mrs de Villiers\")",
          "Moubarek, Master. Halim Gonios (\"William George\")",
          "Cleaver, Miss. Alice",
          "Calderhead, Mr. Edward Pennington",
          "Kelly, Mrs. Florence \"Fannie\"",
          "Morley, Mr. Henry Samuel (\"Mr Henry Marshall\")",
          "Hansen, Mr. Henrik Juul",
          "Gallagher, Mr. Martin",
          "Barbara, Miss. Saiide",
          "Silverthorne, Mr. Spencer Victor",
          "Astor, Mrs. John Jacob (Madeleine Talmadge Force)",
          "Humblen, Mr. Adolf Mathias Nicolai Olsen",
          "Thayer, Mr. John Borland",
          "Soholt, Mr. Peter Andreas Lauritz Andersen",
          "Endres, Miss. Caroline Louise",
          "Troutt, Miss. Edwina Celia \"Winnie\"",
          "Mannion, Miss. Margareth",
          "Troupiansky, Mr. Moses Aaron",
          "Berriman, Mr. William John",
          "Knight, Mr. Robert J",
          "Hassan, Mr. Houssein G N",
          "Allen, Miss. Elisabeth Walton",
          "Ilmakangas, Miss. Pieta Sofia",
          "Bryhl, Mr. Kurt Arnold Gottfrid",
          "Renouf, Mrs. Peter Henry (Lillian Jefferys)",
          "McEvoy, Mr. Michael",
          "Oreskovic, Mr. Luka",
          "Chambers, Mr. Norman Campbell",
          "Hodges, Mr. Henry Price",
          "Gillespie, Mr. William Henry",
          "Jensen, Mr. Svend Lauritz",
          "Harper, Miss. Annie Jessie \"Nina\"",
          "Johnson, Mr. Malkolm Joackim",
          "Mullens, Miss. Katherine \"Katie\"",
          "Weir, Col. John",
          "Heininen, Miss. Wendla Maria",
          "Saad, Mr. Khalil",
          "Mitchell, Mr. Henry Michael",
          "Davidson, Mr. Thornton",
          "Brown, Mrs. Thomas William Solomon (Elizabeth Catherine Ford)",
          "Taylor, Mrs. Elmer Zebley (Juliet Cummins Wright)",
          "Cook, Mr. Jacob",
          "Rommetvedt, Mr. Knud Paust",
          "Butler, Mr. Reginald Fenton",
          "Hickman, Mr. Lewis",
          "Lindqvist, Mr. Eino William",
          "Coleff, Mr. Peju",
          "Colley, Mr. Edward Pomeroy",
          "Badt, Mr. Mohamed",
          "Frauenthal, Dr. Henry William",
          "Newell, Mr. Arthur Webster",
          "Eitemiller, Mr. George Floyd",
          "Bourke, Mrs. John (Catherine)",
          "Radeff, Mr. Alexander",
          "Wilhelms, Mr. Charles",
          "Watson, Mr. Ennis Hastings",
          "Edvardsson, Mr. Gustaf Hjalmar",
          "Laroche, Mr. Joseph Philippe Lemercier",
          "Lam, Mr. Ali",
          "Karun, Miss. Manca",
          "Dick, Mr. Albert Adrian",
          "Madill, Miss. Georgette Alexandra",
          "Fischer, Mr. Eberhard Thelander",
          "Dakic, Mr. Branko",
          "Panula, Mr. Jaako Arnold",
          "Brown, Mr. Thomas William Solomon",
          "Sawyer, Mr. Frederick Charles",
          "Goodwin, Mr. Charles Edward",
          "Olsvigen, Mr. Thor Anderson",
          "Hassab, Mr. Hammad",
          "Peters, Miss. Katie",
          "Cardeza, Mr. Thomas Drake Martinez",
          "Goodwin, Mrs. Frederick (Augusta Tyler)",
          "Turja, Miss. Anna Sofia",
          "Williams, Mr. Leslie",
          "Ford, Mrs. Edward (Margaret Ann Watson)",
          "Lesurer, Mr. Gustave J",
          "Ivanoff, Mr. Kanio",
          "Otter, Mr. Richard",
          "Dantcheff, Mr. Ristiu",
          "Hoyt, Mr. William Fisher",
          "Sage, Miss. Stella Anna",
          "Gaskell, Mr. Alfred",
          "Keane, Mr. Andrew \"Andy\"",
          "Guggenheim, Mr. Benjamin",
          "Dean, Master. Bertram Vere",
          "Rice, Master. George Hugh",
          "Sjoblom, Miss. Anna Sofia",
          "Harmer, Mr. Abraham (David Lishin)",
          "Ali, Mr. William",
          "Johnston, Mr. Andrew G",
          "Long, Mr. Milton Clyde",
          "Dick, Mrs. Albert Adrian (Vera Gillespie)",
          "Ayoub, Miss. Banoura",
          "Robert, Mrs. Edward Scott (Elisabeth Walton McMillan)",
          "Leader, Dr. Alice (Farnham)",
          "Osman, Mrs. Mara",
          "Ibrahim Shawah, Mr. Yousseff",
          "Meyer, Mr. August",
          "Fry, Mr. Richard",
          "Tomlin, Mr. Ernest Portage",
          "Andersson, Miss. Ebba Iris Alfrida",
          "Slemen, Mr. Richard James",
          "Lester, Mr. James",
          "Alexander, Mr. William",
          "Chambers, Mrs. Norman Campbell (Bertha Griggs)",
          "Pettersson, Miss. Ellen Natalia",
          "Van Impe, Mrs. Jean Baptiste (Rosalie Paula Govaert)",
          "Andrews, Mr. Thomas Jr",
          "Johansson, Mr. Karl Johan",
          "Hedman, Mr. Oskar Arvid",
          "Thomas, Master. Assad Alexander",
          "Carter, Master. William Thornton II",
          "Collyer, Mrs. Harvey (Charlotte Annie Tate)",
          "Ponesell, Mr. Martin",
          "Kilgannon, Mr. Thomas J",
          "Emanuel, Miss. Virginia Ethel",
          "Tobin, Mr. Roger",
          "Sinkkonen, Miss. Anna",
          "Herman, Mrs. Samuel (Jane Laver)",
          "Jonkoff, Mr. Lalio",
          "Vande Velde, Mr. Johannes Joseph",
          "Moor, Master. Meier",
          "Wells, Miss. Joan",
          "Connaghton, Mr. Michael",
          "Marvin, Mr. Daniel Warner",
          "Abbott, Mr. Rossmore Edward",
          "Carlsson, Mr. August Sigfrid",
          "Crosby, Capt. Edward Gifford",
          "Stranden, Mr. Juho",
          "McNamee, Mr. Neal",
          "Ryerson, Miss. Susan Parker \"Suzette\"",
          "Cavendish, Mr. Tyrell William",
          "Hawksford, Mr. Walter James",
          "Nankoff, Mr. Minko",
          "Hamalainen, Master. Viljo",
          "Bailey, Mr. Percy Andrew",
          "Myhrman, Mr. Pehr Fabian Oliver Malkolm",
          "Mangan, Miss. Mary",
          "Hocking, Mrs. Elizabeth (Eliza Needs)",
          "Elias, Mr. Dibo",
          "Mack, Mrs. (Mary)",
          "Jensen, Mr. Niels Peder",
          "Lievens, Mr. Rene Aime",
          "Gronnestad, Mr. Daniel Danielsen",
          "Moran, Mr. Daniel J",
          "Brewe, Dr. Arthur Jackson",
          "Theobald, Mr. Thomas Leonard",
          "Hogeboom, Mrs. John C (Anna Andrews)",
          "Eklund, Mr. Hans Linus",
          "Carter, Mrs. William Ernest (Lucile Polk)",
          "Barah, Mr. Hanna Assi",
          "Nirva, Mr. Iisakki Antino Aijo",
          "Garfirth, Mr. John",
          "Rothes, the Countess. of (Lucy Noel Martha Dyer-Edwards)",
          "Dyker, Mrs. Adolf Fredrik (Anna Elisabeth Judith Andersson)",
          "Davidson, Mrs. Thornton (Orian Hays)",
          "Hegarty, Miss. Hanora \"Nora\"",
          "Laroche, Miss. Louise",
          "White, Mrs. John Stuart (Ella Holmes)",
          "Carr, Miss. Jeannie",
          "Sadowitz, Mr. Harry",
          "Vartanian, Mr. David",
          "Cacic, Mr. Jego Grga",
          "Hansen, Mrs. Claus Peter (Jennie L Howard)",
          "Hays, Mr. Charles Melville",
          "Aks, Master. Philip Frank",
          "Allison, Mr. Hudson Joshua Creighton",
          "Crosby, Mrs. Edward Gifford (Catherine Elizabeth Halstead)",
          "McCarthy, Miss. Catherine Katie\"\"",
          "Pokrnic, Mr. Tome",
          "Phillips, Mr. Escott Robert",
          "Malachard, Mr. Noel",
          "Olsson, Mr. Oscar Wilhelm",
          "Johansson, Mr. Nils",
          "Loring, Mr. Joseph Holland",
          "Hagardon, Miss. Kate",
          "Spencer, Mr. William Augustus",
          "Rogers, Mr. Reginald Harry",
          "Rosenshine, Mr. George (Mr George Thorne\")\"",
          "Cor, Mr. Ivan",
          "Nakid, Mrs. Said (Waika Mary\" Mowad)\"",
          "Thomas, Mr. Tannous",
          "Dulles, Mr. William Crothers",
          "Davies, Mrs. John Morgan (Elizabeth Agnes Mary White) ",
          "Enander, Mr. Ingvar",
          "Clarke, Mr. Charles Valentine",
          "Becker, Miss. Ruth Elizabeth",
          "Jonsson, Mr. Nils Hilding",
          "Assam, Mr. Ali",
          "Kreuchen, Miss. Emilie",
          "Rowe, Mr. Alfred G",
          "Nesson, Mr. Israel",
          "Krekorian, Mr. Neshan",
          "Andersson, Mr. Johan Samuel",
          "Jefferys, Mr. Ernest Wilfred",
          "Samaan, Mr. Hanna",
          "Angheloff, Mr. Minko",
          "de Brito, Mr. Jose Joaquim",
          "Wittevrongel, Mr. Camille",
          "Lennon, Miss. Mary",
          "Clark, Mrs. Walter Miller (Virginia McDowell)",
          "Fox, Mr. Patrick",
          "McCaffry, Mr. Thomas Francis",
          "Pokrnic, Mr. Mate",
          "Howard, Miss. May Elizabeth",
          "Warren, Mr. Charles William",
          "Chisholm, Mr. Roderick Robert Crispin",
          "Lyntakoff, Mr. Stanko",
          "Portaluppi, Mr. Emilio Ilario Giuseppe",
          "Klasen, Miss. Gertrud Emilia",
          "Wells, Mrs. Arthur Henry (Addie\" Dart Trevaskis)\"",
          "Nilsson, Mr. August Ferdinand",
          "de Messemaeker, Mr. Guillaume Joseph",
          "Midtsjo, Mr. Karl Albert",
          "Bentham, Miss. Lilian W",
          "Niklasson, Mr. Samuel",
          "Saade, Mr. Jean Nassr",
          "Bryhl, Miss. Dagmar Jenny Ingeborg ",
          "Parker, Mr. Clifford Richard",
          "Franklin, Mr. Charles (Charles Fardon)",
          "Dodge, Dr. Washington",
          "Nasr, Mr. Mustafa",
          "Daly, Miss. Margaret Marcella Maggie\"\"",
          "Rheims, Mr. George Alexander Lucien",
          "Ford, Mr. Arthur",
          "Mardirosian, Mr. Sarkis",
          "Snyder, Mr. John Pillsbury",
          "Dennis, Mr. William",
          "Faunthorpe, Mr. Harry",
          "Rosblom, Miss. Salli Helena",
          "Touma, Miss. Maria Youssef",
          "Fleming, Miss. Honora",
          "Peacock, Master. Alfred Edward",
          "Oreskovic, Miss. Jelka",
          "Oxenham, Mr. Percy Thomas",
          "Ware, Mr. John James",
          "Maguire, Mr. John Edward",
          "Elias, Mr. Joseph",
          "Guest, Mr. Robert",
          "Hipkins, Mr. William Edward",
          "Colbert, Mr. Patrick",
          "Smith, Mrs. Lucien Philip (Mary Eloise Hughes)",
          "Kink-Heilmann, Mr. Anton",
          "Gilbert, Mr. William",
          "Abbott, Master. Eugene Joseph",
          "Lines, Mrs. Ernest H (Elizabeth Lindsey James)",
          "Payne, Mr. Vivian Ponsonby",
          "Palsson, Master. Paul Folke",
          "Canavan, Mr. Patrick",
          "Ashby, Mr. John",
          "Aronsson, Mr. Ernst Axel Algot",
          "Herman, Miss. Kate",
          "Wheeler, Mr. Edwin Frederick\"\"",
          "McNamee, Mrs. Neal (Eileen O'Leary)",
          "Risien, Mrs. Samuel (Emma)",
          "Foley, Mr. Joseph",
          "O'Connor, Mr. Patrick",
          "Frolicher-Stehli, Mrs. Maxmillian (Margaretha Emerentia Stehli)",
          "Larsson-Rondberg, Mr. Edvard A",
          "Conlon, Mr. Thomas Henry",
          "Peacock, Miss. Treasteall",
          "Ware, Mr. Frederick",
          "Saether, Mr. Simon Sivertsen",
          "Oliva y Ocana, Dona. Fermina",
          "Spector, Mr. Woolf",
          "Henriksson, Miss. Jenny Lovisa",
          "Minahan, Mrs. William Edward (Lillian E Thorpe)",
          "Naughton, Miss. Hannah",
          "Riordan, Miss. Johanna Hannah\"\"",
          "Bonnell, Miss. Caroline",
          "Widener, Mr. George Dunton",
          "Ware, Mr. William Jeffery",
          "Nourney, Mr. Alfred (Baron von Drachstedt\")\"",
          "Frauenthal, Mr. Isaac Gerald",
          "Carrau, Mr. Jose Pedro",
          "Gibson, Miss. Dorothy Winifred",
          "Gale, Mr. Harry",
          "Asplund, Master. Carl Edgar",
          "Cotterill, Mr. Henry Harry\"\"",
          "Denbury, Mr. Herbert",
          "Kink, Miss. Maria",
          "Julian, Mr. Henry Forbes",
          "Dean, Miss. Elizabeth Gladys Millvina\"\"",
          "Herman, Mr. Samuel",
          "Dibden, Mr. William",
          "Stokes, Mr. Philip Joseph",
          "Greenfield, Mrs. Leo David (Blanche Strouse)",
          "Walcroft, Miss. Nellie",
          "Giles, Mr. Ralph",
          "Whabee, Mrs. George Joseph (Shawneene Abi-Saab)",
          "Botsford, Mr. William Hull",
          "Abelseth, Miss. Karen Marie",
          "van Billiard, Master. James William",
          "Cardeza, Mrs. James Warburton Martinez (Charlotte Wardle Drake)",
          "Sage, Mr. John George",
          "Lundstrom, Mr. Thure Edvin",
          "Fillbrook, Mr. Joseph Charles",
          "Betros, Master. Seman",
          "Brown, Mrs. John Murray (Caroline Lane Lamson)",
          "Lockyer, Mr. Edward",
          "O'Keefe, Mr. Patrick",
          "Gibson, Mrs. Leonard (Pauline C Boeson)",
          "Bowen, Miss. Grace Scott",
          "Dodge, Mrs. Washington (Ruth Vidaver)",
          "Harbeck, Mr. William H",
          "Ismay, Mr. Joseph Bruce",
          "Wilson, Miss. Helen Alice",
          "Giles, Mr. Edgar",
          "Pallas y Castello, Mr. Emilio",
          "Riihivouri, Miss. Susanna Juhantytar Sanni\"\"",
          "Lindell, Mrs. Edvard Bengtsson (Elin Gerda Persson)",
          "Caram, Mr. Joseph",
          "Sage, Mrs. John (Annie Bullen)",
          "Harder, Mrs. George Achilles (Dorothy Annan)",
          "Strilic, Mr. Ivan",
          "Ware, Mrs. John James (Florence Louise Long)",
          "Mallet, Mrs. Albert (Antoinette Magnin)",
          "Sage, Master. William Henry",
          "Mahon, Mr. John",
          "MacKay, Mr. George William",
          "Wenzel, Mr. Linhart",
          "Thomas, Mr. Charles P",
          "Matinoff, Mr. Nicola",
          "Earnshaw, Mrs. Boulton (Olive Potter)",
          "Lahtinen, Rev. William",
          "Crafton, Mr. John Bertram",
          "Davies, Mr. Evan",
          "Hilliard, Mr. Herbert Henry",
          "Vander Planke, Mr. Julius",
          "Lindeberg-Lind, Mr. Erik Gustaf (Mr Edward Lingrey\")\"",
          "Beauchamp, Mr. Henry James",
          "Ryerson, Mr. Arthur Larned",
          "Daniels, Miss. Sarah",
          "Goodwin, Miss. Jessie Allis",
          "Goodwin, Mr. Charles Frederick",
          "Drapkin, Miss. Jennie",
          "Schmidt, Mr. August",
          "Zakarian, Mr. Mapriededer",
          "Carlsson, Mr. Carl Robert",
          "Storey, Mr. Thomas",
          "Klasen, Mrs. (Hulda Kristina Eugenia Lofqvist)",
          "Asplund, Master. Filip Oscar",
          "Peruschitz, Rev. Joseph Maria",
          "Zakarian, Mr. Ortin",
          "Lithman, Mr. Simon",
          "Hellstrom, Miss. Hilda Maria",
          "Cassebeer, Mrs. Henry Arthur Jr (Eleanor Genevieve Fosdick)",
          "Ford, Mr. Edward Watson",
          "Brandeis, Mr. Emil",
          "Kink-Heilmann, Mrs. Anton (Luise Heilmann)",
          "Pearce, Mr. Ernest",
          "Duquemin, Mr. Joseph",
          "Wright, Miss. Marion",
          "Touma, Master. Georges Youssef",
          "Smyth, Miss. Julia",
          "Peacock, Mrs. Benjamin (Edith Nile)",
          "Borebank, Mr. John James",
          "Lundin, Miss. Olga Elida",
          "Bird, Miss. Ellen",
          "Dintcheff, Mr. Valtcho",
          "Lefebre, Mrs. Frank (Frances)",
          "Salander, Mr. Karl Johan",
          "Gracie, Col. Archibald IV",
          "Stanton, Mr. Samuel Ward",
          "Swane, Mr. George",
          "Willer, Mr. Aaron (Abi Weller\")\"",
          "Ryan, Mr. Edward",
          "Buckley, Mr. Daniel",
          "Holthen, Mr. Johan Martin",
          "Thomas, Mrs. Alexander (Thamine Thelma\")\"",
          "Johansson Palmquist, Mr. Oskar Leander",
          "Foley, Mr. William",
          "Weisz, Mr. Leopold",
          "Stengel, Mrs. Charles Emil Henry (Annie May Morris)",
          "Nancarrow, Mr. William Henry",
          "Braf, Miss. Elin Ester Maria",
          "Makinen, Mr. Kalle Edvard",
          "Cavendish, Mrs. Tyrell William (Julia Florence Siegel)",
          "Tenglin, Mr. Gunnar Isidor",
          "Birnbaum, Mr. Jakob",
          "Shine, Miss. Ellen Natalia",
          "Evans, Miss. Edith Corse",
          "Buckley, Miss. Katherine",
          "Carver, Mr. Alfred John",
          "Spinner, Mr. Henry John",
          "Petersen, Mr. Marius",
          "Bowenur, Mr. Solomon",
          "McCoy, Miss. Alicia",
          "Brobeck, Mr. Karl Rudolf",
          "Cribb, Miss. Laura Alice",
          "Kennedy, Mr. John",
          "Schabert, Mrs. Paul (Emma Mock)",
          "Straus, Mrs. Isidor (Rosalie Ida Blun)",
          "Kiernan, Mr. John",
          "Watt, Miss. Bertha J",
          "Chapman, Mrs. John Henry (Sara Elizabeth Lawry)",
          "Beattie, Mr. Thomson",
          "Sandstrom, Miss. Beatrice Irene",
          "Thomas, Mr. John",
          "Chronopoulos, Mr. Demetrios",
          "Dyker, Mr. Adolf Fredrik",
          "Torfa, Mr. Assad",
          "Asplund, Mr. Carl Oscar Vilhelm Gustafsson",
          "Brown, Miss. Edith Eileen",
          "Wiklund, Mr. Karl Johan",
          "Willard, Miss. Constance",
          "Sweet, Mr. George Frederick",
          "Hocking, Mr. Samuel James Metcalfe",
          "Everett, Mr. Thomas James",
          "McNeill, Miss. Bridget",
          "Asplund, Mr. Johan Charles",
          "Moubarek, Mrs. George (Omine Amenia\" Alexander)\"",
          "Candee, Mrs. Edward (Helen Churchill Hungerford)",
          "Karlsson, Mr. Einar Gervasius",
          "Cook, Mrs. (Selena Rogers)",
          "Reynolds, Mr. Harold J",
          "Duran y More, Miss. Florentina",
          "Thomson, Mr. Alexander Morrison",
          "Widener, Mrs. George Dunton (Eleanor Elkins)",
          "Wick, Mr. George Dennick",
          "Mahon, Miss. Bridget Delia",
          "Linehan, Mr. Michael",
          "Cumings, Mr. John Bradley",
          "Vendel, Mr. Olof Edvin",
          "Kenyon, Mr. Frederick R",
          "Clark, Mr. Walter Miller",
          "Abrahamsson, Mr. Abraham August Johannes",
          "West, Miss. Barbara J",
          "Khalil, Mrs. Betros (Zahie Maria\" Elias)\"",
          "Hold, Mrs. Stephen (Annie Margaret Hill)",
          "Drew, Mr. James Vivian",
          "Karnes, Mrs. J Frank (Claire Bennett)",
          "Johnston, Master. William Arthur Willie\"\"",
          "Warren, Mr. Frank Manley",
          "Hyman, Mr. Abraham",
          "Spedden, Mr. Frederic Oakley",
          "Christy, Mrs. (Alice Frances)",
          "Lindstrom, Mrs. Carl Johan (Sigrid Posse)",
          "Douglas, Mrs. Walter Donald (Mahala Dutton)",
          "Hiltunen, Miss. Marta",
          "Baccos, Mr. Raffull",
          "Head, Mr. Christopher",
          "Andersson, Miss. Ida Augusta Margareta",
          "Howard, Mrs. Benjamin (Ellen Truelove Arman)",
          "Douglas, Mrs. Frederick Charles (Mary Helene Baxter)",
          "Salomon, Mr. Abraham L",
          "Angle, Mr. William A",
          "Veal, Mr. James",
          "Sage, Miss. Ada",
          "Davies, Mr. Joseph",
          "Phillips, Miss. Alice Frances Louisa",
          "Maybery, Mr. Frank Hubert",
          "Lane, Mr. Patrick",
          "Lingane, Mr. John",
          "Marvin, Mrs. Daniel Warner (Mary Graham Carmichael Farquarson)",
          "Compton, Mr. Alexander Taylor Jr",
          "McCrie, Mr. James Matthew",
          "Compton, Mrs. Alexander Taylor (Mary Eliza Ingersoll)",
          "Becker, Mrs. Allen Oliver (Nellie E Baumgardner)",
          "Stengel, Mr. Charles Emil Henry",
          "Sincock, Miss. Maude",
          "van Billiard, Master. Walter John",
          "Drew, Master. Marshall Brines",
          "Deacon, Mr. Percy William",
          "Andrew, Mr. Frank Thomas",
          "Finoli, Mr. Luigi",
          "Andersen, Mr. Albert Karvin",
          "Delalic, Mr. Redjo",
          "Rosenbaum, Miss. Edith Louise",
          "Collett, Mr. Sidney C Stuart",
          "McGowan, Miss. Katherine",
          "Omont, Mr. Alfred Fernand",
          "Quick, Miss. Winifred Vera",
          "Karlsson, Mr. Julius Konrad Eugen",
          "Astor, Col. John Jacob",
          "Danbom, Master. Gilbert Sigvard Emanuel",
          "Murphy, Miss. Nora",
          "Rasmussen, Mrs. (Lena Jacobsen Solvang)",
          "Baimbrigge, Mr. Charles Robert",
          "Nilsson, Miss. Berta Olivia",
          "Spedden, Master. Robert Douglas",
          "Hickman, Mr. Leonard Mark",
          "O'Leary, Miss. Hanora \"Norah\"",
          "Cumings, Mrs. John Bradley (Florence Briggs Thayer)",
          "Cohen, Mr. Gurshon \"Gus\"",
          "Green, Mr. George Henry",
          "Bracken, Mr. James H",
          "Sunderland, Mr. Victor Francis",
          "Harris, Mr. Walter",
          "Bazzani, Miss. Albina",
          "Jacobsohn, Mr. Sidney Samuel",
          "Honkanen, Miss. Eliina",
          "Newell, Miss. Madeleine",
          "Kiernan, Mr. Philip",
          "Givard, Mr. Hans Kristensen",
          "Perkin, Mr. John Henry",
          "Cameron, Miss. Clear Annie",
          "Ali, Mr. Ahmed",
          "Blank, Mr. Henry",
          "Carr, Miss. Helen \"Ellen\"",
          "Albimona, Mr. Nassef Cassem",
          "Backstrom, Mr. Karl Alfred",
          "Nenkoff, Mr. Christo",
          "Hoyt, Mr. Frederick Maxfield",
          "Berglund, Mr. Karl Ivar Sven",
          "Harknett, Miss. Alice Phoebe",
          "Coleridge, Mr. Reginald Charles",
          "Murphy, Miss. Katherine \"Kate\"",
          "Zabour, Miss. Thamine",
          "Hunt, Mr. George Henry",
          "Pengelly, Mr. Frederick William",
          "Collyer, Miss. Marjorie \"Lottie\"",
          "Hold, Mr. Stephen",
          "Leyson, Mr. Robert William Norman",
          "Mellors, Mr. William John",
          "Asplund, Miss. Lillian Gertrud",
          "Sjostedt, Mr. Ernst Adolf",
          "Larsson, Mr. Bengt Edvin",
          "Harris, Mrs. Henry Birkhardt (Irene Wallach)",
          "Lefebre, Miss. Mathilde",
          "Fahlstrom, Mr. Arne Jonas",
          "Lovell, Mr. John Hall (\"Henry\")",
          "Strom, Miss. Telma Matilda",
          "Youseff, Mr. Gerious",
          "Attalah, Mr. Sleiman",
          "Johanson, Mr. Jakob Alfred",
          "Pernot, Mr. Rene",
          "Sage, Miss. Constance Gladys",
          "Leonard, Mr. Lionel",
          "Hale, Mr. Reginald",
          "Isham, Miss. Ann Elizabeth",
          "Lefebre, Master. Henry Forbes",
          "Klasen, Mr. Klas Albin",
          "Smith, Mr. James Clinch",
          "Sivola, Mr. Antti Wilhelm",
          "Johnson, Miss. Eleanor Ileen",
          "Rice, Master. Arthur",
          "Van der hoef, Mr. Wyckoff",
          "Ling, Mr. Lee",
          "Baumann, Mr. John D",
          "Skoog, Mrs. William (Anna Bernhardina Karlsson)",
          "Chibnall, Mrs. (Edith Martha Bowerman)",
          "Goldsmith, Master. Frank John William \"Frankie\"",
          "Asplund, Master. Clarence Gustaf Hugo",
          "Becker, Master. Richard F",
          "Kink-Heilmann, Miss. Luise Gretchen",
          "Brown, Mrs. James Joseph (Margaret Tobin)",
          "Sage, Mr. Frederick",
          "Vande Walle, Mr. Nestor Cyriel",
          "Yrois, Miss. Henriette (\"Mrs Harbeck\")",
          "Madigan, Miss. Margaret \"Maggie\"",
          "Olsen, Mr. Karl Siegwart Andreas",
          "Mernagh, Mr. Robert",
          "Lurette, Miss. Elise",
          "Navratil, Master. Michel M",
          "Rood, Mr. Hugh Roscoe",
          "Andersen-Jensen, Miss. Carla Christine Nielsine",
          "Carbines, Mr. William",
          "Pinsky, Mrs. (Rosa)",
          "Turcin, Mr. Stjepan",
          "Bourke, Mr. John",
          "Romaine, Mr. Charles Hallace (\"Mr C Rolmane\")",
          "O'Brien, Mrs. Thomas (Johanna \"Hannah\" Godfrey)",
          "Maenpaa, Mr. Matti Alexanteri",
          "Minahan, Dr. William Edward",
          "Kalvik, Mr. Johannes Halvorsen",
          "de Mulder, Mr. Theodore",
          "Allison, Master. Hudson Trevor",
          "Williams, Mr. Howard Hugh \"Harry\"",
          "Keane, Miss. Nora A",
          "Johnson, Mr. William Cahoone Jr",
          "McCoy, Mr. Bernard",
          "Kelly, Miss. Anna Katherine \"Annie Kate\"",
          "Baxter, Mrs. James (Helene DeLaudeniere Chaput)",
          "Saalfeld, Mr. Adolphe",
          "Allison, Miss. Helen Loraine",
          "Hanna, Mr. Mansour",
          "Lewy, Mr. Ervin G",
          "Mineff, Mr. Ivan",
          "Haas, Miss. Aloisia",
          "Levy, Mr. Rene Jacques",
          "Bishop, Mrs. Dickinson H (Helen Walton)",
          "Barber, Miss. Ellen \"Nellie\"",
          "Hosono, Mr. Masabumi",
          "Fleming, Miss. Margaret",
          "Penasco y Castellana, Mrs. Victor de Satode (Maria Josefa Perez de Soto y Vallejo)",
          "Abelson, Mr. Samuel",
          "Wick, Miss. Mary Natalie",
          "Young, Miss. Marie Grice",
          "Sage, Mr. George John Jr",
          "Caldwell, Mrs. Albert Francis (Sylvia Mae Harbaugh)",
          "Slayter, Miss. Hilda Mary",
          "Danoff, Mr. Yoto",
          "Dennis, Mr. Samuel",
          "Spedden, Mrs. Frederic Oakley (Margaretta Corning Stone)",
          "Moraweck, Dr. Ernest",
          "Francatelli, Miss. Laura Mabel",
          "Kantor, Mrs. Sinai (Miriam Sternin)",
          "Nilsson, Miss. Helmina Josefina",
          "Hart, Mr. Benjamin",
          "Hendekovic, Mr. Ignjac",
          "Lahtinen, Mrs. William (Anna Sylfven)",
          "Ryerson, Miss. Emily Borie",
          "Hays, Miss. Margaret Bechstein",
          "Naidenoff, Mr. Penko",
          "Stankovic, Mr. Ivan",
          "Lindahl, Miss. Agda Thorilda Viktoria",
          "Smith, Mr. Richard William",
          "Harrison, Mr. William",
          "Taussig, Mr. Emil",
          "Asplund, Master. Edvin Rojj Felix",
          "Smith, Mr. Thomas",
          "Parrish, Mrs. (Lutie Davis)",
          "Ward, Miss. Anna",
          "Cherry, Miss. Gladys",
          "Thorne, Mrs. Gertrude Maybelle",
          "Touma, Mrs. Darwis (Hanne Youssef Razi)",
          "Rosblom, Mrs. Viktor (Helena Wilhelmina)",
          "Lobb, Mr. William Arthur",
          "Stead, Mr. William Thomas",
          "Strom, Mrs. Wilhelm (Elna Matilda Persson)",
          "Reed, Mr. James George",
          "Carter, Rev. Ernest Courtenay",
          "Beckwith, Mr. Richard Leonard",
          "Hamalainen, Mrs. William (Anna)",
          "Henry, Miss. Delia",
          "Reeves, Mr. David",
          "Panula, Mr. Ernesti Arvid",
          "Lindblom, Miss. Augusta Charlotta",
          "Dorking, Mr. Edward Arthur",
          "de Pelsmaeker, Mr. Alfons",
          "Olsson, Mr. Nils Johan Goransson",
          "Duane, Mr. Frank",
          "Abbott, Mrs. Stanton (Rosa Hunt)",
          "Rice, Master. Eric",
          "Parkes, Mr. Francis \"Frank\"",
          "Andrews, Miss. Kornelia Theodosia",
          "Persson, Mr. Ernst Ulrik",
          "Healy, Miss. Hanora \"Nora\"",
          "Natsch, Mr. Charles H",
          "Mellinger, Mrs. (Elizabeth Anne Maidment)",
          "Tornquist, Mr. William Henry",
          "Cairns, Mr. Alexander",
          "Bissette, Miss. Amelia",
          "Graham, Mrs. William Thompson (Edith Junkins)",
          "Panula, Master. Eino Viljami",
          "Calic, Mr. Jovo",
          "Bengtsson, Mr. John Viktor",
          "Turpin, Mrs. William John Robert (Dorothy Ann Wonnacott)",
          "Goodwin, Master. William Frederick",
          "West, Miss. Constance Mirium",
          "Novel, Mr. Mansouer",
          "Rugg, Miss. Emily",
          "Woolner, Mr. Hugh",
          "Ostby, Mr. Engelhart Cornelius",
          "Faunthorpe, Mrs. Lizzie (Elizabeth Anne Wilkinson)",
          "Harper, Mrs. Henry Sleeper (Myna Haxtun)",
          "Nosworthy, Mr. Richard Cater",
          "Panula, Master. Juha Niilo",
          "Arnold-Franchi, Mrs. Josef (Josefine Franchi)",
          "Samaan, Mr. Youssef",
          "O'Driscoll, Miss. Bridget",
          "Lennon, Mr. Denis",
          "Rogers, Mr. William John",
          "Devaney, Miss. Margaret Delia",
          "Laroche, Miss. Simonne Marie Anne Andree",
          "Sirayanian, Mr. Orsen",
          "Icard, Miss. Amelie",
          "Harris, Mr. Henry Birkhardt",
          "Hood, Mr. Ambrose Jr",
          "Dowdell, Miss. Elizabeth",
          "Caldwell, Master. Alden Gates",
          "Moutal, Mr. Rahamin Haim",
          "Staneff, Mr. Ivan",
          "Moen, Mr. Sigurd Hansen",
          "Bing, Mr. Lee",
          "Chronopoulos, Mr. Apostolos",
          "Goodwin, Miss. Lillian Amy",
          "Skoog, Master. Harald",
          "Jenkin, Mr. Stephen Curnow",
          "Kink, Mr. Vincenz",
          "Andersson, Miss. Erna Alexandra",
          "Crease, Mr. Ernest James",
          "Nye, Mrs. (Elizabeth Ramell)",
          "Moubarek, Master. Gerios",
          "Stewart, Mr. Albert A",
          "Kraeff, Mr. Theodor",
          "Ahlin, Mrs. Johan (Johanna Persdotter Larsson)",
          "Watt, Mrs. James (Elizabeth \"Bessie\" Inglis Milne)",
          "Nicola-Yarred, Miss. Jamila",
          "Vander Planke, Mrs. Julius (Emelia Maria Vandemoortele)",
          "Williams, Mr. Charles Eugene",
          "Rice, Master. Eugene",
          "Hewlett, Mrs. (Mary D Kingcome) ",
          "Vestrom, Miss. Hulda Amanda Adolfina",
          "Andersson, Mr. Anders Johan",
          "Saundercock, Mr. William Henry",
          "Bonnell, Miss. Elizabeth",
          "Sandstrom, Miss. Marguerite Rut",
          "Nasser, Mrs. Nicholas (Adele Achem)",
          "Johnson, Mrs. Oscar W (Elisabeth Vilhelmina Berg)",
          "Palsson, Master. Gosta Leonard",
          "McCarthy, Mr. Timothy J",
          "Moran, Mr. James",
          "Allen, Mr. William Henry",
          "Futrelle, Mrs. Jacques Heath (Lily May Peel)",
          "Heikkinen, Miss. Laina",
          "Masselmani, Mrs. Fatima",
          "Fynney, Mr. Joseph J",
          "Beesley, Mr. Lawrence",
          "Spencer, Mrs. William Augustus (Marie Eugenie)",
          "Vander Planke, Miss. Augusta Maria",
          "Cann, Mr. Ernest Charles",
          "Mamee, Mr. Hanna",
          "Holverson, Mr. Alexander Oskar",
          "Meyer, Mr. Edgar Joseph",
          "Wheadon, Mr. Edward H",
          "Glynn, Miss. Mary Agatha",
          "Uruchurtu, Don. Manuel E",
          "McGowan, Miss. Anna \"Annie\"",
          "Todoroff, Mr. Lalio",
          "O'Dwyer, Miss. Ellen \"Nellie\"",
          "Fortune, Mr. Charles Alexander",
          "Emir, Mr. Farred Chehab",
          "Asplund, Mrs. Carl Oscar (Selma Augusta Emilia Johansson)",
          "Palsson, Miss. Torborg Danira",
          "Sloper, Mr. William Thompson",
          "Waelens, Mr. Achille",
          "Sheerlinck, Mr. Jan Baptist",
          "McDermott, Miss. Brigdet Delia",
          "Carrau, Mr. Francisco M",
          "Boulos, Mrs. Joseph (Sultana)",
          "Giglio, Mr. Victor",
          "Osen, Mr. Olaf Elon",
          "Futrelle, Mr. Jacques Heath",
          "Newsom, Miss. Helen Monypeny",
          "Richard, Mr. Emile",
          "Sobey, Mr. Samuel James Hayden",
          "Weisz, Mrs. Leopold (Mathilde Francoise Pede)",
          "Robins, Mrs. Alexander A (Grace Charity Laury)",
          "Coelho, Mr. Domingos Fernandeo",
          "Drazenoic, Mr. Jozef",
          "Ekstrom, Mr. Johan",
          "Peter, Miss. Anna",
          "Madsen, Mr. Fridtjof Arne",
          "McMahon, Mr. Martin",
          "Nicola-Yarred, Master. Elias",
          "White, Mr. Percival Wayland",
          "Nysten, Miss. Anna Sofia",
          "Hakkarainen, Mrs. Pekka Pietari (Elin Matilda Dolck)",
          "Burke, Mr. Jeremiah",
          "van Billiard, Mr. Austin Blyler",
          "Cribb, Mr. John Hatfield",
          "Sage, Master. Thomas Henry",
          "Smiljanic, Mr. Mile",
          "Corn, Mr. Harry",
          "Gilnagh, Miss. Katherine \"Katie\"",
          "Williams, Mr. Charles Duane",
          "Olsen, Mr. Ole Martin",
          "Meo, Mr. Alfonzo",
          "Andrew, Mr. Edgardo Samuel",
          "Pears, Mrs. Thomas (Edith Wearne)",
          "Bateman, Rev. Robert James",
          "Byles, Rev. Thomas Roussel Davids",
          "Navratil, Mr. Michel (\"Louis M Hoffman\")",
          "Ford, Miss. Robina Maggie \"Ruby\"",
          "Andersson, Mr. August Edvard (\"Wennerstrom\")",
          "Nicholls, Mr. Joseph Charles",
          "Webber, Miss. Susan",
          "Nasser, Mr. Nicholas",
          "Moore, Mr. Leonard Charles",
          "Chaffee, Mr. Herbert Fuller",
          "Kantor, Mr. Sinai",
          "Doling, Mrs. John T (Ada Julia Bone)",
          "Greenfield, Mr. William Bertram",
          "Goldschmidt, Mr. George B",
          "Shorney, Mr. Charles Joseph",
          "Coxon, Mr. Daniel",
          "Dean, Mr. Bertram Frank",
          "Andreasson, Mr. Paul Edvin",
          "Petroff, Mr. Pastcho (\"Pentcho\")",
          "Christmann, Mr. Emil",
          "Celotti, Mr. Francesco",
          "Fortune, Miss. Mabel Helen",
          "Slocovski, Mr. Selman Francis",
          "Ford, Mr. William Neal",
          "Backstrom, Mrs. Karl Alfred (Maria Mathilda Gustafsson)",
          "Ilett, Miss. Bertha",
          "Petranec, Miss. Matilda",
          "White, Mr. Richard Frasar",
          "Hickman, Mr. Stanley George",
          "Barton, Mr. David John",
          "Andersson, Miss. Ellis Anna Maria",
          "Baxter, Mr. Quigg Edmond",
          "Turpin, Mr. William John Robert",
          "Connors, Mr. Patrick",
          "Pekoniemi, Mr. Edvard",
          "Attalah, Miss. Malake",
          "Jussila, Miss. Katriina",
          "Zabour, Miss. Hileni",
          "Johansson, Mr. Gustaf Joel",
          "Porter, Mr. Walter Chamberlain",
          "Moran, Miss. Bertha",
          "Rekic, Mr. Tido",
          "Moss, Mr. Albert Johan",
          "Salkjelsvik, Miss. Anna Kristine",
          "Mionoff, Mr. Stoytcho",
          "Gustafsson, Mr. Anders Vilhelm",
          "Nysveen, Mr. Johan Hansen",
          "Ball, Mrs. (Ada E Hall)",
          "Goldsmith, Mrs. Frank John (Emily Alice Brown)",
          "Elias, Mr. Joseph Jr",
          "Thayer, Mr. John Borland Jr",
          "Davies, Master. John Morgan Jr",
          "Goldsmith, Mr. Frank John",
          "Padro y Manent, Mr. Julian",
          "Beane, Mrs. Edward (Ethel Clarke)",
          "Nicholson, Mr. Arthur Ernest",
          "Douglas, Mr. Walter Donald",
          "Beane, Mr. Edward",
          "Andersson, Miss. Sigrid Elisabeth",
          "Andersson, Miss. Ingeborg Constanzia",
          "Crosby, Miss. Harriet R",
          "Frolicher, Miss. Hedwig Margaritha",
          "Risien, Mr. Samuel Beard",
          "LeRoy, Miss. Bertha",
          "Butt, Major. Archibald Willingham",
          "Hart, Miss. Eva Miriam",
          "Cacic, Miss. Marija",
          "Sharp, Mr. Percival James R",
          "O'Brien, Mr. Timothy",
          "Leeni, Mr. Fahim (\"Philip Zenni\")",
          "Simmons, Mr. John",
          "Harris, Mr. George",
          "Jonsson, Mr. Carl",
          "Doharr, Mr. Tannous",
          "Palsson, Mrs. Nils (Alma Cornelia Berglund)",
          "Stoytcheff, Mr. Ilia",
          "Davies, Mr. Alfred J",
          "Meanwell, Miss. (Marion Ogden)",
          "Norman, Mr. Robert Douglas",
          "Ohman, Miss. Velin",
          "Sivic, Mr. Husein",
          "Morrow, Mr. Thomas Rowan",
          "de Messemaeker, Mrs. Guillaume Joseph (Emma)",
          "Taussig, Mrs. Emil (Tillie Mandelbaum)",
          "Robbins, Mr. Victor",
          "Duff Gordon, Lady. (Lucille Christiana Sutherland) (\"Mrs Morgan\")",
          "Wright, Mr. George",
          "Peter, Mrs. Catherine (Catherine Rizk)",
          "Toufik, Mr. Nakli",
          "Windelov, Mr. Einar",
          "Quick, Miss. Phyllis May",
          "Lang, Mr. Fang",
          "Olsen, Mr. Henry Margido",
          "Bradley, Mr. George (\"George Arthur Brayton\")",
          "Quick, Mrs. Frederick Charles (Jane Richards)",
          "Penasco y Castellana, Mr. Victor de Satode",
          "Maioni, Miss. Roberta",
          "Laitinen, Miss. Kristina Sofia",
          "O'Sullivan, Miss. Bridget Mary",
          "Canavan, Miss. Mary",
          "Calic, Mr. Petar",
          "Svensson, Mr. Olof",
          "Allison, Mrs. Hudson J C (Bessie Waldo Daniels)",
          "Shellard, Mr. Frederick William",
          "Eustis, Miss. Elizabeth Mussey",
          "Yousseff, Mr. Gerious",
          "Stanley, Mr. Edward Roland",
          "Artagaveytia, Mr. Ramon",
          "Daly, Mr. Eugene Patrick",
          "Webber, Mr. James",
          "McGough, Mr. James Robert",
          "Lahoud, Mr. Sarkis",
          "Hocking, Mr. Richard George",
          "Salonen, Mr. Johan Werner",
          "Farthing, Mr. John",
          "Ridsdale, Miss. Lucy",
          "Farrell, Mr. James",
          "Kassem, Mr. Fared",
          "Hippach, Mrs. Louis Albert (Ida Sophia Fischer)",
          "Vovk, Mr. Janko",
          "Rothschild, Mrs. Martin (Elizabeth L. Barrett)",
          "Perreault, Miss. Anne",
          "Pavlovic, Mr. Stefo",
          "Angle, Mrs. William A (Florence \"Mary\" Agnes Hughes)",
          "Ryan, Mr. Patrick",
          "Lemore, Mrs. (Amelia Milley)",
          "Walker, Mr. William Anderson",
          "Coleff, Mr. Satio",
          "Appleton, Mrs. Edward Dale (Charlotte Lamson)",
          "Flynn, Mr. John Irwin (\"Irving\")",
          "Kelly, Miss. Mary",
          "Rush, Mr. Alfred George John",
          "Lundahl, Mr. Johan Svensson",
          "Barkworth, Mr. Algernon Henry Wilson",
          "O'Connell, Mr. Patrick D",
          "Bostandyeff, Mr. Guentcho",
          "Longley, Miss. Gretchen Fiske",
          "Kirkland, Rev. Charles Leonard",
          "Sutton, Mr. Frederick",
          "Bowen, Mr. David John \"Dai\"",
          "Hansen, Mr. Henry Damsgaard",
          "Nakid, Mr. Sahid",
          "Kimball, Mr. Edwin Nelson Jr",
          "Yasbeck, Mr. Antoni",
          "Gavey, Mr. Lawrence",
          "Becker, Miss. Marion Louise",
          "Lobb, Mrs. William Arthur (Cordelia K Stanlick)",
          "Danbom, Mr. Ernst Gilbert",
          "Herman, Miss. Alice",
          "Stahelin-Maeglin, Dr. Max",
          "Parr, Mr. William Henry Marsh",
          "Skoog, Miss. Mabel",
          "Baclini, Miss. Eugenie",
          "Doling, Miss. Elsie",
          "Mitkoff, Mr. Mito",
          "Stanley, Miss. Amy Zillah Elsie",
          "Willey, Mr. Edward",
          "Simonius-Blumer, Col. Oberst Alfons",
          "Cor, Mr. Liudevit",
          "Harper, Mr. Henry Sleeper",
          "Foo, Mr. Choong",
          "Davis, Miss. Mary",
          "Skoog, Miss. Margit Elizabeth",
          "Sagesser, Mlle. Emma",
          "Jensen, Mr. Hans Peder",
          "Thorneycroft, Mr. Percival",
          "Panula, Mrs. Juha (Maria Emilia Ojala)",
          "Collyer, Mr. Harvey",
          "Leinonen, Mr. Antti Gustaf",
          "Brocklebank, Mr. William Alfred",
          "Horgan, Mr. John",
          "Murphy, Miss. Margaret Jane",
          "Ross, Mr. John Hugo",
          "Rintamaki, Mr. Matti",
          "Murdlin, Mr. Joseph",
          "Gilinski, Mr. Eliezer",
          "Frolicher-Stehli, Mr. Maxmillian",
          "Jarvis, Mr. John Denzil",
          "Taussig, Miss. Ruth",
          "Paulner, Mr. Uscher",
          "Downton, Mr. William James",
          "Elsbury, Mr. William James",
          "Thayer, Mrs. John Borland (Marian Longstreth Morris)",
          "Christy, Miss. Julie Rachel",
          "Jussila, Mr. Eiriik",
          "Caram, Mrs. Joseph (Maria Elias)",
          "Silvey, Mrs. William Baird (Alice Munger)",
          "Garside, Miss. Ethel",
          "Patchett, Mr. George",
          "Stephenson, Mrs. Walter Bertram (Martha Eustis)",
          "Bourke, Miss. Mary",
          "Jardin, Mr. Jose Neto",
          "Torber, Mr. Ernst William",
          "Andersson, Mrs. Anders Johan (Alfrida Konstantia Brogren)",
          "Shutes, Miss. Elizabeth W",
          "Laroche, Mrs. Joseph (Juliette Marie Louise Lafargue)",
          "Daniel, Mr. Robert Williams",
          "Karaic, Mr. Milan",
          "Lindell, Mr. Edvard Bengtsson",
          "Homer, Mr. Harry (\"Mr E Haven\")",
          "Harrington, Mr. Charles H",
          "Chapman, Mr. John Henry",
          "Slabenoff, Mr. Petco",
          "Jacobsohn, Mrs. Sidney Samuel (Amy Frances Christy)",
          "Duff Gordon, Sir. Cosmo Edmund (\"Mr Morgan\")",
          "Boulos, Mr. Hanna",
          "Johnson, Mr. Alfred",
          "Leitch, Miss. Jessie Wills",
          "Van Impe, Mr. Jean Baptiste",
          "Molson, Mr. Harry Markland",
          "Hagland, Mr. Konrad Mathias Reiersen",
          "Hippach, Miss. Jean Gertrude",
          "Aubart, Mme. Leontine Pauline",
          "Buss, Miss. Kate",
          "Goodwin, Master. Sidney Leonard",
          "Davies, Mr. Charles Henry",
          "Plotcharsky, Mr. Vasil",
          "Holverson, Mrs. Alexander Oskar (Mary Aline Towner)",
          "Tikkanen, Mr. Juho",
          "Nakid, Miss. Maria (\"Mary\")",
          "Bidois, Miss. Rosalie",
          "Gustafsson, Mr. Karl Gideon",
          "Betros, Mr. Tannous",
          "Widener, Mr. Harry Elkins",
          "Landergren, Miss. Aurora Adelia",
          "Meyer, Mrs. Edgar Joseph (Leila Saks)",
          "Palsson, Miss. Stina Viola",
          "Ringhini, Mr. Sante",
          "Beavan, Mr. William Thomas",
          "Wiklund, Mr. Jakob Alfred",
          "Sadlier, Mr. Matthew",
          "Lehmann, Miss. Bertha",
          "Carter, Mr. William Ernest",
          "Niskanen, Mr. Juha",
          "Richards, Master. William Rowe",
          "Widegren, Mr. Carl/Charles Peter",
          "Gale, Mr. Shadrach",
          "Oreskovic, Miss. Marija",
          "Hakkarainen, Mr. Pekka Pietari",
          "Jussila, Miss. Mari Aina",
          "Adams, Mr. John",
          "Trout, Mrs. William H (Jessie L)",
          "Jansson, Mr. Carl Olof",
          "Pain, Dr. Alfred",
          "McKane, Mr. Peter David",
          "Olsson, Miss. Elina",
          "Johansson, Mr. Erik",
          "Sandstrom, Mrs. Hjalmar (Agnes Charlotta Bengtsson)",
          "Newell, Miss. Marjorie",
          "Gustafsson, Mr. Johan Birger",
          "Harder, Mr. George Achilles",
          "Jermyn, Miss. Annie",
          "Coutts, Master. Eden Leslie \"Neville\"",
          "Moussa, Mrs. (Mantoura Boulos)",
          "Smith, Miss. Marion Elsie",
          "Brown, Miss. Amelia \"Mildred\"",
          "Fox, Mr. Stanley Hubert",
          "Sedgwick, Mr. Charles Frederick Waddington",
          "Collander, Mr. Erik Gustaf",
          "Fortune, Miss. Alice Elizabeth",
          "Navratil, Master. Edmond Roger",
          "Blackwell, Mr. Stephen Weart",
          "Dahl, Mr. Karl Edwart",
          "Burns, Miss. Elizabeth Margaret",
          "Pears, Mr. Thomas Clinton",
          "Denkoff, Mr. Mitto",
          "Frauenthal, Mrs. Henry William (Clara Heinsheimer)",
          "Vander Planke, Mr. Leo Edmondus",
          "Graham, Mr. George Edward",
          "Partner, Mr. Austen",
          "McCoy, Miss. Agnes",
          "Davison, Mrs. Thomas Henry (Mary E Finck)",
          "Coutts, Master. William Loch \"William\"",
          "Dimic, Mr. Jovan",
          "Mockler, Miss. Helen Mary \"Ellie\"",
          "Warren, Mrs. Frank Manley (Anna Sophia Atkinson)",
          "Adahl, Mr. Mauritz Nils Martin",
          "O'Brien, Mr. Thomas",
          "Asim, Mr. Adola",
          "Barbara, Mrs. (Catherine David)",
          "del Carlo, Mr. Sebastiano",
          "Skoog, Mr. Wilhelm",
          "McGovern, Miss. Mary",
          "Odahl, Mr. Nils Martin",
          "Funk, Miss. Annie Clemmer",
          "Bowerman, Miss. Elsie Edith",
          "Vanden Steen, Mr. Leo Peter",
          "Yousif, Mr. Wazli",
          "Arnold-Franchi, Mr. Josef",
          "Elias, Mr. Tannous",
          "Williams-Lambert, Mr. Fletcher Fellows",
          "Birkeland, Mr. Hans Martin Monsen",
          "Lefebre, Miss. Ida",
          "Sdycoff, Mr. Todor",
          "Hart, Mr. Henry",
          "Scanlan, Mr. James",
          "Smart, Mr. John Montgomery",
          "Campbell, Mr. William",
          "Goncalves, Mr. Manuel Estanslas",
          "Maisner, Mr. Simon",
          "Milling, Mr. Jacob Christian",
          "Gee, Mr. Arthur H",
          "Morley, Mr. William",
          "Anderson, Mr. Harry",
          "O'Connor, Mr. Maurice",
          "Toomey, Miss. Ellen",
          "Kenyon, Mrs. Frederick R (Marion)",
          "Millet, Mr. Francis Davis",
          "Jalsevac, Mr. Ivan",
          "Peduzzi, Mr. Joseph",
          "Goldenberg, Mr. Samuel L",
          "Foreman, Mr. Benjamin Laventall",
          "Baclini, Miss. Helene Barbara",
          "Keefe, Mr. Arthur",
          "Cacic, Mr. Luka",
          "Frost, Mr. Anthony Wood \"Archie\"",
          "Somerton, Mr. Francis William",
          "Kent, Mr. Edward Austin",
          "Hoyt, Mrs. Frederick Maxfield (Jane Anne Forby)",
          "Lefebre, Miss. Jeannie",
          "Bishop, Mr. Dickinson H",
          "Turkula, Mrs. (Hedwig)",
          "Rouse, Mr. Richard Henry",
          "Goodwin, Master. Harold Victor",
          "West, Mrs. Edwy Arthur (Ada Mary Worth)",
          "Hirvonen, Miss. Hildur E",
          "Karlsson, Mr. Nils August",
          "Braund, Mr. Lewis Richard",
          "Renouf, Mr. Peter Henry",
          "Clifford, Mr. George Quincy",
          "Strandberg, Miss. Ida Sofia",
          "Jerwan, Mrs. Amin S (Marie Marthe Thuillard)",
          "Hagland, Mr. Ingvald Olai Olsen",
          "West, Mr. Edwy Arthur",
          "Peuchen, Major. Arthur Godfrey",
          "Gheorgheff, Mr. Stanio",
          "Phillips, Miss. Kate Florence (\"Mrs Kate Louise Phillips Marshall\")",
          "Clarke, Mrs. Charles V (Ada Maria Winfield)",
          "Wiseman, Mr. Phillippe",
          "Rosblom, Mr. Viktor Richard",
          "Danbom, Mrs. Ernst Gilbert (Anna Sigrid Maria Brogren)",
          "Zimmerman, Mr. Leo",
          "Charters, Mr. David",
          "Van Impe, Miss. Catharina",
          "Pickard, Mr. Berk (Berk Trembisky)",
          "Matthews, Mr. William John",
          "Silven, Miss. Lyyli Karoliina",
          "Drew, Mrs. James Vivian (Lulu Thorne Christian)",
          "Meek, Mrs. Thomas (Annie Louise Rowley)",
          "Sundman, Mr. Johan Julian",
          "Cunningham, Mr. Alfred Fleming",
          "Minahan, Miss. Daisy E",
          "Flynn, Mr. James",
          "Bjornstrom-Steffansson, Mr. Mauritz Hakan",
          "Baclini, Miss. Marie Catherine",
          "Hart, Mrs. Benjamin (Esther Ada Bloomfield)",
          "Seward, Mr. Frederic Kimber",
          "Mellinger, Miss. Madeleine Violet",
          "Dodge, Master. Washington",
          "Johannesen-Bratthammer, Mr. Bernt",
          "Reynaldo, Ms. Encarnacion",
          "Petterson, Mr. Johan Emil",
          "Hampe, Mr. Leon",
          "Kvillner, Mr. Johan Henrik Johannesson",
          "Thorneycroft, Mrs. Percival (Florence Kate White)",
          "Fortune, Mr. Mark",
          "Richards, Mrs. Sidney (Emily Hocking)",
          "Ford, Miss. Doolina Margaret \"Daisy\"",
          "Carter, Miss. Lucile Polk",
          "Silvey, Mr. William Baird",
          "Kallio, Mr. Nikolai Erland",
          "Louch, Mrs. Charles Alexander (Alice Adelaide Slow)",
          "Peter, Master. Michael J"
         ],
         "xaxis": "x",
         "y": [
          2,
          2,
          1,
          1,
          1,
          1,
          1,
          1,
          1,
          1,
          1,
          1,
          1,
          1,
          1,
          1,
          1,
          1,
          1,
          1,
          1,
          1,
          1,
          1,
          1,
          1,
          1,
          1,
          1,
          1,
          1,
          1,
          1,
          1,
          1,
          1,
          1,
          1,
          1,
          1,
          1,
          1,
          1,
          1,
          1,
          1,
          1,
          1,
          1,
          1,
          1,
          1,
          1,
          1,
          1,
          1,
          1,
          1,
          1,
          1,
          1,
          1,
          1,
          1,
          1,
          1,
          1,
          1,
          1,
          1,
          1,
          1,
          1,
          1,
          1,
          1,
          1,
          1,
          1,
          1,
          1,
          1,
          1,
          1,
          1,
          1,
          1,
          1,
          1,
          1,
          1,
          1,
          1,
          1,
          1,
          1,
          1,
          1,
          1,
          1,
          1,
          1,
          1,
          1,
          1,
          1,
          1,
          1,
          1,
          1,
          1,
          1,
          1,
          1,
          1,
          1,
          1,
          1,
          1,
          1,
          1,
          1,
          1,
          1,
          1,
          1,
          1,
          1,
          1,
          1,
          1,
          1,
          1,
          1,
          1,
          1,
          1,
          1,
          1,
          1,
          1,
          1,
          1,
          1,
          1,
          1,
          1,
          1,
          1,
          1,
          1,
          1,
          1,
          1,
          1,
          1,
          1,
          1,
          1,
          1,
          1,
          1,
          1,
          1,
          1,
          1,
          1,
          1,
          1,
          1,
          1,
          1,
          1,
          1,
          1,
          1,
          1,
          1,
          1,
          1,
          1,
          1,
          1,
          1,
          1,
          1,
          1,
          1,
          1,
          1,
          1,
          1,
          1,
          1,
          1,
          1,
          1,
          1,
          1,
          1,
          1,
          1,
          1,
          1,
          1,
          1,
          1,
          1,
          1,
          1,
          1,
          1,
          1,
          1,
          1,
          1,
          1,
          1,
          1,
          1,
          1,
          1,
          1,
          1,
          1,
          1,
          1,
          1,
          1,
          1,
          1,
          1,
          1,
          1,
          1,
          1,
          1,
          1,
          1,
          1,
          1,
          1,
          1,
          1,
          1,
          1,
          1,
          1,
          1,
          1,
          1,
          1,
          1,
          1,
          1,
          1,
          1,
          1,
          1,
          1,
          1,
          1,
          1,
          1,
          1,
          1,
          1,
          1,
          1,
          1,
          1,
          1,
          1,
          1,
          1,
          1,
          1,
          1,
          1,
          1,
          1,
          1,
          1,
          1,
          1,
          1,
          1,
          1,
          1,
          1,
          1,
          1,
          1,
          1,
          1,
          1,
          1,
          1,
          1,
          1,
          1,
          1,
          1,
          1,
          1,
          1,
          1,
          1,
          1,
          1,
          1,
          1,
          1,
          1,
          1,
          1,
          1,
          1,
          1,
          1,
          1,
          1,
          1,
          1,
          1,
          1,
          1,
          1,
          1,
          1,
          1,
          1,
          1,
          1,
          1,
          1,
          1,
          1,
          1,
          1,
          1,
          1,
          1,
          1,
          1,
          1,
          1,
          1,
          1,
          1,
          1,
          1,
          1,
          1,
          1,
          1,
          1,
          1,
          1,
          1,
          1,
          1,
          1,
          1,
          1,
          1,
          1,
          1,
          1,
          1,
          1,
          1,
          1,
          1,
          1,
          1,
          1,
          1,
          1,
          1,
          1,
          1,
          1,
          1,
          1,
          1,
          1,
          1,
          1,
          1,
          1,
          1,
          1,
          1,
          1,
          1,
          1,
          1,
          1,
          1,
          1,
          1,
          1,
          1,
          1,
          1,
          1,
          1,
          1,
          1,
          1,
          1,
          1,
          1,
          1,
          1,
          1,
          1,
          1,
          1,
          1,
          1,
          1,
          1,
          1,
          1,
          1,
          1,
          1,
          1,
          1,
          1,
          1,
          1,
          1,
          1,
          1,
          1,
          1,
          1,
          1,
          1,
          1,
          1,
          1,
          1,
          1,
          1,
          1,
          1,
          1,
          1,
          1,
          1,
          1,
          1,
          1,
          1,
          1,
          1,
          1,
          1,
          1,
          1,
          1,
          1,
          1,
          1,
          1,
          1,
          1,
          1,
          1,
          1,
          1,
          1,
          1,
          1,
          1,
          1,
          1,
          1,
          1,
          1,
          1,
          1,
          1,
          1,
          1,
          1,
          1,
          1,
          1,
          1,
          1,
          1,
          1,
          1,
          1,
          1,
          1,
          1,
          1,
          1,
          1,
          1,
          1,
          1,
          1,
          1,
          1,
          1,
          1,
          1,
          1,
          1,
          1,
          1,
          1,
          1,
          1,
          1,
          1,
          1,
          1,
          1,
          1,
          1,
          1,
          1,
          1,
          1,
          1,
          1,
          1,
          1,
          1,
          1,
          1,
          1,
          1,
          1,
          1,
          1,
          1,
          1,
          1,
          1,
          1,
          1,
          1,
          1,
          1,
          1,
          1,
          1,
          1,
          1,
          1,
          1,
          1,
          1,
          1,
          1,
          1,
          1,
          1,
          1,
          1,
          1,
          1,
          1,
          1,
          1,
          1,
          1,
          1,
          1,
          1,
          1,
          1,
          1,
          1,
          1,
          1,
          1,
          1,
          1,
          1,
          1,
          1,
          1,
          1,
          1,
          1,
          1,
          1,
          1,
          1,
          1,
          1,
          1,
          1,
          1,
          1,
          1,
          1,
          1,
          1,
          1,
          1,
          1,
          1,
          1,
          1,
          1,
          1,
          1,
          1,
          1,
          1,
          1,
          1,
          1,
          1,
          1,
          1,
          1,
          1,
          1,
          1,
          1,
          1,
          1,
          1,
          1,
          1,
          1,
          1,
          1,
          1,
          1,
          1,
          1,
          1,
          1,
          1,
          1,
          1,
          1,
          1,
          1,
          1,
          1,
          1,
          1,
          1,
          1,
          1,
          1,
          1,
          1,
          1,
          1,
          1,
          1,
          1,
          1,
          1,
          1,
          1,
          1,
          1,
          1,
          1,
          1,
          1,
          1,
          1,
          1,
          1,
          1,
          1,
          1,
          1,
          1,
          1,
          1,
          1,
          1,
          1,
          1,
          1,
          1,
          1,
          1,
          1,
          1,
          1,
          1,
          1,
          1,
          1,
          1,
          1,
          1,
          1,
          1,
          1,
          1,
          1,
          1,
          1,
          1,
          1,
          1,
          1,
          1,
          1,
          1,
          1,
          1,
          1,
          1,
          1,
          1,
          1,
          1,
          1,
          1,
          1,
          1,
          1,
          1,
          1,
          1,
          1,
          1,
          1,
          1,
          1,
          1,
          1,
          1,
          1,
          1,
          1,
          1,
          1,
          1,
          1,
          1,
          1,
          1,
          1,
          1,
          1,
          1,
          1,
          1,
          1,
          1,
          1,
          1,
          1,
          1,
          1,
          1,
          1,
          1,
          1,
          1,
          1,
          1,
          1,
          1,
          1,
          1,
          1,
          1,
          1,
          1,
          1,
          1,
          1,
          1,
          1,
          1,
          1,
          1,
          1,
          1,
          1,
          1,
          1,
          1,
          1,
          1,
          1,
          1,
          1,
          1,
          1,
          1,
          1,
          1,
          1,
          1,
          1,
          1,
          1,
          1,
          1,
          1,
          1,
          1,
          1,
          1,
          1,
          1,
          1,
          1,
          1,
          1,
          1,
          1,
          1,
          1,
          1,
          1,
          1,
          1,
          1,
          1,
          1,
          1,
          1,
          1,
          1,
          1,
          1,
          1,
          1,
          1,
          1,
          1,
          1,
          1,
          1,
          1,
          1,
          1,
          1,
          1,
          1,
          1,
          1,
          1,
          1,
          1,
          1,
          1,
          1,
          1,
          1,
          1,
          1,
          1,
          1,
          1,
          1,
          1,
          1,
          1,
          1,
          1,
          1,
          1,
          1,
          1,
          1,
          1,
          1,
          1,
          1,
          1,
          1,
          1,
          1,
          1,
          1,
          1,
          1,
          1,
          1,
          1,
          1,
          1,
          1,
          1,
          1,
          1,
          1,
          1,
          1,
          1,
          1,
          1,
          1,
          1,
          1,
          1,
          1,
          1,
          1,
          1,
          1,
          1,
          1,
          1,
          1,
          1,
          1,
          1,
          1,
          1,
          1,
          1,
          1,
          1,
          1,
          1,
          1,
          1,
          1,
          1,
          1,
          1,
          1,
          1,
          1,
          1,
          1,
          1,
          1,
          1,
          1,
          1,
          1,
          1,
          1,
          1,
          1,
          1,
          1,
          1,
          1,
          1,
          1,
          1,
          1,
          1,
          1,
          1,
          1,
          1,
          1,
          1,
          1,
          1,
          1,
          1,
          1,
          1,
          1,
          1,
          1,
          1,
          1,
          1,
          1,
          1,
          1,
          1,
          1,
          1,
          1,
          1,
          1,
          1,
          1,
          1,
          1,
          1,
          1,
          1,
          1,
          1,
          1,
          1,
          1,
          1,
          1,
          1,
          1,
          1,
          1,
          1,
          1,
          1,
          1,
          1,
          1,
          1,
          1,
          1,
          1,
          1,
          1,
          1,
          1,
          1,
          1,
          1,
          1,
          1,
          1,
          1,
          1,
          1,
          1,
          1,
          1,
          1,
          1,
          1,
          1,
          1,
          1,
          1,
          1,
          1,
          1,
          1,
          1,
          1,
          1,
          1,
          1,
          1,
          1,
          1,
          1,
          1,
          1,
          1,
          1,
          1,
          1,
          1,
          1,
          1,
          1,
          1,
          1,
          1,
          1,
          1,
          1,
          1,
          1,
          1,
          1,
          1,
          1,
          1,
          1,
          1,
          1,
          1,
          1,
          1,
          1,
          1,
          1,
          1,
          1,
          1,
          1,
          1,
          1,
          1,
          1,
          1,
          1,
          1,
          1,
          1,
          1,
          1,
          1,
          1,
          1,
          1,
          1,
          1,
          1,
          1,
          1,
          1,
          1,
          1,
          1,
          1,
          1,
          1,
          1,
          1,
          1,
          1,
          1,
          1,
          1,
          1,
          1,
          1,
          1,
          1,
          1,
          1,
          1,
          1,
          1,
          1,
          1,
          1,
          1,
          1,
          1,
          1,
          1,
          1,
          1,
          1,
          1,
          1,
          1,
          1,
          1,
          1,
          1,
          1,
          1,
          1,
          1,
          1,
          1,
          1,
          1,
          1,
          1,
          1,
          1,
          1,
          1,
          1,
          1,
          1,
          1,
          1,
          1,
          1,
          1,
          1,
          1,
          1,
          1,
          1,
          1,
          1,
          1,
          1,
          1,
          1,
          1,
          1,
          1,
          1,
          1,
          1,
          1,
          1,
          1,
          1,
          1,
          1,
          1,
          1,
          1,
          1,
          1,
          1,
          1,
          1,
          1,
          1,
          1,
          1,
          1,
          1,
          1,
          1,
          1,
          1,
          1,
          1,
          1,
          1,
          1,
          1,
          1,
          1,
          1,
          1,
          1,
          1,
          1,
          1,
          1,
          1,
          1,
          1,
          1,
          1,
          1,
          1,
          1,
          1,
          1,
          1,
          1,
          1,
          1,
          1,
          1,
          1,
          1,
          1,
          1,
          1,
          1,
          1,
          1,
          1,
          1,
          1,
          1,
          1,
          1,
          1,
          1,
          1,
          1,
          1,
          1,
          1,
          1,
          1,
          1,
          1,
          1,
          1,
          1,
          1,
          1,
          1,
          1,
          1,
          1,
          1,
          1,
          1,
          1,
          1,
          1,
          1,
          1,
          1,
          1,
          1,
          1,
          1,
          1,
          1,
          1,
          1,
          1,
          1,
          1,
          1,
          1,
          1,
          1,
          1,
          1,
          1,
          1
         ],
         "yaxis": "y"
        }
       ],
       "layout": {
        "barmode": "relative",
        "legend": {
         "title": {
          "text": "variable"
         },
         "tracegroupgap": 0
        },
        "template": {
         "data": {
          "bar": [
           {
            "error_x": {
             "color": "#2a3f5f"
            },
            "error_y": {
             "color": "#2a3f5f"
            },
            "marker": {
             "line": {
              "color": "#E5ECF6",
              "width": 0.5
             },
             "pattern": {
              "fillmode": "overlay",
              "size": 10,
              "solidity": 0.2
             }
            },
            "type": "bar"
           }
          ],
          "barpolar": [
           {
            "marker": {
             "line": {
              "color": "#E5ECF6",
              "width": 0.5
             },
             "pattern": {
              "fillmode": "overlay",
              "size": 10,
              "solidity": 0.2
             }
            },
            "type": "barpolar"
           }
          ],
          "carpet": [
           {
            "aaxis": {
             "endlinecolor": "#2a3f5f",
             "gridcolor": "white",
             "linecolor": "white",
             "minorgridcolor": "white",
             "startlinecolor": "#2a3f5f"
            },
            "baxis": {
             "endlinecolor": "#2a3f5f",
             "gridcolor": "white",
             "linecolor": "white",
             "minorgridcolor": "white",
             "startlinecolor": "#2a3f5f"
            },
            "type": "carpet"
           }
          ],
          "choropleth": [
           {
            "colorbar": {
             "outlinewidth": 0,
             "ticks": ""
            },
            "type": "choropleth"
           }
          ],
          "contour": [
           {
            "colorbar": {
             "outlinewidth": 0,
             "ticks": ""
            },
            "colorscale": [
             [
              0,
              "#0d0887"
             ],
             [
              0.1111111111111111,
              "#46039f"
             ],
             [
              0.2222222222222222,
              "#7201a8"
             ],
             [
              0.3333333333333333,
              "#9c179e"
             ],
             [
              0.4444444444444444,
              "#bd3786"
             ],
             [
              0.5555555555555556,
              "#d8576b"
             ],
             [
              0.6666666666666666,
              "#ed7953"
             ],
             [
              0.7777777777777778,
              "#fb9f3a"
             ],
             [
              0.8888888888888888,
              "#fdca26"
             ],
             [
              1,
              "#f0f921"
             ]
            ],
            "type": "contour"
           }
          ],
          "contourcarpet": [
           {
            "colorbar": {
             "outlinewidth": 0,
             "ticks": ""
            },
            "type": "contourcarpet"
           }
          ],
          "heatmap": [
           {
            "colorbar": {
             "outlinewidth": 0,
             "ticks": ""
            },
            "colorscale": [
             [
              0,
              "#0d0887"
             ],
             [
              0.1111111111111111,
              "#46039f"
             ],
             [
              0.2222222222222222,
              "#7201a8"
             ],
             [
              0.3333333333333333,
              "#9c179e"
             ],
             [
              0.4444444444444444,
              "#bd3786"
             ],
             [
              0.5555555555555556,
              "#d8576b"
             ],
             [
              0.6666666666666666,
              "#ed7953"
             ],
             [
              0.7777777777777778,
              "#fb9f3a"
             ],
             [
              0.8888888888888888,
              "#fdca26"
             ],
             [
              1,
              "#f0f921"
             ]
            ],
            "type": "heatmap"
           }
          ],
          "heatmapgl": [
           {
            "colorbar": {
             "outlinewidth": 0,
             "ticks": ""
            },
            "colorscale": [
             [
              0,
              "#0d0887"
             ],
             [
              0.1111111111111111,
              "#46039f"
             ],
             [
              0.2222222222222222,
              "#7201a8"
             ],
             [
              0.3333333333333333,
              "#9c179e"
             ],
             [
              0.4444444444444444,
              "#bd3786"
             ],
             [
              0.5555555555555556,
              "#d8576b"
             ],
             [
              0.6666666666666666,
              "#ed7953"
             ],
             [
              0.7777777777777778,
              "#fb9f3a"
             ],
             [
              0.8888888888888888,
              "#fdca26"
             ],
             [
              1,
              "#f0f921"
             ]
            ],
            "type": "heatmapgl"
           }
          ],
          "histogram": [
           {
            "marker": {
             "pattern": {
              "fillmode": "overlay",
              "size": 10,
              "solidity": 0.2
             }
            },
            "type": "histogram"
           }
          ],
          "histogram2d": [
           {
            "colorbar": {
             "outlinewidth": 0,
             "ticks": ""
            },
            "colorscale": [
             [
              0,
              "#0d0887"
             ],
             [
              0.1111111111111111,
              "#46039f"
             ],
             [
              0.2222222222222222,
              "#7201a8"
             ],
             [
              0.3333333333333333,
              "#9c179e"
             ],
             [
              0.4444444444444444,
              "#bd3786"
             ],
             [
              0.5555555555555556,
              "#d8576b"
             ],
             [
              0.6666666666666666,
              "#ed7953"
             ],
             [
              0.7777777777777778,
              "#fb9f3a"
             ],
             [
              0.8888888888888888,
              "#fdca26"
             ],
             [
              1,
              "#f0f921"
             ]
            ],
            "type": "histogram2d"
           }
          ],
          "histogram2dcontour": [
           {
            "colorbar": {
             "outlinewidth": 0,
             "ticks": ""
            },
            "colorscale": [
             [
              0,
              "#0d0887"
             ],
             [
              0.1111111111111111,
              "#46039f"
             ],
             [
              0.2222222222222222,
              "#7201a8"
             ],
             [
              0.3333333333333333,
              "#9c179e"
             ],
             [
              0.4444444444444444,
              "#bd3786"
             ],
             [
              0.5555555555555556,
              "#d8576b"
             ],
             [
              0.6666666666666666,
              "#ed7953"
             ],
             [
              0.7777777777777778,
              "#fb9f3a"
             ],
             [
              0.8888888888888888,
              "#fdca26"
             ],
             [
              1,
              "#f0f921"
             ]
            ],
            "type": "histogram2dcontour"
           }
          ],
          "mesh3d": [
           {
            "colorbar": {
             "outlinewidth": 0,
             "ticks": ""
            },
            "type": "mesh3d"
           }
          ],
          "parcoords": [
           {
            "line": {
             "colorbar": {
              "outlinewidth": 0,
              "ticks": ""
             }
            },
            "type": "parcoords"
           }
          ],
          "pie": [
           {
            "automargin": true,
            "type": "pie"
           }
          ],
          "scatter": [
           {
            "fillpattern": {
             "fillmode": "overlay",
             "size": 10,
             "solidity": 0.2
            },
            "type": "scatter"
           }
          ],
          "scatter3d": [
           {
            "line": {
             "colorbar": {
              "outlinewidth": 0,
              "ticks": ""
             }
            },
            "marker": {
             "colorbar": {
              "outlinewidth": 0,
              "ticks": ""
             }
            },
            "type": "scatter3d"
           }
          ],
          "scattercarpet": [
           {
            "marker": {
             "colorbar": {
              "outlinewidth": 0,
              "ticks": ""
             }
            },
            "type": "scattercarpet"
           }
          ],
          "scattergeo": [
           {
            "marker": {
             "colorbar": {
              "outlinewidth": 0,
              "ticks": ""
             }
            },
            "type": "scattergeo"
           }
          ],
          "scattergl": [
           {
            "marker": {
             "colorbar": {
              "outlinewidth": 0,
              "ticks": ""
             }
            },
            "type": "scattergl"
           }
          ],
          "scattermapbox": [
           {
            "marker": {
             "colorbar": {
              "outlinewidth": 0,
              "ticks": ""
             }
            },
            "type": "scattermapbox"
           }
          ],
          "scatterpolar": [
           {
            "marker": {
             "colorbar": {
              "outlinewidth": 0,
              "ticks": ""
             }
            },
            "type": "scatterpolar"
           }
          ],
          "scatterpolargl": [
           {
            "marker": {
             "colorbar": {
              "outlinewidth": 0,
              "ticks": ""
             }
            },
            "type": "scatterpolargl"
           }
          ],
          "scatterternary": [
           {
            "marker": {
             "colorbar": {
              "outlinewidth": 0,
              "ticks": ""
             }
            },
            "type": "scatterternary"
           }
          ],
          "surface": [
           {
            "colorbar": {
             "outlinewidth": 0,
             "ticks": ""
            },
            "colorscale": [
             [
              0,
              "#0d0887"
             ],
             [
              0.1111111111111111,
              "#46039f"
             ],
             [
              0.2222222222222222,
              "#7201a8"
             ],
             [
              0.3333333333333333,
              "#9c179e"
             ],
             [
              0.4444444444444444,
              "#bd3786"
             ],
             [
              0.5555555555555556,
              "#d8576b"
             ],
             [
              0.6666666666666666,
              "#ed7953"
             ],
             [
              0.7777777777777778,
              "#fb9f3a"
             ],
             [
              0.8888888888888888,
              "#fdca26"
             ],
             [
              1,
              "#f0f921"
             ]
            ],
            "type": "surface"
           }
          ],
          "table": [
           {
            "cells": {
             "fill": {
              "color": "#EBF0F8"
             },
             "line": {
              "color": "white"
             }
            },
            "header": {
             "fill": {
              "color": "#C8D4E3"
             },
             "line": {
              "color": "white"
             }
            },
            "type": "table"
           }
          ]
         },
         "layout": {
          "annotationdefaults": {
           "arrowcolor": "#2a3f5f",
           "arrowhead": 0,
           "arrowwidth": 1
          },
          "autotypenumbers": "strict",
          "coloraxis": {
           "colorbar": {
            "outlinewidth": 0,
            "ticks": ""
           }
          },
          "colorscale": {
           "diverging": [
            [
             0,
             "#8e0152"
            ],
            [
             0.1,
             "#c51b7d"
            ],
            [
             0.2,
             "#de77ae"
            ],
            [
             0.3,
             "#f1b6da"
            ],
            [
             0.4,
             "#fde0ef"
            ],
            [
             0.5,
             "#f7f7f7"
            ],
            [
             0.6,
             "#e6f5d0"
            ],
            [
             0.7,
             "#b8e186"
            ],
            [
             0.8,
             "#7fbc41"
            ],
            [
             0.9,
             "#4d9221"
            ],
            [
             1,
             "#276419"
            ]
           ],
           "sequential": [
            [
             0,
             "#0d0887"
            ],
            [
             0.1111111111111111,
             "#46039f"
            ],
            [
             0.2222222222222222,
             "#7201a8"
            ],
            [
             0.3333333333333333,
             "#9c179e"
            ],
            [
             0.4444444444444444,
             "#bd3786"
            ],
            [
             0.5555555555555556,
             "#d8576b"
            ],
            [
             0.6666666666666666,
             "#ed7953"
            ],
            [
             0.7777777777777778,
             "#fb9f3a"
            ],
            [
             0.8888888888888888,
             "#fdca26"
            ],
            [
             1,
             "#f0f921"
            ]
           ],
           "sequentialminus": [
            [
             0,
             "#0d0887"
            ],
            [
             0.1111111111111111,
             "#46039f"
            ],
            [
             0.2222222222222222,
             "#7201a8"
            ],
            [
             0.3333333333333333,
             "#9c179e"
            ],
            [
             0.4444444444444444,
             "#bd3786"
            ],
            [
             0.5555555555555556,
             "#d8576b"
            ],
            [
             0.6666666666666666,
             "#ed7953"
            ],
            [
             0.7777777777777778,
             "#fb9f3a"
            ],
            [
             0.8888888888888888,
             "#fdca26"
            ],
            [
             1,
             "#f0f921"
            ]
           ]
          },
          "colorway": [
           "#636efa",
           "#EF553B",
           "#00cc96",
           "#ab63fa",
           "#FFA15A",
           "#19d3f3",
           "#FF6692",
           "#B6E880",
           "#FF97FF",
           "#FECB52"
          ],
          "font": {
           "color": "#2a3f5f"
          },
          "geo": {
           "bgcolor": "white",
           "lakecolor": "white",
           "landcolor": "#E5ECF6",
           "showlakes": true,
           "showland": true,
           "subunitcolor": "white"
          },
          "hoverlabel": {
           "align": "left"
          },
          "hovermode": "closest",
          "mapbox": {
           "style": "light"
          },
          "paper_bgcolor": "white",
          "plot_bgcolor": "#E5ECF6",
          "polar": {
           "angularaxis": {
            "gridcolor": "white",
            "linecolor": "white",
            "ticks": ""
           },
           "bgcolor": "#E5ECF6",
           "radialaxis": {
            "gridcolor": "white",
            "linecolor": "white",
            "ticks": ""
           }
          },
          "scene": {
           "xaxis": {
            "backgroundcolor": "#E5ECF6",
            "gridcolor": "white",
            "gridwidth": 2,
            "linecolor": "white",
            "showbackground": true,
            "ticks": "",
            "zerolinecolor": "white"
           },
           "yaxis": {
            "backgroundcolor": "#E5ECF6",
            "gridcolor": "white",
            "gridwidth": 2,
            "linecolor": "white",
            "showbackground": true,
            "ticks": "",
            "zerolinecolor": "white"
           },
           "zaxis": {
            "backgroundcolor": "#E5ECF6",
            "gridcolor": "white",
            "gridwidth": 2,
            "linecolor": "white",
            "showbackground": true,
            "ticks": "",
            "zerolinecolor": "white"
           }
          },
          "shapedefaults": {
           "line": {
            "color": "#2a3f5f"
           }
          },
          "ternary": {
           "aaxis": {
            "gridcolor": "white",
            "linecolor": "white",
            "ticks": ""
           },
           "baxis": {
            "gridcolor": "white",
            "linecolor": "white",
            "ticks": ""
           },
           "bgcolor": "#E5ECF6",
           "caxis": {
            "gridcolor": "white",
            "linecolor": "white",
            "ticks": ""
           }
          },
          "title": {
           "x": 0.05
          },
          "xaxis": {
           "automargin": true,
           "gridcolor": "white",
           "linecolor": "white",
           "ticks": "",
           "title": {
            "standoff": 15
           },
           "zerolinecolor": "white",
           "zerolinewidth": 2
          },
          "yaxis": {
           "automargin": true,
           "gridcolor": "white",
           "linecolor": "white",
           "ticks": "",
           "title": {
            "standoff": 15
           },
           "zerolinecolor": "white",
           "zerolinewidth": 2
          }
         }
        },
        "title": {
         "text": "Name"
        },
        "xaxis": {
         "anchor": "y",
         "domain": [
          0,
          1
         ],
         "title": {
          "text": "index"
         }
        },
        "yaxis": {
         "anchor": "x",
         "domain": [
          0,
          1
         ],
         "title": {
          "text": "value"
         }
        }
       }
      }
     },
     "metadata": {},
     "output_type": "display_data"
    },
    {
     "data": {
      "application/vnd.plotly.v1+json": {
       "config": {
        "plotlyServerURL": "https://plot.ly"
       },
       "data": [
        {
         "alignmentgroup": "True",
         "hovertemplate": "variable=Sex<br>index=%{x}<br>value=%{y}<extra></extra>",
         "legendgroup": "Sex",
         "marker": {
          "color": "#636efa",
          "pattern": {
           "shape": ""
          }
         },
         "name": "Sex",
         "offsetgroup": "Sex",
         "orientation": "v",
         "showlegend": true,
         "textposition": "auto",
         "type": "bar",
         "x": [
          "male",
          "female"
         ],
         "xaxis": "x",
         "y": [
          843,
          466
         ],
         "yaxis": "y"
        }
       ],
       "layout": {
        "barmode": "relative",
        "legend": {
         "title": {
          "text": "variable"
         },
         "tracegroupgap": 0
        },
        "template": {
         "data": {
          "bar": [
           {
            "error_x": {
             "color": "#2a3f5f"
            },
            "error_y": {
             "color": "#2a3f5f"
            },
            "marker": {
             "line": {
              "color": "#E5ECF6",
              "width": 0.5
             },
             "pattern": {
              "fillmode": "overlay",
              "size": 10,
              "solidity": 0.2
             }
            },
            "type": "bar"
           }
          ],
          "barpolar": [
           {
            "marker": {
             "line": {
              "color": "#E5ECF6",
              "width": 0.5
             },
             "pattern": {
              "fillmode": "overlay",
              "size": 10,
              "solidity": 0.2
             }
            },
            "type": "barpolar"
           }
          ],
          "carpet": [
           {
            "aaxis": {
             "endlinecolor": "#2a3f5f",
             "gridcolor": "white",
             "linecolor": "white",
             "minorgridcolor": "white",
             "startlinecolor": "#2a3f5f"
            },
            "baxis": {
             "endlinecolor": "#2a3f5f",
             "gridcolor": "white",
             "linecolor": "white",
             "minorgridcolor": "white",
             "startlinecolor": "#2a3f5f"
            },
            "type": "carpet"
           }
          ],
          "choropleth": [
           {
            "colorbar": {
             "outlinewidth": 0,
             "ticks": ""
            },
            "type": "choropleth"
           }
          ],
          "contour": [
           {
            "colorbar": {
             "outlinewidth": 0,
             "ticks": ""
            },
            "colorscale": [
             [
              0,
              "#0d0887"
             ],
             [
              0.1111111111111111,
              "#46039f"
             ],
             [
              0.2222222222222222,
              "#7201a8"
             ],
             [
              0.3333333333333333,
              "#9c179e"
             ],
             [
              0.4444444444444444,
              "#bd3786"
             ],
             [
              0.5555555555555556,
              "#d8576b"
             ],
             [
              0.6666666666666666,
              "#ed7953"
             ],
             [
              0.7777777777777778,
              "#fb9f3a"
             ],
             [
              0.8888888888888888,
              "#fdca26"
             ],
             [
              1,
              "#f0f921"
             ]
            ],
            "type": "contour"
           }
          ],
          "contourcarpet": [
           {
            "colorbar": {
             "outlinewidth": 0,
             "ticks": ""
            },
            "type": "contourcarpet"
           }
          ],
          "heatmap": [
           {
            "colorbar": {
             "outlinewidth": 0,
             "ticks": ""
            },
            "colorscale": [
             [
              0,
              "#0d0887"
             ],
             [
              0.1111111111111111,
              "#46039f"
             ],
             [
              0.2222222222222222,
              "#7201a8"
             ],
             [
              0.3333333333333333,
              "#9c179e"
             ],
             [
              0.4444444444444444,
              "#bd3786"
             ],
             [
              0.5555555555555556,
              "#d8576b"
             ],
             [
              0.6666666666666666,
              "#ed7953"
             ],
             [
              0.7777777777777778,
              "#fb9f3a"
             ],
             [
              0.8888888888888888,
              "#fdca26"
             ],
             [
              1,
              "#f0f921"
             ]
            ],
            "type": "heatmap"
           }
          ],
          "heatmapgl": [
           {
            "colorbar": {
             "outlinewidth": 0,
             "ticks": ""
            },
            "colorscale": [
             [
              0,
              "#0d0887"
             ],
             [
              0.1111111111111111,
              "#46039f"
             ],
             [
              0.2222222222222222,
              "#7201a8"
             ],
             [
              0.3333333333333333,
              "#9c179e"
             ],
             [
              0.4444444444444444,
              "#bd3786"
             ],
             [
              0.5555555555555556,
              "#d8576b"
             ],
             [
              0.6666666666666666,
              "#ed7953"
             ],
             [
              0.7777777777777778,
              "#fb9f3a"
             ],
             [
              0.8888888888888888,
              "#fdca26"
             ],
             [
              1,
              "#f0f921"
             ]
            ],
            "type": "heatmapgl"
           }
          ],
          "histogram": [
           {
            "marker": {
             "pattern": {
              "fillmode": "overlay",
              "size": 10,
              "solidity": 0.2
             }
            },
            "type": "histogram"
           }
          ],
          "histogram2d": [
           {
            "colorbar": {
             "outlinewidth": 0,
             "ticks": ""
            },
            "colorscale": [
             [
              0,
              "#0d0887"
             ],
             [
              0.1111111111111111,
              "#46039f"
             ],
             [
              0.2222222222222222,
              "#7201a8"
             ],
             [
              0.3333333333333333,
              "#9c179e"
             ],
             [
              0.4444444444444444,
              "#bd3786"
             ],
             [
              0.5555555555555556,
              "#d8576b"
             ],
             [
              0.6666666666666666,
              "#ed7953"
             ],
             [
              0.7777777777777778,
              "#fb9f3a"
             ],
             [
              0.8888888888888888,
              "#fdca26"
             ],
             [
              1,
              "#f0f921"
             ]
            ],
            "type": "histogram2d"
           }
          ],
          "histogram2dcontour": [
           {
            "colorbar": {
             "outlinewidth": 0,
             "ticks": ""
            },
            "colorscale": [
             [
              0,
              "#0d0887"
             ],
             [
              0.1111111111111111,
              "#46039f"
             ],
             [
              0.2222222222222222,
              "#7201a8"
             ],
             [
              0.3333333333333333,
              "#9c179e"
             ],
             [
              0.4444444444444444,
              "#bd3786"
             ],
             [
              0.5555555555555556,
              "#d8576b"
             ],
             [
              0.6666666666666666,
              "#ed7953"
             ],
             [
              0.7777777777777778,
              "#fb9f3a"
             ],
             [
              0.8888888888888888,
              "#fdca26"
             ],
             [
              1,
              "#f0f921"
             ]
            ],
            "type": "histogram2dcontour"
           }
          ],
          "mesh3d": [
           {
            "colorbar": {
             "outlinewidth": 0,
             "ticks": ""
            },
            "type": "mesh3d"
           }
          ],
          "parcoords": [
           {
            "line": {
             "colorbar": {
              "outlinewidth": 0,
              "ticks": ""
             }
            },
            "type": "parcoords"
           }
          ],
          "pie": [
           {
            "automargin": true,
            "type": "pie"
           }
          ],
          "scatter": [
           {
            "fillpattern": {
             "fillmode": "overlay",
             "size": 10,
             "solidity": 0.2
            },
            "type": "scatter"
           }
          ],
          "scatter3d": [
           {
            "line": {
             "colorbar": {
              "outlinewidth": 0,
              "ticks": ""
             }
            },
            "marker": {
             "colorbar": {
              "outlinewidth": 0,
              "ticks": ""
             }
            },
            "type": "scatter3d"
           }
          ],
          "scattercarpet": [
           {
            "marker": {
             "colorbar": {
              "outlinewidth": 0,
              "ticks": ""
             }
            },
            "type": "scattercarpet"
           }
          ],
          "scattergeo": [
           {
            "marker": {
             "colorbar": {
              "outlinewidth": 0,
              "ticks": ""
             }
            },
            "type": "scattergeo"
           }
          ],
          "scattergl": [
           {
            "marker": {
             "colorbar": {
              "outlinewidth": 0,
              "ticks": ""
             }
            },
            "type": "scattergl"
           }
          ],
          "scattermapbox": [
           {
            "marker": {
             "colorbar": {
              "outlinewidth": 0,
              "ticks": ""
             }
            },
            "type": "scattermapbox"
           }
          ],
          "scatterpolar": [
           {
            "marker": {
             "colorbar": {
              "outlinewidth": 0,
              "ticks": ""
             }
            },
            "type": "scatterpolar"
           }
          ],
          "scatterpolargl": [
           {
            "marker": {
             "colorbar": {
              "outlinewidth": 0,
              "ticks": ""
             }
            },
            "type": "scatterpolargl"
           }
          ],
          "scatterternary": [
           {
            "marker": {
             "colorbar": {
              "outlinewidth": 0,
              "ticks": ""
             }
            },
            "type": "scatterternary"
           }
          ],
          "surface": [
           {
            "colorbar": {
             "outlinewidth": 0,
             "ticks": ""
            },
            "colorscale": [
             [
              0,
              "#0d0887"
             ],
             [
              0.1111111111111111,
              "#46039f"
             ],
             [
              0.2222222222222222,
              "#7201a8"
             ],
             [
              0.3333333333333333,
              "#9c179e"
             ],
             [
              0.4444444444444444,
              "#bd3786"
             ],
             [
              0.5555555555555556,
              "#d8576b"
             ],
             [
              0.6666666666666666,
              "#ed7953"
             ],
             [
              0.7777777777777778,
              "#fb9f3a"
             ],
             [
              0.8888888888888888,
              "#fdca26"
             ],
             [
              1,
              "#f0f921"
             ]
            ],
            "type": "surface"
           }
          ],
          "table": [
           {
            "cells": {
             "fill": {
              "color": "#EBF0F8"
             },
             "line": {
              "color": "white"
             }
            },
            "header": {
             "fill": {
              "color": "#C8D4E3"
             },
             "line": {
              "color": "white"
             }
            },
            "type": "table"
           }
          ]
         },
         "layout": {
          "annotationdefaults": {
           "arrowcolor": "#2a3f5f",
           "arrowhead": 0,
           "arrowwidth": 1
          },
          "autotypenumbers": "strict",
          "coloraxis": {
           "colorbar": {
            "outlinewidth": 0,
            "ticks": ""
           }
          },
          "colorscale": {
           "diverging": [
            [
             0,
             "#8e0152"
            ],
            [
             0.1,
             "#c51b7d"
            ],
            [
             0.2,
             "#de77ae"
            ],
            [
             0.3,
             "#f1b6da"
            ],
            [
             0.4,
             "#fde0ef"
            ],
            [
             0.5,
             "#f7f7f7"
            ],
            [
             0.6,
             "#e6f5d0"
            ],
            [
             0.7,
             "#b8e186"
            ],
            [
             0.8,
             "#7fbc41"
            ],
            [
             0.9,
             "#4d9221"
            ],
            [
             1,
             "#276419"
            ]
           ],
           "sequential": [
            [
             0,
             "#0d0887"
            ],
            [
             0.1111111111111111,
             "#46039f"
            ],
            [
             0.2222222222222222,
             "#7201a8"
            ],
            [
             0.3333333333333333,
             "#9c179e"
            ],
            [
             0.4444444444444444,
             "#bd3786"
            ],
            [
             0.5555555555555556,
             "#d8576b"
            ],
            [
             0.6666666666666666,
             "#ed7953"
            ],
            [
             0.7777777777777778,
             "#fb9f3a"
            ],
            [
             0.8888888888888888,
             "#fdca26"
            ],
            [
             1,
             "#f0f921"
            ]
           ],
           "sequentialminus": [
            [
             0,
             "#0d0887"
            ],
            [
             0.1111111111111111,
             "#46039f"
            ],
            [
             0.2222222222222222,
             "#7201a8"
            ],
            [
             0.3333333333333333,
             "#9c179e"
            ],
            [
             0.4444444444444444,
             "#bd3786"
            ],
            [
             0.5555555555555556,
             "#d8576b"
            ],
            [
             0.6666666666666666,
             "#ed7953"
            ],
            [
             0.7777777777777778,
             "#fb9f3a"
            ],
            [
             0.8888888888888888,
             "#fdca26"
            ],
            [
             1,
             "#f0f921"
            ]
           ]
          },
          "colorway": [
           "#636efa",
           "#EF553B",
           "#00cc96",
           "#ab63fa",
           "#FFA15A",
           "#19d3f3",
           "#FF6692",
           "#B6E880",
           "#FF97FF",
           "#FECB52"
          ],
          "font": {
           "color": "#2a3f5f"
          },
          "geo": {
           "bgcolor": "white",
           "lakecolor": "white",
           "landcolor": "#E5ECF6",
           "showlakes": true,
           "showland": true,
           "subunitcolor": "white"
          },
          "hoverlabel": {
           "align": "left"
          },
          "hovermode": "closest",
          "mapbox": {
           "style": "light"
          },
          "paper_bgcolor": "white",
          "plot_bgcolor": "#E5ECF6",
          "polar": {
           "angularaxis": {
            "gridcolor": "white",
            "linecolor": "white",
            "ticks": ""
           },
           "bgcolor": "#E5ECF6",
           "radialaxis": {
            "gridcolor": "white",
            "linecolor": "white",
            "ticks": ""
           }
          },
          "scene": {
           "xaxis": {
            "backgroundcolor": "#E5ECF6",
            "gridcolor": "white",
            "gridwidth": 2,
            "linecolor": "white",
            "showbackground": true,
            "ticks": "",
            "zerolinecolor": "white"
           },
           "yaxis": {
            "backgroundcolor": "#E5ECF6",
            "gridcolor": "white",
            "gridwidth": 2,
            "linecolor": "white",
            "showbackground": true,
            "ticks": "",
            "zerolinecolor": "white"
           },
           "zaxis": {
            "backgroundcolor": "#E5ECF6",
            "gridcolor": "white",
            "gridwidth": 2,
            "linecolor": "white",
            "showbackground": true,
            "ticks": "",
            "zerolinecolor": "white"
           }
          },
          "shapedefaults": {
           "line": {
            "color": "#2a3f5f"
           }
          },
          "ternary": {
           "aaxis": {
            "gridcolor": "white",
            "linecolor": "white",
            "ticks": ""
           },
           "baxis": {
            "gridcolor": "white",
            "linecolor": "white",
            "ticks": ""
           },
           "bgcolor": "#E5ECF6",
           "caxis": {
            "gridcolor": "white",
            "linecolor": "white",
            "ticks": ""
           }
          },
          "title": {
           "x": 0.05
          },
          "xaxis": {
           "automargin": true,
           "gridcolor": "white",
           "linecolor": "white",
           "ticks": "",
           "title": {
            "standoff": 15
           },
           "zerolinecolor": "white",
           "zerolinewidth": 2
          },
          "yaxis": {
           "automargin": true,
           "gridcolor": "white",
           "linecolor": "white",
           "ticks": "",
           "title": {
            "standoff": 15
           },
           "zerolinecolor": "white",
           "zerolinewidth": 2
          }
         }
        },
        "title": {
         "text": "Sex"
        },
        "xaxis": {
         "anchor": "y",
         "domain": [
          0,
          1
         ],
         "title": {
          "text": "index"
         }
        },
        "yaxis": {
         "anchor": "x",
         "domain": [
          0,
          1
         ],
         "title": {
          "text": "value"
         }
        }
       }
      }
     },
     "metadata": {},
     "output_type": "display_data"
    },
    {
     "data": {
      "application/vnd.plotly.v1+json": {
       "config": {
        "plotlyServerURL": "https://plot.ly"
       },
       "data": [
        {
         "alignmentgroup": "True",
         "hovertemplate": "variable=Age<br>index=%{x}<br>value=%{y}<extra></extra>",
         "legendgroup": "Age",
         "marker": {
          "color": "#636efa",
          "pattern": {
           "shape": ""
          }
         },
         "name": "Age",
         "offsetgroup": "Age",
         "orientation": "v",
         "showlegend": true,
         "textposition": "auto",
         "type": "bar",
         "x": [
          24,
          22,
          21,
          30,
          18,
          25,
          28,
          36,
          29,
          27,
          26,
          19,
          23,
          32,
          31,
          20,
          35,
          33,
          45,
          39,
          17,
          16,
          40,
          42,
          34,
          50,
          47,
          38,
          48,
          2,
          41,
          1,
          44,
          54,
          9,
          4,
          49,
          43,
          37,
          51,
          55,
          14,
          60,
          3,
          58,
          46,
          15,
          8,
          6,
          52,
          62,
          61,
          5,
          64,
          57,
          13,
          63,
          10,
          53,
          32.5,
          56,
          7,
          11,
          59,
          18.5,
          40.5,
          65,
          0.75,
          28.5,
          0.83,
          12,
          14.5,
          36.5,
          45.5,
          30.5,
          70,
          71,
          34.5,
          0.92,
          11.5,
          0.17,
          60.5,
          26.5,
          76,
          67,
          22.5,
          0.33,
          80,
          74,
          0.42,
          0.67,
          66,
          24.5,
          23.5,
          70.5,
          55.5,
          20.5,
          38.5
         ],
         "xaxis": "x",
         "y": [
          47,
          43,
          41,
          40,
          39,
          34,
          32,
          31,
          30,
          30,
          30,
          29,
          26,
          24,
          23,
          23,
          23,
          21,
          21,
          20,
          20,
          19,
          18,
          18,
          16,
          15,
          14,
          14,
          14,
          12,
          11,
          10,
          10,
          10,
          10,
          10,
          9,
          9,
          9,
          8,
          8,
          8,
          7,
          7,
          6,
          6,
          6,
          6,
          6,
          6,
          5,
          5,
          5,
          5,
          5,
          5,
          4,
          4,
          4,
          4,
          4,
          4,
          4,
          3,
          3,
          3,
          3,
          3,
          3,
          3,
          3,
          2,
          2,
          2,
          2,
          2,
          2,
          2,
          2,
          1,
          1,
          1,
          1,
          1,
          1,
          1,
          1,
          1,
          1,
          1,
          1,
          1,
          1,
          1,
          1,
          1,
          1,
          1
         ],
         "yaxis": "y"
        }
       ],
       "layout": {
        "barmode": "relative",
        "legend": {
         "title": {
          "text": "variable"
         },
         "tracegroupgap": 0
        },
        "template": {
         "data": {
          "bar": [
           {
            "error_x": {
             "color": "#2a3f5f"
            },
            "error_y": {
             "color": "#2a3f5f"
            },
            "marker": {
             "line": {
              "color": "#E5ECF6",
              "width": 0.5
             },
             "pattern": {
              "fillmode": "overlay",
              "size": 10,
              "solidity": 0.2
             }
            },
            "type": "bar"
           }
          ],
          "barpolar": [
           {
            "marker": {
             "line": {
              "color": "#E5ECF6",
              "width": 0.5
             },
             "pattern": {
              "fillmode": "overlay",
              "size": 10,
              "solidity": 0.2
             }
            },
            "type": "barpolar"
           }
          ],
          "carpet": [
           {
            "aaxis": {
             "endlinecolor": "#2a3f5f",
             "gridcolor": "white",
             "linecolor": "white",
             "minorgridcolor": "white",
             "startlinecolor": "#2a3f5f"
            },
            "baxis": {
             "endlinecolor": "#2a3f5f",
             "gridcolor": "white",
             "linecolor": "white",
             "minorgridcolor": "white",
             "startlinecolor": "#2a3f5f"
            },
            "type": "carpet"
           }
          ],
          "choropleth": [
           {
            "colorbar": {
             "outlinewidth": 0,
             "ticks": ""
            },
            "type": "choropleth"
           }
          ],
          "contour": [
           {
            "colorbar": {
             "outlinewidth": 0,
             "ticks": ""
            },
            "colorscale": [
             [
              0,
              "#0d0887"
             ],
             [
              0.1111111111111111,
              "#46039f"
             ],
             [
              0.2222222222222222,
              "#7201a8"
             ],
             [
              0.3333333333333333,
              "#9c179e"
             ],
             [
              0.4444444444444444,
              "#bd3786"
             ],
             [
              0.5555555555555556,
              "#d8576b"
             ],
             [
              0.6666666666666666,
              "#ed7953"
             ],
             [
              0.7777777777777778,
              "#fb9f3a"
             ],
             [
              0.8888888888888888,
              "#fdca26"
             ],
             [
              1,
              "#f0f921"
             ]
            ],
            "type": "contour"
           }
          ],
          "contourcarpet": [
           {
            "colorbar": {
             "outlinewidth": 0,
             "ticks": ""
            },
            "type": "contourcarpet"
           }
          ],
          "heatmap": [
           {
            "colorbar": {
             "outlinewidth": 0,
             "ticks": ""
            },
            "colorscale": [
             [
              0,
              "#0d0887"
             ],
             [
              0.1111111111111111,
              "#46039f"
             ],
             [
              0.2222222222222222,
              "#7201a8"
             ],
             [
              0.3333333333333333,
              "#9c179e"
             ],
             [
              0.4444444444444444,
              "#bd3786"
             ],
             [
              0.5555555555555556,
              "#d8576b"
             ],
             [
              0.6666666666666666,
              "#ed7953"
             ],
             [
              0.7777777777777778,
              "#fb9f3a"
             ],
             [
              0.8888888888888888,
              "#fdca26"
             ],
             [
              1,
              "#f0f921"
             ]
            ],
            "type": "heatmap"
           }
          ],
          "heatmapgl": [
           {
            "colorbar": {
             "outlinewidth": 0,
             "ticks": ""
            },
            "colorscale": [
             [
              0,
              "#0d0887"
             ],
             [
              0.1111111111111111,
              "#46039f"
             ],
             [
              0.2222222222222222,
              "#7201a8"
             ],
             [
              0.3333333333333333,
              "#9c179e"
             ],
             [
              0.4444444444444444,
              "#bd3786"
             ],
             [
              0.5555555555555556,
              "#d8576b"
             ],
             [
              0.6666666666666666,
              "#ed7953"
             ],
             [
              0.7777777777777778,
              "#fb9f3a"
             ],
             [
              0.8888888888888888,
              "#fdca26"
             ],
             [
              1,
              "#f0f921"
             ]
            ],
            "type": "heatmapgl"
           }
          ],
          "histogram": [
           {
            "marker": {
             "pattern": {
              "fillmode": "overlay",
              "size": 10,
              "solidity": 0.2
             }
            },
            "type": "histogram"
           }
          ],
          "histogram2d": [
           {
            "colorbar": {
             "outlinewidth": 0,
             "ticks": ""
            },
            "colorscale": [
             [
              0,
              "#0d0887"
             ],
             [
              0.1111111111111111,
              "#46039f"
             ],
             [
              0.2222222222222222,
              "#7201a8"
             ],
             [
              0.3333333333333333,
              "#9c179e"
             ],
             [
              0.4444444444444444,
              "#bd3786"
             ],
             [
              0.5555555555555556,
              "#d8576b"
             ],
             [
              0.6666666666666666,
              "#ed7953"
             ],
             [
              0.7777777777777778,
              "#fb9f3a"
             ],
             [
              0.8888888888888888,
              "#fdca26"
             ],
             [
              1,
              "#f0f921"
             ]
            ],
            "type": "histogram2d"
           }
          ],
          "histogram2dcontour": [
           {
            "colorbar": {
             "outlinewidth": 0,
             "ticks": ""
            },
            "colorscale": [
             [
              0,
              "#0d0887"
             ],
             [
              0.1111111111111111,
              "#46039f"
             ],
             [
              0.2222222222222222,
              "#7201a8"
             ],
             [
              0.3333333333333333,
              "#9c179e"
             ],
             [
              0.4444444444444444,
              "#bd3786"
             ],
             [
              0.5555555555555556,
              "#d8576b"
             ],
             [
              0.6666666666666666,
              "#ed7953"
             ],
             [
              0.7777777777777778,
              "#fb9f3a"
             ],
             [
              0.8888888888888888,
              "#fdca26"
             ],
             [
              1,
              "#f0f921"
             ]
            ],
            "type": "histogram2dcontour"
           }
          ],
          "mesh3d": [
           {
            "colorbar": {
             "outlinewidth": 0,
             "ticks": ""
            },
            "type": "mesh3d"
           }
          ],
          "parcoords": [
           {
            "line": {
             "colorbar": {
              "outlinewidth": 0,
              "ticks": ""
             }
            },
            "type": "parcoords"
           }
          ],
          "pie": [
           {
            "automargin": true,
            "type": "pie"
           }
          ],
          "scatter": [
           {
            "fillpattern": {
             "fillmode": "overlay",
             "size": 10,
             "solidity": 0.2
            },
            "type": "scatter"
           }
          ],
          "scatter3d": [
           {
            "line": {
             "colorbar": {
              "outlinewidth": 0,
              "ticks": ""
             }
            },
            "marker": {
             "colorbar": {
              "outlinewidth": 0,
              "ticks": ""
             }
            },
            "type": "scatter3d"
           }
          ],
          "scattercarpet": [
           {
            "marker": {
             "colorbar": {
              "outlinewidth": 0,
              "ticks": ""
             }
            },
            "type": "scattercarpet"
           }
          ],
          "scattergeo": [
           {
            "marker": {
             "colorbar": {
              "outlinewidth": 0,
              "ticks": ""
             }
            },
            "type": "scattergeo"
           }
          ],
          "scattergl": [
           {
            "marker": {
             "colorbar": {
              "outlinewidth": 0,
              "ticks": ""
             }
            },
            "type": "scattergl"
           }
          ],
          "scattermapbox": [
           {
            "marker": {
             "colorbar": {
              "outlinewidth": 0,
              "ticks": ""
             }
            },
            "type": "scattermapbox"
           }
          ],
          "scatterpolar": [
           {
            "marker": {
             "colorbar": {
              "outlinewidth": 0,
              "ticks": ""
             }
            },
            "type": "scatterpolar"
           }
          ],
          "scatterpolargl": [
           {
            "marker": {
             "colorbar": {
              "outlinewidth": 0,
              "ticks": ""
             }
            },
            "type": "scatterpolargl"
           }
          ],
          "scatterternary": [
           {
            "marker": {
             "colorbar": {
              "outlinewidth": 0,
              "ticks": ""
             }
            },
            "type": "scatterternary"
           }
          ],
          "surface": [
           {
            "colorbar": {
             "outlinewidth": 0,
             "ticks": ""
            },
            "colorscale": [
             [
              0,
              "#0d0887"
             ],
             [
              0.1111111111111111,
              "#46039f"
             ],
             [
              0.2222222222222222,
              "#7201a8"
             ],
             [
              0.3333333333333333,
              "#9c179e"
             ],
             [
              0.4444444444444444,
              "#bd3786"
             ],
             [
              0.5555555555555556,
              "#d8576b"
             ],
             [
              0.6666666666666666,
              "#ed7953"
             ],
             [
              0.7777777777777778,
              "#fb9f3a"
             ],
             [
              0.8888888888888888,
              "#fdca26"
             ],
             [
              1,
              "#f0f921"
             ]
            ],
            "type": "surface"
           }
          ],
          "table": [
           {
            "cells": {
             "fill": {
              "color": "#EBF0F8"
             },
             "line": {
              "color": "white"
             }
            },
            "header": {
             "fill": {
              "color": "#C8D4E3"
             },
             "line": {
              "color": "white"
             }
            },
            "type": "table"
           }
          ]
         },
         "layout": {
          "annotationdefaults": {
           "arrowcolor": "#2a3f5f",
           "arrowhead": 0,
           "arrowwidth": 1
          },
          "autotypenumbers": "strict",
          "coloraxis": {
           "colorbar": {
            "outlinewidth": 0,
            "ticks": ""
           }
          },
          "colorscale": {
           "diverging": [
            [
             0,
             "#8e0152"
            ],
            [
             0.1,
             "#c51b7d"
            ],
            [
             0.2,
             "#de77ae"
            ],
            [
             0.3,
             "#f1b6da"
            ],
            [
             0.4,
             "#fde0ef"
            ],
            [
             0.5,
             "#f7f7f7"
            ],
            [
             0.6,
             "#e6f5d0"
            ],
            [
             0.7,
             "#b8e186"
            ],
            [
             0.8,
             "#7fbc41"
            ],
            [
             0.9,
             "#4d9221"
            ],
            [
             1,
             "#276419"
            ]
           ],
           "sequential": [
            [
             0,
             "#0d0887"
            ],
            [
             0.1111111111111111,
             "#46039f"
            ],
            [
             0.2222222222222222,
             "#7201a8"
            ],
            [
             0.3333333333333333,
             "#9c179e"
            ],
            [
             0.4444444444444444,
             "#bd3786"
            ],
            [
             0.5555555555555556,
             "#d8576b"
            ],
            [
             0.6666666666666666,
             "#ed7953"
            ],
            [
             0.7777777777777778,
             "#fb9f3a"
            ],
            [
             0.8888888888888888,
             "#fdca26"
            ],
            [
             1,
             "#f0f921"
            ]
           ],
           "sequentialminus": [
            [
             0,
             "#0d0887"
            ],
            [
             0.1111111111111111,
             "#46039f"
            ],
            [
             0.2222222222222222,
             "#7201a8"
            ],
            [
             0.3333333333333333,
             "#9c179e"
            ],
            [
             0.4444444444444444,
             "#bd3786"
            ],
            [
             0.5555555555555556,
             "#d8576b"
            ],
            [
             0.6666666666666666,
             "#ed7953"
            ],
            [
             0.7777777777777778,
             "#fb9f3a"
            ],
            [
             0.8888888888888888,
             "#fdca26"
            ],
            [
             1,
             "#f0f921"
            ]
           ]
          },
          "colorway": [
           "#636efa",
           "#EF553B",
           "#00cc96",
           "#ab63fa",
           "#FFA15A",
           "#19d3f3",
           "#FF6692",
           "#B6E880",
           "#FF97FF",
           "#FECB52"
          ],
          "font": {
           "color": "#2a3f5f"
          },
          "geo": {
           "bgcolor": "white",
           "lakecolor": "white",
           "landcolor": "#E5ECF6",
           "showlakes": true,
           "showland": true,
           "subunitcolor": "white"
          },
          "hoverlabel": {
           "align": "left"
          },
          "hovermode": "closest",
          "mapbox": {
           "style": "light"
          },
          "paper_bgcolor": "white",
          "plot_bgcolor": "#E5ECF6",
          "polar": {
           "angularaxis": {
            "gridcolor": "white",
            "linecolor": "white",
            "ticks": ""
           },
           "bgcolor": "#E5ECF6",
           "radialaxis": {
            "gridcolor": "white",
            "linecolor": "white",
            "ticks": ""
           }
          },
          "scene": {
           "xaxis": {
            "backgroundcolor": "#E5ECF6",
            "gridcolor": "white",
            "gridwidth": 2,
            "linecolor": "white",
            "showbackground": true,
            "ticks": "",
            "zerolinecolor": "white"
           },
           "yaxis": {
            "backgroundcolor": "#E5ECF6",
            "gridcolor": "white",
            "gridwidth": 2,
            "linecolor": "white",
            "showbackground": true,
            "ticks": "",
            "zerolinecolor": "white"
           },
           "zaxis": {
            "backgroundcolor": "#E5ECF6",
            "gridcolor": "white",
            "gridwidth": 2,
            "linecolor": "white",
            "showbackground": true,
            "ticks": "",
            "zerolinecolor": "white"
           }
          },
          "shapedefaults": {
           "line": {
            "color": "#2a3f5f"
           }
          },
          "ternary": {
           "aaxis": {
            "gridcolor": "white",
            "linecolor": "white",
            "ticks": ""
           },
           "baxis": {
            "gridcolor": "white",
            "linecolor": "white",
            "ticks": ""
           },
           "bgcolor": "#E5ECF6",
           "caxis": {
            "gridcolor": "white",
            "linecolor": "white",
            "ticks": ""
           }
          },
          "title": {
           "x": 0.05
          },
          "xaxis": {
           "automargin": true,
           "gridcolor": "white",
           "linecolor": "white",
           "ticks": "",
           "title": {
            "standoff": 15
           },
           "zerolinecolor": "white",
           "zerolinewidth": 2
          },
          "yaxis": {
           "automargin": true,
           "gridcolor": "white",
           "linecolor": "white",
           "ticks": "",
           "title": {
            "standoff": 15
           },
           "zerolinecolor": "white",
           "zerolinewidth": 2
          }
         }
        },
        "title": {
         "text": "Age"
        },
        "xaxis": {
         "anchor": "y",
         "domain": [
          0,
          1
         ],
         "title": {
          "text": "index"
         }
        },
        "yaxis": {
         "anchor": "x",
         "domain": [
          0,
          1
         ],
         "title": {
          "text": "value"
         }
        }
       }
      }
     },
     "metadata": {},
     "output_type": "display_data"
    },
    {
     "data": {
      "application/vnd.plotly.v1+json": {
       "config": {
        "plotlyServerURL": "https://plot.ly"
       },
       "data": [
        {
         "alignmentgroup": "True",
         "hovertemplate": "variable=SibSp<br>index=%{x}<br>value=%{y}<extra></extra>",
         "legendgroup": "SibSp",
         "marker": {
          "color": "#636efa",
          "pattern": {
           "shape": ""
          }
         },
         "name": "SibSp",
         "offsetgroup": "SibSp",
         "orientation": "v",
         "showlegend": true,
         "textposition": "auto",
         "type": "bar",
         "x": [
          0,
          1,
          2,
          4,
          3,
          8,
          5
         ],
         "xaxis": "x",
         "y": [
          891,
          319,
          42,
          22,
          20,
          9,
          6
         ],
         "yaxis": "y"
        }
       ],
       "layout": {
        "barmode": "relative",
        "legend": {
         "title": {
          "text": "variable"
         },
         "tracegroupgap": 0
        },
        "template": {
         "data": {
          "bar": [
           {
            "error_x": {
             "color": "#2a3f5f"
            },
            "error_y": {
             "color": "#2a3f5f"
            },
            "marker": {
             "line": {
              "color": "#E5ECF6",
              "width": 0.5
             },
             "pattern": {
              "fillmode": "overlay",
              "size": 10,
              "solidity": 0.2
             }
            },
            "type": "bar"
           }
          ],
          "barpolar": [
           {
            "marker": {
             "line": {
              "color": "#E5ECF6",
              "width": 0.5
             },
             "pattern": {
              "fillmode": "overlay",
              "size": 10,
              "solidity": 0.2
             }
            },
            "type": "barpolar"
           }
          ],
          "carpet": [
           {
            "aaxis": {
             "endlinecolor": "#2a3f5f",
             "gridcolor": "white",
             "linecolor": "white",
             "minorgridcolor": "white",
             "startlinecolor": "#2a3f5f"
            },
            "baxis": {
             "endlinecolor": "#2a3f5f",
             "gridcolor": "white",
             "linecolor": "white",
             "minorgridcolor": "white",
             "startlinecolor": "#2a3f5f"
            },
            "type": "carpet"
           }
          ],
          "choropleth": [
           {
            "colorbar": {
             "outlinewidth": 0,
             "ticks": ""
            },
            "type": "choropleth"
           }
          ],
          "contour": [
           {
            "colorbar": {
             "outlinewidth": 0,
             "ticks": ""
            },
            "colorscale": [
             [
              0,
              "#0d0887"
             ],
             [
              0.1111111111111111,
              "#46039f"
             ],
             [
              0.2222222222222222,
              "#7201a8"
             ],
             [
              0.3333333333333333,
              "#9c179e"
             ],
             [
              0.4444444444444444,
              "#bd3786"
             ],
             [
              0.5555555555555556,
              "#d8576b"
             ],
             [
              0.6666666666666666,
              "#ed7953"
             ],
             [
              0.7777777777777778,
              "#fb9f3a"
             ],
             [
              0.8888888888888888,
              "#fdca26"
             ],
             [
              1,
              "#f0f921"
             ]
            ],
            "type": "contour"
           }
          ],
          "contourcarpet": [
           {
            "colorbar": {
             "outlinewidth": 0,
             "ticks": ""
            },
            "type": "contourcarpet"
           }
          ],
          "heatmap": [
           {
            "colorbar": {
             "outlinewidth": 0,
             "ticks": ""
            },
            "colorscale": [
             [
              0,
              "#0d0887"
             ],
             [
              0.1111111111111111,
              "#46039f"
             ],
             [
              0.2222222222222222,
              "#7201a8"
             ],
             [
              0.3333333333333333,
              "#9c179e"
             ],
             [
              0.4444444444444444,
              "#bd3786"
             ],
             [
              0.5555555555555556,
              "#d8576b"
             ],
             [
              0.6666666666666666,
              "#ed7953"
             ],
             [
              0.7777777777777778,
              "#fb9f3a"
             ],
             [
              0.8888888888888888,
              "#fdca26"
             ],
             [
              1,
              "#f0f921"
             ]
            ],
            "type": "heatmap"
           }
          ],
          "heatmapgl": [
           {
            "colorbar": {
             "outlinewidth": 0,
             "ticks": ""
            },
            "colorscale": [
             [
              0,
              "#0d0887"
             ],
             [
              0.1111111111111111,
              "#46039f"
             ],
             [
              0.2222222222222222,
              "#7201a8"
             ],
             [
              0.3333333333333333,
              "#9c179e"
             ],
             [
              0.4444444444444444,
              "#bd3786"
             ],
             [
              0.5555555555555556,
              "#d8576b"
             ],
             [
              0.6666666666666666,
              "#ed7953"
             ],
             [
              0.7777777777777778,
              "#fb9f3a"
             ],
             [
              0.8888888888888888,
              "#fdca26"
             ],
             [
              1,
              "#f0f921"
             ]
            ],
            "type": "heatmapgl"
           }
          ],
          "histogram": [
           {
            "marker": {
             "pattern": {
              "fillmode": "overlay",
              "size": 10,
              "solidity": 0.2
             }
            },
            "type": "histogram"
           }
          ],
          "histogram2d": [
           {
            "colorbar": {
             "outlinewidth": 0,
             "ticks": ""
            },
            "colorscale": [
             [
              0,
              "#0d0887"
             ],
             [
              0.1111111111111111,
              "#46039f"
             ],
             [
              0.2222222222222222,
              "#7201a8"
             ],
             [
              0.3333333333333333,
              "#9c179e"
             ],
             [
              0.4444444444444444,
              "#bd3786"
             ],
             [
              0.5555555555555556,
              "#d8576b"
             ],
             [
              0.6666666666666666,
              "#ed7953"
             ],
             [
              0.7777777777777778,
              "#fb9f3a"
             ],
             [
              0.8888888888888888,
              "#fdca26"
             ],
             [
              1,
              "#f0f921"
             ]
            ],
            "type": "histogram2d"
           }
          ],
          "histogram2dcontour": [
           {
            "colorbar": {
             "outlinewidth": 0,
             "ticks": ""
            },
            "colorscale": [
             [
              0,
              "#0d0887"
             ],
             [
              0.1111111111111111,
              "#46039f"
             ],
             [
              0.2222222222222222,
              "#7201a8"
             ],
             [
              0.3333333333333333,
              "#9c179e"
             ],
             [
              0.4444444444444444,
              "#bd3786"
             ],
             [
              0.5555555555555556,
              "#d8576b"
             ],
             [
              0.6666666666666666,
              "#ed7953"
             ],
             [
              0.7777777777777778,
              "#fb9f3a"
             ],
             [
              0.8888888888888888,
              "#fdca26"
             ],
             [
              1,
              "#f0f921"
             ]
            ],
            "type": "histogram2dcontour"
           }
          ],
          "mesh3d": [
           {
            "colorbar": {
             "outlinewidth": 0,
             "ticks": ""
            },
            "type": "mesh3d"
           }
          ],
          "parcoords": [
           {
            "line": {
             "colorbar": {
              "outlinewidth": 0,
              "ticks": ""
             }
            },
            "type": "parcoords"
           }
          ],
          "pie": [
           {
            "automargin": true,
            "type": "pie"
           }
          ],
          "scatter": [
           {
            "fillpattern": {
             "fillmode": "overlay",
             "size": 10,
             "solidity": 0.2
            },
            "type": "scatter"
           }
          ],
          "scatter3d": [
           {
            "line": {
             "colorbar": {
              "outlinewidth": 0,
              "ticks": ""
             }
            },
            "marker": {
             "colorbar": {
              "outlinewidth": 0,
              "ticks": ""
             }
            },
            "type": "scatter3d"
           }
          ],
          "scattercarpet": [
           {
            "marker": {
             "colorbar": {
              "outlinewidth": 0,
              "ticks": ""
             }
            },
            "type": "scattercarpet"
           }
          ],
          "scattergeo": [
           {
            "marker": {
             "colorbar": {
              "outlinewidth": 0,
              "ticks": ""
             }
            },
            "type": "scattergeo"
           }
          ],
          "scattergl": [
           {
            "marker": {
             "colorbar": {
              "outlinewidth": 0,
              "ticks": ""
             }
            },
            "type": "scattergl"
           }
          ],
          "scattermapbox": [
           {
            "marker": {
             "colorbar": {
              "outlinewidth": 0,
              "ticks": ""
             }
            },
            "type": "scattermapbox"
           }
          ],
          "scatterpolar": [
           {
            "marker": {
             "colorbar": {
              "outlinewidth": 0,
              "ticks": ""
             }
            },
            "type": "scatterpolar"
           }
          ],
          "scatterpolargl": [
           {
            "marker": {
             "colorbar": {
              "outlinewidth": 0,
              "ticks": ""
             }
            },
            "type": "scatterpolargl"
           }
          ],
          "scatterternary": [
           {
            "marker": {
             "colorbar": {
              "outlinewidth": 0,
              "ticks": ""
             }
            },
            "type": "scatterternary"
           }
          ],
          "surface": [
           {
            "colorbar": {
             "outlinewidth": 0,
             "ticks": ""
            },
            "colorscale": [
             [
              0,
              "#0d0887"
             ],
             [
              0.1111111111111111,
              "#46039f"
             ],
             [
              0.2222222222222222,
              "#7201a8"
             ],
             [
              0.3333333333333333,
              "#9c179e"
             ],
             [
              0.4444444444444444,
              "#bd3786"
             ],
             [
              0.5555555555555556,
              "#d8576b"
             ],
             [
              0.6666666666666666,
              "#ed7953"
             ],
             [
              0.7777777777777778,
              "#fb9f3a"
             ],
             [
              0.8888888888888888,
              "#fdca26"
             ],
             [
              1,
              "#f0f921"
             ]
            ],
            "type": "surface"
           }
          ],
          "table": [
           {
            "cells": {
             "fill": {
              "color": "#EBF0F8"
             },
             "line": {
              "color": "white"
             }
            },
            "header": {
             "fill": {
              "color": "#C8D4E3"
             },
             "line": {
              "color": "white"
             }
            },
            "type": "table"
           }
          ]
         },
         "layout": {
          "annotationdefaults": {
           "arrowcolor": "#2a3f5f",
           "arrowhead": 0,
           "arrowwidth": 1
          },
          "autotypenumbers": "strict",
          "coloraxis": {
           "colorbar": {
            "outlinewidth": 0,
            "ticks": ""
           }
          },
          "colorscale": {
           "diverging": [
            [
             0,
             "#8e0152"
            ],
            [
             0.1,
             "#c51b7d"
            ],
            [
             0.2,
             "#de77ae"
            ],
            [
             0.3,
             "#f1b6da"
            ],
            [
             0.4,
             "#fde0ef"
            ],
            [
             0.5,
             "#f7f7f7"
            ],
            [
             0.6,
             "#e6f5d0"
            ],
            [
             0.7,
             "#b8e186"
            ],
            [
             0.8,
             "#7fbc41"
            ],
            [
             0.9,
             "#4d9221"
            ],
            [
             1,
             "#276419"
            ]
           ],
           "sequential": [
            [
             0,
             "#0d0887"
            ],
            [
             0.1111111111111111,
             "#46039f"
            ],
            [
             0.2222222222222222,
             "#7201a8"
            ],
            [
             0.3333333333333333,
             "#9c179e"
            ],
            [
             0.4444444444444444,
             "#bd3786"
            ],
            [
             0.5555555555555556,
             "#d8576b"
            ],
            [
             0.6666666666666666,
             "#ed7953"
            ],
            [
             0.7777777777777778,
             "#fb9f3a"
            ],
            [
             0.8888888888888888,
             "#fdca26"
            ],
            [
             1,
             "#f0f921"
            ]
           ],
           "sequentialminus": [
            [
             0,
             "#0d0887"
            ],
            [
             0.1111111111111111,
             "#46039f"
            ],
            [
             0.2222222222222222,
             "#7201a8"
            ],
            [
             0.3333333333333333,
             "#9c179e"
            ],
            [
             0.4444444444444444,
             "#bd3786"
            ],
            [
             0.5555555555555556,
             "#d8576b"
            ],
            [
             0.6666666666666666,
             "#ed7953"
            ],
            [
             0.7777777777777778,
             "#fb9f3a"
            ],
            [
             0.8888888888888888,
             "#fdca26"
            ],
            [
             1,
             "#f0f921"
            ]
           ]
          },
          "colorway": [
           "#636efa",
           "#EF553B",
           "#00cc96",
           "#ab63fa",
           "#FFA15A",
           "#19d3f3",
           "#FF6692",
           "#B6E880",
           "#FF97FF",
           "#FECB52"
          ],
          "font": {
           "color": "#2a3f5f"
          },
          "geo": {
           "bgcolor": "white",
           "lakecolor": "white",
           "landcolor": "#E5ECF6",
           "showlakes": true,
           "showland": true,
           "subunitcolor": "white"
          },
          "hoverlabel": {
           "align": "left"
          },
          "hovermode": "closest",
          "mapbox": {
           "style": "light"
          },
          "paper_bgcolor": "white",
          "plot_bgcolor": "#E5ECF6",
          "polar": {
           "angularaxis": {
            "gridcolor": "white",
            "linecolor": "white",
            "ticks": ""
           },
           "bgcolor": "#E5ECF6",
           "radialaxis": {
            "gridcolor": "white",
            "linecolor": "white",
            "ticks": ""
           }
          },
          "scene": {
           "xaxis": {
            "backgroundcolor": "#E5ECF6",
            "gridcolor": "white",
            "gridwidth": 2,
            "linecolor": "white",
            "showbackground": true,
            "ticks": "",
            "zerolinecolor": "white"
           },
           "yaxis": {
            "backgroundcolor": "#E5ECF6",
            "gridcolor": "white",
            "gridwidth": 2,
            "linecolor": "white",
            "showbackground": true,
            "ticks": "",
            "zerolinecolor": "white"
           },
           "zaxis": {
            "backgroundcolor": "#E5ECF6",
            "gridcolor": "white",
            "gridwidth": 2,
            "linecolor": "white",
            "showbackground": true,
            "ticks": "",
            "zerolinecolor": "white"
           }
          },
          "shapedefaults": {
           "line": {
            "color": "#2a3f5f"
           }
          },
          "ternary": {
           "aaxis": {
            "gridcolor": "white",
            "linecolor": "white",
            "ticks": ""
           },
           "baxis": {
            "gridcolor": "white",
            "linecolor": "white",
            "ticks": ""
           },
           "bgcolor": "#E5ECF6",
           "caxis": {
            "gridcolor": "white",
            "linecolor": "white",
            "ticks": ""
           }
          },
          "title": {
           "x": 0.05
          },
          "xaxis": {
           "automargin": true,
           "gridcolor": "white",
           "linecolor": "white",
           "ticks": "",
           "title": {
            "standoff": 15
           },
           "zerolinecolor": "white",
           "zerolinewidth": 2
          },
          "yaxis": {
           "automargin": true,
           "gridcolor": "white",
           "linecolor": "white",
           "ticks": "",
           "title": {
            "standoff": 15
           },
           "zerolinecolor": "white",
           "zerolinewidth": 2
          }
         }
        },
        "title": {
         "text": "SibSp"
        },
        "xaxis": {
         "anchor": "y",
         "domain": [
          0,
          1
         ],
         "title": {
          "text": "index"
         }
        },
        "yaxis": {
         "anchor": "x",
         "domain": [
          0,
          1
         ],
         "title": {
          "text": "value"
         }
        }
       }
      }
     },
     "metadata": {},
     "output_type": "display_data"
    },
    {
     "data": {
      "application/vnd.plotly.v1+json": {
       "config": {
        "plotlyServerURL": "https://plot.ly"
       },
       "data": [
        {
         "alignmentgroup": "True",
         "hovertemplate": "variable=Parch<br>index=%{x}<br>value=%{y}<extra></extra>",
         "legendgroup": "Parch",
         "marker": {
          "color": "#636efa",
          "pattern": {
           "shape": ""
          }
         },
         "name": "Parch",
         "offsetgroup": "Parch",
         "orientation": "v",
         "showlegend": true,
         "textposition": "auto",
         "type": "bar",
         "x": [
          0,
          1,
          2,
          3,
          5,
          4,
          6,
          9
         ],
         "xaxis": "x",
         "y": [
          1002,
          170,
          113,
          8,
          6,
          6,
          2,
          2
         ],
         "yaxis": "y"
        }
       ],
       "layout": {
        "barmode": "relative",
        "legend": {
         "title": {
          "text": "variable"
         },
         "tracegroupgap": 0
        },
        "template": {
         "data": {
          "bar": [
           {
            "error_x": {
             "color": "#2a3f5f"
            },
            "error_y": {
             "color": "#2a3f5f"
            },
            "marker": {
             "line": {
              "color": "#E5ECF6",
              "width": 0.5
             },
             "pattern": {
              "fillmode": "overlay",
              "size": 10,
              "solidity": 0.2
             }
            },
            "type": "bar"
           }
          ],
          "barpolar": [
           {
            "marker": {
             "line": {
              "color": "#E5ECF6",
              "width": 0.5
             },
             "pattern": {
              "fillmode": "overlay",
              "size": 10,
              "solidity": 0.2
             }
            },
            "type": "barpolar"
           }
          ],
          "carpet": [
           {
            "aaxis": {
             "endlinecolor": "#2a3f5f",
             "gridcolor": "white",
             "linecolor": "white",
             "minorgridcolor": "white",
             "startlinecolor": "#2a3f5f"
            },
            "baxis": {
             "endlinecolor": "#2a3f5f",
             "gridcolor": "white",
             "linecolor": "white",
             "minorgridcolor": "white",
             "startlinecolor": "#2a3f5f"
            },
            "type": "carpet"
           }
          ],
          "choropleth": [
           {
            "colorbar": {
             "outlinewidth": 0,
             "ticks": ""
            },
            "type": "choropleth"
           }
          ],
          "contour": [
           {
            "colorbar": {
             "outlinewidth": 0,
             "ticks": ""
            },
            "colorscale": [
             [
              0,
              "#0d0887"
             ],
             [
              0.1111111111111111,
              "#46039f"
             ],
             [
              0.2222222222222222,
              "#7201a8"
             ],
             [
              0.3333333333333333,
              "#9c179e"
             ],
             [
              0.4444444444444444,
              "#bd3786"
             ],
             [
              0.5555555555555556,
              "#d8576b"
             ],
             [
              0.6666666666666666,
              "#ed7953"
             ],
             [
              0.7777777777777778,
              "#fb9f3a"
             ],
             [
              0.8888888888888888,
              "#fdca26"
             ],
             [
              1,
              "#f0f921"
             ]
            ],
            "type": "contour"
           }
          ],
          "contourcarpet": [
           {
            "colorbar": {
             "outlinewidth": 0,
             "ticks": ""
            },
            "type": "contourcarpet"
           }
          ],
          "heatmap": [
           {
            "colorbar": {
             "outlinewidth": 0,
             "ticks": ""
            },
            "colorscale": [
             [
              0,
              "#0d0887"
             ],
             [
              0.1111111111111111,
              "#46039f"
             ],
             [
              0.2222222222222222,
              "#7201a8"
             ],
             [
              0.3333333333333333,
              "#9c179e"
             ],
             [
              0.4444444444444444,
              "#bd3786"
             ],
             [
              0.5555555555555556,
              "#d8576b"
             ],
             [
              0.6666666666666666,
              "#ed7953"
             ],
             [
              0.7777777777777778,
              "#fb9f3a"
             ],
             [
              0.8888888888888888,
              "#fdca26"
             ],
             [
              1,
              "#f0f921"
             ]
            ],
            "type": "heatmap"
           }
          ],
          "heatmapgl": [
           {
            "colorbar": {
             "outlinewidth": 0,
             "ticks": ""
            },
            "colorscale": [
             [
              0,
              "#0d0887"
             ],
             [
              0.1111111111111111,
              "#46039f"
             ],
             [
              0.2222222222222222,
              "#7201a8"
             ],
             [
              0.3333333333333333,
              "#9c179e"
             ],
             [
              0.4444444444444444,
              "#bd3786"
             ],
             [
              0.5555555555555556,
              "#d8576b"
             ],
             [
              0.6666666666666666,
              "#ed7953"
             ],
             [
              0.7777777777777778,
              "#fb9f3a"
             ],
             [
              0.8888888888888888,
              "#fdca26"
             ],
             [
              1,
              "#f0f921"
             ]
            ],
            "type": "heatmapgl"
           }
          ],
          "histogram": [
           {
            "marker": {
             "pattern": {
              "fillmode": "overlay",
              "size": 10,
              "solidity": 0.2
             }
            },
            "type": "histogram"
           }
          ],
          "histogram2d": [
           {
            "colorbar": {
             "outlinewidth": 0,
             "ticks": ""
            },
            "colorscale": [
             [
              0,
              "#0d0887"
             ],
             [
              0.1111111111111111,
              "#46039f"
             ],
             [
              0.2222222222222222,
              "#7201a8"
             ],
             [
              0.3333333333333333,
              "#9c179e"
             ],
             [
              0.4444444444444444,
              "#bd3786"
             ],
             [
              0.5555555555555556,
              "#d8576b"
             ],
             [
              0.6666666666666666,
              "#ed7953"
             ],
             [
              0.7777777777777778,
              "#fb9f3a"
             ],
             [
              0.8888888888888888,
              "#fdca26"
             ],
             [
              1,
              "#f0f921"
             ]
            ],
            "type": "histogram2d"
           }
          ],
          "histogram2dcontour": [
           {
            "colorbar": {
             "outlinewidth": 0,
             "ticks": ""
            },
            "colorscale": [
             [
              0,
              "#0d0887"
             ],
             [
              0.1111111111111111,
              "#46039f"
             ],
             [
              0.2222222222222222,
              "#7201a8"
             ],
             [
              0.3333333333333333,
              "#9c179e"
             ],
             [
              0.4444444444444444,
              "#bd3786"
             ],
             [
              0.5555555555555556,
              "#d8576b"
             ],
             [
              0.6666666666666666,
              "#ed7953"
             ],
             [
              0.7777777777777778,
              "#fb9f3a"
             ],
             [
              0.8888888888888888,
              "#fdca26"
             ],
             [
              1,
              "#f0f921"
             ]
            ],
            "type": "histogram2dcontour"
           }
          ],
          "mesh3d": [
           {
            "colorbar": {
             "outlinewidth": 0,
             "ticks": ""
            },
            "type": "mesh3d"
           }
          ],
          "parcoords": [
           {
            "line": {
             "colorbar": {
              "outlinewidth": 0,
              "ticks": ""
             }
            },
            "type": "parcoords"
           }
          ],
          "pie": [
           {
            "automargin": true,
            "type": "pie"
           }
          ],
          "scatter": [
           {
            "fillpattern": {
             "fillmode": "overlay",
             "size": 10,
             "solidity": 0.2
            },
            "type": "scatter"
           }
          ],
          "scatter3d": [
           {
            "line": {
             "colorbar": {
              "outlinewidth": 0,
              "ticks": ""
             }
            },
            "marker": {
             "colorbar": {
              "outlinewidth": 0,
              "ticks": ""
             }
            },
            "type": "scatter3d"
           }
          ],
          "scattercarpet": [
           {
            "marker": {
             "colorbar": {
              "outlinewidth": 0,
              "ticks": ""
             }
            },
            "type": "scattercarpet"
           }
          ],
          "scattergeo": [
           {
            "marker": {
             "colorbar": {
              "outlinewidth": 0,
              "ticks": ""
             }
            },
            "type": "scattergeo"
           }
          ],
          "scattergl": [
           {
            "marker": {
             "colorbar": {
              "outlinewidth": 0,
              "ticks": ""
             }
            },
            "type": "scattergl"
           }
          ],
          "scattermapbox": [
           {
            "marker": {
             "colorbar": {
              "outlinewidth": 0,
              "ticks": ""
             }
            },
            "type": "scattermapbox"
           }
          ],
          "scatterpolar": [
           {
            "marker": {
             "colorbar": {
              "outlinewidth": 0,
              "ticks": ""
             }
            },
            "type": "scatterpolar"
           }
          ],
          "scatterpolargl": [
           {
            "marker": {
             "colorbar": {
              "outlinewidth": 0,
              "ticks": ""
             }
            },
            "type": "scatterpolargl"
           }
          ],
          "scatterternary": [
           {
            "marker": {
             "colorbar": {
              "outlinewidth": 0,
              "ticks": ""
             }
            },
            "type": "scatterternary"
           }
          ],
          "surface": [
           {
            "colorbar": {
             "outlinewidth": 0,
             "ticks": ""
            },
            "colorscale": [
             [
              0,
              "#0d0887"
             ],
             [
              0.1111111111111111,
              "#46039f"
             ],
             [
              0.2222222222222222,
              "#7201a8"
             ],
             [
              0.3333333333333333,
              "#9c179e"
             ],
             [
              0.4444444444444444,
              "#bd3786"
             ],
             [
              0.5555555555555556,
              "#d8576b"
             ],
             [
              0.6666666666666666,
              "#ed7953"
             ],
             [
              0.7777777777777778,
              "#fb9f3a"
             ],
             [
              0.8888888888888888,
              "#fdca26"
             ],
             [
              1,
              "#f0f921"
             ]
            ],
            "type": "surface"
           }
          ],
          "table": [
           {
            "cells": {
             "fill": {
              "color": "#EBF0F8"
             },
             "line": {
              "color": "white"
             }
            },
            "header": {
             "fill": {
              "color": "#C8D4E3"
             },
             "line": {
              "color": "white"
             }
            },
            "type": "table"
           }
          ]
         },
         "layout": {
          "annotationdefaults": {
           "arrowcolor": "#2a3f5f",
           "arrowhead": 0,
           "arrowwidth": 1
          },
          "autotypenumbers": "strict",
          "coloraxis": {
           "colorbar": {
            "outlinewidth": 0,
            "ticks": ""
           }
          },
          "colorscale": {
           "diverging": [
            [
             0,
             "#8e0152"
            ],
            [
             0.1,
             "#c51b7d"
            ],
            [
             0.2,
             "#de77ae"
            ],
            [
             0.3,
             "#f1b6da"
            ],
            [
             0.4,
             "#fde0ef"
            ],
            [
             0.5,
             "#f7f7f7"
            ],
            [
             0.6,
             "#e6f5d0"
            ],
            [
             0.7,
             "#b8e186"
            ],
            [
             0.8,
             "#7fbc41"
            ],
            [
             0.9,
             "#4d9221"
            ],
            [
             1,
             "#276419"
            ]
           ],
           "sequential": [
            [
             0,
             "#0d0887"
            ],
            [
             0.1111111111111111,
             "#46039f"
            ],
            [
             0.2222222222222222,
             "#7201a8"
            ],
            [
             0.3333333333333333,
             "#9c179e"
            ],
            [
             0.4444444444444444,
             "#bd3786"
            ],
            [
             0.5555555555555556,
             "#d8576b"
            ],
            [
             0.6666666666666666,
             "#ed7953"
            ],
            [
             0.7777777777777778,
             "#fb9f3a"
            ],
            [
             0.8888888888888888,
             "#fdca26"
            ],
            [
             1,
             "#f0f921"
            ]
           ],
           "sequentialminus": [
            [
             0,
             "#0d0887"
            ],
            [
             0.1111111111111111,
             "#46039f"
            ],
            [
             0.2222222222222222,
             "#7201a8"
            ],
            [
             0.3333333333333333,
             "#9c179e"
            ],
            [
             0.4444444444444444,
             "#bd3786"
            ],
            [
             0.5555555555555556,
             "#d8576b"
            ],
            [
             0.6666666666666666,
             "#ed7953"
            ],
            [
             0.7777777777777778,
             "#fb9f3a"
            ],
            [
             0.8888888888888888,
             "#fdca26"
            ],
            [
             1,
             "#f0f921"
            ]
           ]
          },
          "colorway": [
           "#636efa",
           "#EF553B",
           "#00cc96",
           "#ab63fa",
           "#FFA15A",
           "#19d3f3",
           "#FF6692",
           "#B6E880",
           "#FF97FF",
           "#FECB52"
          ],
          "font": {
           "color": "#2a3f5f"
          },
          "geo": {
           "bgcolor": "white",
           "lakecolor": "white",
           "landcolor": "#E5ECF6",
           "showlakes": true,
           "showland": true,
           "subunitcolor": "white"
          },
          "hoverlabel": {
           "align": "left"
          },
          "hovermode": "closest",
          "mapbox": {
           "style": "light"
          },
          "paper_bgcolor": "white",
          "plot_bgcolor": "#E5ECF6",
          "polar": {
           "angularaxis": {
            "gridcolor": "white",
            "linecolor": "white",
            "ticks": ""
           },
           "bgcolor": "#E5ECF6",
           "radialaxis": {
            "gridcolor": "white",
            "linecolor": "white",
            "ticks": ""
           }
          },
          "scene": {
           "xaxis": {
            "backgroundcolor": "#E5ECF6",
            "gridcolor": "white",
            "gridwidth": 2,
            "linecolor": "white",
            "showbackground": true,
            "ticks": "",
            "zerolinecolor": "white"
           },
           "yaxis": {
            "backgroundcolor": "#E5ECF6",
            "gridcolor": "white",
            "gridwidth": 2,
            "linecolor": "white",
            "showbackground": true,
            "ticks": "",
            "zerolinecolor": "white"
           },
           "zaxis": {
            "backgroundcolor": "#E5ECF6",
            "gridcolor": "white",
            "gridwidth": 2,
            "linecolor": "white",
            "showbackground": true,
            "ticks": "",
            "zerolinecolor": "white"
           }
          },
          "shapedefaults": {
           "line": {
            "color": "#2a3f5f"
           }
          },
          "ternary": {
           "aaxis": {
            "gridcolor": "white",
            "linecolor": "white",
            "ticks": ""
           },
           "baxis": {
            "gridcolor": "white",
            "linecolor": "white",
            "ticks": ""
           },
           "bgcolor": "#E5ECF6",
           "caxis": {
            "gridcolor": "white",
            "linecolor": "white",
            "ticks": ""
           }
          },
          "title": {
           "x": 0.05
          },
          "xaxis": {
           "automargin": true,
           "gridcolor": "white",
           "linecolor": "white",
           "ticks": "",
           "title": {
            "standoff": 15
           },
           "zerolinecolor": "white",
           "zerolinewidth": 2
          },
          "yaxis": {
           "automargin": true,
           "gridcolor": "white",
           "linecolor": "white",
           "ticks": "",
           "title": {
            "standoff": 15
           },
           "zerolinecolor": "white",
           "zerolinewidth": 2
          }
         }
        },
        "title": {
         "text": "Parch"
        },
        "xaxis": {
         "anchor": "y",
         "domain": [
          0,
          1
         ],
         "title": {
          "text": "index"
         }
        },
        "yaxis": {
         "anchor": "x",
         "domain": [
          0,
          1
         ],
         "title": {
          "text": "value"
         }
        }
       }
      }
     },
     "metadata": {},
     "output_type": "display_data"
    },
    {
     "data": {
      "application/vnd.plotly.v1+json": {
       "config": {
        "plotlyServerURL": "https://plot.ly"
       },
       "data": [
        {
         "alignmentgroup": "True",
         "hovertemplate": "variable=Ticket<br>index=%{x}<br>value=%{y}<extra></extra>",
         "legendgroup": "Ticket",
         "marker": {
          "color": "#636efa",
          "pattern": {
           "shape": ""
          }
         },
         "name": "Ticket",
         "offsetgroup": "Ticket",
         "orientation": "v",
         "showlegend": true,
         "textposition": "auto",
         "type": "bar",
         "x": [
          "CA. 2343",
          "CA 2144",
          "1601",
          "PC 17608",
          "S.O.C. 14879",
          "347077",
          "347082",
          "3101295",
          "19950",
          "113781",
          "347088",
          "382652",
          "4133",
          "W./C. 6608",
          "PC 17757",
          "349909",
          "220845",
          "113503",
          "16966",
          "LINE",
          "C.A. 33112",
          "PC 17755",
          "C.A. 34651",
          "12749",
          "PC 17760",
          "230136",
          "SC/Paris 2123",
          "W./C. 6607",
          "PC 17483",
          "2666",
          "C.A. 2315",
          "17421",
          "113760",
          "24160",
          "36928",
          "S.C./PARIS 2079",
          "315153",
          "371110",
          "PC 17761",
          "PC 17558",
          "230080",
          "363291",
          "248727",
          "2668",
          "2678",
          "A/5. 851",
          "A/4 48871",
          "370129",
          "35273",
          "PC 17756",
          "28220",
          "345773",
          "347080",
          "2653",
          "C.A. 31029",
          "33638",
          "C.A. 37671",
          "F.C.C. 13529",
          "11767",
          "PC 17758",
          "367226",
          "19877",
          "SOTON/O.Q. 3101315",
          "C.A. 2673",
          "239853",
          "13502",
          "PC 17582",
          "110413",
          "110152",
          "2650",
          "248738",
          "26360",
          "19928",
          "C 4001",
          "C.A. 31921",
          "29103",
          "29106",
          "2662",
          "347742",
          "2661",
          "PP 9549",
          "29750",
          "PC 17569",
          "PC 17572",
          "364516",
          "349237",
          "21228",
          "17453",
          "F.C.C. 13528",
          "11813",
          "17464",
          "243847",
          "347054",
          "112378",
          "PC 17611",
          "370371",
          "111361",
          "2699",
          "24065",
          "364498",
          "113806",
          "236853",
          "2625",
          "PC 17599",
          "113509",
          "2926",
          "13508",
          "370365",
          "364849",
          "345572",
          "11778",
          "386525",
          "244358",
          "112058",
          "2908",
          "WE/P 5735",
          "19943",
          "226875",
          "SC/PARIS 2167",
          "230433",
          "239865",
          "350026",
          "PC 17485",
          "C.A. 6212",
          "PC 17604",
          "P/PP 3381",
          "113798",
          "250644",
          "36947",
          "19996",
          "F.C. 12750",
          "350405",
          "250647",
          "31027",
          "11967",
          "113789",
          "36568",
          "13050",
          "250651",
          "PC 17603",
          "26707",
          "345763",
          "367230",
          "S.O./P.P. 2",
          "11668",
          "PC 17592",
          "250649",
          "11751",
          "244252",
          "392091",
          "A/5. 3336",
          "2651",
          "345764",
          "PC 17585",
          "347072",
          "3101298",
          "113505",
          "113796",
          "28664",
          "237736",
          "13236",
          "228414",
          "A/5. 3337",
          "17463",
          "250655",
          "29105",
          "SC/AH 29037",
          "2003",
          "54636",
          "W.E.P. 5734",
          "17474",
          "S.O./P.P. 3",
          "2627",
          "7534",
          "11753",
          "2659",
          "PC 17759",
          "349256",
          "2665",
          "110465",
          "376566",
          "349910",
          "231919",
          "244367",
          "113803",
          "F.C.C. 13534",
          "28403",
          "35281",
          "3101278",
          "13567",
          "358585",
          "PC 17477",
          "2691",
          "113773",
          "392096",
          "11769",
          "C.A. 33595",
          "371362",
          "13507",
          "110813",
          "113059",
          "2660",
          "PC 17597",
          "13695",
          "PC 17593",
          "113572",
          "2680",
          "36973",
          "STON/O2. 3101279",
          "376564",
          "237789",
          "SC/AH 3085",
          "2689",
          "11765",
          "113776",
          "CA 31352",
          "370374",
          "349217",
          "SOTON/O.Q. 3101263",
          "112053",
          "349257",
          "STON/O 2. 3101291",
          "113028",
          "7552",
          "C.A./SOTON 34068",
          "237249",
          "PC 17594",
          "348121",
          "SOTON/OQ 392076",
          "7545",
          "PC 17482",
          "211536",
          "363272",
          "113778",
          "2657",
          "2698",
          "C 17368",
          "2696",
          "STON/O2. 3101270",
          "113054",
          "349212",
          "2692",
          "36864",
          "350025",
          "233734",
          "694",
          "349220",
          "2682",
          "345768",
          "330972",
          "7538",
          "315154",
          "342712",
          "240276",
          "PC 17598",
          "223596",
          "330911",
          "315087",
          "370376",
          "PC 17476",
          "111369",
          "PC 17475",
          "C.A. 5547",
          "348124",
          "PC 17600",
          "2687",
          "113501",
          "233639",
          "SOTON/O.Q. 3101312",
          "28425",
          "374887",
          "3101265",
          "12460",
          "349203",
          "383121",
          "239855",
          "28213",
          "STON/O2. 3101271",
          "17465",
          "349244",
          "2685",
          "36866",
          "347089",
          "36865",
          "347078",
          "2667",
          "2663",
          "345780",
          "250648",
          "349204",
          "350042",
          "29108",
          "STON/O 2. 3101288",
          "363294",
          "SOTON/O2 3101272",
          "347074",
          "349201",
          "112379",
          "364850",
          "8471",
          "345781",
          "350047",
          "16988",
          "2674",
          "349218",
          "347063",
          "112050",
          "347087",
          "34218",
          "349213",
          "347060",
          "12233",
          "350048",
          "347062",
          "113055",
          "2629",
          "28134",
          "17466",
          "248723",
          "233866",
          "236852",
          "SC/PARIS 2149",
          "PC 17590",
          "345777",
          "349248",
          "695",
          "345765",
          "335097",
          "250643",
          "315090",
          "2683",
          "SC/PARIS 2168",
          "28206",
          "364499",
          "STON/O2. 3101290",
          "315094",
          "C 7075",
          "315098",
          "19972",
          "368323",
          "367228",
          "2671",
          "347468",
          "2223",
          "315097",
          "392092",
          "11774",
          "SOTON/O2 3101287",
          "3474",
          "A/5 21171",
          "SC/A.3 2861",
          "349202",
          "315085",
          "364859",
          "A/5 21175",
          "SOTON/O.Q. 3101314",
          "2655",
          "A/5 1478",
          "PC 17607",
          "382650",
          "2652",
          "345771",
          "113801",
          "SC 14888",
          "347467",
          "347079",
          "237735",
          "315092",
          "383123",
          "112901",
          "315091",
          "2658",
          "LP 1588",
          "368364",
          "W./C. 14260",
          "2676",
          "242963",
          "C.A. 42795",
          "3101266",
          "330971",
          "350416",
          "2679",
          "250650",
          "112377",
          "3470",
          "SOTON/O2 3101284",
          "7266",
          "345775",
          "AQ/4 3130",
          "368573",
          "363611",
          "28404",
          "345501",
          "350410",
          "C.A. 34644",
          "349235",
          "112051",
          "C.A. 49867",
          "A. 2. 39186",
          "315095",
          "AQ/3. 30631",
          "28004",
          "350408",
          "C.A. 30769",
          "248746",
          "315152",
          "29107",
          "680",
          "366713",
          "330910",
          "SC/PARIS 2159",
          "349911",
          "244346",
          "364858",
          "371109",
          "347075",
          "347065",
          "21332",
          "17765",
          "SC/PARIS 2166",
          "28666",
          "334915",
          "365237",
          "347086",
          "A.5. 3236",
          "SOTON/O.Q. 3101262",
          "28133",
          "SC/PARIS 2147",
          "315083",
          "368402",
          "2654",
          "244368",
          "113790",
          "SOTON/O.Q. 3101309",
          "236854",
          "PC 17580",
          "2684",
          "349229",
          "110469",
          "244360",
          "2675",
          "2622",
          "C.A. 15185",
          "350403",
          "348125",
          "237670",
          "2688",
          "248726",
          "F.C.C. 13540",
          "113044",
          "1222",
          "113795",
          "370368",
          "349230",
          "PC 17531",
          "347471",
          "A./5. 3338",
          "365235",
          "347070",
          "330920",
          "383162",
          "3410",
          "248734",
          "237734",
          "330968",
          "329944",
          "350033",
          "2681",
          "367227",
          "392095",
          "368783",
          "350045",
          "211535",
          "363592",
          "342441",
          "STON/OQ. 369943",
          "113780",
          "STON/O 2. 3101268",
          "13905",
          "350054",
          "PC 17562",
          "348122",
          "349232",
          "237216",
          "347090",
          "334914",
          "330963",
          "2543",
          "382653",
          "349211",
          "3101297",
          "359306",
          "376563",
          "11770",
          "248744",
          "368702",
          "19924",
          "349238",
          "240261",
          "330844",
          "A/4 31416",
          "364856",
          "345498",
          "2621",
          "349226",
          "350409",
          "PC 17613",
          "111163",
          "235509",
          "347465",
          "347066",
          "C.A. 31030",
          "65305",
          "C.A. 34050",
          "F.C. 12998",
          "9232",
          "28034",
          "349250",
          "2656",
          "SOTON/O.Q. 3101308",
          "347091",
          "113038",
          "330924",
          "32302",
          "SC/PARIS 2148",
          "342684",
          "W./C. 14266",
          "350053",
          "PC 17606",
          "28221",
          "A/4 48873",
          "239059",
          "7935",
          "248659",
          "SOTON/OQ 392083",
          "17475",
          "SC/A4 23568",
          "113791",
          "349255",
          "3701",
          "S.O./P.P. 752",
          "347469",
          "110489",
          "335432",
          "220844",
          "343271",
          "237393",
          "PC 17591",
          "17770",
          "7548",
          "S.O./P.P. 251",
          "2670",
          "2673",
          "233478",
          "35852",
          "218629",
          "248731",
          "237442",
          "SOTON/OQ 392089",
          "220367",
          "21440",
          "349234",
          "PP 4348",
          "SW/PP 751",
          "A/5 21173",
          "236171",
          "347067",
          "C.A. 29566",
          "112059",
          "W./C. 6609",
          "28665",
          "SCO/W 1585",
          "W./C. 14263",
          "STON/O 2. 3101275",
          "2694",
          "347071",
          "362316",
          "113514",
          "W/C 14208",
          "STON/O2. 3101283",
          "367229",
          "250646",
          "113767",
          "111428",
          "349247",
          "234604",
          "28424",
          "350046",
          "PC 17610",
          "368703",
          "4579",
          "370370",
          "248747",
          "345770",
          "3101264",
          "2628",
          "A/5 3540",
          "367231",
          "112277",
          "SOTON/O.Q. 3101311",
          "A/5 21174",
          "384461",
          "382649",
          "2647",
          "349225",
          "349243",
          "347470",
          "29011",
          "A/5 21172",
          "349219",
          "234818",
          "345364",
          "28551",
          "113043",
          "7598",
          "C.A. 17248",
          "113784",
          "248740",
          "244361",
          "229236",
          "248733",
          "31418",
          "315088",
          "7267",
          "113510",
          "A/5 2466",
          "226593",
          "9234",
          "19988",
          "347083",
          "PC 17596",
          "370375",
          "347073",
          "336439",
          "347464",
          "345778",
          "A/5. 10482",
          "113056",
          "349239",
          "345774",
          "349206",
          "237798",
          "370373",
          "SC/Paris 2163",
          "349236",
          "349233",
          "PC 17612",
          "2693",
          "SC/PARIS 2131",
          "250653",
          "PC 17595",
          "S.P. 3464",
          "S.C./A.4. 23567",
          "14311",
          "A/4. 39886",
          "19947",
          "C.A. 31026",
          "2697",
          "2669",
          "PC 17605",
          "C.A. 29395",
          "3101281",
          "350404",
          "315151",
          "C.A. 33111",
          "348123",
          "349208",
          "374746",
          "345767",
          "345779",
          "330932",
          "SO/C 14885",
          "330958",
          "349253",
          "7546",
          "A./5. 2152",
          "STON/O2. 3101282",
          "373450",
          "330877",
          "113783",
          "A/5. 2151",
          "350406",
          "248706",
          "244373",
          "2649",
          "248698",
          "330923",
          "113788",
          "2631",
          "330959",
          "349216",
          "PC 17601",
          "335677",
          "C.A. 24579",
          "2677",
          "SOTON/OQ 392086",
          "343275",
          "343276",
          "SOTON/O.Q. 3101307",
          "SC/PARIS 2133",
          "11752",
          "347081",
          "365222",
          "231945",
          "350043",
          "244310",
          "S.O.P. 1166",
          "A.5. 11206",
          "Fa 265302",
          "35851",
          "SOTON/OQ 392090",
          "315037",
          "347068",
          "315093",
          "PC 17318",
          "111240",
          "STON/O 2. 3101280",
          "17764",
          "C.A. 29178",
          "349241",
          "347466",
          "347061",
          "364500",
          "374910",
          "PC 17754",
          "349245",
          "349215",
          "7540",
          "3101276",
          "349207",
          "343120",
          "312991",
          "349249",
          "324669",
          "4136",
          "STON/O 2. 3101294",
          "370369",
          "A4. 54510",
          "27267",
          "370372",
          "C 17369",
          "2695",
          "345783",
          "113800",
          "13049",
          "349205",
          "2686",
          "350417",
          "S.W./PP 752",
          "PC 17474",
          "14312",
          "A/4. 20589",
          "243880",
          "STON/O 2. 3101286",
          "3411",
          "349246",
          "237565",
          "14973",
          "A./5. 3235",
          "STON/O 2. 3101273",
          "A/5 3902",
          "364848",
          "2664",
          "349214",
          "364511",
          "SOTON/O.Q. 392087",
          "SOTON/OQ 392082",
          "349251",
          "372622",
          "349252",
          "2624",
          "2700",
          "367232",
          "W./C. 14258",
          "3101296",
          "29104",
          "2641",
          "2690",
          "315084",
          "113050",
          "13568",
          "693",
          "SC/PARIS 2146",
          "330979",
          "2620",
          "347085",
          "113807",
          "11755",
          "111426",
          "113804",
          "237671",
          "C.A. 24580",
          "349223",
          "29751",
          "2623",
          "5727",
          "349210",
          "STON/O 2. 3101285",
          "234686",
          "312993",
          "A/5 3536",
          "244270",
          "SOTON/O.Q. 3101305",
          "239856",
          "349912",
          "342826",
          "4138",
          "330935",
          "6563",
          "349228",
          "350036",
          "2672",
          "365226",
          "330919",
          "8475",
          "349221",
          "370377",
          "364512",
          "31028",
          "350029",
          "36963",
          "219533",
          "349224",
          "334912",
          "27042",
          "347743",
          "13214",
          "112052",
          "237668",
          "STON/O 2. 3101292",
          "350050",
          "349231",
          "13213",
          "S.O./P.P. 751",
          "CA. 2314",
          "349242",
          "C.A. 34260",
          "36967",
          "250652",
          "341826",
          "4137",
          "315096",
          "347064",
          "312992",
          "349222",
          "394140",
          "STON/O 2. 3101269",
          "343095",
          "28228",
          "349209",
          "349254",
          "A/5. 13032",
          "315082",
          "A/4. 34244",
          "364851",
          "SOTON/O.Q. 392078",
          "110564",
          "STON/O 2. 3101274",
          "C.A. 18723",
          "STON/O 2. 3101289",
          "240929",
          "244278",
          "350407",
          "330931",
          "330980",
          "SOTON/O.Q. 3101310",
          "C 7076",
          "2626",
          "14313",
          "3101267",
          "323951",
          "C 7077",
          "2648",
          "347069",
          "STON/O 2. 3101293",
          "349227",
          "27849",
          "367655",
          "SC 1748",
          "350034",
          "3101277",
          "350052",
          "345769",
          "347076",
          "230434",
          "3460",
          "239854",
          "A/5 3594",
          "4134",
          "11771",
          "A.5. 18509",
          "65304",
          "SOTON/OQ 3101317",
          "113787",
          "PC 17609",
          "A/4 45380",
          "350035",
          "315086",
          "364846",
          "330909",
          "4135",
          "111427",
          "382651",
          "SOTON/OQ 3101316",
          "PC 17473",
          "350060",
          "7553",
          "65306",
          "SC/AH Basle 541",
          "113794",
          "113786",
          "65303",
          "113051",
          "A/5 2817",
          "349240",
          "13509",
          "F.C.C. 13531",
          "371060",
          "19952",
          "364506",
          "111320",
          "234360",
          "A/S 2816",
          "SOTON/O.Q. 3101306",
          "113792",
          "36209",
          "323592",
          "315089",
          "359309"
         ],
         "xaxis": "x",
         "y": [
          11,
          8,
          8,
          7,
          7,
          7,
          7,
          7,
          6,
          6,
          6,
          6,
          5,
          5,
          5,
          5,
          5,
          5,
          5,
          4,
          4,
          4,
          4,
          4,
          4,
          4,
          4,
          4,
          4,
          4,
          4,
          4,
          4,
          4,
          4,
          3,
          3,
          3,
          3,
          3,
          3,
          3,
          3,
          3,
          3,
          3,
          3,
          3,
          3,
          3,
          3,
          3,
          3,
          3,
          3,
          3,
          3,
          3,
          3,
          3,
          3,
          3,
          3,
          3,
          3,
          3,
          3,
          3,
          3,
          3,
          3,
          3,
          3,
          3,
          3,
          3,
          3,
          3,
          3,
          3,
          3,
          3,
          3,
          3,
          2,
          2,
          2,
          2,
          2,
          2,
          2,
          2,
          2,
          2,
          2,
          2,
          2,
          2,
          2,
          2,
          2,
          2,
          2,
          2,
          2,
          2,
          2,
          2,
          2,
          2,
          2,
          2,
          2,
          2,
          2,
          2,
          2,
          2,
          2,
          2,
          2,
          2,
          2,
          2,
          2,
          2,
          2,
          2,
          2,
          2,
          2,
          2,
          2,
          2,
          2,
          2,
          2,
          2,
          2,
          2,
          2,
          2,
          2,
          2,
          2,
          2,
          2,
          2,
          2,
          2,
          2,
          2,
          2,
          2,
          2,
          2,
          2,
          2,
          2,
          2,
          2,
          2,
          2,
          2,
          2,
          2,
          2,
          2,
          2,
          2,
          2,
          2,
          2,
          2,
          2,
          2,
          2,
          2,
          2,
          2,
          2,
          2,
          2,
          2,
          2,
          2,
          2,
          2,
          2,
          2,
          2,
          2,
          2,
          2,
          2,
          2,
          2,
          2,
          2,
          2,
          2,
          2,
          2,
          2,
          2,
          2,
          2,
          2,
          2,
          2,
          2,
          2,
          2,
          2,
          2,
          2,
          1,
          1,
          1,
          1,
          1,
          1,
          1,
          1,
          1,
          1,
          1,
          1,
          1,
          1,
          1,
          1,
          1,
          1,
          1,
          1,
          1,
          1,
          1,
          1,
          1,
          1,
          1,
          1,
          1,
          1,
          1,
          1,
          1,
          1,
          1,
          1,
          1,
          1,
          1,
          1,
          1,
          1,
          1,
          1,
          1,
          1,
          1,
          1,
          1,
          1,
          1,
          1,
          1,
          1,
          1,
          1,
          1,
          1,
          1,
          1,
          1,
          1,
          1,
          1,
          1,
          1,
          1,
          1,
          1,
          1,
          1,
          1,
          1,
          1,
          1,
          1,
          1,
          1,
          1,
          1,
          1,
          1,
          1,
          1,
          1,
          1,
          1,
          1,
          1,
          1,
          1,
          1,
          1,
          1,
          1,
          1,
          1,
          1,
          1,
          1,
          1,
          1,
          1,
          1,
          1,
          1,
          1,
          1,
          1,
          1,
          1,
          1,
          1,
          1,
          1,
          1,
          1,
          1,
          1,
          1,
          1,
          1,
          1,
          1,
          1,
          1,
          1,
          1,
          1,
          1,
          1,
          1,
          1,
          1,
          1,
          1,
          1,
          1,
          1,
          1,
          1,
          1,
          1,
          1,
          1,
          1,
          1,
          1,
          1,
          1,
          1,
          1,
          1,
          1,
          1,
          1,
          1,
          1,
          1,
          1,
          1,
          1,
          1,
          1,
          1,
          1,
          1,
          1,
          1,
          1,
          1,
          1,
          1,
          1,
          1,
          1,
          1,
          1,
          1,
          1,
          1,
          1,
          1,
          1,
          1,
          1,
          1,
          1,
          1,
          1,
          1,
          1,
          1,
          1,
          1,
          1,
          1,
          1,
          1,
          1,
          1,
          1,
          1,
          1,
          1,
          1,
          1,
          1,
          1,
          1,
          1,
          1,
          1,
          1,
          1,
          1,
          1,
          1,
          1,
          1,
          1,
          1,
          1,
          1,
          1,
          1,
          1,
          1,
          1,
          1,
          1,
          1,
          1,
          1,
          1,
          1,
          1,
          1,
          1,
          1,
          1,
          1,
          1,
          1,
          1,
          1,
          1,
          1,
          1,
          1,
          1,
          1,
          1,
          1,
          1,
          1,
          1,
          1,
          1,
          1,
          1,
          1,
          1,
          1,
          1,
          1,
          1,
          1,
          1,
          1,
          1,
          1,
          1,
          1,
          1,
          1,
          1,
          1,
          1,
          1,
          1,
          1,
          1,
          1,
          1,
          1,
          1,
          1,
          1,
          1,
          1,
          1,
          1,
          1,
          1,
          1,
          1,
          1,
          1,
          1,
          1,
          1,
          1,
          1,
          1,
          1,
          1,
          1,
          1,
          1,
          1,
          1,
          1,
          1,
          1,
          1,
          1,
          1,
          1,
          1,
          1,
          1,
          1,
          1,
          1,
          1,
          1,
          1,
          1,
          1,
          1,
          1,
          1,
          1,
          1,
          1,
          1,
          1,
          1,
          1,
          1,
          1,
          1,
          1,
          1,
          1,
          1,
          1,
          1,
          1,
          1,
          1,
          1,
          1,
          1,
          1,
          1,
          1,
          1,
          1,
          1,
          1,
          1,
          1,
          1,
          1,
          1,
          1,
          1,
          1,
          1,
          1,
          1,
          1,
          1,
          1,
          1,
          1,
          1,
          1,
          1,
          1,
          1,
          1,
          1,
          1,
          1,
          1,
          1,
          1,
          1,
          1,
          1,
          1,
          1,
          1,
          1,
          1,
          1,
          1,
          1,
          1,
          1,
          1,
          1,
          1,
          1,
          1,
          1,
          1,
          1,
          1,
          1,
          1,
          1,
          1,
          1,
          1,
          1,
          1,
          1,
          1,
          1,
          1,
          1,
          1,
          1,
          1,
          1,
          1,
          1,
          1,
          1,
          1,
          1,
          1,
          1,
          1,
          1,
          1,
          1,
          1,
          1,
          1,
          1,
          1,
          1,
          1,
          1,
          1,
          1,
          1,
          1,
          1,
          1,
          1,
          1,
          1,
          1,
          1,
          1,
          1,
          1,
          1,
          1,
          1,
          1,
          1,
          1,
          1,
          1,
          1,
          1,
          1,
          1,
          1,
          1,
          1,
          1,
          1,
          1,
          1,
          1,
          1,
          1,
          1,
          1,
          1,
          1,
          1,
          1,
          1,
          1,
          1,
          1,
          1,
          1,
          1,
          1,
          1,
          1,
          1,
          1,
          1,
          1,
          1,
          1,
          1,
          1,
          1,
          1,
          1,
          1,
          1,
          1,
          1,
          1,
          1,
          1,
          1,
          1,
          1,
          1,
          1,
          1,
          1,
          1,
          1,
          1,
          1,
          1,
          1,
          1,
          1,
          1,
          1,
          1,
          1,
          1,
          1,
          1,
          1,
          1,
          1,
          1,
          1,
          1,
          1,
          1,
          1,
          1,
          1,
          1,
          1,
          1,
          1,
          1,
          1,
          1,
          1,
          1,
          1,
          1,
          1,
          1,
          1,
          1,
          1,
          1,
          1,
          1,
          1,
          1,
          1,
          1,
          1,
          1,
          1,
          1,
          1,
          1,
          1,
          1,
          1,
          1,
          1,
          1,
          1,
          1,
          1,
          1,
          1,
          1,
          1,
          1,
          1,
          1,
          1,
          1,
          1,
          1,
          1,
          1,
          1,
          1,
          1,
          1,
          1,
          1,
          1,
          1,
          1,
          1,
          1,
          1,
          1,
          1,
          1,
          1,
          1,
          1,
          1,
          1,
          1,
          1,
          1,
          1,
          1,
          1,
          1,
          1,
          1,
          1,
          1,
          1,
          1,
          1,
          1,
          1,
          1,
          1,
          1,
          1,
          1,
          1,
          1,
          1,
          1,
          1,
          1,
          1,
          1,
          1,
          1,
          1,
          1,
          1,
          1,
          1,
          1,
          1,
          1,
          1,
          1,
          1,
          1,
          1,
          1,
          1,
          1,
          1,
          1,
          1,
          1,
          1,
          1,
          1,
          1,
          1,
          1,
          1,
          1,
          1,
          1,
          1,
          1,
          1,
          1,
          1,
          1,
          1,
          1,
          1,
          1,
          1,
          1,
          1,
          1,
          1,
          1,
          1,
          1,
          1,
          1,
          1,
          1,
          1,
          1,
          1,
          1,
          1,
          1,
          1
         ],
         "yaxis": "y"
        }
       ],
       "layout": {
        "barmode": "relative",
        "legend": {
         "title": {
          "text": "variable"
         },
         "tracegroupgap": 0
        },
        "template": {
         "data": {
          "bar": [
           {
            "error_x": {
             "color": "#2a3f5f"
            },
            "error_y": {
             "color": "#2a3f5f"
            },
            "marker": {
             "line": {
              "color": "#E5ECF6",
              "width": 0.5
             },
             "pattern": {
              "fillmode": "overlay",
              "size": 10,
              "solidity": 0.2
             }
            },
            "type": "bar"
           }
          ],
          "barpolar": [
           {
            "marker": {
             "line": {
              "color": "#E5ECF6",
              "width": 0.5
             },
             "pattern": {
              "fillmode": "overlay",
              "size": 10,
              "solidity": 0.2
             }
            },
            "type": "barpolar"
           }
          ],
          "carpet": [
           {
            "aaxis": {
             "endlinecolor": "#2a3f5f",
             "gridcolor": "white",
             "linecolor": "white",
             "minorgridcolor": "white",
             "startlinecolor": "#2a3f5f"
            },
            "baxis": {
             "endlinecolor": "#2a3f5f",
             "gridcolor": "white",
             "linecolor": "white",
             "minorgridcolor": "white",
             "startlinecolor": "#2a3f5f"
            },
            "type": "carpet"
           }
          ],
          "choropleth": [
           {
            "colorbar": {
             "outlinewidth": 0,
             "ticks": ""
            },
            "type": "choropleth"
           }
          ],
          "contour": [
           {
            "colorbar": {
             "outlinewidth": 0,
             "ticks": ""
            },
            "colorscale": [
             [
              0,
              "#0d0887"
             ],
             [
              0.1111111111111111,
              "#46039f"
             ],
             [
              0.2222222222222222,
              "#7201a8"
             ],
             [
              0.3333333333333333,
              "#9c179e"
             ],
             [
              0.4444444444444444,
              "#bd3786"
             ],
             [
              0.5555555555555556,
              "#d8576b"
             ],
             [
              0.6666666666666666,
              "#ed7953"
             ],
             [
              0.7777777777777778,
              "#fb9f3a"
             ],
             [
              0.8888888888888888,
              "#fdca26"
             ],
             [
              1,
              "#f0f921"
             ]
            ],
            "type": "contour"
           }
          ],
          "contourcarpet": [
           {
            "colorbar": {
             "outlinewidth": 0,
             "ticks": ""
            },
            "type": "contourcarpet"
           }
          ],
          "heatmap": [
           {
            "colorbar": {
             "outlinewidth": 0,
             "ticks": ""
            },
            "colorscale": [
             [
              0,
              "#0d0887"
             ],
             [
              0.1111111111111111,
              "#46039f"
             ],
             [
              0.2222222222222222,
              "#7201a8"
             ],
             [
              0.3333333333333333,
              "#9c179e"
             ],
             [
              0.4444444444444444,
              "#bd3786"
             ],
             [
              0.5555555555555556,
              "#d8576b"
             ],
             [
              0.6666666666666666,
              "#ed7953"
             ],
             [
              0.7777777777777778,
              "#fb9f3a"
             ],
             [
              0.8888888888888888,
              "#fdca26"
             ],
             [
              1,
              "#f0f921"
             ]
            ],
            "type": "heatmap"
           }
          ],
          "heatmapgl": [
           {
            "colorbar": {
             "outlinewidth": 0,
             "ticks": ""
            },
            "colorscale": [
             [
              0,
              "#0d0887"
             ],
             [
              0.1111111111111111,
              "#46039f"
             ],
             [
              0.2222222222222222,
              "#7201a8"
             ],
             [
              0.3333333333333333,
              "#9c179e"
             ],
             [
              0.4444444444444444,
              "#bd3786"
             ],
             [
              0.5555555555555556,
              "#d8576b"
             ],
             [
              0.6666666666666666,
              "#ed7953"
             ],
             [
              0.7777777777777778,
              "#fb9f3a"
             ],
             [
              0.8888888888888888,
              "#fdca26"
             ],
             [
              1,
              "#f0f921"
             ]
            ],
            "type": "heatmapgl"
           }
          ],
          "histogram": [
           {
            "marker": {
             "pattern": {
              "fillmode": "overlay",
              "size": 10,
              "solidity": 0.2
             }
            },
            "type": "histogram"
           }
          ],
          "histogram2d": [
           {
            "colorbar": {
             "outlinewidth": 0,
             "ticks": ""
            },
            "colorscale": [
             [
              0,
              "#0d0887"
             ],
             [
              0.1111111111111111,
              "#46039f"
             ],
             [
              0.2222222222222222,
              "#7201a8"
             ],
             [
              0.3333333333333333,
              "#9c179e"
             ],
             [
              0.4444444444444444,
              "#bd3786"
             ],
             [
              0.5555555555555556,
              "#d8576b"
             ],
             [
              0.6666666666666666,
              "#ed7953"
             ],
             [
              0.7777777777777778,
              "#fb9f3a"
             ],
             [
              0.8888888888888888,
              "#fdca26"
             ],
             [
              1,
              "#f0f921"
             ]
            ],
            "type": "histogram2d"
           }
          ],
          "histogram2dcontour": [
           {
            "colorbar": {
             "outlinewidth": 0,
             "ticks": ""
            },
            "colorscale": [
             [
              0,
              "#0d0887"
             ],
             [
              0.1111111111111111,
              "#46039f"
             ],
             [
              0.2222222222222222,
              "#7201a8"
             ],
             [
              0.3333333333333333,
              "#9c179e"
             ],
             [
              0.4444444444444444,
              "#bd3786"
             ],
             [
              0.5555555555555556,
              "#d8576b"
             ],
             [
              0.6666666666666666,
              "#ed7953"
             ],
             [
              0.7777777777777778,
              "#fb9f3a"
             ],
             [
              0.8888888888888888,
              "#fdca26"
             ],
             [
              1,
              "#f0f921"
             ]
            ],
            "type": "histogram2dcontour"
           }
          ],
          "mesh3d": [
           {
            "colorbar": {
             "outlinewidth": 0,
             "ticks": ""
            },
            "type": "mesh3d"
           }
          ],
          "parcoords": [
           {
            "line": {
             "colorbar": {
              "outlinewidth": 0,
              "ticks": ""
             }
            },
            "type": "parcoords"
           }
          ],
          "pie": [
           {
            "automargin": true,
            "type": "pie"
           }
          ],
          "scatter": [
           {
            "fillpattern": {
             "fillmode": "overlay",
             "size": 10,
             "solidity": 0.2
            },
            "type": "scatter"
           }
          ],
          "scatter3d": [
           {
            "line": {
             "colorbar": {
              "outlinewidth": 0,
              "ticks": ""
             }
            },
            "marker": {
             "colorbar": {
              "outlinewidth": 0,
              "ticks": ""
             }
            },
            "type": "scatter3d"
           }
          ],
          "scattercarpet": [
           {
            "marker": {
             "colorbar": {
              "outlinewidth": 0,
              "ticks": ""
             }
            },
            "type": "scattercarpet"
           }
          ],
          "scattergeo": [
           {
            "marker": {
             "colorbar": {
              "outlinewidth": 0,
              "ticks": ""
             }
            },
            "type": "scattergeo"
           }
          ],
          "scattergl": [
           {
            "marker": {
             "colorbar": {
              "outlinewidth": 0,
              "ticks": ""
             }
            },
            "type": "scattergl"
           }
          ],
          "scattermapbox": [
           {
            "marker": {
             "colorbar": {
              "outlinewidth": 0,
              "ticks": ""
             }
            },
            "type": "scattermapbox"
           }
          ],
          "scatterpolar": [
           {
            "marker": {
             "colorbar": {
              "outlinewidth": 0,
              "ticks": ""
             }
            },
            "type": "scatterpolar"
           }
          ],
          "scatterpolargl": [
           {
            "marker": {
             "colorbar": {
              "outlinewidth": 0,
              "ticks": ""
             }
            },
            "type": "scatterpolargl"
           }
          ],
          "scatterternary": [
           {
            "marker": {
             "colorbar": {
              "outlinewidth": 0,
              "ticks": ""
             }
            },
            "type": "scatterternary"
           }
          ],
          "surface": [
           {
            "colorbar": {
             "outlinewidth": 0,
             "ticks": ""
            },
            "colorscale": [
             [
              0,
              "#0d0887"
             ],
             [
              0.1111111111111111,
              "#46039f"
             ],
             [
              0.2222222222222222,
              "#7201a8"
             ],
             [
              0.3333333333333333,
              "#9c179e"
             ],
             [
              0.4444444444444444,
              "#bd3786"
             ],
             [
              0.5555555555555556,
              "#d8576b"
             ],
             [
              0.6666666666666666,
              "#ed7953"
             ],
             [
              0.7777777777777778,
              "#fb9f3a"
             ],
             [
              0.8888888888888888,
              "#fdca26"
             ],
             [
              1,
              "#f0f921"
             ]
            ],
            "type": "surface"
           }
          ],
          "table": [
           {
            "cells": {
             "fill": {
              "color": "#EBF0F8"
             },
             "line": {
              "color": "white"
             }
            },
            "header": {
             "fill": {
              "color": "#C8D4E3"
             },
             "line": {
              "color": "white"
             }
            },
            "type": "table"
           }
          ]
         },
         "layout": {
          "annotationdefaults": {
           "arrowcolor": "#2a3f5f",
           "arrowhead": 0,
           "arrowwidth": 1
          },
          "autotypenumbers": "strict",
          "coloraxis": {
           "colorbar": {
            "outlinewidth": 0,
            "ticks": ""
           }
          },
          "colorscale": {
           "diverging": [
            [
             0,
             "#8e0152"
            ],
            [
             0.1,
             "#c51b7d"
            ],
            [
             0.2,
             "#de77ae"
            ],
            [
             0.3,
             "#f1b6da"
            ],
            [
             0.4,
             "#fde0ef"
            ],
            [
             0.5,
             "#f7f7f7"
            ],
            [
             0.6,
             "#e6f5d0"
            ],
            [
             0.7,
             "#b8e186"
            ],
            [
             0.8,
             "#7fbc41"
            ],
            [
             0.9,
             "#4d9221"
            ],
            [
             1,
             "#276419"
            ]
           ],
           "sequential": [
            [
             0,
             "#0d0887"
            ],
            [
             0.1111111111111111,
             "#46039f"
            ],
            [
             0.2222222222222222,
             "#7201a8"
            ],
            [
             0.3333333333333333,
             "#9c179e"
            ],
            [
             0.4444444444444444,
             "#bd3786"
            ],
            [
             0.5555555555555556,
             "#d8576b"
            ],
            [
             0.6666666666666666,
             "#ed7953"
            ],
            [
             0.7777777777777778,
             "#fb9f3a"
            ],
            [
             0.8888888888888888,
             "#fdca26"
            ],
            [
             1,
             "#f0f921"
            ]
           ],
           "sequentialminus": [
            [
             0,
             "#0d0887"
            ],
            [
             0.1111111111111111,
             "#46039f"
            ],
            [
             0.2222222222222222,
             "#7201a8"
            ],
            [
             0.3333333333333333,
             "#9c179e"
            ],
            [
             0.4444444444444444,
             "#bd3786"
            ],
            [
             0.5555555555555556,
             "#d8576b"
            ],
            [
             0.6666666666666666,
             "#ed7953"
            ],
            [
             0.7777777777777778,
             "#fb9f3a"
            ],
            [
             0.8888888888888888,
             "#fdca26"
            ],
            [
             1,
             "#f0f921"
            ]
           ]
          },
          "colorway": [
           "#636efa",
           "#EF553B",
           "#00cc96",
           "#ab63fa",
           "#FFA15A",
           "#19d3f3",
           "#FF6692",
           "#B6E880",
           "#FF97FF",
           "#FECB52"
          ],
          "font": {
           "color": "#2a3f5f"
          },
          "geo": {
           "bgcolor": "white",
           "lakecolor": "white",
           "landcolor": "#E5ECF6",
           "showlakes": true,
           "showland": true,
           "subunitcolor": "white"
          },
          "hoverlabel": {
           "align": "left"
          },
          "hovermode": "closest",
          "mapbox": {
           "style": "light"
          },
          "paper_bgcolor": "white",
          "plot_bgcolor": "#E5ECF6",
          "polar": {
           "angularaxis": {
            "gridcolor": "white",
            "linecolor": "white",
            "ticks": ""
           },
           "bgcolor": "#E5ECF6",
           "radialaxis": {
            "gridcolor": "white",
            "linecolor": "white",
            "ticks": ""
           }
          },
          "scene": {
           "xaxis": {
            "backgroundcolor": "#E5ECF6",
            "gridcolor": "white",
            "gridwidth": 2,
            "linecolor": "white",
            "showbackground": true,
            "ticks": "",
            "zerolinecolor": "white"
           },
           "yaxis": {
            "backgroundcolor": "#E5ECF6",
            "gridcolor": "white",
            "gridwidth": 2,
            "linecolor": "white",
            "showbackground": true,
            "ticks": "",
            "zerolinecolor": "white"
           },
           "zaxis": {
            "backgroundcolor": "#E5ECF6",
            "gridcolor": "white",
            "gridwidth": 2,
            "linecolor": "white",
            "showbackground": true,
            "ticks": "",
            "zerolinecolor": "white"
           }
          },
          "shapedefaults": {
           "line": {
            "color": "#2a3f5f"
           }
          },
          "ternary": {
           "aaxis": {
            "gridcolor": "white",
            "linecolor": "white",
            "ticks": ""
           },
           "baxis": {
            "gridcolor": "white",
            "linecolor": "white",
            "ticks": ""
           },
           "bgcolor": "#E5ECF6",
           "caxis": {
            "gridcolor": "white",
            "linecolor": "white",
            "ticks": ""
           }
          },
          "title": {
           "x": 0.05
          },
          "xaxis": {
           "automargin": true,
           "gridcolor": "white",
           "linecolor": "white",
           "ticks": "",
           "title": {
            "standoff": 15
           },
           "zerolinecolor": "white",
           "zerolinewidth": 2
          },
          "yaxis": {
           "automargin": true,
           "gridcolor": "white",
           "linecolor": "white",
           "ticks": "",
           "title": {
            "standoff": 15
           },
           "zerolinecolor": "white",
           "zerolinewidth": 2
          }
         }
        },
        "title": {
         "text": "Ticket"
        },
        "xaxis": {
         "anchor": "y",
         "domain": [
          0,
          1
         ],
         "title": {
          "text": "index"
         }
        },
        "yaxis": {
         "anchor": "x",
         "domain": [
          0,
          1
         ],
         "title": {
          "text": "value"
         }
        }
       }
      }
     },
     "metadata": {},
     "output_type": "display_data"
    },
    {
     "data": {
      "application/vnd.plotly.v1+json": {
       "config": {
        "plotlyServerURL": "https://plot.ly"
       },
       "data": [
        {
         "alignmentgroup": "True",
         "hovertemplate": "variable=Fare<br>index=%{x}<br>value=%{y}<extra></extra>",
         "legendgroup": "Fare",
         "marker": {
          "color": "#636efa",
          "pattern": {
           "shape": ""
          }
         },
         "name": "Fare",
         "offsetgroup": "Fare",
         "orientation": "v",
         "showlegend": true,
         "textposition": "auto",
         "type": "bar",
         "x": [
          8.05,
          13,
          7.75,
          26,
          7.8958,
          10.5,
          7.775,
          7.2292,
          7.925,
          26.55,
          8.6625,
          7.8542,
          7.225,
          7.25,
          0,
          21,
          16.1,
          9.5,
          69.55,
          27.7208,
          14.5,
          7.8792,
          14.4542,
          15.5,
          7.7958,
          15.2458,
          24.15,
          7.05,
          46.9,
          56.4958,
          52,
          7.55,
          23,
          262.375,
          73.5,
          31.275,
          13.5,
          7.7333,
          39.6875,
          39,
          30,
          31.3875,
          7.65,
          26.25,
          11.5,
          151.55,
          83.1583,
          79.2,
          30.5,
          27.9,
          29.125,
          263,
          53.1,
          34.375,
          29.7,
          25.4667,
          21.075,
          12.35,
          134.5,
          211.5,
          90,
          227.525,
          27.75,
          65,
          15.85,
          36.75,
          164.8667,
          55.4417,
          23.45,
          211.3375,
          120,
          135.6333,
          51.8625,
          35.5,
          512.3292,
          19.2583,
          18,
          14.4583,
          59.4,
          41.5792,
          52.5542,
          93.5,
          221.7792,
          7.125,
          110.8833,
          20.575,
          12.475,
          77.9583,
          20.25,
          153.4625,
          31.5,
          13.775,
          13.8583,
          79.65,
          86.5,
          20.2125,
          11.1333,
          16.7,
          78.85,
          15.9,
          23.25,
          81.8583,
          39.6,
          7.8292,
          106.425,
          7.4958,
          26.2875,
          22.525,
          14.4,
          6.4375,
          32.5,
          18.75,
          9.225,
          33,
          37.0042,
          108.9,
          9.35,
          15.7417,
          22.3583,
          15.0458,
          146.5208,
          20.525,
          29,
          76.7292,
          21.6792,
          22.025,
          247.5208,
          113.275,
          31,
          6.4958,
          9.5875,
          89.1042,
          8.7125,
          61.175,
          51.4792,
          17.4,
          19.9667,
          63.3583,
          13.8625,
          71,
          17.8,
          27,
          7.725,
          9.825,
          42.4,
          7.6292,
          15.1,
          78.2667,
          49.5042,
          12.2875,
          47.1,
          76.2917,
          15.55,
          50.4958,
          136.7792,
          83.475,
          12.1833,
          75.2417,
          13.9,
          60,
          57.75,
          80,
          82.2667,
          7,
          61.9792,
          7.0542,
          14.1083,
          39.4,
          6.95,
          7.8875,
          8.5167,
          25.9292,
          9,
          7.7375,
          6.975,
          57,
          13.4167,
          77.2875,
          8.1125,
          69.3,
          133.65,
          28.5,
          57.9792,
          66.6,
          61.3792,
          55.9,
          24,
          15.75,
          55,
          71.2833,
          12.875,
          91.0792,
          30.6958,
          19.5,
          16,
          50,
          10.4625,
          18.7875,
          30.0708,
          75.25,
          56.9292,
          6.75,
          82.1708,
          11.2417,
          33.5,
          7.5208,
          28.5375,
          15.5792,
          15.0333,
          13.7917,
          7.85,
          9.8375,
          7.0458,
          31.6833,
          3.1708,
          25.7,
          9.6875,
          28.7125,
          10.5167,
          9.8458,
          5,
          15.05,
          49.5,
          10.7083,
          42.5,
          7.5792,
          7.575,
          45.5,
          12.7375,
          9.325,
          9.475,
          27.4458,
          25.7417,
          7.8208,
          8.9625,
          12.275,
          38.5,
          7.875,
          7.2833,
          31.6792,
          7.7792,
          8.4042,
          6.8583,
          8.85,
          15,
          8.4333,
          14,
          32.3208,
          7.7875,
          7.3125,
          9.2167,
          6.2375,
          4.0125,
          8.3,
          40.125,
          34.0208,
          26.3875,
          8.6542,
          12.525,
          34.6542,
          35,
          25.5875,
          9.8417,
          8.1375,
          10.1708,
          25.925,
          6.45,
          12.65,
          26.2833,
          12,
          8.6833,
          8.0292,
          7.7292,
          8.3625,
          7.1417,
          9.4833,
          7.7417,
          8.1583,
          8.4583,
          7.8,
          7.7208
         ],
         "xaxis": "x",
         "y": [
          60,
          59,
          55,
          50,
          49,
          35,
          26,
          24,
          23,
          22,
          21,
          21,
          21,
          18,
          17,
          14,
          12,
          12,
          11,
          11,
          11,
          10,
          10,
          10,
          10,
          9,
          9,
          9,
          8,
          8,
          8,
          8,
          7,
          7,
          7,
          7,
          7,
          7,
          7,
          7,
          7,
          7,
          6,
          6,
          6,
          6,
          6,
          6,
          6,
          6,
          6,
          6,
          6,
          5,
          5,
          5,
          5,
          5,
          5,
          5,
          5,
          5,
          5,
          5,
          4,
          4,
          4,
          4,
          4,
          4,
          4,
          4,
          4,
          4,
          4,
          4,
          4,
          4,
          4,
          4,
          4,
          4,
          4,
          4,
          4,
          4,
          4,
          3,
          3,
          3,
          3,
          3,
          3,
          3,
          3,
          3,
          3,
          3,
          3,
          3,
          3,
          3,
          3,
          3,
          3,
          3,
          3,
          3,
          3,
          3,
          3,
          3,
          3,
          3,
          3,
          3,
          3,
          3,
          3,
          3,
          3,
          3,
          3,
          3,
          3,
          3,
          3,
          3,
          3,
          3,
          2,
          2,
          2,
          2,
          2,
          2,
          2,
          2,
          2,
          2,
          2,
          2,
          2,
          2,
          2,
          2,
          2,
          2,
          2,
          2,
          2,
          2,
          2,
          2,
          2,
          2,
          2,
          2,
          2,
          2,
          2,
          2,
          2,
          2,
          2,
          2,
          2,
          2,
          2,
          2,
          2,
          2,
          2,
          2,
          2,
          2,
          2,
          2,
          2,
          2,
          2,
          2,
          2,
          2,
          2,
          2,
          2,
          2,
          2,
          2,
          2,
          2,
          2,
          2,
          2,
          2,
          2,
          2,
          2,
          2,
          2,
          2,
          2,
          2,
          1,
          1,
          1,
          1,
          1,
          1,
          1,
          1,
          1,
          1,
          1,
          1,
          1,
          1,
          1,
          1,
          1,
          1,
          1,
          1,
          1,
          1,
          1,
          1,
          1,
          1,
          1,
          1,
          1,
          1,
          1,
          1,
          1,
          1,
          1,
          1,
          1,
          1,
          1,
          1,
          1,
          1,
          1,
          1,
          1,
          1,
          1,
          1,
          1,
          1,
          1,
          1,
          1,
          1,
          1,
          1,
          1,
          1,
          1,
          1,
          1,
          1,
          1,
          1,
          1,
          1,
          1,
          1,
          1,
          1,
          1,
          1,
          1,
          1,
          1,
          1,
          1
         ],
         "yaxis": "y"
        }
       ],
       "layout": {
        "barmode": "relative",
        "legend": {
         "title": {
          "text": "variable"
         },
         "tracegroupgap": 0
        },
        "template": {
         "data": {
          "bar": [
           {
            "error_x": {
             "color": "#2a3f5f"
            },
            "error_y": {
             "color": "#2a3f5f"
            },
            "marker": {
             "line": {
              "color": "#E5ECF6",
              "width": 0.5
             },
             "pattern": {
              "fillmode": "overlay",
              "size": 10,
              "solidity": 0.2
             }
            },
            "type": "bar"
           }
          ],
          "barpolar": [
           {
            "marker": {
             "line": {
              "color": "#E5ECF6",
              "width": 0.5
             },
             "pattern": {
              "fillmode": "overlay",
              "size": 10,
              "solidity": 0.2
             }
            },
            "type": "barpolar"
           }
          ],
          "carpet": [
           {
            "aaxis": {
             "endlinecolor": "#2a3f5f",
             "gridcolor": "white",
             "linecolor": "white",
             "minorgridcolor": "white",
             "startlinecolor": "#2a3f5f"
            },
            "baxis": {
             "endlinecolor": "#2a3f5f",
             "gridcolor": "white",
             "linecolor": "white",
             "minorgridcolor": "white",
             "startlinecolor": "#2a3f5f"
            },
            "type": "carpet"
           }
          ],
          "choropleth": [
           {
            "colorbar": {
             "outlinewidth": 0,
             "ticks": ""
            },
            "type": "choropleth"
           }
          ],
          "contour": [
           {
            "colorbar": {
             "outlinewidth": 0,
             "ticks": ""
            },
            "colorscale": [
             [
              0,
              "#0d0887"
             ],
             [
              0.1111111111111111,
              "#46039f"
             ],
             [
              0.2222222222222222,
              "#7201a8"
             ],
             [
              0.3333333333333333,
              "#9c179e"
             ],
             [
              0.4444444444444444,
              "#bd3786"
             ],
             [
              0.5555555555555556,
              "#d8576b"
             ],
             [
              0.6666666666666666,
              "#ed7953"
             ],
             [
              0.7777777777777778,
              "#fb9f3a"
             ],
             [
              0.8888888888888888,
              "#fdca26"
             ],
             [
              1,
              "#f0f921"
             ]
            ],
            "type": "contour"
           }
          ],
          "contourcarpet": [
           {
            "colorbar": {
             "outlinewidth": 0,
             "ticks": ""
            },
            "type": "contourcarpet"
           }
          ],
          "heatmap": [
           {
            "colorbar": {
             "outlinewidth": 0,
             "ticks": ""
            },
            "colorscale": [
             [
              0,
              "#0d0887"
             ],
             [
              0.1111111111111111,
              "#46039f"
             ],
             [
              0.2222222222222222,
              "#7201a8"
             ],
             [
              0.3333333333333333,
              "#9c179e"
             ],
             [
              0.4444444444444444,
              "#bd3786"
             ],
             [
              0.5555555555555556,
              "#d8576b"
             ],
             [
              0.6666666666666666,
              "#ed7953"
             ],
             [
              0.7777777777777778,
              "#fb9f3a"
             ],
             [
              0.8888888888888888,
              "#fdca26"
             ],
             [
              1,
              "#f0f921"
             ]
            ],
            "type": "heatmap"
           }
          ],
          "heatmapgl": [
           {
            "colorbar": {
             "outlinewidth": 0,
             "ticks": ""
            },
            "colorscale": [
             [
              0,
              "#0d0887"
             ],
             [
              0.1111111111111111,
              "#46039f"
             ],
             [
              0.2222222222222222,
              "#7201a8"
             ],
             [
              0.3333333333333333,
              "#9c179e"
             ],
             [
              0.4444444444444444,
              "#bd3786"
             ],
             [
              0.5555555555555556,
              "#d8576b"
             ],
             [
              0.6666666666666666,
              "#ed7953"
             ],
             [
              0.7777777777777778,
              "#fb9f3a"
             ],
             [
              0.8888888888888888,
              "#fdca26"
             ],
             [
              1,
              "#f0f921"
             ]
            ],
            "type": "heatmapgl"
           }
          ],
          "histogram": [
           {
            "marker": {
             "pattern": {
              "fillmode": "overlay",
              "size": 10,
              "solidity": 0.2
             }
            },
            "type": "histogram"
           }
          ],
          "histogram2d": [
           {
            "colorbar": {
             "outlinewidth": 0,
             "ticks": ""
            },
            "colorscale": [
             [
              0,
              "#0d0887"
             ],
             [
              0.1111111111111111,
              "#46039f"
             ],
             [
              0.2222222222222222,
              "#7201a8"
             ],
             [
              0.3333333333333333,
              "#9c179e"
             ],
             [
              0.4444444444444444,
              "#bd3786"
             ],
             [
              0.5555555555555556,
              "#d8576b"
             ],
             [
              0.6666666666666666,
              "#ed7953"
             ],
             [
              0.7777777777777778,
              "#fb9f3a"
             ],
             [
              0.8888888888888888,
              "#fdca26"
             ],
             [
              1,
              "#f0f921"
             ]
            ],
            "type": "histogram2d"
           }
          ],
          "histogram2dcontour": [
           {
            "colorbar": {
             "outlinewidth": 0,
             "ticks": ""
            },
            "colorscale": [
             [
              0,
              "#0d0887"
             ],
             [
              0.1111111111111111,
              "#46039f"
             ],
             [
              0.2222222222222222,
              "#7201a8"
             ],
             [
              0.3333333333333333,
              "#9c179e"
             ],
             [
              0.4444444444444444,
              "#bd3786"
             ],
             [
              0.5555555555555556,
              "#d8576b"
             ],
             [
              0.6666666666666666,
              "#ed7953"
             ],
             [
              0.7777777777777778,
              "#fb9f3a"
             ],
             [
              0.8888888888888888,
              "#fdca26"
             ],
             [
              1,
              "#f0f921"
             ]
            ],
            "type": "histogram2dcontour"
           }
          ],
          "mesh3d": [
           {
            "colorbar": {
             "outlinewidth": 0,
             "ticks": ""
            },
            "type": "mesh3d"
           }
          ],
          "parcoords": [
           {
            "line": {
             "colorbar": {
              "outlinewidth": 0,
              "ticks": ""
             }
            },
            "type": "parcoords"
           }
          ],
          "pie": [
           {
            "automargin": true,
            "type": "pie"
           }
          ],
          "scatter": [
           {
            "fillpattern": {
             "fillmode": "overlay",
             "size": 10,
             "solidity": 0.2
            },
            "type": "scatter"
           }
          ],
          "scatter3d": [
           {
            "line": {
             "colorbar": {
              "outlinewidth": 0,
              "ticks": ""
             }
            },
            "marker": {
             "colorbar": {
              "outlinewidth": 0,
              "ticks": ""
             }
            },
            "type": "scatter3d"
           }
          ],
          "scattercarpet": [
           {
            "marker": {
             "colorbar": {
              "outlinewidth": 0,
              "ticks": ""
             }
            },
            "type": "scattercarpet"
           }
          ],
          "scattergeo": [
           {
            "marker": {
             "colorbar": {
              "outlinewidth": 0,
              "ticks": ""
             }
            },
            "type": "scattergeo"
           }
          ],
          "scattergl": [
           {
            "marker": {
             "colorbar": {
              "outlinewidth": 0,
              "ticks": ""
             }
            },
            "type": "scattergl"
           }
          ],
          "scattermapbox": [
           {
            "marker": {
             "colorbar": {
              "outlinewidth": 0,
              "ticks": ""
             }
            },
            "type": "scattermapbox"
           }
          ],
          "scatterpolar": [
           {
            "marker": {
             "colorbar": {
              "outlinewidth": 0,
              "ticks": ""
             }
            },
            "type": "scatterpolar"
           }
          ],
          "scatterpolargl": [
           {
            "marker": {
             "colorbar": {
              "outlinewidth": 0,
              "ticks": ""
             }
            },
            "type": "scatterpolargl"
           }
          ],
          "scatterternary": [
           {
            "marker": {
             "colorbar": {
              "outlinewidth": 0,
              "ticks": ""
             }
            },
            "type": "scatterternary"
           }
          ],
          "surface": [
           {
            "colorbar": {
             "outlinewidth": 0,
             "ticks": ""
            },
            "colorscale": [
             [
              0,
              "#0d0887"
             ],
             [
              0.1111111111111111,
              "#46039f"
             ],
             [
              0.2222222222222222,
              "#7201a8"
             ],
             [
              0.3333333333333333,
              "#9c179e"
             ],
             [
              0.4444444444444444,
              "#bd3786"
             ],
             [
              0.5555555555555556,
              "#d8576b"
             ],
             [
              0.6666666666666666,
              "#ed7953"
             ],
             [
              0.7777777777777778,
              "#fb9f3a"
             ],
             [
              0.8888888888888888,
              "#fdca26"
             ],
             [
              1,
              "#f0f921"
             ]
            ],
            "type": "surface"
           }
          ],
          "table": [
           {
            "cells": {
             "fill": {
              "color": "#EBF0F8"
             },
             "line": {
              "color": "white"
             }
            },
            "header": {
             "fill": {
              "color": "#C8D4E3"
             },
             "line": {
              "color": "white"
             }
            },
            "type": "table"
           }
          ]
         },
         "layout": {
          "annotationdefaults": {
           "arrowcolor": "#2a3f5f",
           "arrowhead": 0,
           "arrowwidth": 1
          },
          "autotypenumbers": "strict",
          "coloraxis": {
           "colorbar": {
            "outlinewidth": 0,
            "ticks": ""
           }
          },
          "colorscale": {
           "diverging": [
            [
             0,
             "#8e0152"
            ],
            [
             0.1,
             "#c51b7d"
            ],
            [
             0.2,
             "#de77ae"
            ],
            [
             0.3,
             "#f1b6da"
            ],
            [
             0.4,
             "#fde0ef"
            ],
            [
             0.5,
             "#f7f7f7"
            ],
            [
             0.6,
             "#e6f5d0"
            ],
            [
             0.7,
             "#b8e186"
            ],
            [
             0.8,
             "#7fbc41"
            ],
            [
             0.9,
             "#4d9221"
            ],
            [
             1,
             "#276419"
            ]
           ],
           "sequential": [
            [
             0,
             "#0d0887"
            ],
            [
             0.1111111111111111,
             "#46039f"
            ],
            [
             0.2222222222222222,
             "#7201a8"
            ],
            [
             0.3333333333333333,
             "#9c179e"
            ],
            [
             0.4444444444444444,
             "#bd3786"
            ],
            [
             0.5555555555555556,
             "#d8576b"
            ],
            [
             0.6666666666666666,
             "#ed7953"
            ],
            [
             0.7777777777777778,
             "#fb9f3a"
            ],
            [
             0.8888888888888888,
             "#fdca26"
            ],
            [
             1,
             "#f0f921"
            ]
           ],
           "sequentialminus": [
            [
             0,
             "#0d0887"
            ],
            [
             0.1111111111111111,
             "#46039f"
            ],
            [
             0.2222222222222222,
             "#7201a8"
            ],
            [
             0.3333333333333333,
             "#9c179e"
            ],
            [
             0.4444444444444444,
             "#bd3786"
            ],
            [
             0.5555555555555556,
             "#d8576b"
            ],
            [
             0.6666666666666666,
             "#ed7953"
            ],
            [
             0.7777777777777778,
             "#fb9f3a"
            ],
            [
             0.8888888888888888,
             "#fdca26"
            ],
            [
             1,
             "#f0f921"
            ]
           ]
          },
          "colorway": [
           "#636efa",
           "#EF553B",
           "#00cc96",
           "#ab63fa",
           "#FFA15A",
           "#19d3f3",
           "#FF6692",
           "#B6E880",
           "#FF97FF",
           "#FECB52"
          ],
          "font": {
           "color": "#2a3f5f"
          },
          "geo": {
           "bgcolor": "white",
           "lakecolor": "white",
           "landcolor": "#E5ECF6",
           "showlakes": true,
           "showland": true,
           "subunitcolor": "white"
          },
          "hoverlabel": {
           "align": "left"
          },
          "hovermode": "closest",
          "mapbox": {
           "style": "light"
          },
          "paper_bgcolor": "white",
          "plot_bgcolor": "#E5ECF6",
          "polar": {
           "angularaxis": {
            "gridcolor": "white",
            "linecolor": "white",
            "ticks": ""
           },
           "bgcolor": "#E5ECF6",
           "radialaxis": {
            "gridcolor": "white",
            "linecolor": "white",
            "ticks": ""
           }
          },
          "scene": {
           "xaxis": {
            "backgroundcolor": "#E5ECF6",
            "gridcolor": "white",
            "gridwidth": 2,
            "linecolor": "white",
            "showbackground": true,
            "ticks": "",
            "zerolinecolor": "white"
           },
           "yaxis": {
            "backgroundcolor": "#E5ECF6",
            "gridcolor": "white",
            "gridwidth": 2,
            "linecolor": "white",
            "showbackground": true,
            "ticks": "",
            "zerolinecolor": "white"
           },
           "zaxis": {
            "backgroundcolor": "#E5ECF6",
            "gridcolor": "white",
            "gridwidth": 2,
            "linecolor": "white",
            "showbackground": true,
            "ticks": "",
            "zerolinecolor": "white"
           }
          },
          "shapedefaults": {
           "line": {
            "color": "#2a3f5f"
           }
          },
          "ternary": {
           "aaxis": {
            "gridcolor": "white",
            "linecolor": "white",
            "ticks": ""
           },
           "baxis": {
            "gridcolor": "white",
            "linecolor": "white",
            "ticks": ""
           },
           "bgcolor": "#E5ECF6",
           "caxis": {
            "gridcolor": "white",
            "linecolor": "white",
            "ticks": ""
           }
          },
          "title": {
           "x": 0.05
          },
          "xaxis": {
           "automargin": true,
           "gridcolor": "white",
           "linecolor": "white",
           "ticks": "",
           "title": {
            "standoff": 15
           },
           "zerolinecolor": "white",
           "zerolinewidth": 2
          },
          "yaxis": {
           "automargin": true,
           "gridcolor": "white",
           "linecolor": "white",
           "ticks": "",
           "title": {
            "standoff": 15
           },
           "zerolinecolor": "white",
           "zerolinewidth": 2
          }
         }
        },
        "title": {
         "text": "Fare"
        },
        "xaxis": {
         "anchor": "y",
         "domain": [
          0,
          1
         ],
         "title": {
          "text": "index"
         }
        },
        "yaxis": {
         "anchor": "x",
         "domain": [
          0,
          1
         ],
         "title": {
          "text": "value"
         }
        }
       }
      }
     },
     "metadata": {},
     "output_type": "display_data"
    },
    {
     "data": {
      "application/vnd.plotly.v1+json": {
       "config": {
        "plotlyServerURL": "https://plot.ly"
       },
       "data": [
        {
         "alignmentgroup": "True",
         "hovertemplate": "variable=Cabin<br>index=%{x}<br>value=%{y}<extra></extra>",
         "legendgroup": "Cabin",
         "marker": {
          "color": "#636efa",
          "pattern": {
           "shape": ""
          }
         },
         "name": "Cabin",
         "offsetgroup": "Cabin",
         "orientation": "v",
         "showlegend": true,
         "textposition": "auto",
         "type": "bar",
         "x": [
          "C23 C25 C27",
          "G6",
          "B57 B59 B63 B66",
          "C22 C26",
          "F33",
          "F2",
          "B96 B98",
          "C78",
          "F4",
          "D",
          "E34",
          "B58 B60",
          "A34",
          "E101",
          "C101",
          "B51 B53 B55",
          "C31",
          "C55 C57",
          "D37",
          "C54",
          "B35",
          "C32",
          "C7",
          "C124",
          "E50",
          "C6",
          "E44",
          "C46",
          "C92",
          "D21",
          "C116",
          "C85",
          "D20",
          "B45",
          "E8",
          "E121",
          "E24",
          "C62 C64",
          "F G63",
          "B20",
          "B5",
          "B71",
          "C126",
          "D17",
          "D19",
          "B69",
          "B41",
          "C68",
          "D28",
          "C86",
          "B22",
          "C65",
          "E25",
          "C123",
          "B18",
          "C106",
          "E31",
          "C89",
          "E33",
          "B49",
          "C2",
          "D26",
          "D10 D12",
          "F G73",
          "D36",
          "C83",
          "B28",
          "C52",
          "D33",
          "B78",
          "E46",
          "C80",
          "D30",
          "B77",
          "D15",
          "E67",
          "D35",
          "C93",
          "C125",
          "B24",
          "D38",
          "B52 B54 B56",
          "A29",
          "B102",
          "A36",
          "C28",
          "B82 B84",
          "D6",
          "B3",
          "F38",
          "C51",
          "D11",
          "B10",
          "E49",
          "D22",
          "E77",
          "C39",
          "C97",
          "D40",
          "F",
          "C130",
          "C47",
          "E52",
          "A11",
          "D43",
          "C53",
          "B11",
          "B61",
          "C132",
          "A9",
          "D34",
          "A21",
          "B36",
          "F E46",
          "B26",
          "C148",
          "C50",
          "A24",
          "E45",
          "F E57",
          "A18",
          "E17",
          "E60",
          "E39 E41",
          "B42",
          "B39",
          "D45",
          "B101",
          "C128",
          "T",
          "E40",
          "C91",
          "E36",
          "A19",
          "D7",
          "C118",
          "C99",
          "B94",
          "C87",
          "A31",
          "B80",
          "B4",
          "A32",
          "C49",
          "A7",
          "B19",
          "B86",
          "D47",
          "F E69",
          "C110",
          "A5",
          "B30",
          "A6",
          "D56",
          "C103",
          "C82",
          "E10",
          "C104",
          "A10",
          "C45",
          "C90",
          "D49",
          "E58",
          "D48",
          "A26",
          "B50",
          "A23",
          "D9",
          "D50",
          "A20",
          "E68",
          "A16",
          "C111",
          "C70",
          "B38",
          "C95",
          "B73",
          "D46",
          "B79",
          "C30",
          "B37",
          "A14",
          "E63",
          "E12",
          "E38",
          "C105"
         ],
         "xaxis": "x",
         "y": [
          6,
          5,
          5,
          4,
          4,
          4,
          4,
          4,
          4,
          4,
          3,
          3,
          3,
          3,
          3,
          3,
          2,
          2,
          2,
          2,
          2,
          2,
          2,
          2,
          2,
          2,
          2,
          2,
          2,
          2,
          2,
          2,
          2,
          2,
          2,
          2,
          2,
          2,
          2,
          2,
          2,
          2,
          2,
          2,
          2,
          2,
          2,
          2,
          2,
          2,
          2,
          2,
          2,
          2,
          2,
          2,
          2,
          2,
          2,
          2,
          2,
          2,
          2,
          2,
          2,
          2,
          2,
          2,
          2,
          2,
          2,
          2,
          2,
          2,
          2,
          2,
          2,
          2,
          2,
          1,
          1,
          1,
          1,
          1,
          1,
          1,
          1,
          1,
          1,
          1,
          1,
          1,
          1,
          1,
          1,
          1,
          1,
          1,
          1,
          1,
          1,
          1,
          1,
          1,
          1,
          1,
          1,
          1,
          1,
          1,
          1,
          1,
          1,
          1,
          1,
          1,
          1,
          1,
          1,
          1,
          1,
          1,
          1,
          1,
          1,
          1,
          1,
          1,
          1,
          1,
          1,
          1,
          1,
          1,
          1,
          1,
          1,
          1,
          1,
          1,
          1,
          1,
          1,
          1,
          1,
          1,
          1,
          1,
          1,
          1,
          1,
          1,
          1,
          1,
          1,
          1,
          1,
          1,
          1,
          1,
          1,
          1,
          1,
          1,
          1,
          1,
          1,
          1,
          1,
          1,
          1,
          1,
          1,
          1,
          1,
          1,
          1,
          1,
          1,
          1,
          1,
          1,
          1,
          1,
          1,
          1
         ],
         "yaxis": "y"
        }
       ],
       "layout": {
        "barmode": "relative",
        "legend": {
         "title": {
          "text": "variable"
         },
         "tracegroupgap": 0
        },
        "template": {
         "data": {
          "bar": [
           {
            "error_x": {
             "color": "#2a3f5f"
            },
            "error_y": {
             "color": "#2a3f5f"
            },
            "marker": {
             "line": {
              "color": "#E5ECF6",
              "width": 0.5
             },
             "pattern": {
              "fillmode": "overlay",
              "size": 10,
              "solidity": 0.2
             }
            },
            "type": "bar"
           }
          ],
          "barpolar": [
           {
            "marker": {
             "line": {
              "color": "#E5ECF6",
              "width": 0.5
             },
             "pattern": {
              "fillmode": "overlay",
              "size": 10,
              "solidity": 0.2
             }
            },
            "type": "barpolar"
           }
          ],
          "carpet": [
           {
            "aaxis": {
             "endlinecolor": "#2a3f5f",
             "gridcolor": "white",
             "linecolor": "white",
             "minorgridcolor": "white",
             "startlinecolor": "#2a3f5f"
            },
            "baxis": {
             "endlinecolor": "#2a3f5f",
             "gridcolor": "white",
             "linecolor": "white",
             "minorgridcolor": "white",
             "startlinecolor": "#2a3f5f"
            },
            "type": "carpet"
           }
          ],
          "choropleth": [
           {
            "colorbar": {
             "outlinewidth": 0,
             "ticks": ""
            },
            "type": "choropleth"
           }
          ],
          "contour": [
           {
            "colorbar": {
             "outlinewidth": 0,
             "ticks": ""
            },
            "colorscale": [
             [
              0,
              "#0d0887"
             ],
             [
              0.1111111111111111,
              "#46039f"
             ],
             [
              0.2222222222222222,
              "#7201a8"
             ],
             [
              0.3333333333333333,
              "#9c179e"
             ],
             [
              0.4444444444444444,
              "#bd3786"
             ],
             [
              0.5555555555555556,
              "#d8576b"
             ],
             [
              0.6666666666666666,
              "#ed7953"
             ],
             [
              0.7777777777777778,
              "#fb9f3a"
             ],
             [
              0.8888888888888888,
              "#fdca26"
             ],
             [
              1,
              "#f0f921"
             ]
            ],
            "type": "contour"
           }
          ],
          "contourcarpet": [
           {
            "colorbar": {
             "outlinewidth": 0,
             "ticks": ""
            },
            "type": "contourcarpet"
           }
          ],
          "heatmap": [
           {
            "colorbar": {
             "outlinewidth": 0,
             "ticks": ""
            },
            "colorscale": [
             [
              0,
              "#0d0887"
             ],
             [
              0.1111111111111111,
              "#46039f"
             ],
             [
              0.2222222222222222,
              "#7201a8"
             ],
             [
              0.3333333333333333,
              "#9c179e"
             ],
             [
              0.4444444444444444,
              "#bd3786"
             ],
             [
              0.5555555555555556,
              "#d8576b"
             ],
             [
              0.6666666666666666,
              "#ed7953"
             ],
             [
              0.7777777777777778,
              "#fb9f3a"
             ],
             [
              0.8888888888888888,
              "#fdca26"
             ],
             [
              1,
              "#f0f921"
             ]
            ],
            "type": "heatmap"
           }
          ],
          "heatmapgl": [
           {
            "colorbar": {
             "outlinewidth": 0,
             "ticks": ""
            },
            "colorscale": [
             [
              0,
              "#0d0887"
             ],
             [
              0.1111111111111111,
              "#46039f"
             ],
             [
              0.2222222222222222,
              "#7201a8"
             ],
             [
              0.3333333333333333,
              "#9c179e"
             ],
             [
              0.4444444444444444,
              "#bd3786"
             ],
             [
              0.5555555555555556,
              "#d8576b"
             ],
             [
              0.6666666666666666,
              "#ed7953"
             ],
             [
              0.7777777777777778,
              "#fb9f3a"
             ],
             [
              0.8888888888888888,
              "#fdca26"
             ],
             [
              1,
              "#f0f921"
             ]
            ],
            "type": "heatmapgl"
           }
          ],
          "histogram": [
           {
            "marker": {
             "pattern": {
              "fillmode": "overlay",
              "size": 10,
              "solidity": 0.2
             }
            },
            "type": "histogram"
           }
          ],
          "histogram2d": [
           {
            "colorbar": {
             "outlinewidth": 0,
             "ticks": ""
            },
            "colorscale": [
             [
              0,
              "#0d0887"
             ],
             [
              0.1111111111111111,
              "#46039f"
             ],
             [
              0.2222222222222222,
              "#7201a8"
             ],
             [
              0.3333333333333333,
              "#9c179e"
             ],
             [
              0.4444444444444444,
              "#bd3786"
             ],
             [
              0.5555555555555556,
              "#d8576b"
             ],
             [
              0.6666666666666666,
              "#ed7953"
             ],
             [
              0.7777777777777778,
              "#fb9f3a"
             ],
             [
              0.8888888888888888,
              "#fdca26"
             ],
             [
              1,
              "#f0f921"
             ]
            ],
            "type": "histogram2d"
           }
          ],
          "histogram2dcontour": [
           {
            "colorbar": {
             "outlinewidth": 0,
             "ticks": ""
            },
            "colorscale": [
             [
              0,
              "#0d0887"
             ],
             [
              0.1111111111111111,
              "#46039f"
             ],
             [
              0.2222222222222222,
              "#7201a8"
             ],
             [
              0.3333333333333333,
              "#9c179e"
             ],
             [
              0.4444444444444444,
              "#bd3786"
             ],
             [
              0.5555555555555556,
              "#d8576b"
             ],
             [
              0.6666666666666666,
              "#ed7953"
             ],
             [
              0.7777777777777778,
              "#fb9f3a"
             ],
             [
              0.8888888888888888,
              "#fdca26"
             ],
             [
              1,
              "#f0f921"
             ]
            ],
            "type": "histogram2dcontour"
           }
          ],
          "mesh3d": [
           {
            "colorbar": {
             "outlinewidth": 0,
             "ticks": ""
            },
            "type": "mesh3d"
           }
          ],
          "parcoords": [
           {
            "line": {
             "colorbar": {
              "outlinewidth": 0,
              "ticks": ""
             }
            },
            "type": "parcoords"
           }
          ],
          "pie": [
           {
            "automargin": true,
            "type": "pie"
           }
          ],
          "scatter": [
           {
            "fillpattern": {
             "fillmode": "overlay",
             "size": 10,
             "solidity": 0.2
            },
            "type": "scatter"
           }
          ],
          "scatter3d": [
           {
            "line": {
             "colorbar": {
              "outlinewidth": 0,
              "ticks": ""
             }
            },
            "marker": {
             "colorbar": {
              "outlinewidth": 0,
              "ticks": ""
             }
            },
            "type": "scatter3d"
           }
          ],
          "scattercarpet": [
           {
            "marker": {
             "colorbar": {
              "outlinewidth": 0,
              "ticks": ""
             }
            },
            "type": "scattercarpet"
           }
          ],
          "scattergeo": [
           {
            "marker": {
             "colorbar": {
              "outlinewidth": 0,
              "ticks": ""
             }
            },
            "type": "scattergeo"
           }
          ],
          "scattergl": [
           {
            "marker": {
             "colorbar": {
              "outlinewidth": 0,
              "ticks": ""
             }
            },
            "type": "scattergl"
           }
          ],
          "scattermapbox": [
           {
            "marker": {
             "colorbar": {
              "outlinewidth": 0,
              "ticks": ""
             }
            },
            "type": "scattermapbox"
           }
          ],
          "scatterpolar": [
           {
            "marker": {
             "colorbar": {
              "outlinewidth": 0,
              "ticks": ""
             }
            },
            "type": "scatterpolar"
           }
          ],
          "scatterpolargl": [
           {
            "marker": {
             "colorbar": {
              "outlinewidth": 0,
              "ticks": ""
             }
            },
            "type": "scatterpolargl"
           }
          ],
          "scatterternary": [
           {
            "marker": {
             "colorbar": {
              "outlinewidth": 0,
              "ticks": ""
             }
            },
            "type": "scatterternary"
           }
          ],
          "surface": [
           {
            "colorbar": {
             "outlinewidth": 0,
             "ticks": ""
            },
            "colorscale": [
             [
              0,
              "#0d0887"
             ],
             [
              0.1111111111111111,
              "#46039f"
             ],
             [
              0.2222222222222222,
              "#7201a8"
             ],
             [
              0.3333333333333333,
              "#9c179e"
             ],
             [
              0.4444444444444444,
              "#bd3786"
             ],
             [
              0.5555555555555556,
              "#d8576b"
             ],
             [
              0.6666666666666666,
              "#ed7953"
             ],
             [
              0.7777777777777778,
              "#fb9f3a"
             ],
             [
              0.8888888888888888,
              "#fdca26"
             ],
             [
              1,
              "#f0f921"
             ]
            ],
            "type": "surface"
           }
          ],
          "table": [
           {
            "cells": {
             "fill": {
              "color": "#EBF0F8"
             },
             "line": {
              "color": "white"
             }
            },
            "header": {
             "fill": {
              "color": "#C8D4E3"
             },
             "line": {
              "color": "white"
             }
            },
            "type": "table"
           }
          ]
         },
         "layout": {
          "annotationdefaults": {
           "arrowcolor": "#2a3f5f",
           "arrowhead": 0,
           "arrowwidth": 1
          },
          "autotypenumbers": "strict",
          "coloraxis": {
           "colorbar": {
            "outlinewidth": 0,
            "ticks": ""
           }
          },
          "colorscale": {
           "diverging": [
            [
             0,
             "#8e0152"
            ],
            [
             0.1,
             "#c51b7d"
            ],
            [
             0.2,
             "#de77ae"
            ],
            [
             0.3,
             "#f1b6da"
            ],
            [
             0.4,
             "#fde0ef"
            ],
            [
             0.5,
             "#f7f7f7"
            ],
            [
             0.6,
             "#e6f5d0"
            ],
            [
             0.7,
             "#b8e186"
            ],
            [
             0.8,
             "#7fbc41"
            ],
            [
             0.9,
             "#4d9221"
            ],
            [
             1,
             "#276419"
            ]
           ],
           "sequential": [
            [
             0,
             "#0d0887"
            ],
            [
             0.1111111111111111,
             "#46039f"
            ],
            [
             0.2222222222222222,
             "#7201a8"
            ],
            [
             0.3333333333333333,
             "#9c179e"
            ],
            [
             0.4444444444444444,
             "#bd3786"
            ],
            [
             0.5555555555555556,
             "#d8576b"
            ],
            [
             0.6666666666666666,
             "#ed7953"
            ],
            [
             0.7777777777777778,
             "#fb9f3a"
            ],
            [
             0.8888888888888888,
             "#fdca26"
            ],
            [
             1,
             "#f0f921"
            ]
           ],
           "sequentialminus": [
            [
             0,
             "#0d0887"
            ],
            [
             0.1111111111111111,
             "#46039f"
            ],
            [
             0.2222222222222222,
             "#7201a8"
            ],
            [
             0.3333333333333333,
             "#9c179e"
            ],
            [
             0.4444444444444444,
             "#bd3786"
            ],
            [
             0.5555555555555556,
             "#d8576b"
            ],
            [
             0.6666666666666666,
             "#ed7953"
            ],
            [
             0.7777777777777778,
             "#fb9f3a"
            ],
            [
             0.8888888888888888,
             "#fdca26"
            ],
            [
             1,
             "#f0f921"
            ]
           ]
          },
          "colorway": [
           "#636efa",
           "#EF553B",
           "#00cc96",
           "#ab63fa",
           "#FFA15A",
           "#19d3f3",
           "#FF6692",
           "#B6E880",
           "#FF97FF",
           "#FECB52"
          ],
          "font": {
           "color": "#2a3f5f"
          },
          "geo": {
           "bgcolor": "white",
           "lakecolor": "white",
           "landcolor": "#E5ECF6",
           "showlakes": true,
           "showland": true,
           "subunitcolor": "white"
          },
          "hoverlabel": {
           "align": "left"
          },
          "hovermode": "closest",
          "mapbox": {
           "style": "light"
          },
          "paper_bgcolor": "white",
          "plot_bgcolor": "#E5ECF6",
          "polar": {
           "angularaxis": {
            "gridcolor": "white",
            "linecolor": "white",
            "ticks": ""
           },
           "bgcolor": "#E5ECF6",
           "radialaxis": {
            "gridcolor": "white",
            "linecolor": "white",
            "ticks": ""
           }
          },
          "scene": {
           "xaxis": {
            "backgroundcolor": "#E5ECF6",
            "gridcolor": "white",
            "gridwidth": 2,
            "linecolor": "white",
            "showbackground": true,
            "ticks": "",
            "zerolinecolor": "white"
           },
           "yaxis": {
            "backgroundcolor": "#E5ECF6",
            "gridcolor": "white",
            "gridwidth": 2,
            "linecolor": "white",
            "showbackground": true,
            "ticks": "",
            "zerolinecolor": "white"
           },
           "zaxis": {
            "backgroundcolor": "#E5ECF6",
            "gridcolor": "white",
            "gridwidth": 2,
            "linecolor": "white",
            "showbackground": true,
            "ticks": "",
            "zerolinecolor": "white"
           }
          },
          "shapedefaults": {
           "line": {
            "color": "#2a3f5f"
           }
          },
          "ternary": {
           "aaxis": {
            "gridcolor": "white",
            "linecolor": "white",
            "ticks": ""
           },
           "baxis": {
            "gridcolor": "white",
            "linecolor": "white",
            "ticks": ""
           },
           "bgcolor": "#E5ECF6",
           "caxis": {
            "gridcolor": "white",
            "linecolor": "white",
            "ticks": ""
           }
          },
          "title": {
           "x": 0.05
          },
          "xaxis": {
           "automargin": true,
           "gridcolor": "white",
           "linecolor": "white",
           "ticks": "",
           "title": {
            "standoff": 15
           },
           "zerolinecolor": "white",
           "zerolinewidth": 2
          },
          "yaxis": {
           "automargin": true,
           "gridcolor": "white",
           "linecolor": "white",
           "ticks": "",
           "title": {
            "standoff": 15
           },
           "zerolinecolor": "white",
           "zerolinewidth": 2
          }
         }
        },
        "title": {
         "text": "Cabin"
        },
        "xaxis": {
         "anchor": "y",
         "domain": [
          0,
          1
         ],
         "title": {
          "text": "index"
         }
        },
        "yaxis": {
         "anchor": "x",
         "domain": [
          0,
          1
         ],
         "title": {
          "text": "value"
         }
        }
       }
      }
     },
     "metadata": {},
     "output_type": "display_data"
    },
    {
     "data": {
      "application/vnd.plotly.v1+json": {
       "config": {
        "plotlyServerURL": "https://plot.ly"
       },
       "data": [
        {
         "alignmentgroup": "True",
         "hovertemplate": "variable=Embarked<br>index=%{x}<br>value=%{y}<extra></extra>",
         "legendgroup": "Embarked",
         "marker": {
          "color": "#636efa",
          "pattern": {
           "shape": ""
          }
         },
         "name": "Embarked",
         "offsetgroup": "Embarked",
         "orientation": "v",
         "showlegend": true,
         "textposition": "auto",
         "type": "bar",
         "x": [
          "S",
          "C",
          "Q"
         ],
         "xaxis": "x",
         "y": [
          914,
          270,
          123
         ],
         "yaxis": "y"
        }
       ],
       "layout": {
        "barmode": "relative",
        "legend": {
         "title": {
          "text": "variable"
         },
         "tracegroupgap": 0
        },
        "template": {
         "data": {
          "bar": [
           {
            "error_x": {
             "color": "#2a3f5f"
            },
            "error_y": {
             "color": "#2a3f5f"
            },
            "marker": {
             "line": {
              "color": "#E5ECF6",
              "width": 0.5
             },
             "pattern": {
              "fillmode": "overlay",
              "size": 10,
              "solidity": 0.2
             }
            },
            "type": "bar"
           }
          ],
          "barpolar": [
           {
            "marker": {
             "line": {
              "color": "#E5ECF6",
              "width": 0.5
             },
             "pattern": {
              "fillmode": "overlay",
              "size": 10,
              "solidity": 0.2
             }
            },
            "type": "barpolar"
           }
          ],
          "carpet": [
           {
            "aaxis": {
             "endlinecolor": "#2a3f5f",
             "gridcolor": "white",
             "linecolor": "white",
             "minorgridcolor": "white",
             "startlinecolor": "#2a3f5f"
            },
            "baxis": {
             "endlinecolor": "#2a3f5f",
             "gridcolor": "white",
             "linecolor": "white",
             "minorgridcolor": "white",
             "startlinecolor": "#2a3f5f"
            },
            "type": "carpet"
           }
          ],
          "choropleth": [
           {
            "colorbar": {
             "outlinewidth": 0,
             "ticks": ""
            },
            "type": "choropleth"
           }
          ],
          "contour": [
           {
            "colorbar": {
             "outlinewidth": 0,
             "ticks": ""
            },
            "colorscale": [
             [
              0,
              "#0d0887"
             ],
             [
              0.1111111111111111,
              "#46039f"
             ],
             [
              0.2222222222222222,
              "#7201a8"
             ],
             [
              0.3333333333333333,
              "#9c179e"
             ],
             [
              0.4444444444444444,
              "#bd3786"
             ],
             [
              0.5555555555555556,
              "#d8576b"
             ],
             [
              0.6666666666666666,
              "#ed7953"
             ],
             [
              0.7777777777777778,
              "#fb9f3a"
             ],
             [
              0.8888888888888888,
              "#fdca26"
             ],
             [
              1,
              "#f0f921"
             ]
            ],
            "type": "contour"
           }
          ],
          "contourcarpet": [
           {
            "colorbar": {
             "outlinewidth": 0,
             "ticks": ""
            },
            "type": "contourcarpet"
           }
          ],
          "heatmap": [
           {
            "colorbar": {
             "outlinewidth": 0,
             "ticks": ""
            },
            "colorscale": [
             [
              0,
              "#0d0887"
             ],
             [
              0.1111111111111111,
              "#46039f"
             ],
             [
              0.2222222222222222,
              "#7201a8"
             ],
             [
              0.3333333333333333,
              "#9c179e"
             ],
             [
              0.4444444444444444,
              "#bd3786"
             ],
             [
              0.5555555555555556,
              "#d8576b"
             ],
             [
              0.6666666666666666,
              "#ed7953"
             ],
             [
              0.7777777777777778,
              "#fb9f3a"
             ],
             [
              0.8888888888888888,
              "#fdca26"
             ],
             [
              1,
              "#f0f921"
             ]
            ],
            "type": "heatmap"
           }
          ],
          "heatmapgl": [
           {
            "colorbar": {
             "outlinewidth": 0,
             "ticks": ""
            },
            "colorscale": [
             [
              0,
              "#0d0887"
             ],
             [
              0.1111111111111111,
              "#46039f"
             ],
             [
              0.2222222222222222,
              "#7201a8"
             ],
             [
              0.3333333333333333,
              "#9c179e"
             ],
             [
              0.4444444444444444,
              "#bd3786"
             ],
             [
              0.5555555555555556,
              "#d8576b"
             ],
             [
              0.6666666666666666,
              "#ed7953"
             ],
             [
              0.7777777777777778,
              "#fb9f3a"
             ],
             [
              0.8888888888888888,
              "#fdca26"
             ],
             [
              1,
              "#f0f921"
             ]
            ],
            "type": "heatmapgl"
           }
          ],
          "histogram": [
           {
            "marker": {
             "pattern": {
              "fillmode": "overlay",
              "size": 10,
              "solidity": 0.2
             }
            },
            "type": "histogram"
           }
          ],
          "histogram2d": [
           {
            "colorbar": {
             "outlinewidth": 0,
             "ticks": ""
            },
            "colorscale": [
             [
              0,
              "#0d0887"
             ],
             [
              0.1111111111111111,
              "#46039f"
             ],
             [
              0.2222222222222222,
              "#7201a8"
             ],
             [
              0.3333333333333333,
              "#9c179e"
             ],
             [
              0.4444444444444444,
              "#bd3786"
             ],
             [
              0.5555555555555556,
              "#d8576b"
             ],
             [
              0.6666666666666666,
              "#ed7953"
             ],
             [
              0.7777777777777778,
              "#fb9f3a"
             ],
             [
              0.8888888888888888,
              "#fdca26"
             ],
             [
              1,
              "#f0f921"
             ]
            ],
            "type": "histogram2d"
           }
          ],
          "histogram2dcontour": [
           {
            "colorbar": {
             "outlinewidth": 0,
             "ticks": ""
            },
            "colorscale": [
             [
              0,
              "#0d0887"
             ],
             [
              0.1111111111111111,
              "#46039f"
             ],
             [
              0.2222222222222222,
              "#7201a8"
             ],
             [
              0.3333333333333333,
              "#9c179e"
             ],
             [
              0.4444444444444444,
              "#bd3786"
             ],
             [
              0.5555555555555556,
              "#d8576b"
             ],
             [
              0.6666666666666666,
              "#ed7953"
             ],
             [
              0.7777777777777778,
              "#fb9f3a"
             ],
             [
              0.8888888888888888,
              "#fdca26"
             ],
             [
              1,
              "#f0f921"
             ]
            ],
            "type": "histogram2dcontour"
           }
          ],
          "mesh3d": [
           {
            "colorbar": {
             "outlinewidth": 0,
             "ticks": ""
            },
            "type": "mesh3d"
           }
          ],
          "parcoords": [
           {
            "line": {
             "colorbar": {
              "outlinewidth": 0,
              "ticks": ""
             }
            },
            "type": "parcoords"
           }
          ],
          "pie": [
           {
            "automargin": true,
            "type": "pie"
           }
          ],
          "scatter": [
           {
            "fillpattern": {
             "fillmode": "overlay",
             "size": 10,
             "solidity": 0.2
            },
            "type": "scatter"
           }
          ],
          "scatter3d": [
           {
            "line": {
             "colorbar": {
              "outlinewidth": 0,
              "ticks": ""
             }
            },
            "marker": {
             "colorbar": {
              "outlinewidth": 0,
              "ticks": ""
             }
            },
            "type": "scatter3d"
           }
          ],
          "scattercarpet": [
           {
            "marker": {
             "colorbar": {
              "outlinewidth": 0,
              "ticks": ""
             }
            },
            "type": "scattercarpet"
           }
          ],
          "scattergeo": [
           {
            "marker": {
             "colorbar": {
              "outlinewidth": 0,
              "ticks": ""
             }
            },
            "type": "scattergeo"
           }
          ],
          "scattergl": [
           {
            "marker": {
             "colorbar": {
              "outlinewidth": 0,
              "ticks": ""
             }
            },
            "type": "scattergl"
           }
          ],
          "scattermapbox": [
           {
            "marker": {
             "colorbar": {
              "outlinewidth": 0,
              "ticks": ""
             }
            },
            "type": "scattermapbox"
           }
          ],
          "scatterpolar": [
           {
            "marker": {
             "colorbar": {
              "outlinewidth": 0,
              "ticks": ""
             }
            },
            "type": "scatterpolar"
           }
          ],
          "scatterpolargl": [
           {
            "marker": {
             "colorbar": {
              "outlinewidth": 0,
              "ticks": ""
             }
            },
            "type": "scatterpolargl"
           }
          ],
          "scatterternary": [
           {
            "marker": {
             "colorbar": {
              "outlinewidth": 0,
              "ticks": ""
             }
            },
            "type": "scatterternary"
           }
          ],
          "surface": [
           {
            "colorbar": {
             "outlinewidth": 0,
             "ticks": ""
            },
            "colorscale": [
             [
              0,
              "#0d0887"
             ],
             [
              0.1111111111111111,
              "#46039f"
             ],
             [
              0.2222222222222222,
              "#7201a8"
             ],
             [
              0.3333333333333333,
              "#9c179e"
             ],
             [
              0.4444444444444444,
              "#bd3786"
             ],
             [
              0.5555555555555556,
              "#d8576b"
             ],
             [
              0.6666666666666666,
              "#ed7953"
             ],
             [
              0.7777777777777778,
              "#fb9f3a"
             ],
             [
              0.8888888888888888,
              "#fdca26"
             ],
             [
              1,
              "#f0f921"
             ]
            ],
            "type": "surface"
           }
          ],
          "table": [
           {
            "cells": {
             "fill": {
              "color": "#EBF0F8"
             },
             "line": {
              "color": "white"
             }
            },
            "header": {
             "fill": {
              "color": "#C8D4E3"
             },
             "line": {
              "color": "white"
             }
            },
            "type": "table"
           }
          ]
         },
         "layout": {
          "annotationdefaults": {
           "arrowcolor": "#2a3f5f",
           "arrowhead": 0,
           "arrowwidth": 1
          },
          "autotypenumbers": "strict",
          "coloraxis": {
           "colorbar": {
            "outlinewidth": 0,
            "ticks": ""
           }
          },
          "colorscale": {
           "diverging": [
            [
             0,
             "#8e0152"
            ],
            [
             0.1,
             "#c51b7d"
            ],
            [
             0.2,
             "#de77ae"
            ],
            [
             0.3,
             "#f1b6da"
            ],
            [
             0.4,
             "#fde0ef"
            ],
            [
             0.5,
             "#f7f7f7"
            ],
            [
             0.6,
             "#e6f5d0"
            ],
            [
             0.7,
             "#b8e186"
            ],
            [
             0.8,
             "#7fbc41"
            ],
            [
             0.9,
             "#4d9221"
            ],
            [
             1,
             "#276419"
            ]
           ],
           "sequential": [
            [
             0,
             "#0d0887"
            ],
            [
             0.1111111111111111,
             "#46039f"
            ],
            [
             0.2222222222222222,
             "#7201a8"
            ],
            [
             0.3333333333333333,
             "#9c179e"
            ],
            [
             0.4444444444444444,
             "#bd3786"
            ],
            [
             0.5555555555555556,
             "#d8576b"
            ],
            [
             0.6666666666666666,
             "#ed7953"
            ],
            [
             0.7777777777777778,
             "#fb9f3a"
            ],
            [
             0.8888888888888888,
             "#fdca26"
            ],
            [
             1,
             "#f0f921"
            ]
           ],
           "sequentialminus": [
            [
             0,
             "#0d0887"
            ],
            [
             0.1111111111111111,
             "#46039f"
            ],
            [
             0.2222222222222222,
             "#7201a8"
            ],
            [
             0.3333333333333333,
             "#9c179e"
            ],
            [
             0.4444444444444444,
             "#bd3786"
            ],
            [
             0.5555555555555556,
             "#d8576b"
            ],
            [
             0.6666666666666666,
             "#ed7953"
            ],
            [
             0.7777777777777778,
             "#fb9f3a"
            ],
            [
             0.8888888888888888,
             "#fdca26"
            ],
            [
             1,
             "#f0f921"
            ]
           ]
          },
          "colorway": [
           "#636efa",
           "#EF553B",
           "#00cc96",
           "#ab63fa",
           "#FFA15A",
           "#19d3f3",
           "#FF6692",
           "#B6E880",
           "#FF97FF",
           "#FECB52"
          ],
          "font": {
           "color": "#2a3f5f"
          },
          "geo": {
           "bgcolor": "white",
           "lakecolor": "white",
           "landcolor": "#E5ECF6",
           "showlakes": true,
           "showland": true,
           "subunitcolor": "white"
          },
          "hoverlabel": {
           "align": "left"
          },
          "hovermode": "closest",
          "mapbox": {
           "style": "light"
          },
          "paper_bgcolor": "white",
          "plot_bgcolor": "#E5ECF6",
          "polar": {
           "angularaxis": {
            "gridcolor": "white",
            "linecolor": "white",
            "ticks": ""
           },
           "bgcolor": "#E5ECF6",
           "radialaxis": {
            "gridcolor": "white",
            "linecolor": "white",
            "ticks": ""
           }
          },
          "scene": {
           "xaxis": {
            "backgroundcolor": "#E5ECF6",
            "gridcolor": "white",
            "gridwidth": 2,
            "linecolor": "white",
            "showbackground": true,
            "ticks": "",
            "zerolinecolor": "white"
           },
           "yaxis": {
            "backgroundcolor": "#E5ECF6",
            "gridcolor": "white",
            "gridwidth": 2,
            "linecolor": "white",
            "showbackground": true,
            "ticks": "",
            "zerolinecolor": "white"
           },
           "zaxis": {
            "backgroundcolor": "#E5ECF6",
            "gridcolor": "white",
            "gridwidth": 2,
            "linecolor": "white",
            "showbackground": true,
            "ticks": "",
            "zerolinecolor": "white"
           }
          },
          "shapedefaults": {
           "line": {
            "color": "#2a3f5f"
           }
          },
          "ternary": {
           "aaxis": {
            "gridcolor": "white",
            "linecolor": "white",
            "ticks": ""
           },
           "baxis": {
            "gridcolor": "white",
            "linecolor": "white",
            "ticks": ""
           },
           "bgcolor": "#E5ECF6",
           "caxis": {
            "gridcolor": "white",
            "linecolor": "white",
            "ticks": ""
           }
          },
          "title": {
           "x": 0.05
          },
          "xaxis": {
           "automargin": true,
           "gridcolor": "white",
           "linecolor": "white",
           "ticks": "",
           "title": {
            "standoff": 15
           },
           "zerolinecolor": "white",
           "zerolinewidth": 2
          },
          "yaxis": {
           "automargin": true,
           "gridcolor": "white",
           "linecolor": "white",
           "ticks": "",
           "title": {
            "standoff": 15
           },
           "zerolinecolor": "white",
           "zerolinewidth": 2
          }
         }
        },
        "title": {
         "text": "Embarked"
        },
        "xaxis": {
         "anchor": "y",
         "domain": [
          0,
          1
         ],
         "title": {
          "text": "index"
         }
        },
        "yaxis": {
         "anchor": "x",
         "domain": [
          0,
          1
         ],
         "title": {
          "text": "value"
         }
        }
       }
      }
     },
     "metadata": {},
     "output_type": "display_data"
    }
   ],
   "source": [
    "for column in all_csv.columns:\n",
    "    vc = all_csv[column].value_counts()\n",
    "    fig = px.bar(vc, title=column)\n",
    "    fig.show()"
   ]
  },
  {
   "cell_type": "code",
   "execution_count": 10,
   "metadata": {},
   "outputs": [
    {
     "name": "stdout",
     "output_type": "stream",
     "text": [
      "Pclass      1   2    3\n",
      "Survived              \n",
      "0          80  97  372\n",
      "1         136  87  119\n",
      "\n",
      "Sex       female  male\n",
      "Survived              \n",
      "0             81   468\n",
      "1            233   109\n",
      "\n",
      "Embarked   C   Q    S\n",
      "Survived             \n",
      "0         75  47  427\n",
      "1         93  30  217\n",
      "\n"
     ]
    }
   ],
   "source": [
    "print(pd.pivot_table(train_csv, values='Name', columns='Pclass', index='Survived', aggfunc ='count'))\n",
    "print()\n",
    "print(pd.pivot_table(train_csv, values='Name', columns='Sex', index='Survived', aggfunc ='count'))\n",
    "print()\n",
    "print(pd.pivot_table(train_csv, values='Name', columns='Embarked', index='Survived', aggfunc ='count'))\n",
    "print()"
   ]
  },
  {
   "cell_type": "code",
   "execution_count": 11,
   "metadata": {},
   "outputs": [
    {
     "name": "stdout",
     "output_type": "stream",
     "text": [
      "name_status  Capt  Col  Don   Dr  Jonkheer  Lady  Major  Master   Miss  Mlle  \\\n",
      "Survived                                                                       \n",
      "0.0           1.0  1.0  1.0  4.0       1.0   NaN    1.0    17.0   55.0   NaN   \n",
      "1.0           NaN  1.0  NaN  3.0       NaN   1.0    1.0    23.0  127.0   2.0   \n",
      "\n",
      "name_status  Mme     Mr   Mrs   Ms  Rev  Sir  the Countess  \n",
      "Survived                                                    \n",
      "0.0          NaN  436.0  26.0  NaN  6.0  NaN           NaN  \n",
      "1.0          1.0   81.0  99.0  1.0  NaN  1.0           1.0  \n"
     ]
    }
   ],
   "source": [
    "def get_name_status(name: str) -> str:\n",
    "    return name.split(',')[1].split('.')[0].strip()\n",
    "    \n",
    "all_csv['name_status'] = all_csv.Name.apply(get_name_status)\n",
    "print(pd.pivot_table(all_csv, values='Name', columns='name_status', index='Survived', aggfunc='count'))"
   ]
  },
  {
   "cell_type": "code",
   "execution_count": 12,
   "metadata": {},
   "outputs": [
    {
     "name": "stdout",
     "output_type": "stream",
     "text": [
      "cabin_count    1.0  2.0  3.0  4.0\n",
      "Survived                         \n",
      "0.0           58.0  7.0  3.0  NaN\n",
      "1.0          122.0  9.0  3.0  2.0\n",
      "Median: 1.0\n"
     ]
    }
   ],
   "source": [
    "def get_cabin_count(cabin: str) -> int:\n",
    "    return len(cabin.split(' ')) if cabin is not np.nan else np.nan\n",
    "\n",
    "all_csv['cabin_count'] = all_csv.Cabin.apply(get_cabin_count)\n",
    "print(pd.pivot_table(all_csv, values='Name', columns='cabin_count', index='Survived', aggfunc='count'))\n",
    "print(f\"Median: {all_csv.cabin_count.median()}\")"
   ]
  },
  {
   "cell_type": "code",
   "execution_count": 13,
   "metadata": {},
   "outputs": [
    {
     "name": "stdout",
     "output_type": "stream",
     "text": [
      "cabin_class    A     B     C     D     E    F    G    T\n",
      "Survived                                               \n",
      "0.0          8.0  12.0  24.0   8.0   8.0  5.0  2.0  1.0\n",
      "1.0          7.0  35.0  35.0  25.0  24.0  8.0  2.0  NaN\n",
      "C    94\n",
      "B    65\n",
      "D    46\n",
      "E    41\n",
      "A    22\n",
      "F    21\n",
      "G     5\n",
      "T     1\n",
      "Name: cabin_class, dtype: int64\n"
     ]
    }
   ],
   "source": [
    "def get_cabin_class(cabin: str) -> int:\n",
    "    if cabin is np.nan:\n",
    "        return np.nan\n",
    "    return cabin.split(' ')[0][0]\n",
    "\n",
    "all_csv['cabin_class'] = all_csv.Cabin.apply(get_cabin_class)\n",
    "print(pd.pivot_table(all_csv, values='Name', columns='cabin_class', index='Survived', aggfunc='count'))\n",
    "print(all_csv.cabin_class.value_counts())"
   ]
  },
  {
   "cell_type": "code",
   "execution_count": 14,
   "metadata": {},
   "outputs": [
    {
     "name": "stdout",
     "output_type": "stream",
     "text": [
      "cabin_number  2.0    3.0    4.0    5.0    6.0    7.0    8.0    9.0    10.0   \\\n",
      "Survived                                                                      \n",
      "0.0             2.0    NaN    NaN    1.0    3.0    1.0    NaN    NaN    1.0   \n",
      "1.0             3.0    1.0    3.0    2.0    3.0    2.0    2.0    1.0    2.0   \n",
      "\n",
      "cabin_number  11.0   ...  110.0  111.0  118.0  121.0  123.0  124.0  125.0  \\\n",
      "Survived             ...                                                    \n",
      "0.0             NaN  ...    1.0    1.0    1.0    NaN    1.0    2.0    NaN   \n",
      "1.0             1.0  ...    NaN    NaN    NaN    2.0    1.0    NaN    2.0   \n",
      "\n",
      "cabin_number  126.0  128.0  148.0  \n",
      "Survived                           \n",
      "0.0             NaN    1.0    NaN  \n",
      "1.0             2.0    NaN    1.0  \n",
      "\n",
      "[2 rows x 92 columns]\n"
     ]
    }
   ],
   "source": [
    "def get_cabin_number(cabin: str) -> int:\n",
    "    if cabin is np.nan:\n",
    "        return np.nan\n",
    "    try:\n",
    "        return int(cabin.split(' ')[0][1:])\n",
    "    except ValueError:\n",
    "        return np.nan\n",
    "\n",
    "all_csv['cabin_number'] = all_csv.Cabin.apply(get_cabin_number)\n",
    "print(pd.pivot_table(all_csv, values='Name', columns='cabin_number', index='Survived', aggfunc='count'))"
   ]
  },
  {
   "cell_type": "code",
   "execution_count": 15,
   "metadata": {},
   "outputs": [
    {
     "name": "stdout",
     "output_type": "stream",
     "text": [
      "ticket_type     a   a4   a5    c    ca   fa   fc  fcc    num    p  ...   so  \\\n",
      "Survived                                                           ...        \n",
      "0.0          24.0  1.0  2.0  3.0  28.0  1.0  1.0  1.0  410.0  1.0  ...  3.0   \n",
      "1.0           2.0  NaN  NaN  2.0  14.0  NaN  NaN  4.0  255.0  1.0  ...  1.0   \n",
      "\n",
      "ticket_type  soc  sop  soton   sp  ston   sw    w   we  wep  \n",
      "Survived                                                     \n",
      "0.0          5.0  1.0   15.0  1.0  10.0  NaN  9.0  1.0  1.0  \n",
      "1.0          NaN  NaN    2.0  NaN   8.0  2.0  1.0  1.0  NaN  \n",
      "\n",
      "[2 rows x 24 columns]\n"
     ]
    }
   ],
   "source": [
    "def get_ticket_type(ticket: str) -> int:\n",
    "    if ticket is np.nan:\n",
    "        print('Nan found')\n",
    "    ticket_parts = ticket.split(' ')\n",
    "    if len(ticket_parts) == 1:\n",
    "        return 'num'\n",
    "    ticket_type = ticket_parts[0].replace('.', '').split('/')[0].lower()\n",
    "    return ticket_type\n",
    "\n",
    "all_csv['ticket_type'] = all_csv.Ticket.apply(get_ticket_type)\n",
    "print(pd.pivot_table(all_csv, values='Name', columns='ticket_type', index='Survived', aggfunc='count'))"
   ]
  },
  {
   "cell_type": "code",
   "execution_count": 16,
   "metadata": {},
   "outputs": [
    {
     "name": "stdout",
     "output_type": "stream",
     "text": [
      "<class 'pandas.core.frame.DataFrame'>\n",
      "Int64Index: 1309 entries, 0 to 417\n",
      "Data columns (total 17 columns):\n",
      " #   Column        Non-Null Count  Dtype  \n",
      "---  ------        --------------  -----  \n",
      " 0   PassengerId   1309 non-null   int64  \n",
      " 1   Survived      891 non-null    float64\n",
      " 2   Pclass        1309 non-null   int64  \n",
      " 3   Name          1309 non-null   object \n",
      " 4   Sex           1309 non-null   object \n",
      " 5   Age           1046 non-null   float64\n",
      " 6   SibSp         1309 non-null   int64  \n",
      " 7   Parch         1309 non-null   int64  \n",
      " 8   Ticket        1309 non-null   object \n",
      " 9   Fare          1308 non-null   float64\n",
      " 10  Cabin         295 non-null    object \n",
      " 11  Embarked      1307 non-null   object \n",
      " 12  name_status   1309 non-null   object \n",
      " 13  cabin_count   295 non-null    float64\n",
      " 14  cabin_class   295 non-null    object \n",
      " 15  cabin_number  282 non-null    float64\n",
      " 16  ticket_type   1309 non-null   object \n",
      "dtypes: float64(5), int64(4), object(8)\n",
      "memory usage: 184.1+ KB\n"
     ]
    }
   ],
   "source": [
    "all_csv.info()"
   ]
  },
  {
   "cell_type": "markdown",
   "metadata": {},
   "source": [
    "<h3>A data preparation for the model</h3>"
   ]
  },
  {
   "cell_type": "code",
   "execution_count": 17,
   "metadata": {},
   "outputs": [
    {
     "name": "stdout",
     "output_type": "stream",
     "text": [
      "Train / val amounts: 711 / 178\n"
     ]
    },
    {
     "data": {
      "text/html": [
       "<div>\n",
       "<style scoped>\n",
       "    .dataframe tbody tr th:only-of-type {\n",
       "        vertical-align: middle;\n",
       "    }\n",
       "\n",
       "    .dataframe tbody tr th {\n",
       "        vertical-align: top;\n",
       "    }\n",
       "\n",
       "    .dataframe thead th {\n",
       "        text-align: right;\n",
       "    }\n",
       "</style>\n",
       "<table border=\"1\" class=\"dataframe\">\n",
       "  <thead>\n",
       "    <tr style=\"text-align: right;\">\n",
       "      <th></th>\n",
       "      <th>Age</th>\n",
       "      <th>log_Fare</th>\n",
       "      <th>SibSp</th>\n",
       "      <th>Parch</th>\n",
       "      <th>cabin_count</th>\n",
       "      <th>Pclass</th>\n",
       "      <th>Embarked</th>\n",
       "      <th>Sex</th>\n",
       "      <th>name_status</th>\n",
       "      <th>cabin_class</th>\n",
       "      <th>ticket_type</th>\n",
       "      <th>Survived</th>\n",
       "    </tr>\n",
       "  </thead>\n",
       "  <tbody>\n",
       "    <tr>\n",
       "      <th>674</th>\n",
       "      <td>-0.130575</td>\n",
       "      <td>-3.076956</td>\n",
       "      <td>-0.479087</td>\n",
       "      <td>-0.445000</td>\n",
       "      <td>-0.358056</td>\n",
       "      <td>2</td>\n",
       "      <td>S</td>\n",
       "      <td>male</td>\n",
       "      <td>Mr</td>\n",
       "      <td>C</td>\n",
       "      <td>num</td>\n",
       "      <td>0</td>\n",
       "    </tr>\n",
       "    <tr>\n",
       "      <th>192</th>\n",
       "      <td>-0.755288</td>\n",
       "      <td>-0.824662</td>\n",
       "      <td>0.481288</td>\n",
       "      <td>-0.445000</td>\n",
       "      <td>-0.358056</td>\n",
       "      <td>3</td>\n",
       "      <td>S</td>\n",
       "      <td>female</td>\n",
       "      <td>Miss</td>\n",
       "      <td>C</td>\n",
       "      <td>num</td>\n",
       "      <td>1</td>\n",
       "    </tr>\n",
       "    <tr>\n",
       "      <th>288</th>\n",
       "      <td>0.841202</td>\n",
       "      <td>-0.351496</td>\n",
       "      <td>-0.479087</td>\n",
       "      <td>-0.445000</td>\n",
       "      <td>-0.358056</td>\n",
       "      <td>2</td>\n",
       "      <td>S</td>\n",
       "      <td>male</td>\n",
       "      <td>Mr</td>\n",
       "      <td>C</td>\n",
       "      <td>num</td>\n",
       "      <td>1</td>\n",
       "    </tr>\n",
       "    <tr>\n",
       "      <th>125</th>\n",
       "      <td>-1.241177</td>\n",
       "      <td>-0.490100</td>\n",
       "      <td>0.481288</td>\n",
       "      <td>-0.445000</td>\n",
       "      <td>-0.358056</td>\n",
       "      <td>3</td>\n",
       "      <td>C</td>\n",
       "      <td>male</td>\n",
       "      <td>Master</td>\n",
       "      <td>C</td>\n",
       "      <td>num</td>\n",
       "      <td>1</td>\n",
       "    </tr>\n",
       "    <tr>\n",
       "      <th>752</th>\n",
       "      <td>0.216488</td>\n",
       "      <td>-0.648597</td>\n",
       "      <td>-0.479087</td>\n",
       "      <td>-0.445000</td>\n",
       "      <td>-0.358056</td>\n",
       "      <td>3</td>\n",
       "      <td>S</td>\n",
       "      <td>male</td>\n",
       "      <td>Mr</td>\n",
       "      <td>C</td>\n",
       "      <td>num</td>\n",
       "      <td>0</td>\n",
       "    </tr>\n",
       "    <tr>\n",
       "      <th>488</th>\n",
       "      <td>0.008251</td>\n",
       "      <td>-0.802073</td>\n",
       "      <td>-0.479087</td>\n",
       "      <td>-0.445000</td>\n",
       "      <td>-0.358056</td>\n",
       "      <td>3</td>\n",
       "      <td>S</td>\n",
       "      <td>male</td>\n",
       "      <td>Mr</td>\n",
       "      <td>C</td>\n",
       "      <td>a5</td>\n",
       "      <td>0</td>\n",
       "    </tr>\n",
       "    <tr>\n",
       "      <th>648</th>\n",
       "      <td>-0.130575</td>\n",
       "      <td>-0.860767</td>\n",
       "      <td>-0.479087</td>\n",
       "      <td>-0.445000</td>\n",
       "      <td>-0.358056</td>\n",
       "      <td>3</td>\n",
       "      <td>S</td>\n",
       "      <td>male</td>\n",
       "      <td>Mr</td>\n",
       "      <td>C</td>\n",
       "      <td>so</td>\n",
       "      <td>0</td>\n",
       "    </tr>\n",
       "    <tr>\n",
       "      <th>845</th>\n",
       "      <td>0.841202</td>\n",
       "      <td>-0.860767</td>\n",
       "      <td>-0.479087</td>\n",
       "      <td>-0.445000</td>\n",
       "      <td>-0.358056</td>\n",
       "      <td>3</td>\n",
       "      <td>S</td>\n",
       "      <td>male</td>\n",
       "      <td>Mr</td>\n",
       "      <td>C</td>\n",
       "      <td>ca</td>\n",
       "      <td>0</td>\n",
       "    </tr>\n",
       "    <tr>\n",
       "      <th>97</th>\n",
       "      <td>-0.477638</td>\n",
       "      <td>1.223854</td>\n",
       "      <td>-0.479087</td>\n",
       "      <td>0.710763</td>\n",
       "      <td>1.373527</td>\n",
       "      <td>1</td>\n",
       "      <td>C</td>\n",
       "      <td>male</td>\n",
       "      <td>Mr</td>\n",
       "      <td>D</td>\n",
       "      <td>pc</td>\n",
       "      <td>1</td>\n",
       "    </tr>\n",
       "    <tr>\n",
       "      <th>843</th>\n",
       "      <td>0.320607</td>\n",
       "      <td>-1.004728</td>\n",
       "      <td>-0.479087</td>\n",
       "      <td>-0.445000</td>\n",
       "      <td>-0.358056</td>\n",
       "      <td>3</td>\n",
       "      <td>C</td>\n",
       "      <td>male</td>\n",
       "      <td>Mr</td>\n",
       "      <td>C</td>\n",
       "      <td>num</td>\n",
       "      <td>0</td>\n",
       "    </tr>\n",
       "  </tbody>\n",
       "</table>\n",
       "</div>"
      ],
      "text/plain": [
       "          Age  log_Fare     SibSp     Parch  cabin_count Pclass Embarked  \\\n",
       "674 -0.130575 -3.076956 -0.479087 -0.445000    -0.358056      2        S   \n",
       "192 -0.755288 -0.824662  0.481288 -0.445000    -0.358056      3        S   \n",
       "288  0.841202 -0.351496 -0.479087 -0.445000    -0.358056      2        S   \n",
       "125 -1.241177 -0.490100  0.481288 -0.445000    -0.358056      3        C   \n",
       "752  0.216488 -0.648597 -0.479087 -0.445000    -0.358056      3        S   \n",
       "488  0.008251 -0.802073 -0.479087 -0.445000    -0.358056      3        S   \n",
       "648 -0.130575 -0.860767 -0.479087 -0.445000    -0.358056      3        S   \n",
       "845  0.841202 -0.860767 -0.479087 -0.445000    -0.358056      3        S   \n",
       "97  -0.477638  1.223854 -0.479087  0.710763     1.373527      1        C   \n",
       "843  0.320607 -1.004728 -0.479087 -0.445000    -0.358056      3        C   \n",
       "\n",
       "        Sex name_status cabin_class ticket_type  Survived  \n",
       "674    male          Mr           C         num         0  \n",
       "192  female        Miss           C         num         1  \n",
       "288    male          Mr           C         num         1  \n",
       "125    male      Master           C         num         1  \n",
       "752    male          Mr           C         num         0  \n",
       "488    male          Mr           C          a5         0  \n",
       "648    male          Mr           C          so         0  \n",
       "845    male          Mr           C          ca         0  \n",
       "97     male          Mr           D          pc         1  \n",
       "843    male          Mr           C         num         0  "
      ]
     },
     "execution_count": 17,
     "metadata": {},
     "output_type": "execute_result"
    },
    {
     "data": {
      "image/png": "[encoded data removed]",
      "text/plain": [
       "<Figure size 640x480 with 1 Axes>"
      ]
     },
     "metadata": {},
     "output_type": "display_data"
    }
   ],
   "source": [
    "from sklearn.model_selection import train_test_split\n",
    "\n",
    "num_features = ['Age', 'log_Fare', 'SibSp', 'Parch', 'cabin_count']\n",
    "cat_features = ['Pclass', 'Embarked', 'Sex', 'name_status', 'cabin_class', 'ticket_type']\n",
    "features = num_features + cat_features\n",
    "\n",
    "train_csv.Age = train_csv.Age.fillna(all_csv.Age.median())\n",
    "train_csv.Fare = train_csv.Fare.fillna(all_csv.Fare.median())\n",
    "\n",
    "train_csv['log_Fare'] = np.log(train_csv.Fare + 1)\n",
    "\n",
    "train_csv.dropna(subset=['Embarked'], inplace = True)\n",
    "\n",
    "train_csv.Pclass = train_csv.Pclass.astype(str)\n",
    "\n",
    "train_csv['name_status'] = train_csv.Name.apply(get_name_status)\n",
    "train_csv['ticket_type'] = train_csv.Ticket.apply(get_ticket_type)\n",
    "train_csv['cabin_count'] = train_csv.Cabin.apply(get_cabin_count)\n",
    "train_csv.cabin_count = train_csv.cabin_count.fillna(1)\n",
    "train_csv['cabin_class'] = train_csv.Cabin.apply(get_cabin_class)\n",
    "train_csv.cabin_class = train_csv.cabin_class.fillna('C')\n",
    "\n",
    "all_csv['log_Fare'] = np.log(all_csv.Fare + 1)\n",
    "\n",
    "std_scaler = StandardScaler()\n",
    "std_scaler.fit(all_csv[num_features])\n",
    "train_csv[num_features] = std_scaler.transform(train_csv[num_features])\n",
    "\n",
    "for f in num_features:\n",
    "    train_csv[f].hist()\n",
    "\n",
    "train_data, val_data = train_test_split(train_csv[features + ['Survived']], test_size=0.2)\n",
    "print(f'Train / val amounts: {len(train_data)} / {len(val_data)}')\n",
    "\n",
    "train_data.head(10)"
   ]
  },
  {
   "cell_type": "code",
   "execution_count": 18,
   "metadata": {},
   "outputs": [
    {
     "name": "stdout",
     "output_type": "stream",
     "text": [
      "Assumption: only women have survied, accuracy: 22.47%\n"
     ]
    }
   ],
   "source": [
    "females = val_data.loc[val_data.Sex == 'female']\n",
    "print(f'Assumption: only women have survied, accuracy: {sum(females[\"Survived\"]) / len(val_data) * 100:.2f}%')"
   ]
  },
  {
   "cell_type": "code",
   "execution_count": 19,
   "metadata": {},
   "outputs": [],
   "source": [
    "def get_accuracy(pr_values, y_values):\n",
    "    return np.sum(np.array(pr_values) == np.array(y_values)) / len(pr_values)\n",
    "\n",
    "def merge_dummies(dummy_a: pd.DataFrame, dummy_b: pd.DataFrame):\n",
    "    columns_a = set(dummy_a.columns)\n",
    "    columns_b = set(dummy_b.columns)\n",
    "    common_columns_set = columns_a.intersection(columns_b)\n",
    "    for column in columns_a:\n",
    "        if column not in common_columns_set:\n",
    "            dummy_a.drop(columns=[column], inplace=True)\n",
    "    for column in columns_b:\n",
    "        if column not in common_columns_set:\n",
    "            dummy_b.drop(columns=[column], inplace=True)\n",
    "    dummy_a.sort_index(axis=1, inplace=True)\n",
    "    dummy_b.sort_index(axis=1, inplace=True)\n",
    "    \n",
    "\n",
    "y_train = train_data[\"Survived\"]\n",
    "y_val = val_data[\"Survived\"]\n",
    "\n",
    "x_train = pd.get_dummies(train_data[features])\n",
    "x_val = pd.get_dummies(val_data[features])\n",
    "\n",
    "x_train.drop(columns=['Sex_male'], inplace=True)\n",
    "x_val.drop(columns=['Sex_male'], inplace=True)\n",
    "\n",
    "merge_dummies(x_train, x_val)"
   ]
  },
  {
   "cell_type": "markdown",
   "metadata": {},
   "source": [
    "<h3> A computing of the model </h3>"
   ]
  },
  {
   "cell_type": "code",
   "execution_count": 20,
   "metadata": {},
   "outputs": [
    {
     "name": "stderr",
     "output_type": "stream",
     "text": [
      "100%|██████████| 500/500 [02:03<00:00,  4.04it/s]\n"
     ]
    },
    {
     "name": "stdout",
     "output_type": "stream",
     "text": [
      "\n",
      "Best params: {'n_estimators': 43, 'max_features': None, 'max_depth': 6, 'min_samples_split': 2, 'min_samples_leaf': 1, 'bootstrap': True}\n",
      "Train accuracy: 91.56%, Val accuracy: 84.27%\n"
     ]
    }
   ],
   "source": [
    "import numpy as np\n",
    "from sklearn.ensemble import RandomForestClassifier\n",
    "from tqdm import tqdm\n",
    "import time\n",
    "\n",
    "\n",
    "random_grid = {'n_estimators': [int(x) for x in np.linspace(1, 300, num=50)],\n",
    "               'max_features': [None, 'sqrt'],\n",
    "               'max_depth': [int(x) for x in np.linspace(1, 110, num=20)] + [None],\n",
    "               'min_samples_split': [2, 5, 10],\n",
    "               'min_samples_leaf': [1, 2, 4],\n",
    "               'bootstrap': [True]}\n",
    "best_rf_model = None\n",
    "best_acc = 0.0\n",
    "best_params = None\n",
    "\n",
    "# best_rf_model = RandomForestClassifier(n_estimators=10, max_depth=6, random_state=3)\n",
    "# best_rf_model.fit(x_train, y_train)\n",
    "\n",
    "for _ in tqdm(range(500)):\n",
    "    params = {k: np.random.choice(v) for k, v in random_grid.items()}\n",
    "    rf_model = RandomForestClassifier(**params, random_state=3)\n",
    "    rf_model.fit(x_train, y_train)\n",
    "    pr_val = rf_model.predict(x_val)\n",
    "    accuracy = get_accuracy(pr_val, y_val)\n",
    "    if best_rf_model is None or accuracy > best_acc:\n",
    "        best_rf_model = rf_model\n",
    "        best_acc = accuracy\n",
    "        best_params = params\n",
    "\n",
    "time.sleep(1)\n",
    "print()\n",
    "print(f'Best params: {best_params}')\n",
    "\n",
    "pr_train = best_rf_model.predict(x_train)\n",
    "pr_val = best_rf_model.predict(x_val)\n",
    "\n",
    "train_accuracy = get_accuracy(pr_train, y_train)\n",
    "val_accuracy = get_accuracy(pr_val, y_val)\n",
    "print(f'Train accuracy: {train_accuracy * 100:.2f}%, Val accuracy: {val_accuracy * 100:.2f}%')"
   ]
  },
  {
   "cell_type": "code",
   "execution_count": 21,
   "metadata": {},
   "outputs": [
    {
     "name": "stderr",
     "output_type": "stream",
     "text": [
      "/usr/lib/python3/dist-packages/dask/dataframe/utils.py:14: FutureWarning:\n",
      "\n",
      "pandas.util.testing is deprecated. Use the functions in the public API at pandas.testing instead.\n",
      "\n",
      "/usr/lib/python3/dist-packages/dask/dataframe/utils.py:362: FutureWarning:\n",
      "\n",
      "pandas.Int64Index is deprecated and will be removed from pandas in a future version. Use pandas.Index with the appropriate dtype instead.\n",
      "\n",
      "/usr/lib/python3/dist-packages/dask/dataframe/utils.py:362: FutureWarning:\n",
      "\n",
      "pandas.Float64Index is deprecated and will be removed from pandas in a future version. Use pandas.Index with the appropriate dtype instead.\n",
      "\n",
      "/usr/lib/python3/dist-packages/dask/dataframe/utils.py:362: FutureWarning:\n",
      "\n",
      "pandas.UInt64Index is deprecated and will be removed from pandas in a future version. Use pandas.Index with the appropriate dtype instead.\n",
      "\n",
      "100%|██████████| 500/500 [00:41<00:00, 11.97it/s]\n"
     ]
    },
    {
     "name": "stdout",
     "output_type": "stream",
     "text": [
      "\n",
      "Best params: {'n_estimators': 129, 'num_leaves': 62, 'objective': 'xentropy', 'max_depth': 6, 'learning_rate': 0.20333333333333334, 'boosting_type': 'dart'}\n",
      "Train accuracy: 91.84%, Val accuracy: 84.27%\n"
     ]
    }
   ],
   "source": [
    "import lightgbm as lgb\n",
    "\n",
    "\n",
    "lgb_train = lgb.Dataset(x_train, y_train)\n",
    "lgb_eval = lgb.Dataset(x_val, y_val, reference=lgb_train)\n",
    "\n",
    "best_gbm = None\n",
    "best_acc = 0\n",
    "best_params = None\n",
    "\n",
    "random_grid = {'n_estimators': [int(x) for x in np.linspace(1, 300, num=50)],\n",
    "               'num_leaves': [i for i in range(2, 100, 3)],\n",
    "               'objective': ['xentropy', 'binary'],\n",
    "               'max_depth': [int(x) for x in np.linspace(1, 110, num=20)] + [-1],\n",
    "               'learning_rate': [float(lr) for lr in np.linspace(0.01, 0.3, num=10)],\n",
    "               'boosting_type': ['gbdt', 'dart']}\n",
    "\n",
    "for _ in tqdm(range(500)):\n",
    "    params = {k: np.random.choice(v) for k, v in random_grid.items()}\n",
    "    gbm = lgb.LGBMClassifier(**params, random_state=3, verbose=-1)\n",
    "    gbm.fit(x_train, y_train)\n",
    "    pr_val = gbm.predict(x_val)\n",
    "    accuracy = get_accuracy(pr_val, y_val)\n",
    "    if best_gbm is None or accuracy > best_acc:\n",
    "        best_gbm = gbm\n",
    "        best_acc = accuracy\n",
    "        best_params = params\n",
    "\n",
    "time.sleep(1)\n",
    "print()\n",
    "print(f'Best params: {best_params}')\n",
    "\n",
    "threshold = 0.5\n",
    "pr_train = best_gbm.predict(x_train)\n",
    "pr_train[pr_train < threshold] = 0\n",
    "pr_train[pr_train > 0] = 1\n",
    "pr_train = pr_train.astype(int)\n",
    "pr_val = best_gbm.predict(x_val)\n",
    "pr_val[pr_val < threshold] = 0\n",
    "pr_val[pr_val > 0] = 1\n",
    "pr_val = pr_val.astype(int)\n",
    "\n",
    "train_accuracy = get_accuracy(pr_train, y_train)\n",
    "val_accuracy = get_accuracy(pr_val, y_val)\n",
    "print(f'Train accuracy: {train_accuracy * 100:.2f}%, Val accuracy: {val_accuracy * 100:.2f}%')"
   ]
  },
  {
   "cell_type": "code",
   "execution_count": 22,
   "metadata": {},
   "outputs": [
    {
     "name": "stderr",
     "output_type": "stream",
     "text": [
      "100%|██████████| 500/500 [00:12<00:00, 39.09it/s]\n"
     ]
    },
    {
     "name": "stdout",
     "output_type": "stream",
     "text": [
      "\n",
      "Best params: {'solver': 'liblinear'}\n",
      "Train accuracy: 92.97%, Val accuracy: 82.58%\n"
     ]
    }
   ],
   "source": [
    "import numpy as np\n",
    "from sklearn.linear_model import LogisticRegression\n",
    "from tqdm import tqdm\n",
    "\n",
    "\n",
    "random_grid = {'solver': ['lbfgs', 'liblinear', 'newton-cg', 'newton-cholesky', 'sag', 'saga']}\n",
    "best_et_model = None\n",
    "best_acc = 0.0\n",
    "best_params = None\n",
    "\n",
    "# best_rf_model = RandomForestClassifier(n_estimators=10, max_depth=6, random_state=3)\n",
    "# best_rf_model.fit(x_train, y_train)\n",
    "\n",
    "for _ in tqdm(range(500)):\n",
    "    params = {k: np.random.choice(v) for k, v in random_grid.items()}\n",
    "    et_model = LogisticRegression(**params, max_iter=1000)\n",
    "    et_model.fit(x_train, y_train)\n",
    "    pr_val = et_model.predict(x_val)\n",
    "    accuracy = get_accuracy(pr_val, y_val)\n",
    "    if best_et_model is None or accuracy > best_acc:\n",
    "        best_et_model = rf_model\n",
    "        best_acc = accuracy\n",
    "        best_params = params\n",
    "\n",
    "time.sleep(1)\n",
    "print()\n",
    "print(f'Best params: {best_params}')\n",
    "\n",
    "pr_train = best_et_model.predict(x_train)\n",
    "pr_val = best_et_model.predict(x_val)\n",
    "\n",
    "train_accuracy = get_accuracy(pr_train, y_train)\n",
    "val_accuracy = get_accuracy(pr_val, y_val)\n",
    "print(f'Train accuracy: {train_accuracy * 100:.2f}%, Val accuracy: {val_accuracy * 100:.2f}%')"
   ]
  },
  {
   "cell_type": "code",
   "execution_count": 23,
   "metadata": {},
   "outputs": [
    {
     "name": "stdout",
     "output_type": "stream",
     "text": [
      "Train accuracy: 92.97%, Val accuracy: 83.71%\n"
     ]
    }
   ],
   "source": [
    "from sklearn.ensemble import VotingClassifier\n",
    "\n",
    "final_model = VotingClassifier(estimators=[('rf', best_rf_model), ('gbm', best_gbm),\n",
    "                                           ('et', best_et_model)], voting='soft')\n",
    "\n",
    "final_model.fit(x_train, y_train)\n",
    "\n",
    "pr_train = final_model.predict(x_train)\n",
    "pr_val = final_model.predict(x_val)\n",
    "\n",
    "train_accuracy = get_accuracy(pr_train, y_train)\n",
    "val_accuracy = get_accuracy(pr_val, y_val)\n",
    "print(f'Train accuracy: {train_accuracy * 100:.2f}%, Val accuracy: {val_accuracy * 100:.2f}%')"
   ]
  },
  {
   "cell_type": "markdown",
   "metadata": {},
   "source": [
    "<h3> Final calculations</h3>"
   ]
  },
  {
   "cell_type": "code",
   "execution_count": 24,
   "metadata": {},
   "outputs": [
    {
     "name": "stdout",
     "output_type": "stream",
     "text": [
      "Accuracy : 91.23%\n"
     ]
    },
    {
     "data": {
      "text/html": [
       "<div>\n",
       "<style scoped>\n",
       "    .dataframe tbody tr th:only-of-type {\n",
       "        vertical-align: middle;\n",
       "    }\n",
       "\n",
       "    .dataframe tbody tr th {\n",
       "        vertical-align: top;\n",
       "    }\n",
       "\n",
       "    .dataframe thead th {\n",
       "        text-align: right;\n",
       "    }\n",
       "</style>\n",
       "<table border=\"1\" class=\"dataframe\">\n",
       "  <thead>\n",
       "    <tr style=\"text-align: right;\">\n",
       "      <th></th>\n",
       "      <th>PassengerId</th>\n",
       "      <th>Survived</th>\n",
       "    </tr>\n",
       "  </thead>\n",
       "  <tbody>\n",
       "    <tr>\n",
       "      <th>0</th>\n",
       "      <td>892</td>\n",
       "      <td>0</td>\n",
       "    </tr>\n",
       "    <tr>\n",
       "      <th>1</th>\n",
       "      <td>893</td>\n",
       "      <td>0</td>\n",
       "    </tr>\n",
       "    <tr>\n",
       "      <th>2</th>\n",
       "      <td>894</td>\n",
       "      <td>0</td>\n",
       "    </tr>\n",
       "    <tr>\n",
       "      <th>3</th>\n",
       "      <td>895</td>\n",
       "      <td>0</td>\n",
       "    </tr>\n",
       "    <tr>\n",
       "      <th>4</th>\n",
       "      <td>896</td>\n",
       "      <td>1</td>\n",
       "    </tr>\n",
       "    <tr>\n",
       "      <th>5</th>\n",
       "      <td>897</td>\n",
       "      <td>0</td>\n",
       "    </tr>\n",
       "    <tr>\n",
       "      <th>6</th>\n",
       "      <td>898</td>\n",
       "      <td>0</td>\n",
       "    </tr>\n",
       "    <tr>\n",
       "      <th>7</th>\n",
       "      <td>899</td>\n",
       "      <td>0</td>\n",
       "    </tr>\n",
       "    <tr>\n",
       "      <th>8</th>\n",
       "      <td>900</td>\n",
       "      <td>1</td>\n",
       "    </tr>\n",
       "    <tr>\n",
       "      <th>9</th>\n",
       "      <td>901</td>\n",
       "      <td>0</td>\n",
       "    </tr>\n",
       "    <tr>\n",
       "      <th>10</th>\n",
       "      <td>902</td>\n",
       "      <td>0</td>\n",
       "    </tr>\n",
       "    <tr>\n",
       "      <th>11</th>\n",
       "      <td>903</td>\n",
       "      <td>0</td>\n",
       "    </tr>\n",
       "    <tr>\n",
       "      <th>12</th>\n",
       "      <td>904</td>\n",
       "      <td>1</td>\n",
       "    </tr>\n",
       "    <tr>\n",
       "      <th>13</th>\n",
       "      <td>905</td>\n",
       "      <td>0</td>\n",
       "    </tr>\n",
       "    <tr>\n",
       "      <th>14</th>\n",
       "      <td>906</td>\n",
       "      <td>1</td>\n",
       "    </tr>\n",
       "    <tr>\n",
       "      <th>15</th>\n",
       "      <td>907</td>\n",
       "      <td>1</td>\n",
       "    </tr>\n",
       "    <tr>\n",
       "      <th>16</th>\n",
       "      <td>908</td>\n",
       "      <td>0</td>\n",
       "    </tr>\n",
       "    <tr>\n",
       "      <th>17</th>\n",
       "      <td>909</td>\n",
       "      <td>0</td>\n",
       "    </tr>\n",
       "    <tr>\n",
       "      <th>18</th>\n",
       "      <td>910</td>\n",
       "      <td>1</td>\n",
       "    </tr>\n",
       "    <tr>\n",
       "      <th>19</th>\n",
       "      <td>911</td>\n",
       "      <td>0</td>\n",
       "    </tr>\n",
       "    <tr>\n",
       "      <th>20</th>\n",
       "      <td>912</td>\n",
       "      <td>0</td>\n",
       "    </tr>\n",
       "    <tr>\n",
       "      <th>21</th>\n",
       "      <td>913</td>\n",
       "      <td>1</td>\n",
       "    </tr>\n",
       "    <tr>\n",
       "      <th>22</th>\n",
       "      <td>914</td>\n",
       "      <td>1</td>\n",
       "    </tr>\n",
       "    <tr>\n",
       "      <th>23</th>\n",
       "      <td>915</td>\n",
       "      <td>0</td>\n",
       "    </tr>\n",
       "    <tr>\n",
       "      <th>24</th>\n",
       "      <td>916</td>\n",
       "      <td>1</td>\n",
       "    </tr>\n",
       "    <tr>\n",
       "      <th>25</th>\n",
       "      <td>917</td>\n",
       "      <td>0</td>\n",
       "    </tr>\n",
       "    <tr>\n",
       "      <th>26</th>\n",
       "      <td>918</td>\n",
       "      <td>1</td>\n",
       "    </tr>\n",
       "    <tr>\n",
       "      <th>27</th>\n",
       "      <td>919</td>\n",
       "      <td>0</td>\n",
       "    </tr>\n",
       "    <tr>\n",
       "      <th>28</th>\n",
       "      <td>920</td>\n",
       "      <td>1</td>\n",
       "    </tr>\n",
       "    <tr>\n",
       "      <th>29</th>\n",
       "      <td>921</td>\n",
       "      <td>0</td>\n",
       "    </tr>\n",
       "  </tbody>\n",
       "</table>\n",
       "</div>"
      ],
      "text/plain": [
       "    PassengerId  Survived\n",
       "0           892         0\n",
       "1           893         0\n",
       "2           894         0\n",
       "3           895         0\n",
       "4           896         1\n",
       "5           897         0\n",
       "6           898         0\n",
       "7           899         0\n",
       "8           900         1\n",
       "9           901         0\n",
       "10          902         0\n",
       "11          903         0\n",
       "12          904         1\n",
       "13          905         0\n",
       "14          906         1\n",
       "15          907         1\n",
       "16          908         0\n",
       "17          909         0\n",
       "18          910         1\n",
       "19          911         0\n",
       "20          912         0\n",
       "21          913         1\n",
       "22          914         1\n",
       "23          915         0\n",
       "24          916         1\n",
       "25          917         0\n",
       "26          918         1\n",
       "27          919         0\n",
       "28          920         1\n",
       "29          921         0"
      ]
     },
     "execution_count": 24,
     "metadata": {},
     "output_type": "execute_result"
    }
   ],
   "source": [
    "x_all = pd.get_dummies(train_csv[features])\n",
    "x_all.drop(columns=['Sex_male'], inplace=True)\n",
    "x_all.sort_index(axis=1, inplace=True)\n",
    "\n",
    "y_all = train_csv['Survived']\n",
    "\n",
    "test_csv.Age = test_csv.Age.fillna(all_csv.Age.median())\n",
    "test_csv.Fare = test_csv.Fare.fillna(all_csv.Fare.median())\n",
    "\n",
    "test_csv['log_Fare'] = np.log(test_csv.Fare + 1)\n",
    "\n",
    "test_csv.dropna(subset=['Embarked'], inplace=True)\n",
    "\n",
    "test_csv.Pclass = test_csv.Pclass.astype(str)\n",
    "\n",
    "test_csv['name_status'] = test_csv.Name.apply(get_name_status)\n",
    "test_csv['ticket_type'] = test_csv.Ticket.apply(get_ticket_type)\n",
    "test_csv['cabin_count'] = test_csv.Cabin.apply(get_cabin_count)\n",
    "test_csv.cabin_count = test_csv.cabin_count.fillna(1)\n",
    "test_csv['cabin_class'] = test_csv.Cabin.apply(get_cabin_class)\n",
    "test_csv.cabin_class = test_csv.cabin_class.fillna('C')\n",
    "\n",
    "test_csv[num_features] = std_scaler.transform(test_csv[num_features])\n",
    "\n",
    "x_test = pd.get_dummies(test_csv[features])\n",
    "x_test.drop(columns=['Sex_male'], inplace=True)\n",
    "\n",
    "merge_dummies(x_all, x_test)\n",
    "\n",
    "final_model.fit(x_all, y_all)\n",
    "\n",
    "pr_all = final_model.predict(x_all)\n",
    "all_accuracy = get_accuracy(pr_all, y_all)\n",
    "print(f'Accuracy : {all_accuracy * 100:.2f}%')\n",
    "\n",
    "pr_s = final_model.predict(x_test)\n",
    "out_s = pd.DataFrame({\n",
    "        \"PassengerId\": test_csv.PassengerId,\n",
    "        \"Survived\": pr_s\n",
    "    })\n",
    "out_s.to_csv('submission.csv', index=False)\n",
    "out_s.head(30)"
   ]
  },
  {
   "cell_type": "markdown",
   "metadata": {},
   "source": [
    "<h2> There is 75% accuracy on the test subset </h2>"
   ]
  }
 ],
 "metadata": {
  "kernelspec": {
   "display_name": "Python 3",
   "language": "python",
   "name": "python3"
  },
  "language_info": {
   "codemirror_mode": {
    "name": "ipython",
    "version": 3
   },
   "file_extension": ".py",
   "mimetype": "text/x-python",
   "name": "python",
   "nbconvert_exporter": "python",
   "pygments_lexer": "ipython3",
   "version": "3.8.10"
  },
  "orig_nbformat": 4
 },
 "nbformat": 4,
 "nbformat_minor": 2
}
